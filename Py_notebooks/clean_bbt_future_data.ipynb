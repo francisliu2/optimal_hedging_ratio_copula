{
 "cells": [
  {
   "cell_type": "code",
   "execution_count": 1,
   "metadata": {},
   "outputs": [],
   "source": [
    "import numpy as np\n",
    "import scipy.stats as stats\n",
    "import pandas as pd\n",
    "import datetime as dt\n",
    "import matplotlib.pyplot as plt\n"
   ]
  },
  {
   "cell_type": "code",
   "execution_count": 2,
   "metadata": {},
   "outputs": [],
   "source": [
    "xls = pd.ExcelFile('../data/btc future and reference rate/chains of btc future last price.xlsx')"
   ]
  },
  {
   "cell_type": "code",
   "execution_count": 3,
   "metadata": {},
   "outputs": [
    {
     "data": {
      "text/plain": [
       "{'F': 1,\n",
       " 'G': 2,\n",
       " 'H': 3,\n",
       " 'J': 4,\n",
       " 'K': 5,\n",
       " 'M': 6,\n",
       " 'N': 7,\n",
       " 'Q': 8,\n",
       " 'U': 9,\n",
       " 'V': 10,\n",
       " 'X': 11,\n",
       " 'Z': 12}"
      ]
     },
     "execution_count": 3,
     "metadata": {},
     "output_type": "execute_result"
    }
   ],
   "source": [
    "# Contract Month Codes\n",
    "month_code = ['F', 'G', 'H', 'J', 'K', 'M', 'N', 'Q', 'U', 'V', 'X','Z']\n",
    "month = [1,2,3,4,5,6,7,8,9,10,11,12]\n",
    "month_dict = dict(zip(month_code, month))\n",
    "month_dict"
   ]
  },
  {
   "cell_type": "code",
   "execution_count": 4,
   "metadata": {},
   "outputs": [],
   "source": [
    "year = [2021, 2020, 2020, 2019, 2018]\n",
    "year_code = ['1','0', '20', '19','18']\n",
    "year_dict = dict(zip(year_code, year))"
   ]
  },
  {
   "cell_type": "code",
   "execution_count": 5,
   "metadata": {},
   "outputs": [],
   "source": [
    "def last_Friday(y,m):\n",
    "    day = dt.date(y,m,1)\n",
    "\n",
    "    while day.weekday()!=4:\n",
    "        day -= dt.timedelta(days=1)\n",
    "    # Monday == 0 ... Sunday == 6\n",
    "    last_Fri = day\n",
    "    return last_Fri"
   ]
  },
  {
   "cell_type": "code",
   "execution_count": 6,
   "metadata": {},
   "outputs": [
    {
     "data": {
      "text/plain": [
       "Timestamp('2017-12-29 00:00:00')"
      ]
     },
     "execution_count": 6,
     "metadata": {},
     "output_type": "execute_result"
    }
   ],
   "source": [
    "df = pd.read_excel(xls, 'Sheet%s'%42)\n",
    "future_name = df.iloc[2,1]\n",
    "future_name = future_name.replace('BTC', '').replace(' Curncy', '')\n",
    "\n",
    "y = year_dict[future_name[1:]]\n",
    "m = month_dict[future_name[0]] \n",
    "\n",
    "pd.to_datetime(last_Friday(y,m))"
   ]
  },
  {
   "cell_type": "code",
   "execution_count": 8,
   "metadata": {},
   "outputs": [
    {
     "data": {
      "text/html": [
       "<div>\n",
       "<style scoped>\n",
       "    .dataframe tbody tr th:only-of-type {\n",
       "        vertical-align: middle;\n",
       "    }\n",
       "\n",
       "    .dataframe tbody tr th {\n",
       "        vertical-align: top;\n",
       "    }\n",
       "\n",
       "    .dataframe thead th {\n",
       "        text-align: right;\n",
       "    }\n",
       "</style>\n",
       "<table border=\"1\" class=\"dataframe\">\n",
       "  <thead>\n",
       "    <tr style=\"text-align: right;\">\n",
       "      <th></th>\n",
       "      <th>Start Date</th>\n",
       "      <th>2015-03-02 00:00:00</th>\n",
       "    </tr>\n",
       "  </thead>\n",
       "  <tbody>\n",
       "    <tr>\n",
       "      <th>23</th>\n",
       "      <td>2017-12-29 00:00:00</td>\n",
       "      <td>14470</td>\n",
       "    </tr>\n",
       "    <tr>\n",
       "      <th>24</th>\n",
       "      <td>2017-12-28 00:00:00</td>\n",
       "      <td>13745</td>\n",
       "    </tr>\n",
       "    <tr>\n",
       "      <th>25</th>\n",
       "      <td>2017-12-27 00:00:00</td>\n",
       "      <td>14690</td>\n",
       "    </tr>\n",
       "    <tr>\n",
       "      <th>26</th>\n",
       "      <td>2017-12-26 00:00:00</td>\n",
       "      <td>15785</td>\n",
       "    </tr>\n",
       "    <tr>\n",
       "      <th>27</th>\n",
       "      <td>2017-12-22 00:00:00</td>\n",
       "      <td>14135</td>\n",
       "    </tr>\n",
       "    <tr>\n",
       "      <th>28</th>\n",
       "      <td>2017-12-21 00:00:00</td>\n",
       "      <td>15330</td>\n",
       "    </tr>\n",
       "    <tr>\n",
       "      <th>29</th>\n",
       "      <td>2017-12-20 00:00:00</td>\n",
       "      <td>17040</td>\n",
       "    </tr>\n",
       "    <tr>\n",
       "      <th>30</th>\n",
       "      <td>2017-12-19 00:00:00</td>\n",
       "      <td>18200</td>\n",
       "    </tr>\n",
       "    <tr>\n",
       "      <th>31</th>\n",
       "      <td>2017-12-18 00:00:00</td>\n",
       "      <td>19100</td>\n",
       "    </tr>\n",
       "    <tr>\n",
       "      <th>32</th>\n",
       "      <td>2017-12-15 00:00:00</td>\n",
       "      <td>19500</td>\n",
       "    </tr>\n",
       "  </tbody>\n",
       "</table>\n",
       "</div>"
      ],
      "text/plain": [
       "             Start Date 2015-03-02 00:00:00\n",
       "23  2017-12-29 00:00:00               14470\n",
       "24  2017-12-28 00:00:00               13745\n",
       "25  2017-12-27 00:00:00               14690\n",
       "26  2017-12-26 00:00:00               15785\n",
       "27  2017-12-22 00:00:00               14135\n",
       "28  2017-12-21 00:00:00               15330\n",
       "29  2017-12-20 00:00:00               17040\n",
       "30  2017-12-19 00:00:00               18200\n",
       "31  2017-12-18 00:00:00               19100\n",
       "32  2017-12-15 00:00:00               19500"
      ]
     },
     "execution_count": 8,
     "metadata": {},
     "output_type": "execute_result"
    }
   ],
   "source": [
    "df.tail(10)"
   ]
  },
  {
   "cell_type": "code",
   "execution_count": 9,
   "metadata": {},
   "outputs": [
    {
     "name": "stdout",
     "output_type": "stream",
     "text": [
      "/bin/sh: -c: line 0: syntax error near unexpected token `('\r\n",
      "/bin/sh: -c: line 0: `ls -F -l -G - dt.timedelta(hours=1) | grep ^- '\r\n"
     ]
    }
   ],
   "source": [
    "lf - dt.timedelta(hours=1)"
   ]
  },
  {
   "cell_type": "code",
   "execution_count": 16,
   "metadata": {},
   "outputs": [],
   "source": [
    "df_arr = []\n",
    "future_name_arr = []\n",
    "sheets = [43-i for i in range(1,43)]\n",
    "\n",
    "for i in sheets:\n",
    "    df = pd.read_excel(xls, 'Sheet%s'%i)\n",
    "    \n",
    "    # future name\n",
    "    future_name = df.iloc[2,1]\n",
    "    future_name = future_name.replace('BTC', '').replace(' Curncy', '')\n",
    "    future_name_arr.append(future_name)\n",
    "\n",
    "    y = year_dict[future_name[1:]]\n",
    "    m = month_dict[future_name[0]] \n",
    "\n",
    "    lf = pd.to_datetime(last_Friday(y,m))\n",
    "        \n",
    "    df.columns = ['Date', 'PX_LAST']\n",
    "    df = df.iloc[5:, :]\n",
    "    df.reset_index(drop=True, inplace=True)\n",
    "    df.Date = pd.to_datetime(df.Date)\n",
    "    \n",
    "    # remove price on and after expiry; time delta is to get some buffer\n",
    "    df = df.loc[df.Date < lf - dt.timedelta(hours=1),:] \n",
    "\n",
    "    df.loc[:,'contract_name'] = ['BTC'+future_name+' Curncy']*len(df)\n",
    "    df_arr.append(df)"
   ]
  },
  {
   "cell_type": "code",
   "execution_count": 17,
   "metadata": {},
   "outputs": [],
   "source": [
    "results = df_arr[0]\n",
    "\n",
    "for df in df_arr[1:]:\n",
    "    results = pd.concat([results, df])\n",
    "    \n",
    "results.drop_duplicates(subset=['Date'], keep='first', inplace=True)\n",
    "results.sort_values('Date', ascending=False, inplace=True)\n",
    "results.reset_index(inplace=True, drop=True)\n"
   ]
  },
  {
   "cell_type": "code",
   "execution_count": 12,
   "metadata": {},
   "outputs": [],
   "source": [
    "results.Date = results.Date + pd.to_timedelta(15, unit='h')\n",
    "results.index= results.Date\n",
    "results.Date = results.index.tz_localize('US/Central').tz_convert('UTC')\n",
    "results.reset_index(drop=True, inplace=True)"
   ]
  },
  {
   "cell_type": "code",
   "execution_count": 723,
   "metadata": {},
   "outputs": [],
   "source": [
    "results.to_csv('../data/btc future and reference rate/concated_cleaned_bbt_future.csv')\n",
    "results.to_pickle('../data/btc future and reference rate/concated_cleaned_bbt_future.pkl')"
   ]
  },
  {
   "cell_type": "code",
   "execution_count": 725,
   "metadata": {},
   "outputs": [],
   "source": [
    "btc = pd.read_csv('tiingo_btc.csv')\n",
    "btc.date = pd.to_datetime(btc.date)\n",
    "btc = btc.loc[:,['date', 'open']]\n",
    "btc.columns = ['Date', 'BTC Price']"
   ]
  },
  {
   "cell_type": "code",
   "execution_count": 727,
   "metadata": {},
   "outputs": [],
   "source": [
    "merged = results.merge(btc, on = 'Date', how='inner')\n",
    "merged = merged.drop_duplicates()"
   ]
  },
  {
   "cell_type": "code",
   "execution_count": 728,
   "metadata": {},
   "outputs": [
    {
     "name": "stderr",
     "output_type": "stream",
     "text": [
      "/Users/francis/opt/anaconda3/lib/python3.7/site-packages/ipykernel_launcher.py:1: DeprecationWarning: `np.float` is a deprecated alias for the builtin `float`. To silence this warning, use `float` by itself. Doing this will not modify any behavior and is safe. If you specifically wanted the numpy scalar type, use `np.float64` here.\n",
      "Deprecated in NumPy 1.20; for more details and guidance: https://numpy.org/devdocs/release/1.20.0-notes.html#deprecations\n",
      "  \"\"\"Entry point for launching an IPython kernel.\n",
      "/Users/francis/opt/anaconda3/lib/python3.7/site-packages/ipykernel_launcher.py:2: DeprecationWarning: `np.float` is a deprecated alias for the builtin `float`. To silence this warning, use `float` by itself. Doing this will not modify any behavior and is safe. If you specifically wanted the numpy scalar type, use `np.float64` here.\n",
      "Deprecated in NumPy 1.20; for more details and guidance: https://numpy.org/devdocs/release/1.20.0-notes.html#deprecations\n",
      "  \n"
     ]
    }
   ],
   "source": [
    "merged.PX_LAST = merged.PX_LAST.astype(np.float)\n",
    "merged.loc[:, 'BTC Price'] = merged.loc[:, 'BTC Price'].astype(np.float)"
   ]
  },
  {
   "cell_type": "code",
   "execution_count": 729,
   "metadata": {},
   "outputs": [
    {
     "data": {
      "text/html": [
       "<div>\n",
       "<style scoped>\n",
       "    .dataframe tbody tr th:only-of-type {\n",
       "        vertical-align: middle;\n",
       "    }\n",
       "\n",
       "    .dataframe tbody tr th {\n",
       "        vertical-align: top;\n",
       "    }\n",
       "\n",
       "    .dataframe thead th {\n",
       "        text-align: right;\n",
       "    }\n",
       "</style>\n",
       "<table border=\"1\" class=\"dataframe\">\n",
       "  <thead>\n",
       "    <tr style=\"text-align: right;\">\n",
       "      <th></th>\n",
       "      <th>Date</th>\n",
       "      <th>PX_LAST</th>\n",
       "      <th>contract_name</th>\n",
       "      <th>BTC Price</th>\n",
       "    </tr>\n",
       "  </thead>\n",
       "  <tbody>\n",
       "    <tr>\n",
       "      <th>0</th>\n",
       "      <td>2021-05-27 20:00:00+00:00</td>\n",
       "      <td>38865.0</td>\n",
       "      <td>BTCM1 Curncy</td>\n",
       "      <td>38786.472240</td>\n",
       "    </tr>\n",
       "    <tr>\n",
       "      <th>1</th>\n",
       "      <td>2021-05-26 20:00:00+00:00</td>\n",
       "      <td>38610.0</td>\n",
       "      <td>BTCM1 Curncy</td>\n",
       "      <td>38495.443757</td>\n",
       "    </tr>\n",
       "    <tr>\n",
       "      <th>2</th>\n",
       "      <td>2021-05-25 20:00:00+00:00</td>\n",
       "      <td>37370.0</td>\n",
       "      <td>BTCM1 Curncy</td>\n",
       "      <td>37316.628068</td>\n",
       "    </tr>\n",
       "    <tr>\n",
       "      <th>3</th>\n",
       "      <td>2021-05-24 20:00:00+00:00</td>\n",
       "      <td>39770.0</td>\n",
       "      <td>BTCM1 Curncy</td>\n",
       "      <td>39650.983644</td>\n",
       "    </tr>\n",
       "    <tr>\n",
       "      <th>4</th>\n",
       "      <td>2021-05-21 20:00:00+00:00</td>\n",
       "      <td>36190.0</td>\n",
       "      <td>BTCM1 Curncy</td>\n",
       "      <td>36114.011225</td>\n",
       "    </tr>\n",
       "  </tbody>\n",
       "</table>\n",
       "</div>"
      ],
      "text/plain": [
       "                       Date  PX_LAST contract_name     BTC Price\n",
       "0 2021-05-27 20:00:00+00:00  38865.0  BTCM1 Curncy  38786.472240\n",
       "1 2021-05-26 20:00:00+00:00  38610.0  BTCM1 Curncy  38495.443757\n",
       "2 2021-05-25 20:00:00+00:00  37370.0  BTCM1 Curncy  37316.628068\n",
       "3 2021-05-24 20:00:00+00:00  39770.0  BTCM1 Curncy  39650.983644\n",
       "4 2021-05-21 20:00:00+00:00  36190.0  BTCM1 Curncy  36114.011225"
      ]
     },
     "execution_count": 729,
     "metadata": {},
     "output_type": "execute_result"
    }
   ],
   "source": [
    "merged.head()"
   ]
  },
  {
   "cell_type": "code",
   "execution_count": 730,
   "metadata": {},
   "outputs": [
    {
     "name": "stderr",
     "output_type": "stream",
     "text": [
      "/Users/francis/opt/anaconda3/lib/python3.7/site-packages/matplotlib/cbook/__init__.py:1402: FutureWarning: Support for multi-dimensional indexing (e.g. `obj[:, None]`) is deprecated and will be removed in a future version.  Convert to a numpy array before indexing instead.\n",
      "  x[:, None]\n",
      "/Users/francis/opt/anaconda3/lib/python3.7/site-packages/matplotlib/axes/_base.py:276: FutureWarning: Support for multi-dimensional indexing (e.g. `obj[:, None]`) is deprecated and will be removed in a future version.  Convert to a numpy array before indexing instead.\n",
      "  x = x[:, np.newaxis]\n",
      "/Users/francis/opt/anaconda3/lib/python3.7/site-packages/matplotlib/axes/_base.py:278: FutureWarning: Support for multi-dimensional indexing (e.g. `obj[:, None]`) is deprecated and will be removed in a future version.  Convert to a numpy array before indexing instead.\n",
      "  y = y[:, np.newaxis]\n"
     ]
    },
    {
     "data": {
      "text/plain": [
       "[<matplotlib.lines.Line2D at 0x7f9560a76ed0>]"
      ]
     },
     "execution_count": 730,
     "metadata": {},
     "output_type": "execute_result"
    },
    {
     "data": {
      "image/png": "[encoded data removed]",
      "text/plain": [
       "<Figure size 432x288 with 1 Axes>"
      ]
     },
     "metadata": {
      "needs_background": "light"
     },
     "output_type": "display_data"
    }
   ],
   "source": [
    "plt.plot(merged.Date, merged.PX_LAST)\n",
    "plt.plot(merged.Date, merged.loc[:, 'BTC Price'])"
   ]
  },
  {
   "cell_type": "code",
   "execution_count": 731,
   "metadata": {},
   "outputs": [
    {
     "data": {
      "text/plain": [
       "<matplotlib.collections.PathCollection at 0x7f954647d910>"
      ]
     },
     "execution_count": 731,
     "metadata": {},
     "output_type": "execute_result"
    },
    {
     "data": {
      "image/png": "[encoded data removed]",
      "text/plain": [
       "<Figure size 432x288 with 1 Axes>"
      ]
     },
     "metadata": {
      "needs_background": "light"
     },
     "output_type": "display_data"
    }
   ],
   "source": [
    "plt.scatter(merged.PX_LAST, merged.loc[:, 'BTC Price'])"
   ]
  },
  {
   "cell_type": "code",
   "execution_count": 732,
   "metadata": {},
   "outputs": [],
   "source": [
    "merged.loc[:, 'log return future'] = np.log(merged.PX_LAST/merged.PX_LAST.shift(-1))\n",
    "merged.loc[:, 'log return bitcoin'] = np.log(merged.loc[:, 'BTC Price']/merged.loc[:, 'BTC Price'].shift(-1))"
   ]
  },
  {
   "cell_type": "code",
   "execution_count": 733,
   "metadata": {},
   "outputs": [],
   "source": [
    "merged = merged.iloc[:-1,:]"
   ]
  },
  {
   "cell_type": "code",
   "execution_count": 734,
   "metadata": {},
   "outputs": [],
   "source": [
    "rs = merged.loc[:, 'log return bitcoin']\n",
    "rf = merged.loc[:, 'log return future']"
   ]
  },
  {
   "cell_type": "code",
   "execution_count": 735,
   "metadata": {},
   "outputs": [
    {
     "data": {
      "text/plain": [
       "<matplotlib.collections.PathCollection at 0x7f955b159ad0>"
      ]
     },
     "execution_count": 735,
     "metadata": {},
     "output_type": "execute_result"
    },
    {
     "data": {
      "image/png": "[encoded data removed]",
      "text/plain": [
       "<Figure size 360x360 with 1 Axes>"
      ]
     },
     "metadata": {
      "needs_background": "light"
     },
     "output_type": "display_data"
    }
   ],
   "source": [
    "plt.figure(figsize=(5,5))\n",
    "plt.scatter(rs, rf)"
   ]
  },
  {
   "cell_type": "code",
   "execution_count": 736,
   "metadata": {},
   "outputs": [],
   "source": [
    "from statsmodels.distributions.empirical_distribution import ECDF"
   ]
  },
  {
   "cell_type": "code",
   "execution_count": 737,
   "metadata": {},
   "outputs": [],
   "source": [
    "ecdf_rs = ECDF(rs)\n",
    "ecdf_rf = ECDF(rf)\n",
    "ecdf_rh = ECDF(rs-rf)\n",
    "\n",
    "m = min([np.min(rs), np.min(rf)])\n",
    "M = max([np.max(rs), np.max(rf)])"
   ]
  },
  {
   "cell_type": "code",
   "execution_count": 738,
   "metadata": {},
   "outputs": [
    {
     "data": {
      "text/plain": [
       "Text(0, 0.5, 'Future')"
      ]
     },
     "execution_count": 738,
     "metadata": {},
     "output_type": "execute_result"
    },
    {
     "data": {
      "image/png": "[encoded data removed]",
      "text/plain": [
       "<Figure size 360x360 with 1 Axes>"
      ]
     },
     "metadata": {
      "needs_background": "light"
     },
     "output_type": "display_data"
    }
   ],
   "source": [
    "plt.figure(figsize=(5,5))\n",
    "plt.scatter(ecdf_rs(rs), ecdf_rf(rf))\n",
    "plt.xlabel('Spot')\n",
    "plt.ylabel('Future')"
   ]
  },
  {
   "cell_type": "code",
   "execution_count": 739,
   "metadata": {
    "scrolled": true
   },
   "outputs": [
    {
     "name": "stderr",
     "output_type": "stream",
     "text": [
      "/Users/francis/opt/anaconda3/lib/python3.7/site-packages/seaborn/distributions.py:2551: FutureWarning: `distplot` is a deprecated function and will be removed in a future version. Please adapt your code to use either `displot` (a figure-level function with similar flexibility) or `histplot` (an axes-level function for histograms).\n",
      "  warnings.warn(msg, FutureWarning)\n",
      "/Users/francis/opt/anaconda3/lib/python3.7/site-packages/matplotlib/cbook/__init__.py:1402: FutureWarning: Support for multi-dimensional indexing (e.g. `obj[:, None]`) is deprecated and will be removed in a future version.  Convert to a numpy array before indexing instead.\n",
      "  x[:, None]\n",
      "/Users/francis/opt/anaconda3/lib/python3.7/site-packages/matplotlib/axes/_base.py:276: FutureWarning: Support for multi-dimensional indexing (e.g. `obj[:, None]`) is deprecated and will be removed in a future version.  Convert to a numpy array before indexing instead.\n",
      "  x = x[:, np.newaxis]\n",
      "/Users/francis/opt/anaconda3/lib/python3.7/site-packages/matplotlib/axes/_base.py:278: FutureWarning: Support for multi-dimensional indexing (e.g. `obj[:, None]`) is deprecated and will be removed in a future version.  Convert to a numpy array before indexing instead.\n",
      "  y = y[:, np.newaxis]\n",
      "/Users/francis/opt/anaconda3/lib/python3.7/site-packages/seaborn/distributions.py:2551: FutureWarning: `distplot` is a deprecated function and will be removed in a future version. Please adapt your code to use either `displot` (a figure-level function with similar flexibility) or `histplot` (an axes-level function for histograms).\n",
      "  warnings.warn(msg, FutureWarning)\n",
      "/Users/francis/opt/anaconda3/lib/python3.7/site-packages/matplotlib/cbook/__init__.py:1402: FutureWarning: Support for multi-dimensional indexing (e.g. `obj[:, None]`) is deprecated and will be removed in a future version.  Convert to a numpy array before indexing instead.\n",
      "  x[:, None]\n",
      "/Users/francis/opt/anaconda3/lib/python3.7/site-packages/matplotlib/axes/_base.py:276: FutureWarning: Support for multi-dimensional indexing (e.g. `obj[:, None]`) is deprecated and will be removed in a future version.  Convert to a numpy array before indexing instead.\n",
      "  x = x[:, np.newaxis]\n",
      "/Users/francis/opt/anaconda3/lib/python3.7/site-packages/matplotlib/axes/_base.py:278: FutureWarning: Support for multi-dimensional indexing (e.g. `obj[:, None]`) is deprecated and will be removed in a future version.  Convert to a numpy array before indexing instead.\n",
      "  y = y[:, np.newaxis]\n",
      "/Users/francis/opt/anaconda3/lib/python3.7/site-packages/seaborn/distributions.py:2551: FutureWarning: `distplot` is a deprecated function and will be removed in a future version. Please adapt your code to use either `displot` (a figure-level function with similar flexibility) or `histplot` (an axes-level function for histograms).\n",
      "  warnings.warn(msg, FutureWarning)\n",
      "/Users/francis/opt/anaconda3/lib/python3.7/site-packages/matplotlib/cbook/__init__.py:1402: FutureWarning: Support for multi-dimensional indexing (e.g. `obj[:, None]`) is deprecated and will be removed in a future version.  Convert to a numpy array before indexing instead.\n",
      "  x[:, None]\n",
      "/Users/francis/opt/anaconda3/lib/python3.7/site-packages/matplotlib/axes/_base.py:276: FutureWarning: Support for multi-dimensional indexing (e.g. `obj[:, None]`) is deprecated and will be removed in a future version.  Convert to a numpy array before indexing instead.\n",
      "  x = x[:, np.newaxis]\n",
      "/Users/francis/opt/anaconda3/lib/python3.7/site-packages/matplotlib/axes/_base.py:278: FutureWarning: Support for multi-dimensional indexing (e.g. `obj[:, None]`) is deprecated and will be removed in a future version.  Convert to a numpy array before indexing instead.\n",
      "  y = y[:, np.newaxis]\n"
     ]
    },
    {
     "data": {
      "text/plain": [
       "<matplotlib.axes._subplots.AxesSubplot at 0x7f956044d190>"
      ]
     },
     "execution_count": 739,
     "metadata": {},
     "output_type": "execute_result"
    },
    {
     "data": {
      "image/png": "[encoded data removed]",
      "text/plain": [
       "<Figure size 432x288 with 1 Axes>"
      ]
     },
     "metadata": {
      "needs_background": "light"
     },
     "output_type": "display_data"
    }
   ],
   "source": [
    "import seaborn as sns\n",
    "rh = rs-rf\n",
    "\n",
    "sns.distplot(rs)\n",
    "sns.distplot(rf)\n",
    "sns.distplot(rh)"
   ]
  },
  {
   "cell_type": "code",
   "execution_count": 740,
   "metadata": {},
   "outputs": [
    {
     "data": {
      "text/plain": [
       "[<matplotlib.lines.Line2D at 0x7f95459d9ed0>]"
      ]
     },
     "execution_count": 740,
     "metadata": {},
     "output_type": "execute_result"
    },
    {
     "data": {
      "image/png": "[encoded data removed]",
      "text/plain": [
       "<Figure size 432x288 with 1 Axes>"
      ]
     },
     "metadata": {
      "needs_background": "light"
     },
     "output_type": "display_data"
    }
   ],
   "source": [
    "x = np.linspace(m,M,100)\n",
    "# y = np.linspace(np.min(rh), np.max(rh), 100)\n",
    "\n",
    "plt.plot(x, ecdf_rs(x))\n",
    "plt.plot(x, ecdf_rf(x))\n",
    "plt.plot(x, ecdf_rh(x))"
   ]
  },
  {
   "cell_type": "code",
   "execution_count": 741,
   "metadata": {},
   "outputs": [
    {
     "data": {
      "image/png": "[encoded data removed]",
      "text/plain": [
       "<Figure size 432x288 with 1 Axes>"
      ]
     },
     "metadata": {
      "needs_background": "light"
     },
     "output_type": "display_data"
    }
   ],
   "source": [
    "h_arr = np.linspace(0.9,1.1,600)\n",
    "var_arr = []\n",
    "\n",
    "for h in h_arr:\n",
    "    rh = rs - h*rf\n",
    "    cdf = ECDF(rh)\n",
    "    var_arr.append(np.var(rh))\n",
    "    plt.plot(x, cdf(x))"
   ]
  },
  {
   "cell_type": "code",
   "execution_count": 742,
   "metadata": {},
   "outputs": [
    {
     "name": "stdout",
     "output_type": "stream",
     "text": [
      "0.9634390651085143\n"
     ]
    },
    {
     "data": {
      "image/png": "[encoded data removed]",
      "text/plain": [
       "<Figure size 432x288 with 1 Axes>"
      ]
     },
     "metadata": {
      "needs_background": "light"
     },
     "output_type": "display_data"
    }
   ],
   "source": [
    "plt.plot(h_arr, var_arr)\n",
    "\n",
    "h_star = h_arr[np.argmin(var_arr)]\n",
    "print(h_star)"
   ]
  },
  {
   "cell_type": "code",
   "execution_count": 743,
   "metadata": {},
   "outputs": [
    {
     "data": {
      "text/plain": [
       "0.9939141472351716"
      ]
     },
     "execution_count": 743,
     "metadata": {},
     "output_type": "execute_result"
    }
   ],
   "source": [
    "np.mean(1/(merged.loc[:,'PX_LAST']/merged.loc[:,'BTC Price']))"
   ]
  },
  {
   "cell_type": "code",
   "execution_count": 744,
   "metadata": {},
   "outputs": [
    {
     "name": "stdout",
     "output_type": "stream",
     "text": [
      "0.00010654959780011374 0.006346924870086677 0.016787593989380033\n",
      "0.00013559951981446038 0.006092280494289871 0.02225759630429921\n"
     ]
    },
    {
     "data": {
      "image/png": "[encoded data removed]",
      "text/plain": [
       "<Figure size 432x288 with 1 Axes>"
      ]
     },
     "metadata": {
      "needs_background": "light"
     },
     "output_type": "display_data"
    }
   ],
   "source": [
    "rh = rs - 1*rf\n",
    "cdf = ECDF(rh)\n",
    "\n",
    "# x = np.linspace(np.min(rh), np.max(rh), 500)\n",
    "x = np.linspace(np.min(rh), 0, 500)\n",
    "\n",
    "plt.plot(x, cdf(x))\n",
    "print(np.mean(rh), np.std(rh),  np.mean(rh)/np.std(rh))\n",
    "\n",
    "rh = rs - h_star*rf\n",
    "cdf = ECDF(rh)\n",
    "plt.plot(x, cdf(x))\n",
    "print(np.mean(rh), np.std(rh),  np.mean(rh)/np.std(rh))"
   ]
  },
  {
   "cell_type": "code",
   "execution_count": 745,
   "metadata": {},
   "outputs": [],
   "source": [
    "merged.to_csv('../data/cleaned_data/BBT_Tiingo.csv')"
   ]
  },
  {
   "cell_type": "code",
   "execution_count": 746,
   "metadata": {},
   "outputs": [
    {
     "data": {
      "text/html": [
       "<div>\n",
       "<style scoped>\n",
       "    .dataframe tbody tr th:only-of-type {\n",
       "        vertical-align: middle;\n",
       "    }\n",
       "\n",
       "    .dataframe tbody tr th {\n",
       "        vertical-align: top;\n",
       "    }\n",
       "\n",
       "    .dataframe thead th {\n",
       "        text-align: right;\n",
       "    }\n",
       "</style>\n",
       "<table border=\"1\" class=\"dataframe\">\n",
       "  <thead>\n",
       "    <tr style=\"text-align: right;\">\n",
       "      <th></th>\n",
       "      <th>Date</th>\n",
       "      <th>PX_LAST</th>\n",
       "      <th>contract_name</th>\n",
       "      <th>BTC Price</th>\n",
       "      <th>log return future</th>\n",
       "      <th>log return bitcoin</th>\n",
       "    </tr>\n",
       "  </thead>\n",
       "  <tbody>\n",
       "    <tr>\n",
       "      <th>0</th>\n",
       "      <td>2021-05-27 20:00:00+00:00</td>\n",
       "      <td>38865.0</td>\n",
       "      <td>BTCM1 Curncy</td>\n",
       "      <td>38786.472240</td>\n",
       "      <td>0.006583</td>\n",
       "      <td>0.007532</td>\n",
       "    </tr>\n",
       "    <tr>\n",
       "      <th>1</th>\n",
       "      <td>2021-05-26 20:00:00+00:00</td>\n",
       "      <td>38610.0</td>\n",
       "      <td>BTCM1 Curncy</td>\n",
       "      <td>38495.443757</td>\n",
       "      <td>0.032643</td>\n",
       "      <td>0.031101</td>\n",
       "    </tr>\n",
       "    <tr>\n",
       "      <th>2</th>\n",
       "      <td>2021-05-25 20:00:00+00:00</td>\n",
       "      <td>37370.0</td>\n",
       "      <td>BTCM1 Curncy</td>\n",
       "      <td>37316.628068</td>\n",
       "      <td>-0.062245</td>\n",
       "      <td>-0.060677</td>\n",
       "    </tr>\n",
       "    <tr>\n",
       "      <th>3</th>\n",
       "      <td>2021-05-24 20:00:00+00:00</td>\n",
       "      <td>39770.0</td>\n",
       "      <td>BTCM1 Curncy</td>\n",
       "      <td>39650.983644</td>\n",
       "      <td>0.094330</td>\n",
       "      <td>0.093435</td>\n",
       "    </tr>\n",
       "    <tr>\n",
       "      <th>4</th>\n",
       "      <td>2021-05-21 20:00:00+00:00</td>\n",
       "      <td>36190.0</td>\n",
       "      <td>BTCM1 Curncy</td>\n",
       "      <td>36114.011225</td>\n",
       "      <td>-0.108809</td>\n",
       "      <td>-0.105785</td>\n",
       "    </tr>\n",
       "    <tr>\n",
       "      <th>...</th>\n",
       "      <td>...</td>\n",
       "      <td>...</td>\n",
       "      <td>...</td>\n",
       "      <td>...</td>\n",
       "      <td>...</td>\n",
       "      <td>...</td>\n",
       "    </tr>\n",
       "    <tr>\n",
       "      <th>863</th>\n",
       "      <td>2017-12-22 21:00:00+00:00</td>\n",
       "      <td>14135.0</td>\n",
       "      <td>BTCF18 Curncy</td>\n",
       "      <td>14181.751265</td>\n",
       "      <td>-0.081158</td>\n",
       "      <td>-0.071800</td>\n",
       "    </tr>\n",
       "    <tr>\n",
       "      <th>864</th>\n",
       "      <td>2017-12-21 21:00:00+00:00</td>\n",
       "      <td>15330.0</td>\n",
       "      <td>BTCF18 Curncy</td>\n",
       "      <td>15237.453003</td>\n",
       "      <td>-0.105752</td>\n",
       "      <td>-0.090475</td>\n",
       "    </tr>\n",
       "    <tr>\n",
       "      <th>865</th>\n",
       "      <td>2017-12-20 21:00:00+00:00</td>\n",
       "      <td>17040.0</td>\n",
       "      <td>BTCF18 Curncy</td>\n",
       "      <td>16680.348192</td>\n",
       "      <td>-0.065858</td>\n",
       "      <td>-0.055488</td>\n",
       "    </tr>\n",
       "    <tr>\n",
       "      <th>866</th>\n",
       "      <td>2017-12-19 21:00:00+00:00</td>\n",
       "      <td>18200.0</td>\n",
       "      <td>BTCF18 Curncy</td>\n",
       "      <td>17632.061828</td>\n",
       "      <td>-0.048267</td>\n",
       "      <td>-0.058609</td>\n",
       "    </tr>\n",
       "    <tr>\n",
       "      <th>867</th>\n",
       "      <td>2017-12-18 21:00:00+00:00</td>\n",
       "      <td>19100.0</td>\n",
       "      <td>BTCF18 Curncy</td>\n",
       "      <td>18696.348689</td>\n",
       "      <td>-0.020726</td>\n",
       "      <td>0.052421</td>\n",
       "    </tr>\n",
       "  </tbody>\n",
       "</table>\n",
       "<p>868 rows × 6 columns</p>\n",
       "</div>"
      ],
      "text/plain": [
       "                         Date  PX_LAST  contract_name     BTC Price  \\\n",
       "0   2021-05-27 20:00:00+00:00  38865.0   BTCM1 Curncy  38786.472240   \n",
       "1   2021-05-26 20:00:00+00:00  38610.0   BTCM1 Curncy  38495.443757   \n",
       "2   2021-05-25 20:00:00+00:00  37370.0   BTCM1 Curncy  37316.628068   \n",
       "3   2021-05-24 20:00:00+00:00  39770.0   BTCM1 Curncy  39650.983644   \n",
       "4   2021-05-21 20:00:00+00:00  36190.0   BTCM1 Curncy  36114.011225   \n",
       "..                        ...      ...            ...           ...   \n",
       "863 2017-12-22 21:00:00+00:00  14135.0  BTCF18 Curncy  14181.751265   \n",
       "864 2017-12-21 21:00:00+00:00  15330.0  BTCF18 Curncy  15237.453003   \n",
       "865 2017-12-20 21:00:00+00:00  17040.0  BTCF18 Curncy  16680.348192   \n",
       "866 2017-12-19 21:00:00+00:00  18200.0  BTCF18 Curncy  17632.061828   \n",
       "867 2017-12-18 21:00:00+00:00  19100.0  BTCF18 Curncy  18696.348689   \n",
       "\n",
       "     log return future  log return bitcoin  \n",
       "0             0.006583            0.007532  \n",
       "1             0.032643            0.031101  \n",
       "2            -0.062245           -0.060677  \n",
       "3             0.094330            0.093435  \n",
       "4            -0.108809           -0.105785  \n",
       "..                 ...                 ...  \n",
       "863          -0.081158           -0.071800  \n",
       "864          -0.105752           -0.090475  \n",
       "865          -0.065858           -0.055488  \n",
       "866          -0.048267           -0.058609  \n",
       "867          -0.020726            0.052421  \n",
       "\n",
       "[868 rows x 6 columns]"
      ]
     },
     "execution_count": 746,
     "metadata": {},
     "output_type": "execute_result"
    }
   ],
   "source": [
    "merged"
   ]
  },
  {
   "cell_type": "code",
   "execution_count": null,
   "metadata": {},
   "outputs": [],
   "source": []
  }
 ],
 "metadata": {
  "kernelspec": {
   "display_name": "Python 3",
   "language": "python",
   "name": "python3"
  },
  "language_info": {
   "codemirror_mode": {
    "name": "ipython",
    "version": 3
   },
   "file_extension": ".py",
   "mimetype": "text/x-python",
   "name": "python",
   "nbconvert_exporter": "python",
   "pygments_lexer": "ipython3",
   "version": "3.7.4"
  },
  "toc": {
   "base_numbering": 1,
   "nav_menu": {},
   "number_sections": true,
   "sideBar": true,
   "skip_h1_title": false,
   "title_cell": "Table of Contents",
   "title_sidebar": "Contents",
   "toc_cell": false,
   "toc_position": {},
   "toc_section_display": true,
   "toc_window_display": false
  }
 },
 "nbformat": 4,
 "nbformat_minor": 2
}
