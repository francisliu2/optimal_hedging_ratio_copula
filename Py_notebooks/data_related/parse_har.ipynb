{
 "cells": [
  {
   "cell_type": "code",
   "execution_count": 419,
   "metadata": {},
   "outputs": [],
   "source": [
    "import pandas as pd\n",
    "import numpy as np\n",
    "import json\n",
    "import re\n",
    "import matplotlib.pyplot as plt\n"
   ]
  },
  {
   "cell_type": "code",
   "execution_count": 442,
   "metadata": {},
   "outputs": [],
   "source": [
    "with open('AAPL.har') as f:\n",
    "#     lines = f.readlines()\n",
    "    j = json.loads(f.read())"
   ]
  },
  {
   "cell_type": "code",
   "execution_count": 443,
   "metadata": {
    "scrolled": true
   },
   "outputs": [
    {
     "data": {
      "text/plain": [
       "dict_keys(['version', 'creator', 'pages', 'entries'])"
      ]
     },
     "execution_count": 443,
     "metadata": {},
     "output_type": "execute_result"
    }
   ],
   "source": [
    "j['log'].keys()"
   ]
  },
  {
   "cell_type": "code",
   "execution_count": 444,
   "metadata": {},
   "outputs": [
    {
     "data": {
      "text/plain": [
       "3"
      ]
     },
     "execution_count": 444,
     "metadata": {},
     "output_type": "execute_result"
    }
   ],
   "source": [
    "len(j['log']['version'])"
   ]
  },
  {
   "cell_type": "code",
   "execution_count": 445,
   "metadata": {},
   "outputs": [
    {
     "data": {
      "text/plain": [
       "{'name': 'WebInspector', 'version': '537.36'}"
      ]
     },
     "execution_count": 445,
     "metadata": {},
     "output_type": "execute_result"
    }
   ],
   "source": [
    "j['log']['creator']"
   ]
  },
  {
   "cell_type": "code",
   "execution_count": 446,
   "metadata": {},
   "outputs": [
    {
     "data": {
      "text/plain": [
       "318"
      ]
     },
     "execution_count": 446,
     "metadata": {},
     "output_type": "execute_result"
    }
   ],
   "source": [
    "len(j['log']['entries'])"
   ]
  },
  {
   "cell_type": "code",
   "execution_count": 447,
   "metadata": {},
   "outputs": [
    {
     "data": {
      "text/plain": [
       "dict_keys(['_fromCache', '_initiator', '_priority', '_resourceType', 'cache', 'pageref', 'request', 'response', 'serverIPAddress', 'startedDateTime', 'time', 'timings'])"
      ]
     },
     "execution_count": 447,
     "metadata": {},
     "output_type": "execute_result"
    }
   ],
   "source": [
    "j['log']['entries'][202].keys()"
   ]
  },
  {
   "cell_type": "code",
   "execution_count": 448,
   "metadata": {},
   "outputs": [
    {
     "name": "stdout",
     "output_type": "stream",
     "text": [
      "10\n"
     ]
    }
   ],
   "source": [
    "i_websocket = []\n",
    "for i in range(203):\n",
    "    if j['log']['entries'][i]['_resourceType'] == 'websocket':\n",
    "        print(i)\n",
    "        i_websocket.append(i)\n",
    "        \n",
    "i = i_websocket[0]"
   ]
  },
  {
   "cell_type": "code",
   "execution_count": 449,
   "metadata": {},
   "outputs": [
    {
     "data": {
      "text/plain": [
       "'websocket'"
      ]
     },
     "execution_count": 449,
     "metadata": {},
     "output_type": "execute_result"
    }
   ],
   "source": [
    "j['log']['entries'][i]['_resourceType'] "
   ]
  },
  {
   "cell_type": "code",
   "execution_count": 450,
   "metadata": {},
   "outputs": [
    {
     "data": {
      "text/plain": [
       "420"
      ]
     },
     "execution_count": 450,
     "metadata": {},
     "output_type": "execute_result"
    }
   ],
   "source": [
    "len(j['log']['entries'][i]['_webSocketMessages'])"
   ]
  },
  {
   "cell_type": "code",
   "execution_count": 451,
   "metadata": {},
   "outputs": [],
   "source": [
    "webSocketMessages = j['log']['entries'][i]['_webSocketMessages']"
   ]
  },
  {
   "cell_type": "code",
   "execution_count": 452,
   "metadata": {},
   "outputs": [],
   "source": [
    "receivedMessages = []\n",
    "\n",
    "for w in webSocketMessages:\n",
    "    if w['type'] == 'receive':\n",
    "        receivedMessages.append(w) "
   ]
  },
  {
   "cell_type": "code",
   "execution_count": 453,
   "metadata": {},
   "outputs": [
    {
     "data": {
      "text/plain": [
       "237"
      ]
     },
     "execution_count": 453,
     "metadata": {},
     "output_type": "execute_result"
    }
   ],
   "source": [
    "len(receivedMessages)"
   ]
  },
  {
   "cell_type": "code",
   "execution_count": 454,
   "metadata": {},
   "outputs": [
    {
     "data": {
      "text/plain": [
       "'st1'"
      ]
     },
     "execution_count": 454,
     "metadata": {},
     "output_type": "execute_result"
    }
   ],
   "source": [
    "_j"
   ]
  },
  {
   "cell_type": "code",
   "execution_count": 455,
   "metadata": {},
   "outputs": [],
   "source": [
    "txt = receivedMessages[3]['data']"
   ]
  },
  {
   "cell_type": "code",
   "execution_count": 456,
   "metadata": {},
   "outputs": [],
   "source": [
    "txt_list = re.split('~m~\\d*~m~',txt)"
   ]
  },
  {
   "cell_type": "code",
   "execution_count": 457,
   "metadata": {},
   "outputs": [],
   "source": [
    "price_data = []\n",
    "\n",
    "for rM in receivedMessages:\n",
    "    txt = rM['data']\n",
    "    txt_list = re.split('~m~\\d*~m~',txt)\n",
    "    for l in txt_list:\n",
    "        try:\n",
    "            _j = json.loads(l)['p'][1]\n",
    "            price_data.append([s['v']  for s in _j['sds_1']['s']])\n",
    "        except:\n",
    "            continue"
   ]
  },
  {
   "cell_type": "code",
   "execution_count": 458,
   "metadata": {},
   "outputs": [],
   "source": [
    "df = [pd.DataFrame(p) for p in price_data]\n",
    "df = pd.concat(df)"
   ]
  },
  {
   "cell_type": "code",
   "execution_count": 459,
   "metadata": {},
   "outputs": [],
   "source": [
    "df.columns = ['Date', 'open', 'high', 'low', 'close', 'volume']\n",
    "df.Date = pd.to_datetime(df.Date, unit='s')"
   ]
  },
  {
   "cell_type": "code",
   "execution_count": 460,
   "metadata": {},
   "outputs": [
    {
     "name": "stdout",
     "output_type": "stream",
     "text": [
      "before drop duplicate 13155\n",
      "after 6621\n"
     ]
    }
   ],
   "source": [
    "print('before drop duplicate', len(df))\n",
    "df = df.drop_duplicates('Date')\n",
    "df.sort_values('Date', inplace=True)\n",
    "print('after',len(df))"
   ]
  },
  {
   "cell_type": "code",
   "execution_count": 461,
   "metadata": {},
   "outputs": [
    {
     "name": "stderr",
     "output_type": "stream",
     "text": [
      "/Users/francis/opt/anaconda3/lib/python3.7/site-packages/matplotlib/cbook/__init__.py:1402: FutureWarning: Support for multi-dimensional indexing (e.g. `obj[:, None]`) is deprecated and will be removed in a future version.  Convert to a numpy array before indexing instead.\n",
      "  x[:, None]\n",
      "/Users/francis/opt/anaconda3/lib/python3.7/site-packages/matplotlib/axes/_base.py:276: FutureWarning: Support for multi-dimensional indexing (e.g. `obj[:, None]`) is deprecated and will be removed in a future version.  Convert to a numpy array before indexing instead.\n",
      "  x = x[:, np.newaxis]\n",
      "/Users/francis/opt/anaconda3/lib/python3.7/site-packages/matplotlib/axes/_base.py:278: FutureWarning: Support for multi-dimensional indexing (e.g. `obj[:, None]`) is deprecated and will be removed in a future version.  Convert to a numpy array before indexing instead.\n",
      "  y = y[:, np.newaxis]\n"
     ]
    },
    {
     "data": {
      "text/plain": [
       "[<matplotlib.lines.Line2D at 0x7fb5b0919fd0>]"
      ]
     },
     "execution_count": 461,
     "metadata": {},
     "output_type": "execute_result"
    },
    {
     "data": {
      "image/png": "[encoded data removed]",
      "text/plain": [
       "<Figure size 720x360 with 1 Axes>"
      ]
     },
     "metadata": {
      "needs_background": "light"
     },
     "output_type": "display_data"
    }
   ],
   "source": [
    "plt.figure(figsize=(10,5))\n",
    "plt.plot(df.Date, df.open)\n",
    "plt.plot(df.Date, df.high)\n",
    "plt.plot(df.Date, df.low)\n",
    "plt.plot(df.Date, df.close)\n"
   ]
  },
  {
   "cell_type": "code",
   "execution_count": 464,
   "metadata": {},
   "outputs": [
    {
     "data": {
      "text/html": [
       "<div>\n",
       "<style scoped>\n",
       "    .dataframe tbody tr th:only-of-type {\n",
       "        vertical-align: middle;\n",
       "    }\n",
       "\n",
       "    .dataframe tbody tr th {\n",
       "        vertical-align: top;\n",
       "    }\n",
       "\n",
       "    .dataframe thead th {\n",
       "        text-align: right;\n",
       "    }\n",
       "</style>\n",
       "<table border=\"1\" class=\"dataframe\">\n",
       "  <thead>\n",
       "    <tr style=\"text-align: right;\">\n",
       "      <th></th>\n",
       "      <th>Date</th>\n",
       "      <th>open</th>\n",
       "      <th>high</th>\n",
       "      <th>low</th>\n",
       "      <th>close</th>\n",
       "      <th>volume</th>\n",
       "    </tr>\n",
       "  </thead>\n",
       "  <tbody>\n",
       "    <tr>\n",
       "      <th>0</th>\n",
       "      <td>2019-01-02 12:00:00</td>\n",
       "      <td>38.70500</td>\n",
       "      <td>38.75000</td>\n",
       "      <td>38.6725</td>\n",
       "      <td>38.71500</td>\n",
       "      <td>9300.0</td>\n",
       "    </tr>\n",
       "    <tr>\n",
       "      <th>1</th>\n",
       "      <td>2019-01-02 13:00:00</td>\n",
       "      <td>38.61000</td>\n",
       "      <td>38.75000</td>\n",
       "      <td>38.6050</td>\n",
       "      <td>38.62750</td>\n",
       "      <td>6720.0</td>\n",
       "    </tr>\n",
       "    <tr>\n",
       "      <th>2</th>\n",
       "      <td>2019-01-02 14:00:00</td>\n",
       "      <td>38.75000</td>\n",
       "      <td>38.87500</td>\n",
       "      <td>38.5625</td>\n",
       "      <td>38.80000</td>\n",
       "      <td>1111248.0</td>\n",
       "    </tr>\n",
       "    <tr>\n",
       "      <th>3</th>\n",
       "      <td>2019-01-02 15:00:00</td>\n",
       "      <td>38.79500</td>\n",
       "      <td>39.29750</td>\n",
       "      <td>38.6450</td>\n",
       "      <td>39.21250</td>\n",
       "      <td>1248344.0</td>\n",
       "    </tr>\n",
       "    <tr>\n",
       "      <th>4</th>\n",
       "      <td>2019-01-02 16:00:00</td>\n",
       "      <td>39.23000</td>\n",
       "      <td>39.60500</td>\n",
       "      <td>39.1850</td>\n",
       "      <td>39.25750</td>\n",
       "      <td>1027760.0</td>\n",
       "    </tr>\n",
       "    <tr>\n",
       "      <th>5</th>\n",
       "      <td>2019-01-02 17:00:00</td>\n",
       "      <td>39.26500</td>\n",
       "      <td>39.59500</td>\n",
       "      <td>39.2350</td>\n",
       "      <td>39.53750</td>\n",
       "      <td>757336.0</td>\n",
       "    </tr>\n",
       "    <tr>\n",
       "      <th>6</th>\n",
       "      <td>2019-01-02 18:00:00</td>\n",
       "      <td>39.54500</td>\n",
       "      <td>39.71250</td>\n",
       "      <td>39.5400</td>\n",
       "      <td>39.68000</td>\n",
       "      <td>654300.0</td>\n",
       "    </tr>\n",
       "    <tr>\n",
       "      <th>7</th>\n",
       "      <td>2019-01-02 19:00:00</td>\n",
       "      <td>39.68250</td>\n",
       "      <td>39.68250</td>\n",
       "      <td>39.4425</td>\n",
       "      <td>39.47750</td>\n",
       "      <td>558704.0</td>\n",
       "    </tr>\n",
       "    <tr>\n",
       "      <th>8</th>\n",
       "      <td>2019-01-02 20:00:00</td>\n",
       "      <td>39.47500</td>\n",
       "      <td>39.50500</td>\n",
       "      <td>39.1875</td>\n",
       "      <td>39.47000</td>\n",
       "      <td>1521196.0</td>\n",
       "    </tr>\n",
       "    <tr>\n",
       "      <th>9</th>\n",
       "      <td>2019-01-02 21:00:00</td>\n",
       "      <td>37.35750</td>\n",
       "      <td>37.50000</td>\n",
       "      <td>36.1900</td>\n",
       "      <td>36.55750</td>\n",
       "      <td>118328.0</td>\n",
       "    </tr>\n",
       "    <tr>\n",
       "      <th>10</th>\n",
       "      <td>2019-01-02 22:00:00</td>\n",
       "      <td>36.52750</td>\n",
       "      <td>36.86500</td>\n",
       "      <td>36.5000</td>\n",
       "      <td>36.50000</td>\n",
       "      <td>108144.0</td>\n",
       "    </tr>\n",
       "    <tr>\n",
       "      <th>11</th>\n",
       "      <td>2019-01-02 23:00:00</td>\n",
       "      <td>36.50000</td>\n",
       "      <td>36.52500</td>\n",
       "      <td>36.5000</td>\n",
       "      <td>36.52500</td>\n",
       "      <td>4400.0</td>\n",
       "    </tr>\n",
       "    <tr>\n",
       "      <th>12</th>\n",
       "      <td>2019-01-03 00:00:00</td>\n",
       "      <td>36.52500</td>\n",
       "      <td>36.52500</td>\n",
       "      <td>36.4900</td>\n",
       "      <td>36.49000</td>\n",
       "      <td>800.0</td>\n",
       "    </tr>\n",
       "    <tr>\n",
       "      <th>13</th>\n",
       "      <td>2019-01-03 12:00:00</td>\n",
       "      <td>36.01250</td>\n",
       "      <td>36.25500</td>\n",
       "      <td>36.0075</td>\n",
       "      <td>36.25000</td>\n",
       "      <td>58976.0</td>\n",
       "    </tr>\n",
       "    <tr>\n",
       "      <th>14</th>\n",
       "      <td>2019-01-03 13:00:00</td>\n",
       "      <td>36.16250</td>\n",
       "      <td>36.47500</td>\n",
       "      <td>35.9850</td>\n",
       "      <td>36.04750</td>\n",
       "      <td>61848.0</td>\n",
       "    </tr>\n",
       "    <tr>\n",
       "      <th>15</th>\n",
       "      <td>2019-01-03 14:00:00</td>\n",
       "      <td>36.01500</td>\n",
       "      <td>36.22750</td>\n",
       "      <td>35.7025</td>\n",
       "      <td>36.10250</td>\n",
       "      <td>4035000.0</td>\n",
       "    </tr>\n",
       "    <tr>\n",
       "      <th>16</th>\n",
       "      <td>2019-01-03 15:00:00</td>\n",
       "      <td>36.10000</td>\n",
       "      <td>36.10000</td>\n",
       "      <td>35.5225</td>\n",
       "      <td>35.79500</td>\n",
       "      <td>3531668.0</td>\n",
       "    </tr>\n",
       "    <tr>\n",
       "      <th>17</th>\n",
       "      <td>2019-01-03 16:00:00</td>\n",
       "      <td>35.79500</td>\n",
       "      <td>36.37250</td>\n",
       "      <td>35.7875</td>\n",
       "      <td>36.18250</td>\n",
       "      <td>1983668.0</td>\n",
       "    </tr>\n",
       "    <tr>\n",
       "      <th>18</th>\n",
       "      <td>2019-01-03 17:00:00</td>\n",
       "      <td>36.18250</td>\n",
       "      <td>36.42750</td>\n",
       "      <td>36.1050</td>\n",
       "      <td>36.26500</td>\n",
       "      <td>1025740.0</td>\n",
       "    </tr>\n",
       "    <tr>\n",
       "      <th>19</th>\n",
       "      <td>2019-01-03 18:00:00</td>\n",
       "      <td>36.25750</td>\n",
       "      <td>36.29000</td>\n",
       "      <td>35.7250</td>\n",
       "      <td>35.74000</td>\n",
       "      <td>1136060.0</td>\n",
       "    </tr>\n",
       "    <tr>\n",
       "      <th>20</th>\n",
       "      <td>2019-01-03 19:00:00</td>\n",
       "      <td>35.73250</td>\n",
       "      <td>35.98625</td>\n",
       "      <td>35.6250</td>\n",
       "      <td>35.65500</td>\n",
       "      <td>968916.0</td>\n",
       "    </tr>\n",
       "    <tr>\n",
       "      <th>21</th>\n",
       "      <td>2019-01-03 20:00:00</td>\n",
       "      <td>35.66250</td>\n",
       "      <td>35.83000</td>\n",
       "      <td>35.5000</td>\n",
       "      <td>35.52125</td>\n",
       "      <td>2107240.0</td>\n",
       "    </tr>\n",
       "    <tr>\n",
       "      <th>22</th>\n",
       "      <td>2019-01-03 21:00:00</td>\n",
       "      <td>35.53500</td>\n",
       "      <td>35.63250</td>\n",
       "      <td>35.5350</td>\n",
       "      <td>35.63250</td>\n",
       "      <td>5180.0</td>\n",
       "    </tr>\n",
       "    <tr>\n",
       "      <th>23</th>\n",
       "      <td>2019-01-04 00:00:00</td>\n",
       "      <td>35.56750</td>\n",
       "      <td>35.56750</td>\n",
       "      <td>35.5500</td>\n",
       "      <td>35.55000</td>\n",
       "      <td>800.0</td>\n",
       "    </tr>\n",
       "    <tr>\n",
       "      <th>24</th>\n",
       "      <td>2019-01-04 12:00:00</td>\n",
       "      <td>36.00000</td>\n",
       "      <td>36.00500</td>\n",
       "      <td>36.0000</td>\n",
       "      <td>36.00250</td>\n",
       "      <td>20068.0</td>\n",
       "    </tr>\n",
       "    <tr>\n",
       "      <th>25</th>\n",
       "      <td>2019-01-04 13:00:00</td>\n",
       "      <td>36.02750</td>\n",
       "      <td>36.04750</td>\n",
       "      <td>35.9850</td>\n",
       "      <td>36.00500</td>\n",
       "      <td>29916.0</td>\n",
       "    </tr>\n",
       "    <tr>\n",
       "      <th>26</th>\n",
       "      <td>2019-01-04 14:00:00</td>\n",
       "      <td>35.95250</td>\n",
       "      <td>36.35000</td>\n",
       "      <td>35.9025</td>\n",
       "      <td>36.34500</td>\n",
       "      <td>1411536.0</td>\n",
       "    </tr>\n",
       "    <tr>\n",
       "      <th>27</th>\n",
       "      <td>2019-01-04 15:00:00</td>\n",
       "      <td>36.34250</td>\n",
       "      <td>36.80750</td>\n",
       "      <td>36.3050</td>\n",
       "      <td>36.79750</td>\n",
       "      <td>2207672.0</td>\n",
       "    </tr>\n",
       "    <tr>\n",
       "      <th>28</th>\n",
       "      <td>2019-01-04 16:00:00</td>\n",
       "      <td>36.79000</td>\n",
       "      <td>36.99250</td>\n",
       "      <td>36.7450</td>\n",
       "      <td>36.78250</td>\n",
       "      <td>1507452.0</td>\n",
       "    </tr>\n",
       "    <tr>\n",
       "      <th>29</th>\n",
       "      <td>2019-01-04 17:00:00</td>\n",
       "      <td>36.77500</td>\n",
       "      <td>36.96000</td>\n",
       "      <td>36.7150</td>\n",
       "      <td>36.88500</td>\n",
       "      <td>1012700.0</td>\n",
       "    </tr>\n",
       "    <tr>\n",
       "      <th>30</th>\n",
       "      <td>2019-01-04 18:00:00</td>\n",
       "      <td>36.88125</td>\n",
       "      <td>37.13000</td>\n",
       "      <td>36.8675</td>\n",
       "      <td>36.96250</td>\n",
       "      <td>1292048.0</td>\n",
       "    </tr>\n",
       "    <tr>\n",
       "      <th>31</th>\n",
       "      <td>2019-01-04 19:00:00</td>\n",
       "      <td>36.96500</td>\n",
       "      <td>37.08500</td>\n",
       "      <td>36.7875</td>\n",
       "      <td>36.79250</td>\n",
       "      <td>886728.0</td>\n",
       "    </tr>\n",
       "    <tr>\n",
       "      <th>32</th>\n",
       "      <td>2019-01-04 20:00:00</td>\n",
       "      <td>36.79000</td>\n",
       "      <td>37.07000</td>\n",
       "      <td>36.7700</td>\n",
       "      <td>37.06750</td>\n",
       "      <td>1627840.0</td>\n",
       "    </tr>\n",
       "    <tr>\n",
       "      <th>33</th>\n",
       "      <td>2019-01-04 21:00:00</td>\n",
       "      <td>37.06500</td>\n",
       "      <td>37.06500</td>\n",
       "      <td>37.0425</td>\n",
       "      <td>37.04750</td>\n",
       "      <td>4796.0</td>\n",
       "    </tr>\n",
       "    <tr>\n",
       "      <th>34</th>\n",
       "      <td>2019-01-07 12:00:00</td>\n",
       "      <td>37.07250</td>\n",
       "      <td>37.07250</td>\n",
       "      <td>37.0375</td>\n",
       "      <td>37.03750</td>\n",
       "      <td>1400.0</td>\n",
       "    </tr>\n",
       "    <tr>\n",
       "      <th>35</th>\n",
       "      <td>2019-01-07 13:00:00</td>\n",
       "      <td>37.00000</td>\n",
       "      <td>37.00000</td>\n",
       "      <td>36.9575</td>\n",
       "      <td>36.97250</td>\n",
       "      <td>2400.0</td>\n",
       "    </tr>\n",
       "    <tr>\n",
       "      <th>36</th>\n",
       "      <td>2019-01-07 14:00:00</td>\n",
       "      <td>37.00000</td>\n",
       "      <td>37.20750</td>\n",
       "      <td>36.6075</td>\n",
       "      <td>36.81750</td>\n",
       "      <td>1812792.0</td>\n",
       "    </tr>\n",
       "    <tr>\n",
       "      <th>37</th>\n",
       "      <td>2019-01-07 15:00:00</td>\n",
       "      <td>36.81500</td>\n",
       "      <td>37.20500</td>\n",
       "      <td>36.6750</td>\n",
       "      <td>37.01000</td>\n",
       "      <td>2170336.0</td>\n",
       "    </tr>\n",
       "    <tr>\n",
       "      <th>38</th>\n",
       "      <td>2019-01-07 16:00:00</td>\n",
       "      <td>37.00250</td>\n",
       "      <td>37.00250</td>\n",
       "      <td>36.4775</td>\n",
       "      <td>36.81000</td>\n",
       "      <td>2103332.0</td>\n",
       "    </tr>\n",
       "    <tr>\n",
       "      <th>39</th>\n",
       "      <td>2019-01-07 17:00:00</td>\n",
       "      <td>36.81500</td>\n",
       "      <td>36.97000</td>\n",
       "      <td>36.7050</td>\n",
       "      <td>36.92500</td>\n",
       "      <td>913852.0</td>\n",
       "    </tr>\n",
       "    <tr>\n",
       "      <th>40</th>\n",
       "      <td>2019-01-07 18:00:00</td>\n",
       "      <td>36.91750</td>\n",
       "      <td>37.03000</td>\n",
       "      <td>36.6525</td>\n",
       "      <td>36.72250</td>\n",
       "      <td>1083572.0</td>\n",
       "    </tr>\n",
       "    <tr>\n",
       "      <th>41</th>\n",
       "      <td>2019-01-07 19:00:00</td>\n",
       "      <td>36.71250</td>\n",
       "      <td>36.79500</td>\n",
       "      <td>36.5550</td>\n",
       "      <td>36.75000</td>\n",
       "      <td>909720.0</td>\n",
       "    </tr>\n",
       "    <tr>\n",
       "      <th>42</th>\n",
       "      <td>2019-01-07 20:00:00</td>\n",
       "      <td>36.74000</td>\n",
       "      <td>37.10000</td>\n",
       "      <td>36.7375</td>\n",
       "      <td>36.95750</td>\n",
       "      <td>2010668.0</td>\n",
       "    </tr>\n",
       "    <tr>\n",
       "      <th>43</th>\n",
       "      <td>2019-01-08 00:00:00</td>\n",
       "      <td>37.01250</td>\n",
       "      <td>37.01250</td>\n",
       "      <td>37.0100</td>\n",
       "      <td>37.01000</td>\n",
       "      <td>964.0</td>\n",
       "    </tr>\n",
       "    <tr>\n",
       "      <th>44</th>\n",
       "      <td>2019-01-08 12:00:00</td>\n",
       "      <td>37.16250</td>\n",
       "      <td>37.16250</td>\n",
       "      <td>37.1425</td>\n",
       "      <td>37.14250</td>\n",
       "      <td>804.0</td>\n",
       "    </tr>\n",
       "    <tr>\n",
       "      <th>45</th>\n",
       "      <td>2019-01-08 13:00:00</td>\n",
       "      <td>37.10000</td>\n",
       "      <td>37.23250</td>\n",
       "      <td>37.1000</td>\n",
       "      <td>37.23250</td>\n",
       "      <td>2800.0</td>\n",
       "    </tr>\n",
       "    <tr>\n",
       "      <th>46</th>\n",
       "      <td>2019-01-08 14:00:00</td>\n",
       "      <td>37.15500</td>\n",
       "      <td>37.51250</td>\n",
       "      <td>37.1550</td>\n",
       "      <td>37.26250</td>\n",
       "      <td>1392896.0</td>\n",
       "    </tr>\n",
       "    <tr>\n",
       "      <th>47</th>\n",
       "      <td>2019-01-08 15:00:00</td>\n",
       "      <td>37.25500</td>\n",
       "      <td>37.43000</td>\n",
       "      <td>37.1325</td>\n",
       "      <td>37.22500</td>\n",
       "      <td>1465600.0</td>\n",
       "    </tr>\n",
       "    <tr>\n",
       "      <th>48</th>\n",
       "      <td>2019-01-08 16:00:00</td>\n",
       "      <td>37.22750</td>\n",
       "      <td>37.55500</td>\n",
       "      <td>37.2050</td>\n",
       "      <td>37.37750</td>\n",
       "      <td>897156.0</td>\n",
       "    </tr>\n",
       "    <tr>\n",
       "      <th>49</th>\n",
       "      <td>2019-01-08 17:00:00</td>\n",
       "      <td>37.37000</td>\n",
       "      <td>37.67750</td>\n",
       "      <td>37.3575</td>\n",
       "      <td>37.49750</td>\n",
       "      <td>857548.0</td>\n",
       "    </tr>\n",
       "  </tbody>\n",
       "</table>\n",
       "</div>"
      ],
      "text/plain": [
       "                  Date      open      high      low     close     volume\n",
       "0  2019-01-02 12:00:00  38.70500  38.75000  38.6725  38.71500     9300.0\n",
       "1  2019-01-02 13:00:00  38.61000  38.75000  38.6050  38.62750     6720.0\n",
       "2  2019-01-02 14:00:00  38.75000  38.87500  38.5625  38.80000  1111248.0\n",
       "3  2019-01-02 15:00:00  38.79500  39.29750  38.6450  39.21250  1248344.0\n",
       "4  2019-01-02 16:00:00  39.23000  39.60500  39.1850  39.25750  1027760.0\n",
       "5  2019-01-02 17:00:00  39.26500  39.59500  39.2350  39.53750   757336.0\n",
       "6  2019-01-02 18:00:00  39.54500  39.71250  39.5400  39.68000   654300.0\n",
       "7  2019-01-02 19:00:00  39.68250  39.68250  39.4425  39.47750   558704.0\n",
       "8  2019-01-02 20:00:00  39.47500  39.50500  39.1875  39.47000  1521196.0\n",
       "9  2019-01-02 21:00:00  37.35750  37.50000  36.1900  36.55750   118328.0\n",
       "10 2019-01-02 22:00:00  36.52750  36.86500  36.5000  36.50000   108144.0\n",
       "11 2019-01-02 23:00:00  36.50000  36.52500  36.5000  36.52500     4400.0\n",
       "12 2019-01-03 00:00:00  36.52500  36.52500  36.4900  36.49000      800.0\n",
       "13 2019-01-03 12:00:00  36.01250  36.25500  36.0075  36.25000    58976.0\n",
       "14 2019-01-03 13:00:00  36.16250  36.47500  35.9850  36.04750    61848.0\n",
       "15 2019-01-03 14:00:00  36.01500  36.22750  35.7025  36.10250  4035000.0\n",
       "16 2019-01-03 15:00:00  36.10000  36.10000  35.5225  35.79500  3531668.0\n",
       "17 2019-01-03 16:00:00  35.79500  36.37250  35.7875  36.18250  1983668.0\n",
       "18 2019-01-03 17:00:00  36.18250  36.42750  36.1050  36.26500  1025740.0\n",
       "19 2019-01-03 18:00:00  36.25750  36.29000  35.7250  35.74000  1136060.0\n",
       "20 2019-01-03 19:00:00  35.73250  35.98625  35.6250  35.65500   968916.0\n",
       "21 2019-01-03 20:00:00  35.66250  35.83000  35.5000  35.52125  2107240.0\n",
       "22 2019-01-03 21:00:00  35.53500  35.63250  35.5350  35.63250     5180.0\n",
       "23 2019-01-04 00:00:00  35.56750  35.56750  35.5500  35.55000      800.0\n",
       "24 2019-01-04 12:00:00  36.00000  36.00500  36.0000  36.00250    20068.0\n",
       "25 2019-01-04 13:00:00  36.02750  36.04750  35.9850  36.00500    29916.0\n",
       "26 2019-01-04 14:00:00  35.95250  36.35000  35.9025  36.34500  1411536.0\n",
       "27 2019-01-04 15:00:00  36.34250  36.80750  36.3050  36.79750  2207672.0\n",
       "28 2019-01-04 16:00:00  36.79000  36.99250  36.7450  36.78250  1507452.0\n",
       "29 2019-01-04 17:00:00  36.77500  36.96000  36.7150  36.88500  1012700.0\n",
       "30 2019-01-04 18:00:00  36.88125  37.13000  36.8675  36.96250  1292048.0\n",
       "31 2019-01-04 19:00:00  36.96500  37.08500  36.7875  36.79250   886728.0\n",
       "32 2019-01-04 20:00:00  36.79000  37.07000  36.7700  37.06750  1627840.0\n",
       "33 2019-01-04 21:00:00  37.06500  37.06500  37.0425  37.04750     4796.0\n",
       "34 2019-01-07 12:00:00  37.07250  37.07250  37.0375  37.03750     1400.0\n",
       "35 2019-01-07 13:00:00  37.00000  37.00000  36.9575  36.97250     2400.0\n",
       "36 2019-01-07 14:00:00  37.00000  37.20750  36.6075  36.81750  1812792.0\n",
       "37 2019-01-07 15:00:00  36.81500  37.20500  36.6750  37.01000  2170336.0\n",
       "38 2019-01-07 16:00:00  37.00250  37.00250  36.4775  36.81000  2103332.0\n",
       "39 2019-01-07 17:00:00  36.81500  36.97000  36.7050  36.92500   913852.0\n",
       "40 2019-01-07 18:00:00  36.91750  37.03000  36.6525  36.72250  1083572.0\n",
       "41 2019-01-07 19:00:00  36.71250  36.79500  36.5550  36.75000   909720.0\n",
       "42 2019-01-07 20:00:00  36.74000  37.10000  36.7375  36.95750  2010668.0\n",
       "43 2019-01-08 00:00:00  37.01250  37.01250  37.0100  37.01000      964.0\n",
       "44 2019-01-08 12:00:00  37.16250  37.16250  37.1425  37.14250      804.0\n",
       "45 2019-01-08 13:00:00  37.10000  37.23250  37.1000  37.23250     2800.0\n",
       "46 2019-01-08 14:00:00  37.15500  37.51250  37.1550  37.26250  1392896.0\n",
       "47 2019-01-08 15:00:00  37.25500  37.43000  37.1325  37.22500  1465600.0\n",
       "48 2019-01-08 16:00:00  37.22750  37.55500  37.2050  37.37750   897156.0\n",
       "49 2019-01-08 17:00:00  37.37000  37.67750  37.3575  37.49750   857548.0"
      ]
     },
     "execution_count": 464,
     "metadata": {},
     "output_type": "execute_result"
    }
   ],
   "source": [
    "df.head(50)"
   ]
  },
  {
   "cell_type": "code",
   "execution_count": null,
   "metadata": {},
   "outputs": [],
   "source": []
  }
 ],
 "metadata": {
  "kernelspec": {
   "display_name": "Python 3",
   "language": "python",
   "name": "python3"
  },
  "language_info": {
   "codemirror_mode": {
    "name": "ipython",
    "version": 3
   },
   "file_extension": ".py",
   "mimetype": "text/x-python",
   "name": "python",
   "nbconvert_exporter": "python",
   "pygments_lexer": "ipython3",
   "version": "3.7.4"
  },
  "toc": {
   "base_numbering": 1,
   "nav_menu": {},
   "number_sections": true,
   "sideBar": true,
   "skip_h1_title": false,
   "title_cell": "Table of Contents",
   "title_sidebar": "Contents",
   "toc_cell": false,
   "toc_position": {},
   "toc_section_display": true,
   "toc_window_display": false
  }
 },
 "nbformat": 4,
 "nbformat_minor": 2
}
