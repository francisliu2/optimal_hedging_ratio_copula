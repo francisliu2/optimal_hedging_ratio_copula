{
 "cells": [
  {
   "cell_type": "code",
   "execution_count": 3,
   "metadata": {},
   "outputs": [],
   "source": [
    "import pandas as pd\n",
    "import numpy as np\n",
    "import requests\n",
    "import os\n",
    "import time\n",
    "\n",
    "from datetime import datetime as dt\n",
    "from datetime import timedelta\n",
    "\n",
    "_from = dt.now()\n",
    "to = _from + timedelta(hours=10, minutes=5)"
   ]
  },
  {
   "cell_type": "code",
   "execution_count": 2,
   "metadata": {},
   "outputs": [
    {
     "data": {
      "text/plain": [
       "<Response [200]>"
      ]
     },
     "execution_count": 2,
     "metadata": {},
     "output_type": "execute_result"
    }
   ],
   "source": [
    "token = \"\" # Your Tiingo API token.\n",
    "headers = {\n",
    "        'Content-Type': 'application/json',\n",
    "        'Authorization': 'Token ' + token\n",
    "        }\n",
    "requests.get(\"https://api.tiingo.com/api/test/\",\n",
    "                                    headers=headers)"
   ]
  },
  {
   "cell_type": "code",
   "execution_count": null,
   "metadata": {},
   "outputs": [],
   "source": [
    "# Make sure not to send requests to frequently to the Tiingo server\n",
    "class counter:\n",
    "    def __init__(self, wait_h, wait_m, wait_s, period_max):\n",
    "        self.wait_h = wait_h\n",
    "        self.wait_m = wait_m\n",
    "        self.wait_s = wait_s\n",
    "        self.wait = timedelta(hours=self.wait_h, minutes=self.wait_m, seconds=self.wait_s)\n",
    "        \n",
    "        self.period_max = period_max\n",
    "        \n",
    "        self.start = dt.now()\n",
    "        self.to = self.start + self.wait\n",
    "        self.count = 0\n",
    "        \n",
    "    def add(self):\n",
    "        self.last_add = dt.now()\n",
    "        if self.last_add > self.start+self.wait:\n",
    "            self.reset()\n",
    "        \n",
    "        self.count+=1\n",
    "        \n",
    "        if self.count == self.period_max:\n",
    "            print('Reach maximum request in a period, wait until %s' %self.to)\n",
    "            time.sleep((self.to - dt.now()).seconds)\n",
    "            self.reset()\n",
    "   \n",
    "    def reset(self):\n",
    "        self.start = dt.now()\n",
    "        self.to = self.start +  self.wait\n",
    "        self.count = 0\n",
    "        print('counter reset')"
   ]
  },
  {
   "cell_type": "code",
   "execution_count": null,
   "metadata": {},
   "outputs": [],
   "source": [
    "def get_price(tickers, dates, dates_end, _counter):\n",
    "    error_log = []\n",
    "\n",
    "    for d1, d2 in zip(dates, dates_end):\n",
    "        d1 = str(d1).split(' ')[0]\n",
    "        d2 = str(d2).split(' ')[0]\n",
    "        print(d1, d2)\n",
    "\n",
    "        query = {'tickers':tickers,\n",
    "                 'startDate': d1, \n",
    "                 'endDate': d2,\n",
    "                 'resampleFreq': '1hour'}\n",
    "\n",
    "        \n",
    "        r = requests.get(\"https://api.tiingo.com/tiingo/crypto/prices\", \n",
    "                         params = query,\n",
    "                         headers=headers)\n",
    "        \n",
    "        _counter.add()\n",
    "        print('hourly request count:',_counter.count)\n",
    "\n",
    "        if len(r.json())==0:\n",
    "            error_log.append([(tickers, d1,d2)])\n",
    "            print('Empty Json')\n",
    "\n",
    "        else:\n",
    "            df=pd.DataFrame(r.json()[0]['priceData'])\n",
    "            df=df[['date', 'open', 'high', 'low', 'close', 'volume', 'tradesDone', 'volumeNotional']]\n",
    "            df.to_csv(filename, mode=\"a\", header=False)\n",
    "        \n",
    "    return error_log\n",
    "#     time.sleep(0.5)          "
   ]
  },
  {
   "cell_type": "code",
   "execution_count": null,
   "metadata": {},
   "outputs": [],
   "source": [
    "def clean_data(filename):\n",
    "    file = pd.read_csv(filename, header=None)\n",
    "    file.columns = ['id', 'date', 'open', 'high', 'low', 'close', 'volume', 'tradesDone', 'volumeNotional']\n",
    "\n",
    "    file.drop_duplicates('date', inplace=True)\n",
    "\n",
    "    file.date = pd.to_datetime(file.date)\n",
    "#     file = file.loc[:,['date', 'open']]\n",
    "#     file.columns = ['Date', '%s Price'%coin]\n",
    "    file.to_csv(filename)"
   ]
  },
  {
   "cell_type": "code",
   "execution_count": null,
   "metadata": {},
   "outputs": [],
   "source": [
    "# fetch price data of coins needed\n",
    "coins = ['ada', 'bch', 'bnb', 'bsv', 'btc', 'dot', 'eos', 'eth', 'link',\n",
    "       'ltc', 'xrp']\n",
    "\n",
    "_counter = counter(1,0,3, 450)\n",
    "error_log = []\n",
    "error_tick = []\n",
    "\n",
    "for r in range(len(coins)):\n",
    "    coin = coins.iloc[r,:]\n",
    "    unit = 'usd'\n",
    "    tickers = coin.ticker+unit\n",
    "    filename=\"tiingo_%s.csv\"%coin\n",
    "\n",
    "    print(filename)\n",
    "    print(tickers)\n",
    "    \n",
    "    \n",
    "    start1 = coin.start\n",
    "    start2 = start1 + timedelta(days=3)\n",
    "    \n",
    "    end1 = coin.end\n",
    "    end2 = end1 + timedelta(days=3)\n",
    "    \n",
    "    dates = pd.date_range(start=start1, end=end1, freq=\"3D\")\n",
    "    dates_end = pd.date_range(start=start2, end=end2, freq=\"3D\")\n",
    "\n",
    "    \n",
    "    error = get_price(tickers, dates, dates_end, _counter)\n",
    "    error_log.append(error)\n",
    "    try:\n",
    "        clean_data(filename)\n",
    "    except:\n",
    "        error_tick.append(coin)\n"
   ]
  }
 ],
 "metadata": {
  "kernelspec": {
   "display_name": "Python 3",
   "language": "python",
   "name": "python3"
  },
  "language_info": {
   "codemirror_mode": {
    "name": "ipython",
    "version": 3
   },
   "file_extension": ".py",
   "mimetype": "text/x-python",
   "name": "python",
   "nbconvert_exporter": "python",
   "pygments_lexer": "ipython3",
   "version": "3.7.4"
  },
  "toc": {
   "base_numbering": 1,
   "nav_menu": {},
   "number_sections": true,
   "sideBar": true,
   "skip_h1_title": false,
   "title_cell": "Table of Contents",
   "title_sidebar": "Contents",
   "toc_cell": false,
   "toc_position": {},
   "toc_section_display": true,
   "toc_window_display": false
  }
 },
 "nbformat": 4,
 "nbformat_minor": 2
}
