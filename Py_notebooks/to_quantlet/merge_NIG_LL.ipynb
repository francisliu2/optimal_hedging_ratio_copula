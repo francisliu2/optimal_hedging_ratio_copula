{
 "cells": [
  {
   "cell_type": "code",
   "execution_count": 98,
   "metadata": {},
   "outputs": [],
   "source": [
    "import numpy as np\n",
    "import pandas as pd\n",
    "import os\n"
   ]
  },
  {
   "cell_type": "code",
   "execution_count": 99,
   "metadata": {},
   "outputs": [],
   "source": [
    "# Choose copula by AIC\n",
    "\n",
    "result_names = ['BBT_Tiingo',\n",
    "                'BBT_future_Tiingo_ada', \n",
    "                'BBT_future_Tiingo_eth',\n",
    "                'BBT_future_Tiingo_ltc',\n",
    "                'BBT_future_Tiingo_xrp',\n",
    "                'BBT_future_BITX',\n",
    "                'BBT_future_BITW20', \n",
    "                'BBT_future_BITW70', \n",
    "                'BBT_future_BITW100', \n",
    "                'BBT_future_CRIX']\n",
    "\n",
    "# result_names = ['BBT_future_CRIX']\n",
    "\n",
    "coin_names = ['btc', 'ada', 'eth', 'ltc', 'xrp',\n",
    "              'BITX', 'BITW20', 'BITW70', 'BITW100', 'CRIX']\n",
    "\n",
    "result_coin_mapper = dict(zip(result_names, coin_names))\n",
    "\n",
    "# l = pd.read_json('../../results/BBT_future_Tiingo_ada/MM/likelihood.json') # likelihood \n",
    "l = pd.read_json('../../results/BBT_future_CRIX/MM/likelihood.json') # likelihood \n",
    "# l *= 300 # 300 data points\n",
    "# l = l.iloc[[0,1,3,4,5,6,7]] #remove t copula capped"
   ]
  },
  {
   "cell_type": "code",
   "execution_count": 12,
   "metadata": {},
   "outputs": [
    {
     "data": {
      "text/plain": [
       "'btc'"
      ]
     },
     "execution_count": 12,
     "metadata": {},
     "output_type": "execute_result"
    }
   ],
   "source": [
    "coin_names[0].lower()"
   ]
  },
  {
   "cell_type": "code",
   "execution_count": 137,
   "metadata": {},
   "outputs": [
    {
     "name": "stdout",
     "output_type": "stream",
     "text": [
      "BBT_Tiingo\n",
      "BBT_future_Tiingo_ada\n",
      "BBT_future_Tiingo_eth\n"
     ]
    },
    {
     "name": "stderr",
     "output_type": "stream",
     "text": [
      "/Users/francis/opt/anaconda3/lib/python3.7/site-packages/ipykernel_launcher.py:30: DeprecationWarning: `np.float` is a deprecated alias for the builtin `float`. To silence this warning, use `float` by itself. Doing this will not modify any behavior and is safe. If you specifically wanted the numpy scalar type, use `np.float64` here.\n",
      "Deprecated in NumPy 1.20; for more details and guidance: https://numpy.org/devdocs/release/1.20.0-notes.html#deprecations\n",
      "/Users/francis/opt/anaconda3/lib/python3.7/site-packages/ipykernel_launcher.py:30: DeprecationWarning: `np.float` is a deprecated alias for the builtin `float`. To silence this warning, use `float` by itself. Doing this will not modify any behavior and is safe. If you specifically wanted the numpy scalar type, use `np.float64` here.\n",
      "Deprecated in NumPy 1.20; for more details and guidance: https://numpy.org/devdocs/release/1.20.0-notes.html#deprecations\n"
     ]
    },
    {
     "name": "stdout",
     "output_type": "stream",
     "text": [
      "BBT_future_Tiingo_ltc\n",
      "BBT_future_Tiingo_xrp\n",
      "BBT_future_BITX\n"
     ]
    },
    {
     "name": "stderr",
     "output_type": "stream",
     "text": [
      "/Users/francis/opt/anaconda3/lib/python3.7/site-packages/ipykernel_launcher.py:30: DeprecationWarning: `np.float` is a deprecated alias for the builtin `float`. To silence this warning, use `float` by itself. Doing this will not modify any behavior and is safe. If you specifically wanted the numpy scalar type, use `np.float64` here.\n",
      "Deprecated in NumPy 1.20; for more details and guidance: https://numpy.org/devdocs/release/1.20.0-notes.html#deprecations\n",
      "/Users/francis/opt/anaconda3/lib/python3.7/site-packages/ipykernel_launcher.py:30: DeprecationWarning: `np.float` is a deprecated alias for the builtin `float`. To silence this warning, use `float` by itself. Doing this will not modify any behavior and is safe. If you specifically wanted the numpy scalar type, use `np.float64` here.\n",
      "Deprecated in NumPy 1.20; for more details and guidance: https://numpy.org/devdocs/release/1.20.0-notes.html#deprecations\n",
      "/Users/francis/opt/anaconda3/lib/python3.7/site-packages/ipykernel_launcher.py:30: DeprecationWarning: `np.float` is a deprecated alias for the builtin `float`. To silence this warning, use `float` by itself. Doing this will not modify any behavior and is safe. If you specifically wanted the numpy scalar type, use `np.float64` here.\n",
      "Deprecated in NumPy 1.20; for more details and guidance: https://numpy.org/devdocs/release/1.20.0-notes.html#deprecations\n"
     ]
    },
    {
     "name": "stdout",
     "output_type": "stream",
     "text": [
      "BBT_future_BITW20\n",
      "BBT_future_BITW70\n",
      "BBT_future_BITW100\n",
      "BBT_future_CRIX\n"
     ]
    },
    {
     "name": "stderr",
     "output_type": "stream",
     "text": [
      "/Users/francis/opt/anaconda3/lib/python3.7/site-packages/ipykernel_launcher.py:30: DeprecationWarning: `np.float` is a deprecated alias for the builtin `float`. To silence this warning, use `float` by itself. Doing this will not modify any behavior and is safe. If you specifically wanted the numpy scalar type, use `np.float64` here.\n",
      "Deprecated in NumPy 1.20; for more details and guidance: https://numpy.org/devdocs/release/1.20.0-notes.html#deprecations\n",
      "/Users/francis/opt/anaconda3/lib/python3.7/site-packages/ipykernel_launcher.py:30: DeprecationWarning: `np.float` is a deprecated alias for the builtin `float`. To silence this warning, use `float` by itself. Doing this will not modify any behavior and is safe. If you specifically wanted the numpy scalar type, use `np.float64` here.\n",
      "Deprecated in NumPy 1.20; for more details and guidance: https://numpy.org/devdocs/release/1.20.0-notes.html#deprecations\n",
      "/Users/francis/opt/anaconda3/lib/python3.7/site-packages/ipykernel_launcher.py:30: DeprecationWarning: `np.float` is a deprecated alias for the builtin `float`. To silence this warning, use `float` by itself. Doing this will not modify any behavior and is safe. If you specifically wanted the numpy scalar type, use `np.float64` here.\n",
      "Deprecated in NumPy 1.20; for more details and guidance: https://numpy.org/devdocs/release/1.20.0-notes.html#deprecations\n",
      "/Users/francis/opt/anaconda3/lib/python3.7/site-packages/ipykernel_launcher.py:30: DeprecationWarning: `np.float` is a deprecated alias for the builtin `float`. To silence this warning, use `float` by itself. Doing this will not modify any behavior and is safe. If you specifically wanted the numpy scalar type, use `np.float64` here.\n",
      "Deprecated in NumPy 1.20; for more details and guidance: https://numpy.org/devdocs/release/1.20.0-notes.html#deprecations\n"
     ]
    }
   ],
   "source": [
    "# pd.read_csv('../../_mathematica/data_%s/LL_NIG_%s.csv'%(coin_names[0].lower(), coin_names[0].lower()))\n",
    "# print(\n",
    "# '../../_mathematica/data_%s/LL_NIG_%s.csv'%(coin_names[0].lower(), \n",
    "#                                             coin_names[0].lower())\n",
    "# )\n",
    "for i in range(len(result_names)):\n",
    "    print(result_names[i])\n",
    "    LL = pd.read_json('../../results/%s/MM/likelihood.json'%result_names[i]) # likelihood \n",
    "    \n",
    "    # drop previously added NIG row\n",
    "    try:\n",
    "        LL=LL.drop('NIG')\n",
    "    except:\n",
    "        pass\n",
    "    \n",
    "    NIG_path = '../../_mathematica/data_%s/'%coin_names[i].lower()\n",
    "\n",
    "    ls = os.listdir(NIG_path)\n",
    "    for file in ls:\n",
    "        if file.startswith('LL_NIG'):\n",
    "            LL_NIG = pd.read_csv(NIG_path+file)\n",
    "            LL_NIG.columns = ['file_name', 'NIG', 'mean LL']\n",
    "            LL_NIG = LL_NIG.iloc[:,:2]\n",
    "            LL_NIG.file_name = LL_NIG.file_name.apply(lambda x: str(x)+'.csv')\n",
    "            LL_NIG = LL_NIG.set_index('file_name').T\n",
    "\n",
    "            # Make sure all entries are float\n",
    "            for d in range(len(LL_NIG.T)):\n",
    "                try:\n",
    "                    LL_NIG.iloc[0,d] = np.float(LL_NIG.iloc[0,i])\n",
    "                except:\n",
    "                    LL_NIG.iloc[0,d] = 0 \n",
    "                    \n",
    "    LL = LL.append(LL_NIG)\n",
    "    LL.to_json('../../results/%s/MM/likelihood_NIG.json'%result_names[i])\n",
    "        "
   ]
  }
 ],
 "metadata": {
  "kernelspec": {
   "display_name": "Python 3",
   "language": "python",
   "name": "python3"
  },
  "language_info": {
   "codemirror_mode": {
    "name": "ipython",
    "version": 3
   },
   "file_extension": ".py",
   "mimetype": "text/x-python",
   "name": "python",
   "nbconvert_exporter": "python",
   "pygments_lexer": "ipython3",
   "version": "3.7.4"
  },
  "toc": {
   "base_numbering": 1,
   "nav_menu": {},
   "number_sections": true,
   "sideBar": true,
   "skip_h1_title": false,
   "title_cell": "Table of Contents",
   "title_sidebar": "Contents",
   "toc_cell": false,
   "toc_position": {},
   "toc_section_display": true,
   "toc_window_display": false
  }
 },
 "nbformat": 4,
 "nbformat_minor": 2
}
