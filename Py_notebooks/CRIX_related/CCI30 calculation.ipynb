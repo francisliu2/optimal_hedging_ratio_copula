{
 "cells": [
  {
   "cell_type": "code",
   "execution_count": 1,
   "metadata": {},
   "outputs": [],
   "source": [
    "import pandas as pd\n",
    "import numpy as np\n"
   ]
  },
  {
   "cell_type": "code",
   "execution_count": 86,
   "metadata": {},
   "outputs": [
    {
     "name": "stderr",
     "output_type": "stream",
     "text": [
      "/Users/francis/opt/anaconda3/lib/python3.7/site-packages/ipykernel_launcher.py:5: DeprecationWarning: `np.float` is a deprecated alias for the builtin `float`. To silence this warning, use `float` by itself. Doing this will not modify any behavior and is safe. If you specifically wanted the numpy scalar type, use `np.float64` here.\n",
      "Deprecated in NumPy 1.20; for more details and guidance: https://numpy.org/devdocs/release/1.20.0-notes.html#deprecations\n",
      "  \"\"\"\n"
     ]
    }
   ],
   "source": [
    "weights = pd.read_csv('cci30_monthly_weights.csv')\n",
    "weights.Date = pd.to_datetime(weights.Date)\n",
    "\n",
    "weights.columns = ['Date', 'Coin', 'Weight']\n",
    "weights.Weight = weights.Weight.apply(lambda x: 0.01*np.float(x.replace('%','')))"
   ]
  },
  {
   "cell_type": "code",
   "execution_count": 3,
   "metadata": {},
   "outputs": [],
   "source": [
    "Coin = np.unique(weights.Coin)"
   ]
  },
  {
   "cell_type": "code",
   "execution_count": 4,
   "metadata": {},
   "outputs": [],
   "source": [
    "from selenium import webdriver  # Import from seleniumwire\n",
    "from selenium.webdriver.common.action_chains import ActionChains\n",
    "from selenium.webdriver.common.keys import Keys\n",
    "\n",
    "# driver = webdriver.Chrome() \n",
    "# website = 'https://coinmarketcap.com/'\n",
    "# driver.get(website)"
   ]
  },
  {
   "cell_type": "code",
   "execution_count": 13,
   "metadata": {},
   "outputs": [],
   "source": [
    "def search_coinmarketcap(query):\n",
    "    driver = webdriver.Chrome() \n",
    "    website = 'https://coinmarketcap.com/'\n",
    "    driver.get(website)\n",
    "    \n",
    "    driver.implicitly_wait(2)\n",
    "    \n",
    "    container = driver.find_element_by_class_name('container')\n",
    "    search_svg = container.find_elements_by_xpath(\"//*[name()='div']/*[name()='svg']\")[0]\n",
    "    ActionChains(driver).move_to_element(search_svg).click(search_svg).perform()\n",
    "    \n",
    "    driver.implicitly_wait(2)\n",
    "\n",
    "    driver.find_element_by_xpath(\"//input\").send_keys(query)\n",
    "    \n",
    "    try:\n",
    "        driver.find_element_by_xpath(\"//input\").send_keys(Keys.RETURN)\n",
    "        ticker = driver.find_element_by_xpath(\"//small\").text\n",
    "\n",
    "    except:\n",
    "        driver.close()\n",
    "        return \"no result\"\n",
    "    \n",
    "    driver.close()\n",
    "    return ticker"
   ]
  },
  {
   "cell_type": "code",
   "execution_count": 6,
   "metadata": {},
   "outputs": [
    {
     "data": {
      "text/plain": [
       "array(['0x', 'aave', 'aeternity', 'agoras-tokens', 'algorand', 'amp',\n",
       "       'ardor', 'ark', 'augur', 'avalanche', 'basic-attention-token',\n",
       "       'binance-coin', 'bitbay', 'bitcoin', 'bitcoin-cash',\n",
       "       'bitcoin-gold', 'bitcoin-sv', 'bitcoindark', 'bitconnect',\n",
       "       'bitshares', 'bittorrent', 'blackcoin', 'blocknet', 'burst',\n",
       "       'byteball', 'bytecoin-bcn', 'bytom', 'cardano', 'celsius',\n",
       "       'chainlink', 'cloakcoin', 'compound', 'cosmos', 'counterparty',\n",
       "       'crypto-com-chain', 'crypto-com-coin', 'dash', 'decred',\n",
       "       'digibyte', 'digitalnote', 'digixdao', 'dogecoin', 'emercoin',\n",
       "       'eos', 'ethereum', 'ethereum-classic', 'factom', 'faircoin',\n",
       "       'feathercoin', 'filecoin', 'gamecredits', 'gas', 'gnosis-gno',\n",
       "       'golem-network-tokens', 'groestlcoin', 'gulden', 'hedgetrade',\n",
       "       'hshare', 'huobi-token', 'icon', 'iconomi', 'internet-computer',\n",
       "       'iota', 'jinn', 'klaytn', 'komodo', 'kusama', 'kyber-network',\n",
       "       'lisk', 'litecoin', 'maidsafecoin', 'maker', 'maximine-coin',\n",
       "       'monacoin', 'monero', 'namecoin', 'nano', 'nav-coin', 'nem', 'neo',\n",
       "       'nexus', 'nxt', 'okb', 'omisego', 'ontology', 'pancakeswap',\n",
       "       'peercoin', 'pivx', 'polkadot-new', 'polygon', 'populous',\n",
       "       'potcoin', 'qtum', 'raiblocks', 'ravencoin', 'reddcoin', 'revain',\n",
       "       'ripple', 'shiba-inu', 'siacoin', 'solana', 'steem', 'stellar',\n",
       "       'stratis', 'supernet-unity', 'syscoin', 'tenx', 'terra-luna',\n",
       "       'tether', 'tezos', 'theta', 'tron', 'uniswap', 'unus-sed-leo',\n",
       "       'vechain', 'verge', 'vericoin', 'vertcoin', 'viacoin', 'waves',\n",
       "       'wrapped-bitcoin', 'xrp', 'yearn-finance', 'zcash', 'zilliqa'],\n",
       "      dtype=object)"
      ]
     },
     "execution_count": 6,
     "metadata": {},
     "output_type": "execute_result"
    }
   ],
   "source": [
    "Coin"
   ]
  },
  {
   "cell_type": "code",
   "execution_count": 7,
   "metadata": {},
   "outputs": [],
   "source": [
    "# search_coinmarketcap('aave')\n",
    "ticker_dict = dict()"
   ]
  },
  {
   "cell_type": "code",
   "execution_count": 14,
   "metadata": {},
   "outputs": [
    {
     "name": "stdout",
     "output_type": "stream",
     "text": [
      "bitcoindark no result\n",
      "bitconnect BCCX\n",
      "bitshares BTS\n",
      "bittorrent BTT\n",
      "blackcoin BLK\n",
      "blocknet BLOCK\n",
      "burst SIGNA\n",
      "byteball no result\n",
      "bytecoin-bcn BCN\n",
      "bytom BTM\n",
      "cardano ADA\n",
      "celsius CEL\n",
      "chainlink LINK\n",
      "cloakcoin CLOAK\n",
      "compound COMP\n",
      "cosmos ATOM\n",
      "counterparty XCP\n",
      "crypto-com-chain no result\n",
      "crypto-com-coin CRO\n",
      "dash DASH\n",
      "decred DCR\n",
      "digibyte DGB\n",
      "digitalnote XDN\n",
      "digixdao DGD\n",
      "dogecoin DOGE\n",
      "emercoin EMC\n",
      "eos EOS\n",
      "ethereum ETH\n",
      "ethereum-classic ETC\n",
      "factom FCT\n",
      "faircoin FAIR\n",
      "feathercoin FTC\n",
      "filecoin FIL\n",
      "gamecredits GAME\n",
      "gas GAS\n",
      "gnosis-gno GNO\n",
      "golem-network-tokens GLM\n",
      "groestlcoin GRS\n",
      "gulden NLG\n",
      "hedgetrade HEDG\n",
      "hshare HSS\n",
      "huobi-token HT\n",
      "icon ICX\n",
      "iconomi no result\n",
      "internet-computer ICP\n",
      "iota MIOTA\n",
      "jinn no result\n",
      "klaytn KLAY\n",
      "komodo KMD\n",
      "kusama KSM\n",
      "kyber-network KNC\n",
      "lisk LSK\n",
      "litecoin LTC\n",
      "maidsafecoin MAID\n",
      "maker MKR\n",
      "maximine-coin MXM\n",
      "monacoin MONA\n",
      "monero XMR\n",
      "namecoin NMC\n",
      "nano NANO\n",
      "nav-coin NAV\n",
      "nem XEM\n",
      "neo NEO\n",
      "nexus NXS\n",
      "nxt NXT\n",
      "okb OKB\n",
      "omisego no result\n",
      "ontology ONT\n",
      "pancakeswap CAKE\n",
      "peercoin PPC\n",
      "pivx PIVX\n",
      "polkadot-new DOT\n",
      "polygon MATIC\n",
      "populous PPT\n",
      "potcoin POT\n",
      "qtum QTUM\n",
      "raiblocks no result\n",
      "ravencoin RVN\n",
      "reddcoin RDD\n",
      "revain REV\n",
      "ripple XLA\n",
      "shiba-inu SHIB\n",
      "siacoin SC\n",
      "solana SOL\n",
      "steem STEEM\n",
      "stellar XLM\n",
      "stratis STRAX\n",
      "supernet-unity no result\n",
      "syscoin SYS\n",
      "tenx PAY\n",
      "terra-luna LUNA\n",
      "tether USDT\n",
      "tezos XTZ\n",
      "theta THETA\n",
      "tron TRX\n",
      "uniswap UNI\n",
      "unus-sed-leo LEO\n",
      "vechain VET\n",
      "verge XVG\n",
      "vericoin VRC\n",
      "vertcoin VTC\n",
      "viacoin VIA\n",
      "waves WAVES\n",
      "wrapped-bitcoin WBTC\n",
      "xrp XRP\n",
      "yearn-finance YFI\n",
      "zcash ZEC\n",
      "zilliqa ZIL\n"
     ]
    }
   ],
   "source": [
    "for q in Coin:\n",
    "    ticker_dict[q] = search_coinmarketcap(q)\n",
    "    print(q, ticker_dict[q])\n"
   ]
  },
  {
   "cell_type": "code",
   "execution_count": 15,
   "metadata": {},
   "outputs": [
    {
     "data": {
      "text/plain": [
       "125"
      ]
     },
     "execution_count": 15,
     "metadata": {},
     "output_type": "execute_result"
    }
   ],
   "source": [
    "len(ticker_dict)"
   ]
  },
  {
   "cell_type": "code",
   "execution_count": 50,
   "metadata": {},
   "outputs": [
    {
     "data": {
      "text/plain": [
       "{'0x': 'ZRX',\n",
       " 'aave': 'AAVE',\n",
       " 'aeternity': 'AE',\n",
       " 'agoras-tokens': 'AGRS',\n",
       " 'algorand': 'ALGO',\n",
       " 'amp': 'AMP',\n",
       " 'ardor': 'ARDR',\n",
       " 'ark': 'ARK',\n",
       " 'augur': 'REP',\n",
       " 'avalanche': 'AVAX',\n",
       " 'basic-attention-token': 'BAT',\n",
       " 'binance-coin': 'BNB',\n",
       " 'bitbay': 'BAY',\n",
       " 'bitcoin': 'BTC',\n",
       " 'bitcoin-cash': 'BCH',\n",
       " 'bitcoin-gold': 'BTG',\n",
       " 'bitcoin-sv': 'BSV',\n",
       " 'bitcoindark': 'no result',\n",
       " 'bitconnect': 'BCCX',\n",
       " 'bitshares': 'BTS',\n",
       " 'bittorrent': 'BTT',\n",
       " 'blackcoin': 'BLK',\n",
       " 'blocknet': 'BLOCK',\n",
       " 'burst': 'SIGNA',\n",
       " 'byteball': 'no result',\n",
       " 'bytecoin-bcn': 'BCN',\n",
       " 'bytom': 'BTM',\n",
       " 'cardano': 'ADA',\n",
       " 'celsius': 'CEL',\n",
       " 'chainlink': 'LINK',\n",
       " 'cloakcoin': 'CLOAK',\n",
       " 'compound': 'COMP',\n",
       " 'cosmos': 'ATOM',\n",
       " 'counterparty': 'XCP',\n",
       " 'crypto-com-chain': 'no result',\n",
       " 'crypto-com-coin': 'CRO',\n",
       " 'dash': 'DASH',\n",
       " 'decred': 'DCR',\n",
       " 'digibyte': 'DGB',\n",
       " 'digitalnote': 'XDN',\n",
       " 'digixdao': 'DGD',\n",
       " 'dogecoin': 'DOGE',\n",
       " 'emercoin': 'EMC',\n",
       " 'eos': 'EOS',\n",
       " 'ethereum': 'ETH',\n",
       " 'ethereum-classic': 'ETC',\n",
       " 'factom': 'FCT',\n",
       " 'faircoin': 'FAIR',\n",
       " 'feathercoin': 'FTC',\n",
       " 'filecoin': 'FIL',\n",
       " 'gamecredits': 'GAME',\n",
       " 'gas': 'GAS',\n",
       " 'gnosis-gno': 'GNO',\n",
       " 'golem-network-tokens': 'GLM',\n",
       " 'groestlcoin': 'GRS',\n",
       " 'gulden': 'NLG',\n",
       " 'hedgetrade': 'HEDG',\n",
       " 'hshare': 'HSS',\n",
       " 'huobi-token': 'HT',\n",
       " 'icon': 'ICX',\n",
       " 'iconomi': 'no result',\n",
       " 'internet-computer': 'ICP',\n",
       " 'iota': 'MIOTA',\n",
       " 'jinn': 'no result',\n",
       " 'klaytn': 'KLAY',\n",
       " 'komodo': 'KMD',\n",
       " 'kusama': 'KSM',\n",
       " 'kyber-network': 'KNC',\n",
       " 'lisk': 'LSK',\n",
       " 'litecoin': 'LTC',\n",
       " 'maidsafecoin': 'MAID',\n",
       " 'maker': 'MKR',\n",
       " 'maximine-coin': 'MXM',\n",
       " 'monacoin': 'MONA',\n",
       " 'monero': 'XMR',\n",
       " 'namecoin': 'NMC',\n",
       " 'nano': 'NANO',\n",
       " 'nav-coin': 'NAV',\n",
       " 'nem': 'XEM',\n",
       " 'neo': 'NEO',\n",
       " 'nexus': 'NXS',\n",
       " 'nxt': 'NXT',\n",
       " 'okb': 'OKB',\n",
       " 'omisego': 'no result',\n",
       " 'ontology': 'ONT',\n",
       " 'pancakeswap': 'CAKE',\n",
       " 'peercoin': 'PPC',\n",
       " 'pivx': 'PIVX',\n",
       " 'polkadot-new': 'DOT',\n",
       " 'polygon': 'MATIC',\n",
       " 'populous': 'PPT',\n",
       " 'potcoin': 'POT',\n",
       " 'qtum': 'QTUM',\n",
       " 'raiblocks': 'no result',\n",
       " 'ravencoin': 'RVN',\n",
       " 'reddcoin': 'RDD',\n",
       " 'revain': 'REV',\n",
       " 'ripple': 'XLA',\n",
       " 'shiba-inu': 'SHIB',\n",
       " 'siacoin': 'SC',\n",
       " 'solana': 'SOL',\n",
       " 'steem': 'STEEM',\n",
       " 'stellar': 'XLM',\n",
       " 'stratis': 'STRAX',\n",
       " 'supernet-unity': 'no result',\n",
       " 'syscoin': 'SYS',\n",
       " 'tenx': 'PAY',\n",
       " 'terra-luna': 'LUNA',\n",
       " 'tether': 'USDT',\n",
       " 'tezos': 'XTZ',\n",
       " 'theta': 'THETA',\n",
       " 'tron': 'TRX',\n",
       " 'uniswap': 'UNI',\n",
       " 'unus-sed-leo': 'LEO',\n",
       " 'vechain': 'VET',\n",
       " 'verge': 'XVG',\n",
       " 'vericoin': 'VRC',\n",
       " 'vertcoin': 'VTC',\n",
       " 'viacoin': 'VIA',\n",
       " 'waves': 'WAVES',\n",
       " 'wrapped-bitcoin': 'WBTC',\n",
       " 'xrp': 'XRP',\n",
       " 'yearn-finance': 'YFI',\n",
       " 'zcash': 'ZEC',\n",
       " 'zilliqa': 'ZIL'}"
      ]
     },
     "execution_count": 50,
     "metadata": {},
     "output_type": "execute_result"
    }
   ],
   "source": [
    "ticker_dict['bitcoindark'] = 'BTCD'"
   ]
  },
  {
   "cell_type": "code",
   "execution_count": 87,
   "metadata": {},
   "outputs": [],
   "source": [
    "ticker_dict['bitcoindark'] = 'BTCD'\n",
    "ticker_dict['byteball'] = 'GBYTE'\n",
    "ticker_dict['crypto-com-chain'] = 'CRO'\n",
    "ticker_dict['raiblocks'] = 'NANO' # rebranded\n",
    "ticker_dict['supernet-unity'] = 'UNITY' \n",
    "ticker_dict['iconomi'] = 'ICN' # depreciated\n",
    "ticker_dict['jinn'] = 'JINN' \n",
    "ticker_dict['omisego'] = 'OMG' \n"
   ]
  },
  {
   "cell_type": "code",
   "execution_count": 88,
   "metadata": {},
   "outputs": [],
   "source": [
    "ticker = pd.DataFrame(ticker_dict, range(len(ticker_dict))).T.iloc[:,0:1]"
   ]
  },
  {
   "cell_type": "code",
   "execution_count": 89,
   "metadata": {},
   "outputs": [],
   "source": [
    "ticker = ticker.reset_index()\n",
    "ticker.columns = ['name', 'ticker']\n",
    "ticker.ticker = ticker.ticker.apply(lambda x: x.lower())"
   ]
  },
  {
   "cell_type": "code",
   "execution_count": 90,
   "metadata": {},
   "outputs": [],
   "source": [
    "weights = pd.merge(weights, ticker, left_on='Coin', right_on='name')"
   ]
  },
  {
   "cell_type": "code",
   "execution_count": 91,
   "metadata": {},
   "outputs": [
    {
     "data": {
      "text/html": [
       "<div>\n",
       "<style scoped>\n",
       "    .dataframe tbody tr th:only-of-type {\n",
       "        vertical-align: middle;\n",
       "    }\n",
       "\n",
       "    .dataframe tbody tr th {\n",
       "        vertical-align: top;\n",
       "    }\n",
       "\n",
       "    .dataframe thead th {\n",
       "        text-align: right;\n",
       "    }\n",
       "</style>\n",
       "<table border=\"1\" class=\"dataframe\">\n",
       "  <thead>\n",
       "    <tr style=\"text-align: right;\">\n",
       "      <th></th>\n",
       "      <th>name</th>\n",
       "      <th>ticker</th>\n",
       "    </tr>\n",
       "  </thead>\n",
       "  <tbody>\n",
       "  </tbody>\n",
       "</table>\n",
       "</div>"
      ],
      "text/plain": [
       "Empty DataFrame\n",
       "Columns: [name, ticker]\n",
       "Index: []"
      ]
     },
     "execution_count": 91,
     "metadata": {},
     "output_type": "execute_result"
    }
   ],
   "source": [
    "ticker.loc[(ticker.ticker == 'no result'),:]"
   ]
  },
  {
   "cell_type": "code",
   "execution_count": 75,
   "metadata": {},
   "outputs": [],
   "source": [
    "weights.to_csv('CCI30_weights_tickers.csv')"
   ]
  },
  {
   "cell_type": "code",
   "execution_count": 92,
   "metadata": {},
   "outputs": [],
   "source": [
    "weights = weights.loc[weights.Date >= '2017-01-01']"
   ]
  },
  {
   "cell_type": "code",
   "execution_count": 93,
   "metadata": {},
   "outputs": [],
   "source": [
    "weights.to_csv('CCI30_weights_tickers_from2017.csv')"
   ]
  },
  {
   "cell_type": "code",
   "execution_count": 98,
   "metadata": {},
   "outputs": [
    {
     "data": {
      "text/plain": [
       "array(['aave', 'ada', 'ae', 'agrs', 'algo', 'amp', 'ardr', 'ark', 'atom',\n",
       "       'avax', 'bat', 'bccx', 'bch', 'bcn', 'bnb', 'bsv', 'btc', 'btg',\n",
       "       'btm', 'bts', 'btt', 'cake', 'cel', 'comp', 'cro', 'dash', 'dcr',\n",
       "       'dgd', 'doge', 'dot', 'eos', 'etc', 'eth', 'fct', 'fil', 'game',\n",
       "       'gas', 'gbyte', 'glm', 'gno', 'hedg', 'hss', 'ht', 'icn', 'icp',\n",
       "       'icx', 'klay', 'kmd', 'knc', 'ksm', 'leo', 'link', 'lsk', 'ltc',\n",
       "       'luna', 'maid', 'matic', 'miota', 'mkr', 'mxm', 'nano', 'neo',\n",
       "       'nxt', 'okb', 'omg', 'ont', 'pay', 'pivx', 'ppt', 'qtum', 'rep',\n",
       "       'rev', 'rvn', 'sc', 'shib', 'sol', 'steem', 'strax', 'theta',\n",
       "       'trx', 'uni', 'usdt', 'vet', 'waves', 'wbtc', 'xem', 'xla', 'xlm',\n",
       "       'xmr', 'xrp', 'xtz', 'xvg', 'yfi', 'zec', 'zil', 'zrx'],\n",
       "      dtype=object)"
      ]
     },
     "execution_count": 98,
     "metadata": {},
     "output_type": "execute_result"
    }
   ],
   "source": [
    "(np.unique(weights.ticker))"
   ]
  },
  {
   "cell_type": "code",
   "execution_count": 96,
   "metadata": {},
   "outputs": [],
   "source": [
    "weights.sort_values('Date', ascending=False, ignore_index=True, inplace=True)"
   ]
  },
  {
   "cell_type": "code",
   "execution_count": 97,
   "metadata": {},
   "outputs": [
    {
     "data": {
      "text/html": [
       "<div>\n",
       "<style scoped>\n",
       "    .dataframe tbody tr th:only-of-type {\n",
       "        vertical-align: middle;\n",
       "    }\n",
       "\n",
       "    .dataframe tbody tr th {\n",
       "        vertical-align: top;\n",
       "    }\n",
       "\n",
       "    .dataframe thead th {\n",
       "        text-align: right;\n",
       "    }\n",
       "</style>\n",
       "<table border=\"1\" class=\"dataframe\">\n",
       "  <thead>\n",
       "    <tr style=\"text-align: right;\">\n",
       "      <th></th>\n",
       "      <th>Date</th>\n",
       "      <th>Coin</th>\n",
       "      <th>Weight</th>\n",
       "      <th>name</th>\n",
       "      <th>ticker</th>\n",
       "    </tr>\n",
       "  </thead>\n",
       "  <tbody>\n",
       "    <tr>\n",
       "      <th>0</th>\n",
       "      <td>2021-07-01</td>\n",
       "      <td>bitcoin</td>\n",
       "      <td>0.207871</td>\n",
       "      <td>bitcoin</td>\n",
       "      <td>btc</td>\n",
       "    </tr>\n",
       "    <tr>\n",
       "      <th>1</th>\n",
       "      <td>2021-07-01</td>\n",
       "      <td>filecoin</td>\n",
       "      <td>0.017967</td>\n",
       "      <td>filecoin</td>\n",
       "      <td>fil</td>\n",
       "    </tr>\n",
       "    <tr>\n",
       "      <th>2</th>\n",
       "      <td>2021-07-01</td>\n",
       "      <td>amp</td>\n",
       "      <td>0.013179</td>\n",
       "      <td>amp</td>\n",
       "      <td>amp</td>\n",
       "    </tr>\n",
       "    <tr>\n",
       "      <th>3</th>\n",
       "      <td>2021-07-01</td>\n",
       "      <td>binance-coin</td>\n",
       "      <td>0.055290</td>\n",
       "      <td>binance-coin</td>\n",
       "      <td>bnb</td>\n",
       "    </tr>\n",
       "    <tr>\n",
       "      <th>4</th>\n",
       "      <td>2021-07-01</td>\n",
       "      <td>algorand</td>\n",
       "      <td>0.013336</td>\n",
       "      <td>algorand</td>\n",
       "      <td>algo</td>\n",
       "    </tr>\n",
       "    <tr>\n",
       "      <th>...</th>\n",
       "      <td>...</td>\n",
       "      <td>...</td>\n",
       "      <td>...</td>\n",
       "      <td>...</td>\n",
       "      <td>...</td>\n",
       "    </tr>\n",
       "    <tr>\n",
       "      <th>1707</th>\n",
       "      <td>2017-01-01</td>\n",
       "      <td>augur</td>\n",
       "      <td>0.020217</td>\n",
       "      <td>augur</td>\n",
       "      <td>rep</td>\n",
       "    </tr>\n",
       "    <tr>\n",
       "      <th>1708</th>\n",
       "      <td>2017-01-01</td>\n",
       "      <td>dogecoin</td>\n",
       "      <td>0.016420</td>\n",
       "      <td>dogecoin</td>\n",
       "      <td>doge</td>\n",
       "    </tr>\n",
       "    <tr>\n",
       "      <th>1709</th>\n",
       "      <td>2017-01-01</td>\n",
       "      <td>litecoin</td>\n",
       "      <td>0.048543</td>\n",
       "      <td>litecoin</td>\n",
       "      <td>ltc</td>\n",
       "    </tr>\n",
       "    <tr>\n",
       "      <th>1710</th>\n",
       "      <td>2017-01-01</td>\n",
       "      <td>factom</td>\n",
       "      <td>0.016113</td>\n",
       "      <td>factom</td>\n",
       "      <td>fct</td>\n",
       "    </tr>\n",
       "    <tr>\n",
       "      <th>1711</th>\n",
       "      <td>2017-01-01</td>\n",
       "      <td>agoras-tokens</td>\n",
       "      <td>0.007409</td>\n",
       "      <td>agoras-tokens</td>\n",
       "      <td>agrs</td>\n",
       "    </tr>\n",
       "  </tbody>\n",
       "</table>\n",
       "<p>1712 rows × 5 columns</p>\n",
       "</div>"
      ],
      "text/plain": [
       "           Date           Coin    Weight           name ticker\n",
       "0    2021-07-01        bitcoin  0.207871        bitcoin    btc\n",
       "1    2021-07-01       filecoin  0.017967       filecoin    fil\n",
       "2    2021-07-01            amp  0.013179            amp    amp\n",
       "3    2021-07-01   binance-coin  0.055290   binance-coin    bnb\n",
       "4    2021-07-01       algorand  0.013336       algorand   algo\n",
       "...         ...            ...       ...            ...    ...\n",
       "1707 2017-01-01          augur  0.020217          augur    rep\n",
       "1708 2017-01-01       dogecoin  0.016420       dogecoin   doge\n",
       "1709 2017-01-01       litecoin  0.048543       litecoin    ltc\n",
       "1710 2017-01-01         factom  0.016113         factom    fct\n",
       "1711 2017-01-01  agoras-tokens  0.007409  agoras-tokens   agrs\n",
       "\n",
       "[1712 rows x 5 columns]"
      ]
     },
     "execution_count": 97,
     "metadata": {},
     "output_type": "execute_result"
    }
   ],
   "source": [
    "weights"
   ]
  },
  {
   "cell_type": "code",
   "execution_count": 122,
   "metadata": {},
   "outputs": [],
   "source": [
    "import os\n",
    "price_ls = os.listdir('prices/')\n",
    "existing_coins = [x[x.find(\"_\")+1:-4] for x in price_ls if x.endswith('.csv')]"
   ]
  },
  {
   "cell_type": "code",
   "execution_count": 123,
   "metadata": {},
   "outputs": [
    {
     "data": {
      "text/plain": [
       "['xem',\n",
       " 'xrp',\n",
       " 'btc',\n",
       " 'bat',\n",
       " 'bsv',\n",
       " 'bch',\n",
       " 'xmr',\n",
       " 'etc',\n",
       " 'eth',\n",
       " 'bnb',\n",
       " 'eos',\n",
       " 'ltc',\n",
       " 'dot',\n",
       " 'ada',\n",
       " 'link',\n",
       " 'dash']"
      ]
     },
     "execution_count": 123,
     "metadata": {},
     "output_type": "execute_result"
    }
   ],
   "source": [
    "existing_coins"
   ]
  },
  {
   "cell_type": "code",
   "execution_count": 129,
   "metadata": {},
   "outputs": [
    {
     "data": {
      "text/plain": [
       "1"
      ]
     },
     "execution_count": 129,
     "metadata": {},
     "output_type": "execute_result"
    }
   ],
   "source": [
    "existing_coins.count(t)"
   ]
  },
  {
   "cell_type": "code",
   "execution_count": 140,
   "metadata": {},
   "outputs": [],
   "source": [
    "to_Tiingo = []\n",
    "\n",
    "for t in np.unique(weights.ticker):\n",
    "    if existing_coins.count(t)==0:\n",
    "        end = weights.loc[weights.ticker == t,'Date'].iloc[0]\n",
    "        start = weights.loc[weights.ticker == t,'Date'].iloc[-1]\n",
    "        to_Tiingo.append({'ticker':t, 'start':start, 'end':end + datetime.timedelta(days=31)})"
   ]
  },
  {
   "cell_type": "code",
   "execution_count": 143,
   "metadata": {},
   "outputs": [],
   "source": [
    "pd.DataFrame(to_Tiingo).to_pickle('../data_related/CCI30_data_request.pkl')"
   ]
  },
  {
   "cell_type": "code",
   "execution_count": 139,
   "metadata": {},
   "outputs": [
    {
     "data": {
      "text/plain": [
       "Timestamp('2019-04-01 00:00:00')"
      ]
     },
     "execution_count": 139,
     "metadata": {},
     "output_type": "execute_result"
    }
   ],
   "source": [
    "import datetime\n",
    "end + datetime.timedelta(days=31)"
   ]
  },
  {
   "cell_type": "code",
   "execution_count": 147,
   "metadata": {},
   "outputs": [
    {
     "data": {
      "text/html": [
       "<div>\n",
       "<style scoped>\n",
       "    .dataframe tbody tr th:only-of-type {\n",
       "        vertical-align: middle;\n",
       "    }\n",
       "\n",
       "    .dataframe tbody tr th {\n",
       "        vertical-align: top;\n",
       "    }\n",
       "\n",
       "    .dataframe thead th {\n",
       "        text-align: right;\n",
       "    }\n",
       "</style>\n",
       "<table border=\"1\" class=\"dataframe\">\n",
       "  <thead>\n",
       "    <tr style=\"text-align: right;\">\n",
       "      <th></th>\n",
       "      <th>Date</th>\n",
       "      <th>Coin</th>\n",
       "      <th>Weight</th>\n",
       "      <th>name</th>\n",
       "      <th>ticker</th>\n",
       "    </tr>\n",
       "  </thead>\n",
       "  <tbody>\n",
       "    <tr>\n",
       "      <th>7</th>\n",
       "      <td>2021-07-01</td>\n",
       "      <td>aave</td>\n",
       "      <td>0.013983</td>\n",
       "      <td>aave</td>\n",
       "      <td>aave</td>\n",
       "    </tr>\n",
       "    <tr>\n",
       "      <th>48</th>\n",
       "      <td>2021-06-01</td>\n",
       "      <td>aave</td>\n",
       "      <td>0.016591</td>\n",
       "      <td>aave</td>\n",
       "      <td>aave</td>\n",
       "    </tr>\n",
       "    <tr>\n",
       "      <th>60</th>\n",
       "      <td>2021-05-01</td>\n",
       "      <td>aave</td>\n",
       "      <td>0.015049</td>\n",
       "      <td>aave</td>\n",
       "      <td>aave</td>\n",
       "    </tr>\n",
       "    <tr>\n",
       "      <th>105</th>\n",
       "      <td>2021-04-01</td>\n",
       "      <td>aave</td>\n",
       "      <td>0.016083</td>\n",
       "      <td>aave</td>\n",
       "      <td>aave</td>\n",
       "    </tr>\n",
       "    <tr>\n",
       "      <th>127</th>\n",
       "      <td>2021-03-01</td>\n",
       "      <td>aave</td>\n",
       "      <td>0.018621</td>\n",
       "      <td>aave</td>\n",
       "      <td>aave</td>\n",
       "    </tr>\n",
       "    <tr>\n",
       "      <th>169</th>\n",
       "      <td>2021-02-01</td>\n",
       "      <td>aave</td>\n",
       "      <td>0.021070</td>\n",
       "      <td>aave</td>\n",
       "      <td>aave</td>\n",
       "    </tr>\n",
       "    <tr>\n",
       "      <th>202</th>\n",
       "      <td>2021-01-01</td>\n",
       "      <td>aave</td>\n",
       "      <td>0.013072</td>\n",
       "      <td>aave</td>\n",
       "      <td>aave</td>\n",
       "    </tr>\n",
       "    <tr>\n",
       "      <th>225</th>\n",
       "      <td>2020-12-01</td>\n",
       "      <td>aave</td>\n",
       "      <td>0.013118</td>\n",
       "      <td>aave</td>\n",
       "      <td>aave</td>\n",
       "    </tr>\n",
       "    <tr>\n",
       "      <th>262</th>\n",
       "      <td>2020-11-01</td>\n",
       "      <td>aave</td>\n",
       "      <td>0.009897</td>\n",
       "      <td>aave</td>\n",
       "      <td>aave</td>\n",
       "    </tr>\n",
       "    <tr>\n",
       "      <th>278</th>\n",
       "      <td>2020-10-01</td>\n",
       "      <td>aave</td>\n",
       "      <td>0.014439</td>\n",
       "      <td>aave</td>\n",
       "      <td>aave</td>\n",
       "    </tr>\n",
       "  </tbody>\n",
       "</table>\n",
       "</div>"
      ],
      "text/plain": [
       "          Date  Coin    Weight  name ticker\n",
       "7   2021-07-01  aave  0.013983  aave   aave\n",
       "48  2021-06-01  aave  0.016591  aave   aave\n",
       "60  2021-05-01  aave  0.015049  aave   aave\n",
       "105 2021-04-01  aave  0.016083  aave   aave\n",
       "127 2021-03-01  aave  0.018621  aave   aave\n",
       "169 2021-02-01  aave  0.021070  aave   aave\n",
       "202 2021-01-01  aave  0.013072  aave   aave\n",
       "225 2020-12-01  aave  0.013118  aave   aave\n",
       "262 2020-11-01  aave  0.009897  aave   aave\n",
       "278 2020-10-01  aave  0.014439  aave   aave"
      ]
     },
     "execution_count": 147,
     "metadata": {},
     "output_type": "execute_result"
    }
   ],
   "source": [
    "weights.loc[weights.ticker == 'aave',:]"
   ]
  }
 ],
 "metadata": {
  "kernelspec": {
   "display_name": "Python 3",
   "language": "python",
   "name": "python3"
  },
  "language_info": {
   "codemirror_mode": {
    "name": "ipython",
    "version": 3
   },
   "file_extension": ".py",
   "mimetype": "text/x-python",
   "name": "python",
   "nbconvert_exporter": "python",
   "pygments_lexer": "ipython3",
   "version": "3.7.4"
  },
  "toc": {
   "base_numbering": 1,
   "nav_menu": {},
   "number_sections": true,
   "sideBar": true,
   "skip_h1_title": false,
   "title_cell": "Table of Contents",
   "title_sidebar": "Contents",
   "toc_cell": false,
   "toc_position": {},
   "toc_section_display": true,
   "toc_window_display": false
  }
 },
 "nbformat": 4,
 "nbformat_minor": 2
}
