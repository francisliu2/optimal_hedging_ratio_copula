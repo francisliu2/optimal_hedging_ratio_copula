{
 "cells": [
  {
   "cell_type": "code",
   "execution_count": 1,
   "metadata": {},
   "outputs": [],
   "source": [
    "import matplotlib.pyplot as plt\n",
    "import scipy\n",
    "from scipy import stats, integrate\n",
    "from scipy.stats import norm\n",
    "import pandas as pd\n",
    "import numpy as np\n",
    "import seaborn as sns\n",
    "from statsmodels.distributions.empirical_distribution import ECDF\n",
    "# from copulae import *\n",
    "from toolbox import *\n",
    "from KDEs import *\n",
    "import warnings\n",
    "warnings.filterwarnings(\"ignore\")\n",
    "\n",
    "data = pd.read_csv('../processed_data/btc_future_crix.csv')\n",
    "data.head()\n",
    "\n",
    "ecdf_brr = ECDF(data.return_brr)\n",
    "ecdf_btc = ECDF(data.return_btc)\n",
    "\n",
    "\n",
    "u_arr = ecdf_brr(data.return_brr)\n",
    "v_arr = ecdf_btc(data.return_btc)\n",
    "\n",
    "u = ecdf_brr(data.return_brr)\n",
    "v = ecdf_btc(data.return_btc)"
   ]
  },
  {
   "cell_type": "code",
   "execution_count": 29,
   "metadata": {},
   "outputs": [],
   "source": [
    "class Copula(object):\n",
    "    def __init__(self):\n",
    "        return\n",
    "    \n",
    "    def H(self, w, h, r_h): # a helper function to compute the input to F_RF\n",
    "        A = self.Law_RS.ppf(w) - r_h\n",
    "        if h!=0:\n",
    "            B = h\n",
    "        else:\n",
    "            B = 0.00001\n",
    "        return A/B\n",
    "    \n",
    "    def g(self, w, h, r_h):\n",
    "        return self.Law_RF.cdf(self.H(w=w, h=h, r_h=r_h))\n",
    "    \n",
    "    def F_RH(self, h, r_h):\n",
    "        func = partial(self.D1C, h=h, r_h=r_h)\n",
    "        I = integrate.quad(func, 0.0001, 0.999)\n",
    "        return 1 - I[0]\n",
    "    \n",
    "    def f_RH(self, h, r_h):\n",
    "        part1 = lambda u: self.c(u, self.g(w=u, h=h, r_h=r_h))\n",
    "        part2 = lambda u: self.Law_RF.pdf(self.H(w=u, h=h, r_h=r_h))\n",
    "        integrand = lambda u: part1(u)*part2(u)\n",
    "        return integrate.quad(integrand, 0.0001, 0.999)[0]/np.abs(h)\n",
    "        \n",
    "    \n",
    "    def _lambda(self, q):\n",
    "        if q<= 0.5:\n",
    "            return self.C(q,q)/q\n",
    "        else:\n",
    "            return (1-(2*q)+self.C(q,q) )/(1-q)\n",
    "    \n",
    "class Gaussian(Copula):\n",
    "    def __init__(self, rho, Law_RS, Law_RF):\n",
    "        self.rho = rho         # Dependence Parameter\n",
    "        self.Law_RS = Law_RS   # Marginal Distribution of Spot\n",
    "        self.Law_RF = Law_RF   # Marginal Distribution of Future\n",
    "        self.meta_Gaussian = stats.multivariate_normal([0,0], # Mean\n",
    "                                                       [[1,rho], # COV\n",
    "                                                        [rho,1]])\n",
    "        \n",
    "    def C(self, u, v): # Copula Function\n",
    "        return self.meta_Gaussian.cdf([norm.ppf(u), norm.ppf(v)])\n",
    "    \n",
    "    def c(self, u, v): # copula density\n",
    "        part1 = self.meta_Gaussian.pdf([norm.ppf(u), norm.ppf(v)])\n",
    "        part2 = norm.pdf(norm.ppf(u))* norm.pdf(norm.ppf(v))\n",
    "        return part1/part2\n",
    "    \n",
    "    def D1C(self, w, h, r_h):\n",
    "        integrand = lambda u: self.meta_Gaussian.pdf([norm.ppf(w), u]) \n",
    "        part2 = 1/norm.pdf(norm.ppf(w))\n",
    "        return integrate.quad(integrand, -np.infty, norm.ppf(self.g(w, h, r_h)))[0] * part2\n",
    "    \n",
    "    def l_fn(self, rho, u, v):\n",
    "        _meta_Gaussian = stats.multivariate_normal([0,0], \n",
    "                                                  [[1,rho], \n",
    "                                                   [rho,1]])\n",
    "        \n",
    "        z1 = norm.ppf(u)\n",
    "        z2 = norm.ppf(v)\n",
    "        \n",
    "        part1 = []\n",
    "        for i in range(len(z1)):\n",
    "            part1.append(_meta_Gaussian.pdf([z1[i], z2[i]]))\n",
    "        \n",
    "        part1 = np.array(part1)\n",
    "        part2 = norm.pdf(norm.ppf(u))*norm.pdf(norm.ppf(v))\n",
    "        return np.nanmean(np.log(part1/part2))\n",
    "    \n",
    "    def canonical_calibrate(self, u, v):\n",
    "        fn_toopt = lambda rho: -self.l_fn(rho, u, v)\n",
    "        result = scipy.optimize.fmin(fn_toopt, x0=self.rho,\n",
    "                             xtol=1e-10, \n",
    "                             maxiter=5000,\n",
    "                             maxfun=400)\n",
    "        self.rho = result[0]\n",
    "        self.samples = self.sample(200000) # generate samples for later use\n",
    "        self.rs = self.samples[:,0]\n",
    "        self.rf = self.samples[:,1]\n",
    "        return result\n",
    "    \n",
    "    def sample(self, n):\n",
    "        copula_samples = self.meta_Gaussian.rvs(n)\n",
    "        samples = np.zeros((n,2))\n",
    "        samples[:,0]=self.Law_RS.ppf(norm.cdf(copula_samples[:,0]))\n",
    "        samples[:,1]=self.Law_RF.ppf(norm.cdf(copula_samples[:,1]))\n",
    "        return samples\n",
    "    \n",
    "    def sample_uv(self, n): # sample only the copula (Assuming uniform distribution of marginals)\n",
    "        copula_samples = self.meta_Gaussian.rvs(n)\n",
    "        samples = np.zeros((n,2))\n",
    "        samples[:,0]= norm.cdf(copula_samples[:,0])\n",
    "        samples[:,1]= norm.cdf(copula_samples[:,1])\n",
    "        return samples\n",
    "    \n",
    "    def tau(self):\n",
    "        return 2/np.pi * np.arcsin(self.rho)\n",
    "    \n",
    "class t_Copula(Copula):\n",
    "    def __init__(self, rho, nu, Law_RS, Law_RF):\n",
    "        self.rho        = rho      # Dependence Parameter\n",
    "        self.nu         = nu       # Degree of Freedom \n",
    "        self.Law_RS     = Law_RS   # Marginal Distribution of Spot\n",
    "        self.Law_RF     = Law_RF   # Marginal Distribution of Future\n",
    "        self.meta_t     = multivariate_t(nu =nu,  # DF\n",
    "                                         Sigma=np.array([[1,rho], # COV\n",
    "                                            [rho,1]]))\n",
    "        self.t1 = stats.t(df=nu) # inner\n",
    "        self.t2 = stats.t(df=nu) \n",
    "        \n",
    "    def C(self, u, v): # Copula Function\n",
    "        return self.meta_t.cdf([self.t1.ppf(u), self.t2.ppf(v)])\n",
    "    \n",
    "    def c(self, u, v): # copula density\n",
    "        part1 = self.meta_t.pdf(self.t1.ppf(u), self.t2.ppf(v))\n",
    "        part2 = self.t1.pdf(self.t1.ppf(u))* self.t2.pdf(self.t2.ppf(v))\n",
    "        return part1/part2\n",
    "    \n",
    "    def D1C(self, w, h, r_h): # D1Operator\n",
    "        integrand = lambda u: self.meta_t.pdf(self.t1.ppf(w), u) \n",
    "        part2 = 1/self.t1.pdf(self.t1.ppf(w))\n",
    "        return integrate.quad(integrand, -np.infty, self.t2.ppf(self.g(w, h, r_h)))[0] * part2\n",
    "    \n",
    "    def l_fn(self, rho, nu,  u, v, nu_lowerbound=2): # Likelihood Function\n",
    "        if (np.abs(rho)>=1) or (nu <nu_lowerbound):\n",
    "            return -5000\n",
    "        \n",
    "        _meta_t = multivariate_t(nu=nu,  # DF\n",
    "                                     Sigma=np.array([[1,rho], # COV\n",
    "                                                     [rho,1]]))\n",
    "        \n",
    "        _t1 = stats.t(df=nu)\n",
    "        _t2 = stats.t(df=nu)\n",
    "        \n",
    "        z1 = _t1.ppf(u) # inner\n",
    "        z2 = _t2.ppf(v)\n",
    "        \n",
    "        part1 = []\n",
    "        for i in range(len(z1)):\n",
    "            part1.append(_meta_t.pdf(z1[i], z2[i]))\n",
    "        \n",
    "        part1 = np.array(part1)\n",
    "        part2 = _t1.pdf(_t1.ppf(u))*_t2.pdf(_t2.ppf(v))\n",
    "        return np.nanmean(np.log(part1/part2))\n",
    "    \n",
    "    def canonical_calibrate(self, u, v, nu_lowerbound=2):\n",
    "        fn_toopt = lambda theta: -self.l_fn(theta[0],theta[1] , u, v, nu_lowerbound)\n",
    "        result = scipy.optimize.fmin(fn_toopt, x0=(self.rho,self.nu), \n",
    "                             xtol=1e-10, \n",
    "                             maxiter=5000,\n",
    "                             maxfun=400)\n",
    "        self.rho = result[0]\n",
    "        self.nu  = result[1]\n",
    "        return result\n",
    "\n",
    "class Clayton(Copula):\n",
    "    def __init__(self, theta, Law_RS, Law_RF):\n",
    "        self.theta = theta     # Dependence Parameter\n",
    "        self.Law_RS = Law_RS   # Marginal Distribution of Spot\n",
    "        self.Law_RF = Law_RF   # Marginal Distribution of Future\n",
    "        \n",
    "    def phi(self, t):\n",
    "        A = 1/self.theta\n",
    "        B = t**(-self.theta)-1\n",
    "        return A*B\n",
    "    \n",
    "    def phi_inverse(self, t):\n",
    "        A = (1+self.theta*t)\n",
    "        B = -1/self.theta\n",
    "        return A**B\n",
    "    \n",
    "    def d_phi(self, t):\n",
    "        return -t**(-self.theta-1)\n",
    "    \n",
    "    def d_phi_inverse(self, t):\n",
    "        A = 1+ self.theta*t\n",
    "        B = (-1/self.theta) - 1\n",
    "        return -1*A**B\n",
    "    \n",
    "    def C(self, u, v):\n",
    "        return self.phi_inverse(self.phi(u)+self.phi(v))\n",
    "    \n",
    "    def c(self, u, v): # copula density\n",
    "        part1 = (1+self.theta) * (u*v)**(-1-self.theta)\n",
    "        part2 = (-1 + u**(-self.theta) + v**(-self.theta))**(-2-(1/self.theta))\n",
    "        return part1*part2\n",
    "    \n",
    "    def D1C(self, w, h, r_h):\n",
    "        a = self.phi(w) + self.phi(self.g(w,h,r_h))\n",
    "        A = self.d_phi_inverse(a)\n",
    "        B = self.d_phi(w)\n",
    "        return A*B\n",
    "    \n",
    "    def canonical_calibrate(self, u, v):\n",
    "        fn_toopt = lambda theta: -self.l_fn(theta, u, v)\n",
    "        result = scipy.optimize.fmin(fn_toopt, x0=self.theta, \n",
    "                             xtol=1e-10, \n",
    "                             maxiter=5000,\n",
    "                             maxfun=400)\n",
    "        self.theta = result[0]\n",
    "        return result\n",
    "    \n",
    "    def l_fn(self, theta, u, v): # log dependency likelihood \n",
    "        part1 = (1+theta) * (u*v)**(-1-theta)\n",
    "        part2 = (-1 + u**(-theta) + v**(-theta))**(-2-(1/theta))\n",
    "        return np.mean(np.log(part1*part2))\n",
    "    \n",
    "    def sample(self, n):\n",
    "        u1 = stats.uniform().rvs(n)\n",
    "        v2 = stats.uniform().rvs(n)\n",
    "        u2 = (u1**(-self.theta)*(v2**(-self.theta/(1+self.theta))-1)+1)**(-1/self.theta)\n",
    "        samples = np.zeros((n,2))\n",
    "        samples[:,0]=self.Law_RS.ppf(u1)\n",
    "        samples[:,1]=self.Law_RF.ppf(u2)\n",
    "        return samples\n",
    "    \n",
    "    \n",
    "class Frank(Copula):\n",
    "    def __init__(self, theta, Law_RS, Law_RF):\n",
    "        self.theta = theta     # Dependence Parameter\n",
    "        self.Law_RS = Law_RS   # Marginal Distribution of Spot\n",
    "        self.Law_RF = Law_RF   # Marginal Distribution of Future\n",
    "        \n",
    "    def phi(self, t):\n",
    "        A = np.exp(-self.theta * t) - 1\n",
    "        B = np.exp(-self.theta)     - 1\n",
    "        return -np.log(A/B)\n",
    "    \n",
    "    def phi_inverse(self, t):\n",
    "        A = -1/self.theta\n",
    "        B = 1 + (np.exp(-t)*(np.exp(-self.theta)-1))\n",
    "        return A*np.log(B)\n",
    "    \n",
    "    def d_phi(self, t):\n",
    "        A = self.theta * np.exp(-self.theta * t)\n",
    "        B = np.exp(-self.theta * t) - 1\n",
    "        return A/B\n",
    "    \n",
    "    def d_phi_inverse(self, t):\n",
    "        A = 1/self.theta\n",
    "        B = np.exp(-t) * (np.exp(-self.theta)-1)\n",
    "        C = 1+B\n",
    "        return A*B/C\n",
    "    \n",
    "    def D1C(self, w, h, r_h):\n",
    "        a = self.phi(w) + self.phi(self.g(w,h,r_h))\n",
    "        A = self.d_phi_inverse(a)\n",
    "        B = self.d_phi(w)\n",
    "        return A*B\n",
    "    \n",
    "    def C(self, u, v):\n",
    "        return self.phi_inverse(self.phi(u)+self.phi(v))\n",
    "    \n",
    "    def c(self, u, v): # copula density (wiki missed the negative sign in front of theta)\n",
    "        part1 = -self.theta*np.exp(-self.theta*(u+v))*(np.exp(-self.theta)-1)\n",
    "        part2 = np.exp(-self.theta) - np.exp(-self.theta*u) - np.exp(-self.theta*v) + np.exp(-self.theta*(u+v))\n",
    "        return part1 /(part2**2)\n",
    "    \n",
    "    def l_fn(self, theta, u, v): # log dependency likelihood \n",
    "        part1 = -theta*np.exp(-theta*(u+v))*(np.exp(-theta)-1)\n",
    "        part2 = np.exp(-theta) - np.exp(-theta*u) - np.exp(-theta*v) + np.exp(-theta*(u+v))\n",
    "        return np.mean(np.log(part1 /(part2**2)))\n",
    "    \n",
    "    def canonical_calibrate(self, u, v):\n",
    "        fn_toopt = lambda theta: -self.l_fn(theta, u, v)\n",
    "        result = scipy.optimize.fmin(fn_toopt, x0=self.theta, \n",
    "                         xtol=1e-10, \n",
    "                         maxiter=5000,\n",
    "                         maxfun=400)\n",
    "        self.theta = result[0]\n",
    "        return result\n",
    "    \n",
    "    def tau(self, theta=None): # Statistical modeling of joint probability distribution using copula: Application to peak and permanent displacement seismic demands\n",
    "        if theta == None:\n",
    "            theta= self.theta\n",
    "        part1 = 1 - 4/theta \n",
    "        part2 = 4/theta**2\n",
    "        part3_fn = lambda t: t/(np.exp(t)-1)\n",
    "        part3 = scipy.integrate.quad(part3_fn, 0, theta)[0]\n",
    "        return part1+part2*part3\n",
    "    \n",
    "    def D1O_inv(self, u,v): #D1O's inverse\n",
    "        part0 = -1/self.theta\n",
    "        part1a = (1-np.exp(-self.theta))\n",
    "        part1b = (1/v - 1)* np.exp(-self.theta*u)+1\n",
    "        part1  = np.log(1- part1a/part1b)\n",
    "        return part0*part1\n",
    "\n",
    "    def sample(self,size):\n",
    "        samples = np.ones((size, 2))\n",
    "        u1 = stats.uniform.rvs(size=size)\n",
    "        v  = stats.uniform.rvs(size=size)\n",
    "        u2 = D1O_inv(u1,v)\n",
    "        samples[:,0] = self.Law_RS.ppf(u1)\n",
    "        samples[:,1] = self.Law_RF.ppf(u2)\n",
    "        return samples\n",
    "    \n",
    "class Gumbel(Copula):\n",
    "    def __init__(self, theta, Law_RS, Law_RF):\n",
    "        self.theta = theta     # Dependence Parameter\n",
    "        self.Law_RS = Law_RS   # Marginal Distribution of Spot\n",
    "        self.Law_RF = Law_RF   # Marginal Distribution of Future\n",
    "        \n",
    "    def phi(self, t):\n",
    "        return (-np.log(t))**self.theta\n",
    "    \n",
    "    def phi_inverse(self, t):\n",
    "        return np.exp(-(t**(1/self.theta)))\n",
    "    \n",
    "    def d_phi(self, t):\n",
    "        return self.theta*self.phi(t)/(t*np.log(t))\n",
    "    \n",
    "    def d_phi_inverse(self, t):\n",
    "        A = -1/self.theta\n",
    "        B = t**((1/self.theta)-1)\n",
    "        C = self.phi_inverse(t)\n",
    "        return A*B*C\n",
    "    \n",
    "    def C(self, u, v):\n",
    "        return self.phi_inverse(self.phi(u)+self.phi(v))\n",
    "    \n",
    "    def c(self, u,v): #p.142 of Joe\n",
    "        u_t = -np.log(u)\n",
    "        v_t = -np.log(v)   \n",
    "        part1 = self.C(u,v)/(u*v)\n",
    "        part2 = (u_t * v_t)** (self.theta-1)/(u_t**self.theta+v_t**self.theta)**(2-1/self.theta)\n",
    "        part3 = (u_t**self.theta + v_t**self.theta)**(1/self.theta) + self.theta-1\n",
    "        return part1*part2*part3\n",
    "        \n",
    "        \n",
    "        \n",
    "        \n",
    "    def D1C(self, w, h, r_h):\n",
    "        a = self.phi(w) + self.phi(self.g(w,h,r_h))\n",
    "        A = self.d_phi_inverse(a)\n",
    "        B = self.d_phi(w)\n",
    "        return A*B\n",
    "    \n",
    "    def Gumbel_copula(self, u, v, theta): # Copula function for calibration\n",
    "        t1 = (-np.log(u))**theta\n",
    "        t2 = (-np.log(v))**theta\n",
    "        part1 = t1+t2\n",
    "        part2 = part1**(1/theta)\n",
    "        return np.exp(-part2)\n",
    "\n",
    "    def l_fn(self, theta, u, v, verbose=False):\n",
    "        if theta < 1:\n",
    "            print(\"theta is smaller then 1; consider changing x0 of fmin by initiating the class with different theta\")\n",
    "            return -5000\n",
    "        try: #turn u==1 to a slightly smaller number to aviod inf\n",
    "            u[u==1] = max(u[u!=1]) + 0.9/len(u)\n",
    "            v[v==1] = max(v[v!=1]) + 0.9/len(v)\n",
    "        except:\n",
    "            pass\n",
    "        t1 = -np.log(u)\n",
    "        t2 = -np.log(v)\n",
    "        part1 = 1/(u*v)\n",
    "        part2 = self.Gumbel_copula(u,v,theta)\n",
    "        part3 = t1**(-1+theta)\n",
    "        part4 = t2**(-1+theta)\n",
    "        part5 = -1 + theta + (t1**theta + t2**theta)**(1/theta)\n",
    "        part6 = (t1**theta + t2**theta)**(-2+(1/theta))\n",
    "        if verbose:\n",
    "            print(part1,part2,part3,part4,part5,part6)\n",
    "        return np.nanmean(np.log(part1*part2*part3*part4*part5*part6))\n",
    "    \n",
    "    def canonical_calibrate(self, u, v):\n",
    "        fn_toopt = lambda theta: -self.l_fn(theta, u, v)\n",
    "        result = scipy.optimize.fmin(fn_toopt, x0=self.theta, \n",
    "                         xtol=1e-10, \n",
    "                         maxiter=5000,\n",
    "                         maxfun=400)\n",
    "        self.theta = result[0]\n",
    "        return result[0]\n",
    "    \n",
    "    def sample(self, size):\n",
    "        samples = np.zeros((size, 2))\n",
    "        gamma   = np.cos(np.pi/(2*self.theta))**self.theta\n",
    "        # samples of stable contain NaNs; Draw more samples and discard NaNs until len(V) = size\n",
    "        con = True # continue or not\n",
    "        m   = 1\n",
    "        while con:\n",
    "            V = stable(1/self.theta, 1, 0, gamma).rvs(size*m)\n",
    "            V = V[~np.isnan(V)][:size]\n",
    "            if len(V) != size:\n",
    "                con = True\n",
    "                m  +=1\n",
    "            else:\n",
    "                con = False\n",
    "\n",
    "        G_hat = lambda t: np.exp(-t**(1/self.theta))\n",
    "\n",
    "        X1 = stats.uniform.rvs(size=size)\n",
    "        X2 = stats.uniform.rvs(size=size)\n",
    "        \n",
    "        U1 = G_hat(-np.log(X1)/V)\n",
    "        U2 = G_hat(-np.log(X2)/V)\n",
    "        \n",
    "        samples[:,0] = self.Law_RS.ppf(U1)\n",
    "        samples[:,1] = self.Law_RF.ppf(U2)\n",
    "\n",
    "        return samples\n"
   ]
  },
  {
   "cell_type": "code",
   "execution_count": 30,
   "metadata": {},
   "outputs": [
    {
     "data": {
      "text/plain": [
       "<matplotlib.collections.PathCollection at 0x7f90dc22f4d0>"
      ]
     },
     "execution_count": 30,
     "metadata": {},
     "output_type": "execute_result"
    },
    {
     "data": {
      "image/png": "[encoded data removed]",
      "text/plain": [
       "<Figure size 360x360 with 1 Axes>"
      ]
     },
     "metadata": {
      "needs_background": "light"
     },
     "output_type": "display_data"
    }
   ],
   "source": [
    "C = Gumbel(2, stats.norm, stats.norm)\n",
    "s = C.sample(10000)\n",
    "plt.figure(figsize=(5,5))\n",
    "# plt.scatter(stats.norm.cdf(s[:,0]),stats.norm.cdf(s[:,1]))\n",
    "plt.scatter(s[:,0], s[:,1])"
   ]
  },
  {
   "cell_type": "code",
   "execution_count": 31,
   "metadata": {},
   "outputs": [
    {
     "data": {
      "text/plain": [
       "<matplotlib.axes._subplots.AxesSubplot at 0x7f90dcb88190>"
      ]
     },
     "execution_count": 31,
     "metadata": {},
     "output_type": "execute_result"
    },
    {
     "data": {
      "image/png": "[encoded data removed]",
      "text/plain": [
       "<Figure size 432x288 with 1 Axes>"
      ]
     },
     "metadata": {
      "needs_background": "light"
     },
     "output_type": "display_data"
    }
   ],
   "source": [
    "h=1\n",
    "rh = s[:,0] - h*s[:,1]\n",
    "sns.distplot(rh)"
   ]
  },
  {
   "cell_type": "code",
   "execution_count": 32,
   "metadata": {},
   "outputs": [],
   "source": [
    "x_arr = np.linspace(min(rh), max(rh), 100)\n",
    "result = []\n",
    "for x in x_arr:\n",
    "    result.append(C.f_RH(h, r_h=x))"
   ]
  },
  {
   "cell_type": "code",
   "execution_count": 34,
   "metadata": {},
   "outputs": [
    {
     "data": {
      "text/plain": [
       "[<matplotlib.lines.Line2D at 0x7f90dcb88a50>]"
      ]
     },
     "execution_count": 34,
     "metadata": {},
     "output_type": "execute_result"
    },
    {
     "data": {
      "image/png": "[encoded data removed]",
      "text/plain": [
       "<Figure size 432x288 with 1 Axes>"
      ]
     },
     "metadata": {
      "needs_background": "light"
     },
     "output_type": "display_data"
    }
   ],
   "source": [
    "sns.distplot(rh)\n",
    "plt.plot(x_arr, result)"
   ]
  },
  {
   "cell_type": "code",
   "execution_count": 61,
   "metadata": {},
   "outputs": [
    {
     "name": "stdout",
     "output_type": "stream",
     "text": [
      "Optimization terminated successfully.\n",
      "         Current function value: -0.502971\n",
      "         Iterations: 102\n",
      "         Function evaluations: 197\n"
     ]
    },
    {
     "data": {
      "text/plain": [
       "array([0.79901785, 4.        ])"
      ]
     },
     "execution_count": 61,
     "metadata": {},
     "output_type": "execute_result"
    }
   ],
   "source": [
    "C = t_Copula(0.9,4,stats.norm, stats.norm)\n",
    "C.canonical_calibrate(u_arr, v_arr, 4)"
   ]
  },
  {
   "cell_type": "code",
   "execution_count": 60,
   "metadata": {},
   "outputs": [
    {
     "data": {
      "text/plain": [
       "0.5155221857154079"
      ]
     },
     "execution_count": 60,
     "metadata": {},
     "output_type": "execute_result"
    }
   ],
   "source": [
    "C.l_fn(0.776,2,u_arr, v_arr)"
   ]
  },
  {
   "cell_type": "code",
   "execution_count": 29,
   "metadata": {},
   "outputs": [
    {
     "data": {
      "text/plain": [
       "2.2621036767959595"
      ]
     },
     "execution_count": 29,
     "metadata": {},
     "output_type": "execute_result"
    }
   ],
   "source": [
    "C.theta"
   ]
  },
  {
   "cell_type": "code",
   "execution_count": 250,
   "metadata": {},
   "outputs": [],
   "source": [
    "class Plackett(Copula):\n",
    "    def __init__(self, theta, Law_RS, Law_RF):\n",
    "        self.theta  = theta    # Dependence Parameter\n",
    "        self.Law_RS = Law_RS   # Marginal Distribution of Spot\n",
    "        self.Law_RF = Law_RF   # Marginal Distribution of Future\n",
    "    \n",
    "    # from Joe's book, p. 141 (Family B2)\n",
    "    def C(self, u, v):\n",
    "        eta = self.theta - 1\n",
    "        part1 = 1/(2*eta)\n",
    "        part2 = 1+(eta*(u+v))\n",
    "        part3 = (part2**2 - 4*eta*self.theta*u*v)**0.5\n",
    "        return part1 * (part2-part3)\n",
    "        \n",
    "    def c(self, u,v):\n",
    "        eta   = self.theta - 1\n",
    "        part1 = ((1+eta*(u+v))**2 - 4*self.theta*eta*u*v)**(-3/2)\n",
    "        part2 = self.theta * (1+eta*(u+v-2*u*v))\n",
    "        return part1*part2\n",
    "    \n",
    "    def D1C_original(self, u,v):\n",
    "        eta   = self.theta - 1\n",
    "        part1 = 0.5*(eta*u+1 - (eta+2)*v)\n",
    "        part2 = ((1+ eta*(u+v))**2 - 4*self.theta*eta*u*v)**0.5\n",
    "        return 0.5-part1/part2\n",
    "    \n",
    "    def D1C(self, w, h, r_h):\n",
    "        return self.D1C_original(w, self.g(w,h,r_h))\n",
    "    \n",
    "    def get_theta(self, u,v):\n",
    "        C = self.C(u,v)\n",
    "        part1 = C*(1-u-v+C)\n",
    "        part2 = (u-C)*(v-C)\n",
    "        return part1/part2\n",
    "    \n",
    "    # From Appendix C.7. of \"Extreme in Nature\"\n",
    "    def Spearman_rho(self):\n",
    "        part1 = (self.theta+1)/(self.theta-1)\n",
    "        part2 = 2*self.theta*np.log(self.theta) / (self.theta-1)**2\n",
    "        return part1 - part2\n",
    "\n",
    "    def sample(self, size):\n",
    "        samples = np.ones((size, 2))\n",
    "        u = stats.uniform.rvs(size=size)\n",
    "        t = stats.uniform.rvs(size=size)\n",
    "        \n",
    "        a = t*(1-t)\n",
    "        b = self.theta+a*(self.theta-1)**2\n",
    "        c = 2*a*(u*self.theta**2+1-u)+self.theta*(1-2*a)\n",
    "        d = np.sqrt(self.theta*(self.theta+4*a*u*(1-u)*(1-self.theta)**2))\n",
    "        v = (c-(1-2*t)*d)/(2*b)\n",
    "        samples[:,0] = self.Law_RS.ppf(u)\n",
    "        samples[:,1] = self.Law_RF.ppf(v)\n",
    "        return samples\n",
    "        \n",
    "        \n",
    "    def canonical_calibrate(self, u, v):\n",
    "        fn_toopt = lambda theta: -self.l_fn(theta, u, v)\n",
    "        result = scipy.optimize.fmin(fn_toopt, x0=self.theta, \n",
    "                             xtol=1e-10, \n",
    "                             maxiter=5000,\n",
    "                             maxfun=400)\n",
    "        self.theta = result[0]\n",
    "        return result\n",
    "    \n",
    "    def l_fn(self, theta, u, v): # log dependency likelihood \n",
    "        eta   = theta - 1\n",
    "        part1 = ((1+eta*(u+v))**2 - 4*theta*eta*u*v)**(-3/2)\n",
    "        part2 = theta * (1+eta*(u+v-2*u*v))\n",
    "        return np.nanmean(np.log(part1*part2))\n",
    " "
   ]
  },
  {
   "cell_type": "code",
   "execution_count": 251,
   "metadata": {},
   "outputs": [],
   "source": [
    "C = Plackett(1000, stats.norm, stats.norm)"
   ]
  },
  {
   "cell_type": "code",
   "execution_count": 252,
   "metadata": {},
   "outputs": [
    {
     "name": "stdout",
     "output_type": "stream",
     "text": [
      "Optimization terminated successfully.\n",
      "         Current function value: -0.482649\n",
      "         Iterations: 49\n",
      "         Function evaluations: 104\n"
     ]
    },
    {
     "data": {
      "text/plain": [
       "array([21.73784855])"
      ]
     },
     "execution_count": 252,
     "metadata": {},
     "output_type": "execute_result"
    }
   ],
   "source": [
    "C.canonical_calibrate(u_arr, v_arr)"
   ]
  },
  {
   "cell_type": "code",
   "execution_count": 253,
   "metadata": {},
   "outputs": [],
   "source": [
    "s = C.sample(1000)"
   ]
  },
  {
   "cell_type": "code",
   "execution_count": 254,
   "metadata": {},
   "outputs": [
    {
     "data": {
      "text/plain": [
       "0.785172502706402"
      ]
     },
     "execution_count": 254,
     "metadata": {},
     "output_type": "execute_result"
    }
   ],
   "source": [
    "C.Spearman_rho()"
   ]
  },
  {
   "cell_type": "code",
   "execution_count": 255,
   "metadata": {},
   "outputs": [
    {
     "data": {
      "text/plain": [
       "SpearmanrResult(correlation=0.7337232561981398, pvalue=5.107300485721108e-110)"
      ]
     },
     "execution_count": 255,
     "metadata": {},
     "output_type": "execute_result"
    }
   ],
   "source": [
    "stats.spearmanr(data.return_brr, data.return_btc)"
   ]
  },
  {
   "cell_type": "code",
   "execution_count": 245,
   "metadata": {},
   "outputs": [
    {
     "data": {
      "text/plain": [
       "<matplotlib.collections.PathCollection at 0x7fe33193a2d0>"
      ]
     },
     "execution_count": 245,
     "metadata": {},
     "output_type": "execute_result"
    },
    {
     "data": {
      "image/png": "[encoded data removed]",
      "text/plain": [
       "<Figure size 360x360 with 1 Axes>"
      ]
     },
     "metadata": {
      "needs_background": "light"
     },
     "output_type": "display_data"
    }
   ],
   "source": [
    "plt.figure(figsize=(5,5))\n",
    "plt.scatter(s[:,0],s[:,1])"
   ]
  },
  {
   "cell_type": "code",
   "execution_count": 246,
   "metadata": {},
   "outputs": [
    {
     "data": {
      "text/plain": [
       "<matplotlib.axes._subplots.AxesSubplot at 0x7fe3316cfd10>"
      ]
     },
     "execution_count": 246,
     "metadata": {},
     "output_type": "execute_result"
    },
    {
     "data": {
      "image/png": "[encoded data removed]",
      "text/plain": [
       "<Figure size 432x288 with 1 Axes>"
      ]
     },
     "metadata": {
      "needs_background": "light"
     },
     "output_type": "display_data"
    }
   ],
   "source": [
    "h=1\n",
    "rh = s[:,0] - h*s[:,1] \n",
    "sns.distplot(rh)"
   ]
  },
  {
   "cell_type": "code",
   "execution_count": 229,
   "metadata": {},
   "outputs": [],
   "source": [
    "x_arr = np.linspace(-4,4,100)\n",
    "result=[]\n",
    "for x in x_arr:\n",
    "    result.append(C.f_RH(h,x))"
   ]
  },
  {
   "cell_type": "code",
   "execution_count": 231,
   "metadata": {},
   "outputs": [
    {
     "data": {
      "text/plain": [
       "<matplotlib.axes._subplots.AxesSubplot at 0x7fe331470990>"
      ]
     },
     "execution_count": 231,
     "metadata": {},
     "output_type": "execute_result"
    },
    {
     "data": {
      "image/png": "[encoded data removed]",
      "text/plain": [
       "<Figure size 432x288 with 1 Axes>"
      ]
     },
     "metadata": {
      "needs_background": "light"
     },
     "output_type": "display_data"
    }
   ],
   "source": [
    "plt.plot(x_arr, result)\n",
    "sns.distplot(rh)"
   ]
  },
  {
   "cell_type": "code",
   "execution_count": 261,
   "metadata": {},
   "outputs": [],
   "source": [
    "theta = 10\n",
    "def D1O_inv(u,v): #D1O's inverse\n",
    "    part0 = -1/theta\n",
    "    part1a = (1-np.exp(-theta))\n",
    "    part1b = (1/v - 1)* np.exp(-theta*u)+1\n",
    "    part1  = np.log(1- part1a/part1b)\n",
    "    return part0*part1\n",
    "    \n",
    "def sample(size):\n",
    "    u1 = stats.uniform.rvs(size=size)\n",
    "    v  = stats.uniform.rvs(size=size)\n",
    "    u2 = D1O_inv(u1,v)\n",
    "    return u1, u2 \n",
    "    \n",
    "    \n",
    "    \n",
    "    "
   ]
  },
  {
   "cell_type": "code",
   "execution_count": 265,
   "metadata": {},
   "outputs": [
    {
     "data": {
      "text/plain": [
       "<matplotlib.collections.PathCollection at 0x7fe33512e210>"
      ]
     },
     "execution_count": 265,
     "metadata": {},
     "output_type": "execute_result"
    },
    {
     "data": {
      "image/png": "[encoded data removed]",
      "text/plain": [
       "<Figure size 360x360 with 1 Axes>"
      ]
     },
     "metadata": {
      "needs_background": "light"
     },
     "output_type": "display_data"
    }
   ],
   "source": [
    "plt.figure(figsize=(5,5))\n",
    "s = sample(1000)\n",
    "plt.scatter(s[0], s[1])"
   ]
  },
  {
   "cell_type": "code",
   "execution_count": 270,
   "metadata": {},
   "outputs": [],
   "source": [
    "C = Frank(10,stats.norm, stats.norm)"
   ]
  },
  {
   "cell_type": "code",
   "execution_count": 277,
   "metadata": {},
   "outputs": [
    {
     "data": {
      "text/plain": [
       "<matplotlib.axes._subplots.AxesSubplot at 0x7fe3300db510>"
      ]
     },
     "execution_count": 277,
     "metadata": {},
     "output_type": "execute_result"
    },
    {
     "data": {
      "image/png": "[encoded data removed]",
      "text/plain": [
       "<Figure size 432x288 with 1 Axes>"
      ]
     },
     "metadata": {
      "needs_background": "light"
     },
     "output_type": "display_data"
    }
   ],
   "source": [
    "s = C.sample(30000)\n",
    "rh = s[:,0] - h*s[:,1]\n",
    "sns.distplot(rh)"
   ]
  },
  {
   "cell_type": "code",
   "execution_count": 278,
   "metadata": {},
   "outputs": [],
   "source": [
    "x_arr = np.linspace(-4,4,100)\n",
    "result=[]\n",
    "for x in x_arr:\n",
    "    result.append(C.f_RH(h,x))"
   ]
  },
  {
   "cell_type": "code",
   "execution_count": 279,
   "metadata": {},
   "outputs": [
    {
     "data": {
      "text/plain": [
       "<matplotlib.axes._subplots.AxesSubplot at 0x7fe333aa5690>"
      ]
     },
     "execution_count": 279,
     "metadata": {},
     "output_type": "execute_result"
    },
    {
     "data": {
      "image/png": "[encoded data removed]",
      "text/plain": [
       "<Figure size 432x288 with 1 Axes>"
      ]
     },
     "metadata": {
      "needs_background": "light"
     },
     "output_type": "display_data"
    }
   ],
   "source": [
    "plt.plot(x_arr, result)\n",
    "sns.distplot(rh)"
   ]
  },
  {
   "cell_type": "code",
   "execution_count": 425,
   "metadata": {},
   "outputs": [],
   "source": [
    "# Stable distribution\n",
    "size = 10000\n",
    "U    = stats.uniform.rvs(size=size)*2*np.pi-np.pi\n",
    "W    = stats.expon.rvs(size=size)\n",
    "\n",
    "alpha = 1.7\n",
    "beta  = 0\n",
    "sigma = 1\n",
    "mu    = 0\n",
    "\n",
    "zi = -beta*np.tan(np.pi*alpha/2)\n",
    "\n",
    "if alpha != 1:\n",
    "    xi = 1/alpha * np.arctan(-zi)\n",
    "else:\n",
    "    xi = np.pi/2 \n",
    "    \n",
    "if alpha != 1:\n",
    "    part1 = (1+zi**2)**(0.5/alpha)\n",
    "    part2 = np.sin(alpha*(U+xi))/(np.cos(U)**(1/alpha))\n",
    "    part3 = (np.cos(U-alpha*(U+xi))/W )**((1-alpha)/alpha)\n",
    "    X = part1*part2*part3\n",
    "else:\n",
    "    part1  = ((np.pi/2)+beta*U)*np.tan(U)\n",
    "    part2a = (np.pi/2)*W*np.cos(U)\n",
    "    part2b = np.pi/2+beta*U\n",
    "    part2  = beta*np.log(part2a/part2b)\n",
    "    X =1/xi *(part1-part2)\n",
    "\n",
    "if alpha == 1:\n",
    "    Y = sigma*X+2/np.pi*beta*sigma*np.log(sigma)+mu\n",
    "else:\n",
    "    Y = sigma*X+mu"
   ]
  },
  {
   "cell_type": "code",
   "execution_count": 426,
   "metadata": {},
   "outputs": [
    {
     "data": {
      "text/plain": [
       "<matplotlib.axes._subplots.AxesSubplot at 0x7fe31fce8c10>"
      ]
     },
     "execution_count": 426,
     "metadata": {},
     "output_type": "execute_result"
    },
    {
     "data": {
      "image/png": "[encoded data removed]",
      "text/plain": [
       "<Figure size 432x288 with 1 Axes>"
      ]
     },
     "metadata": {
      "needs_background": "light"
     },
     "output_type": "display_data"
    }
   ],
   "source": [
    "x_arr = np.linspace(-6,6,100)\n",
    "plt.plot(x_arr,stats.norm(loc=0, scale=np.sqrt(2)).pdf(x_arr))\n",
    "sns.distplot(Y)"
   ]
  },
  {
   "cell_type": "code",
   "execution_count": 442,
   "metadata": {},
   "outputs": [],
   "source": [
    "def log_phi(t, alpha, beta, mu, sigma):\n",
    "    part1 = -1*np.abs(sigma*t)**alpha\n",
    "    part3 = 1j*mu*t\n",
    "\n",
    "    if alpha != 1:\n",
    "        part2 = 1-1j*beta*np.sign(t)*np.tan(np.pi*alpha/2)\n",
    "    else:\n",
    "        part2 = 1+1j*beta*np.sign(t)*2/np.pi*np.log(np.abs(t))\n",
    "    return part1*part2+part3\n",
    "\n",
    "def pdf(x):\n",
    "    fn = lambda t: np.exp(-1j*t*x)*np.exp(log_phi(t,2,0,0,1))\n",
    "    return scipy.integrate.quad(fn,-np.inf, np.inf)[0]/(2*np.pi)"
   ]
  },
  {
   "cell_type": "code",
   "execution_count": 445,
   "metadata": {},
   "outputs": [
    {
     "data": {
      "text/plain": [
       "3.917712430559688e-12"
      ]
     },
     "execution_count": 445,
     "metadata": {},
     "output_type": "execute_result"
    }
   ],
   "source": [
    "pdf(10)"
   ]
  },
  {
   "cell_type": "code",
   "execution_count": 446,
   "metadata": {},
   "outputs": [
    {
     "data": {
      "text/plain": [
       "3.917716632754348e-12"
      ]
     },
     "execution_count": 446,
     "metadata": {},
     "output_type": "execute_result"
    }
   ],
   "source": [
    "stats.norm(scale=np.sqrt(2)).pdf(10)"
   ]
  },
  {
   "cell_type": "code",
   "execution_count": 424,
   "metadata": {},
   "outputs": [
    {
     "data": {
      "text/plain": [
       "array([ 0.40925333, -0.23888742, -0.04570466, ...,  3.69815208,\n",
       "       -0.13499089, -0.97881174])"
      ]
     },
     "execution_count": 424,
     "metadata": {},
     "output_type": "execute_result"
    }
   ],
   "source": [
    "np.tan(U[np.isnan(Y)])"
   ]
  },
  {
   "cell_type": "code",
   "execution_count": 380,
   "metadata": {},
   "outputs": [],
   "source": [
    "X = stats.uniform.rvs(size=1000)\n",
    "CA = np.tan(np.pi*(X-0.5))"
   ]
  },
  {
   "cell_type": "code",
   "execution_count": 388,
   "metadata": {
    "collapsed": true
   },
   "outputs": [
    {
     "data": {
      "text/plain": [
       "<seaborn.axisgrid.FacetGrid at 0x7fe31f433910>"
      ]
     },
     "execution_count": 388,
     "metadata": {},
     "output_type": "execute_result"
    },
    {
     "data": {
      "image/png": "[encoded data removed]",
      "text/plain": [
       "<Figure size 360x360 with 1 Axes>"
      ]
     },
     "metadata": {
      "needs_background": "light"
     },
     "output_type": "display_data"
    },
    {
     "data": {
      "image/png": "[encoded data removed]",
      "text/plain": [
       "<Figure size 360x360 with 1 Axes>"
      ]
     },
     "metadata": {
      "needs_background": "light"
     },
     "output_type": "display_data"
    }
   ],
   "source": [
    "sns.displot(Y)\n",
    "sns.displot(CA)"
   ]
  },
  {
   "cell_type": "code",
   "execution_count": 2,
   "metadata": {},
   "outputs": [],
   "source": [
    "D = stable(2,0,0,1)"
   ]
  },
  {
   "cell_type": "code",
   "execution_count": 3,
   "metadata": {},
   "outputs": [
    {
     "data": {
      "text/plain": [
       "0.0"
      ]
     },
     "execution_count": 3,
     "metadata": {},
     "output_type": "execute_result"
    }
   ],
   "source": [
    "D.pdf(0.1) - stats.norm(scale=np.sqrt(2)).pdf(0.1)"
   ]
  },
  {
   "cell_type": "code",
   "execution_count": 16,
   "metadata": {},
   "outputs": [
    {
     "data": {
      "text/plain": [
       "[<matplotlib.lines.Line2D at 0x7f9ad39e3510>]"
      ]
     },
     "execution_count": 16,
     "metadata": {},
     "output_type": "execute_result"
    },
    {
     "data": {
      "image/png": "[encoded data removed]",
      "text/plain": [
       "<Figure size 432x288 with 1 Axes>"
      ]
     },
     "metadata": {
      "needs_background": "light"
     },
     "output_type": "display_data"
    }
   ],
   "source": [
    "sns.distplot(D.rvs(100000))\n",
    "x_arr = np.linspace(-6,6,1000)\n",
    "plt.plot(x_arr, stats.norm(scale=np.sqrt(2)).pdf(x_arr))"
   ]
  },
  {
   "cell_type": "code",
   "execution_count": 15,
   "metadata": {},
   "outputs": [],
   "source": [
    "# Algo 5.48 of McNeil p.224\n",
    "size=10000\n",
    "# sigma = gamma, delta = mu\n",
    "theta = 20\n",
    "gamma = np.cos(np.pi/(2*theta))**theta\n",
    "\n",
    "# samples of stable contain NaNs; Draw more samples and discard NaNs until len(V) = size\n",
    "con = True # continue or not\n",
    "m   = 1\n",
    "while con:\n",
    "    V = stable(1/theta, 1, 0, gamma).rvs(size*m)\n",
    "    V = V[~np.isnan(V)][:size]\n",
    "    if len(V) != size:\n",
    "        con = True\n",
    "        m  +=1\n",
    "    else:\n",
    "        con = False\n",
    "        \n",
    "G_hat = lambda t: np.exp(-t**(1/theta))\n",
    "\n",
    "X1 = stats.uniform.rvs(size=size)\n",
    "X2 = stats.uniform.rvs(size=size)\n",
    "\n",
    "U1 = G_hat(-np.log(X1)/V)\n",
    "U2 = G_hat(-np.log(X2)/V)"
   ]
  },
  {
   "cell_type": "code",
   "execution_count": 9,
   "metadata": {},
   "outputs": [
    {
     "data": {
      "text/plain": [
       "<matplotlib.collections.PathCollection at 0x7f90f798d550>"
      ]
     },
     "execution_count": 9,
     "metadata": {},
     "output_type": "execute_result"
    },
    {
     "data": {
      "image/png": "[encoded data removed]",
      "text/plain": [
       "<Figure size 360x360 with 1 Axes>"
      ]
     },
     "metadata": {
      "needs_background": "light"
     },
     "output_type": "display_data"
    }
   ],
   "source": [
    "plt.figure(figsize=(5,5))\n",
    "plt.scatter(U1,U2)"
   ]
  },
  {
   "cell_type": "code",
   "execution_count": null,
   "metadata": {},
   "outputs": [],
   "source": []
  }
 ],
 "metadata": {
  "kernelspec": {
   "display_name": "Python 3",
   "language": "python",
   "name": "python3"
  },
  "language_info": {
   "codemirror_mode": {
    "name": "ipython",
    "version": 3
   },
   "file_extension": ".py",
   "mimetype": "text/x-python",
   "name": "python",
   "nbconvert_exporter": "python",
   "pygments_lexer": "ipython3",
   "version": "3.7.4"
  },
  "toc": {
   "base_numbering": 1,
   "nav_menu": {},
   "number_sections": true,
   "sideBar": true,
   "skip_h1_title": false,
   "title_cell": "Table of Contents",
   "title_sidebar": "Contents",
   "toc_cell": false,
   "toc_position": {},
   "toc_section_display": true,
   "toc_window_display": false
  }
 },
 "nbformat": 4,
 "nbformat_minor": 2
}
