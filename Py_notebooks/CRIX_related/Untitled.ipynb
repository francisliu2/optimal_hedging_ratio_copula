{
 "cells": [
  {
   "cell_type": "code",
   "execution_count": 11,
   "metadata": {},
   "outputs": [],
   "source": [
    "import pandas as pd\n",
    "import numpy as np\n",
    "\n",
    "\n",
    "# col_list = ['Date', 'index_name', 'ticker', 'weight']\n",
    "df =pd.read_csv('constituents_data-2.csv', header=None)\n",
    "\n",
    "df.columns = ['Date', 'index_name', 'ticker', 'weight']"
   ]
  },
  {
   "cell_type": "code",
   "execution_count": 13,
   "metadata": {},
   "outputs": [
    {
     "data": {
      "text/plain": [
       "array(['2020-07-01', '2020-08-01', '2020-09-01', '2020-10-01',\n",
       "       '2020-11-01', '2020-12-01', '2021-01-01', '2021-02-01'],\n",
       "      dtype=object)"
      ]
     },
     "execution_count": 13,
     "metadata": {},
     "output_type": "execute_result"
    }
   ],
   "source": [
    "np.unique(df.Date)"
   ]
  },
  {
   "cell_type": "code",
   "execution_count": 17,
   "metadata": {
    "scrolled": true
   },
   "outputs": [
    {
     "name": "stdout",
     "output_type": "stream",
     "text": [
      "['aave', 'ada', 'atom', 'bat', 'bch', 'bnb', 'bsv', 'btc', 'busd', 'cdai', 'cro', 'dai', 'dash', 'dot', 'eos', 'etc', 'eth', 'fil', 'ht', 'lend', 'leo', 'link', 'ltc', 'miota', 'mkr', 'neo', 'okb', 'ont', 'theta', 'trx', 'uma', 'usdc', 'usdt', 'vet', 'wbtc', 'xem', 'xlm', 'xmr', 'xrp', 'xtz', 'yfi', 'zec']\n"
     ]
    }
   ],
   "source": [
    "print(list(np.unique(df.ticker)))"
   ]
  }
 ],
 "metadata": {
  "kernelspec": {
   "display_name": "Python 3",
   "language": "python",
   "name": "python3"
  },
  "language_info": {
   "codemirror_mode": {
    "name": "ipython",
    "version": 3
   },
   "file_extension": ".py",
   "mimetype": "text/x-python",
   "name": "python",
   "nbconvert_exporter": "python",
   "pygments_lexer": "ipython3",
   "version": "3.7.4"
  },
  "toc": {
   "base_numbering": 1,
   "nav_menu": {},
   "number_sections": true,
   "sideBar": true,
   "skip_h1_title": false,
   "title_cell": "Table of Contents",
   "title_sidebar": "Contents",
   "toc_cell": false,
   "toc_position": {},
   "toc_section_display": true,
   "toc_window_display": false
  }
 },
 "nbformat": 4,
 "nbformat_minor": 2
}
