{
 "cells": [
  {
   "cell_type": "code",
   "execution_count": 1,
   "metadata": {},
   "outputs": [],
   "source": [
    "import os, sys\n",
    "sys.path.append('../src/')\n",
    "\n",
    "import seaborn as sns\n",
    "\n",
    "from scipy import interpolate\n",
    "from copulae1 import *\n",
    "\n",
    "import json\n",
    "with open('../src/configs/BBT_future_Tiingo_xrp_MM.json','r') as file:\n",
    "    config = json.load(file)\n",
    "config\n",
    "data_name = config['data_name']\n",
    "calibration_method  = config['calibration_method']\n",
    "OHR = pd.read_hdf('../results/'+data_name +'/'+calibration_method+'/best_h.h5')\n",
    "if not os.path.exists(\"../results/\" + data_name + \"/MLE/reports\"):\n",
    "\tprint(\"Create new folder for results\")\n",
    "\tos.mkdir(\"../results/\" + data_name + \"/MLE/reports\")\n",
    "\tos.mkdir(\"../results/\" + data_name + \"/MM/reports\")\n",
    "    \n",
    "if calibration_method == \"MLE\":\n",
    "    report_path = \"../results/\" + data_name + \"/MLE/reports/\"\n",
    "    result_path = \"../results/\" + data_name + \"/MLE/\"\n",
    "elif calibration_method == \"MM\":\n",
    "    report_path = \"../results/\" + data_name + \"/MM/reports/\"\n",
    "    result_path = \"../results/\" + data_name + \"/MM/\""
   ]
  },
  {
   "cell_type": "code",
   "execution_count": 2,
   "metadata": {},
   "outputs": [],
   "source": [
    "OHR = pd.read_csv(\"../results/%s/%s/OHR.csv\"%(data_name, calibration_method))\n",
    "cleaned_data = pd.read_csv('../data/cleaned_data/BBT_future_Tiingo_xrp.csv')"
   ]
  },
  {
   "cell_type": "code",
   "execution_count": 3,
   "metadata": {},
   "outputs": [],
   "source": [
    "norm = stats.norm(0,1)"
   ]
  },
  {
   "cell_type": "code",
   "execution_count": 4,
   "metadata": {},
   "outputs": [
    {
     "data": {
      "text/plain": [
       "6.587616138636955e-06"
      ]
     },
     "execution_count": 4,
     "metadata": {},
     "output_type": "execute_result"
    }
   ],
   "source": [
    "rs_law = stats.norm(scale = .1)\n",
    "rf_law = stats.norm(scale = .5)\n",
    "C = Gaussian({'rho':0.8}, Law_RS=rs_law, Law_RF=rf_law)\n",
    "\n",
    "C.f_RH(0.7, -1.33)"
   ]
  },
  {
   "cell_type": "code",
   "execution_count": 5,
   "metadata": {},
   "outputs": [],
   "source": [
    "f_RH_vecfn = np.vectorize(lambda x: C.f_RH(0.7, x))"
   ]
  },
  {
   "cell_type": "code",
   "execution_count": 7,
   "metadata": {},
   "outputs": [],
   "source": [
    "u_arr = np.linspace(0.01,.99,2000)\n",
    "v_arr = np.linspace(0.01,.99,2000)\n",
    "\n",
    "# C.c(u_arr,v_arr)\n",
    "c_vecfn = np.vectorize(C.c)"
   ]
  },
  {
   "cell_type": "code",
   "execution_count": 18,
   "metadata": {},
   "outputs": [],
   "source": [
    "def f(z, h):\n",
    "    u_arr = np.linspace(0.01,.99,1000)\n",
    "    helper = (rs_law.ppf(u_arr)-z)/h\n",
    "    part1 = c_vecfn(rf_law.cdf(helper), u_arr)\n",
    "    part2 = rf_law.pdf(helper)\n",
    "    return np.sum(((part1*part2)[1:]+(part1*part2)[:-1])*(.98/1000)/2)"
   ]
  },
  {
   "cell_type": "code",
   "execution_count": 28,
   "metadata": {},
   "outputs": [
    {
     "name": "stdout",
     "output_type": "stream",
     "text": [
      "2.484480148670607e-09\n",
      "5.576376682732222e-05\n",
      "0.016067393075173707\n",
      "0.19299303331637885\n",
      "0.5251060923177373\n",
      "0.5251060923177373\n",
      "0.19299303331637851\n",
      "0.016067393075173644\n",
      "5.576376682732202e-05\n",
      "2.4844801486705976e-09\n",
      "CPU times: user 5.13 s, sys: 76.5 ms, total: 5.21 s\n",
      "Wall time: 5.18 s\n"
     ]
    }
   ],
   "source": [
    "%%time\n",
    "for i in range(len(z_arr)):\n",
    "    print(f(z_arr[i], 0.1))"
   ]
  },
  {
   "cell_type": "code",
   "execution_count": 19,
   "metadata": {},
   "outputs": [],
   "source": [
    "f_vecfn = np.vectorize(f)"
   ]
  },
  {
   "cell_type": "code",
   "execution_count": 30,
   "metadata": {},
   "outputs": [
    {
     "name": "stdout",
     "output_type": "stream",
     "text": [
      "CPU times: user 5.17 s, sys: 26.1 ms, total: 5.19 s\n",
      "Wall time: 5.2 s\n"
     ]
    },
    {
     "data": {
      "text/plain": [
       "array([2.48448015e-09, 5.57637668e-05, 1.60673931e-02, 1.92993033e-01,\n",
       "       5.25106092e-01, 5.25106092e-01, 1.92993033e-01, 1.60673931e-02,\n",
       "       5.57637668e-05, 2.48448015e-09])"
      ]
     },
     "execution_count": 30,
     "metadata": {},
     "output_type": "execute_result"
    }
   ],
   "source": [
    "%%time\n",
    "z_arr = np.linspace(-0.3,0.3,10)\n",
    "f_vecfn(z_arr, 0.1)"
   ]
  },
  {
   "cell_type": "code",
   "execution_count": 35,
   "metadata": {},
   "outputs": [
    {
     "name": "stdout",
     "output_type": "stream",
     "text": [
      "CPU times: user 981 ms, sys: 5.68 ms, total: 986 ms\n",
      "Wall time: 987 ms\n"
     ]
    },
    {
     "data": {
      "text/plain": [
       "array([14.73345392, 14.19652741, 13.70315252, ...,  1.93778948,\n",
       "        2.00362565,  2.07533105])"
      ]
     },
     "execution_count": 35,
     "metadata": {},
     "output_type": "execute_result"
    }
   ],
   "source": [
    "%%time\n",
    "c_vecfn(u_arr, v_arr)*rf_law.pdf(v_arr)"
   ]
  },
  {
   "cell_type": "code",
   "execution_count": 28,
   "metadata": {},
   "outputs": [
    {
     "name": "stdout",
     "output_type": "stream",
     "text": [
      "18.469339586606722\n",
      "4.792893522738821\n",
      "3.1945087657542346\n",
      "2.5433367845444934\n",
      "2.1912926374127415\n",
      "1.9762980071641867\n",
      "1.8379620842612758\n",
      "1.7488391882661218\n",
      "1.695121421399795\n",
      "1.6697693726855682\n",
      "1.6697693726855682\n",
      "1.695121421399795\n",
      "1.7488391882661223\n",
      "1.837962084261275\n",
      "1.9762980071641867\n",
      "2.1912926374127415\n",
      "2.5433367845444934\n",
      "3.194508765754232\n",
      "4.792893522738818\n",
      "18.469339586606722\n",
      "CPU times: user 20.1 ms, sys: 4.69 ms, total: 24.8 ms\n",
      "Wall time: 22.2 ms\n"
     ]
    }
   ],
   "source": [
    "%%time\n",
    "for i in range(len(u_arr)):\n",
    "    print(C.c(u_arr[i], v_arr[i]))"
   ]
  },
  {
   "cell_type": "code",
   "execution_count": 10,
   "metadata": {
    "scrolled": true
   },
   "outputs": [
    {
     "name": "stdout",
     "output_type": "stream",
     "text": [
      "0\n",
      "1\n",
      "2\n",
      "3\n",
      "4\n",
      "5\n",
      "6\n",
      "7\n",
      "8\n",
      "9\n",
      "10\n",
      "11\n",
      "12\n",
      "13\n",
      "14\n",
      "15\n",
      "16\n",
      "17\n",
      "18\n",
      "19\n",
      "20\n",
      "21\n",
      "22\n",
      "23\n",
      "24\n",
      "25\n",
      "26\n",
      "27\n",
      "28\n",
      "29\n",
      "30\n",
      "31\n",
      "32\n",
      "33\n",
      "34\n",
      "35\n",
      "36\n",
      "37\n",
      "38\n",
      "39\n",
      "40\n",
      "41\n",
      "42\n",
      "43\n",
      "44\n",
      "45\n",
      "46\n",
      "47\n",
      "48\n",
      "49\n",
      "50\n",
      "51\n",
      "52\n",
      "53\n",
      "54\n",
      "55\n",
      "56\n",
      "57\n",
      "58\n",
      "59\n",
      "60\n",
      "61\n",
      "62\n",
      "63\n",
      "64\n",
      "65\n",
      "66\n",
      "67\n",
      "68\n",
      "69\n",
      "70\n",
      "71\n",
      "72\n",
      "73\n",
      "74\n",
      "75\n",
      "76\n",
      "77\n",
      "78\n",
      "79\n",
      "80\n",
      "81\n",
      "82\n",
      "83\n",
      "84\n",
      "85\n",
      "86\n",
      "87\n",
      "88\n",
      "89\n",
      "90\n",
      "91\n",
      "92\n",
      "93\n",
      "94\n",
      "95\n",
      "96\n",
      "97\n",
      "98\n",
      "99\n"
     ]
    }
   ],
   "source": [
    "rh_arr = np.linspace(-.1,.1,100)\n",
    "f_arr = []\n",
    "for i, rh in enumerate(rh_arr):\n",
    "    print(i)\n",
    "    f_arr.append(C.f_RH(.9, rh))"
   ]
  },
  {
   "cell_type": "code",
   "execution_count": 11,
   "metadata": {},
   "outputs": [
    {
     "data": {
      "text/plain": [
       "[<matplotlib.lines.Line2D at 0x7fd8c7869c50>]"
      ]
     },
     "execution_count": 11,
     "metadata": {},
     "output_type": "execute_result"
    },
    {
     "data": {
      "image/png": "[encoded data removed]",
      "text/plain": [
       "<Figure size 432x288 with 1 Axes>"
      ]
     },
     "metadata": {
      "needs_background": "light"
     },
     "output_type": "display_data"
    }
   ],
   "source": [
    "plt.plot(rh_arr, f_arr)"
   ]
  },
  {
   "cell_type": "code",
   "execution_count": 6,
   "metadata": {},
   "outputs": [
    {
     "name": "stdout",
     "output_type": "stream",
     "text": [
      "1025 1025\n"
     ]
    },
    {
     "ename": "NameError",
     "evalue": "name 'MN' is not defined",
     "output_type": "error",
     "traceback": [
      "\u001b[0;31m---------------------------------------------------------------------------\u001b[0m",
      "\u001b[0;31mNameError\u001b[0m                                 Traceback (most recent call last)",
      "\u001b[0;32m<timed exec>\u001b[0m in \u001b[0;36m<module>\u001b[0;34m\u001b[0m\n",
      "\u001b[0;31mNameError\u001b[0m: name 'MN' is not defined"
     ]
    }
   ],
   "source": [
    "%%time\n",
    "h = 1\n",
    "\n",
    "# M = 1600\n",
    "# N = 1600 # n points for integration\n",
    "\n",
    "M = 1+2**10\n",
    "N = 1+2**10\n",
    "print(M, N)\n",
    "\n",
    "u = np.linspace(0.000001,0.999999,N)\n",
    "u_mat = np.repeat([u], M, axis=0)\n",
    "\n",
    "y_left  = -0.4\n",
    "y_right = .4\n",
    "y_range = y_right - y_left\n",
    "\n",
    "y = np.linspace(y_left,y_right,M)\n",
    "y_mat = np.repeat(y.reshape((-1,1)), N, axis=1)\n",
    "\n",
    "arg1 = norm.ppf(u_mat).reshape(-1)\n",
    "# arg2 = norm.ppf(rf_law.cdf((rs_law.ppf(u) - y).reshape(-1))/h)\n",
    "\n",
    "_h = (rs_law.ppf(u_mat) - y_mat)/h\n",
    "arg2 = rf_law.cdf(_h) \n",
    "arg2[arg2 <= 0.000001] = 0.000001\n",
    "arg2[arg2 >= 0.999999] = 0.999999\n",
    "arg2 = norm.ppf(arg2).reshape(-1)\n",
    "\n",
    "arg = np.stack((arg1, arg2), axis=-1)\n",
    "\n",
    "part1 = (MN.pdf(arg)/(norm.pdf(arg1)*norm.pdf(arg2))).reshape(M,N) # copula density\n",
    "part2 = rf_law.pdf(_h)\n",
    "\n",
    "_int = (part1*part2)\n",
    "# print(_int.shape)\n",
    "\n",
    "# pdf = (_int[:,1:]+_int[:, :-1])*(1/N)/2\n",
    "# pdf = np.sum(pdf, axis=1)/h\n",
    "\n",
    "pdf = integrate.simps(_int, u, axis=1)/np.abs(h)\n",
    "\n",
    "pdf_fn = interpolate.interp1d(y,pdf,kind='cubic', assume_sorted=True, fill_value=\"extrapolate\")\n",
    "cdf = np.cumsum(pdf)/np.sum(pdf)\n",
    "cdf_fn = interpolate.interp1d(y,cdf,kind='cubic', fill_value=\"extrapolate\")\n",
    "\n",
    "# duplicate_id = (cdf[1:]-cdf[:-1])!=0\n",
    "# ppf_fn = interpolate.interp1d(cdf[1:][duplicate_id], y[1:][duplicate_id], kind='cubic', fill_value='extrapolate')\n",
    "\n",
    "ppf_fn = interpolate.interp1d(cdf, y, kind='cubic', fill_value='extrapolate')\n",
    "\n",
    "\n",
    "VaR5 = -ppf_fn(0.05)\n",
    "q_arr = np.linspace(0,0.05, 10000)\n",
    "ES5 = -integrate.simps(ppf_fn(q_arr), q_arr)\n",
    "\n",
    "\n",
    "print(integrate.simps(pdf,y), cdf[-1])"
   ]
  },
  {
   "cell_type": "code",
   "execution_count": 7,
   "metadata": {},
   "outputs": [
    {
     "ename": "NameError",
     "evalue": "name 'ES5' is not defined",
     "output_type": "error",
     "traceback": [
      "\u001b[0;31m---------------------------------------------------------------------------\u001b[0m",
      "\u001b[0;31mNameError\u001b[0m                                 Traceback (most recent call last)",
      "\u001b[0;32m<ipython-input-7-2480febfedd7>\u001b[0m in \u001b[0;36m<module>\u001b[0;34m\u001b[0m\n\u001b[0;32m----> 1\u001b[0;31m \u001b[0mES5\u001b[0m\u001b[0;34m\u001b[0m\u001b[0;34m\u001b[0m\u001b[0m\n\u001b[0m",
      "\u001b[0;31mNameError\u001b[0m: name 'ES5' is not defined"
     ]
    }
   ],
   "source": [
    "ES5"
   ]
  },
  {
   "cell_type": "code",
   "execution_count": 8,
   "metadata": {},
   "outputs": [
    {
     "ename": "NameError",
     "evalue": "name 'VaR5' is not defined",
     "output_type": "error",
     "traceback": [
      "\u001b[0;31m---------------------------------------------------------------------------\u001b[0m",
      "\u001b[0;31mNameError\u001b[0m                                 Traceback (most recent call last)",
      "\u001b[0;32m<ipython-input-8-e789d7da6e65>\u001b[0m in \u001b[0;36m<module>\u001b[0;34m\u001b[0m\n\u001b[0;32m----> 1\u001b[0;31m \u001b[0mVaR5\u001b[0m\u001b[0;34m\u001b[0m\u001b[0;34m\u001b[0m\u001b[0m\n\u001b[0m",
      "\u001b[0;31mNameError\u001b[0m: name 'VaR5' is not defined"
     ]
    }
   ],
   "source": [
    "VaR5"
   ]
  },
  {
   "cell_type": "code",
   "execution_count": 9,
   "metadata": {},
   "outputs": [
    {
     "ename": "NameError",
     "evalue": "name 'pdf' is not defined",
     "output_type": "error",
     "traceback": [
      "\u001b[0;31m---------------------------------------------------------------------------\u001b[0m",
      "\u001b[0;31mNameError\u001b[0m                                 Traceback (most recent call last)",
      "\u001b[0;32m<ipython-input-9-c3883b3c6466>\u001b[0m in \u001b[0;36m<module>\u001b[0;34m\u001b[0m\n\u001b[0;32m----> 1\u001b[0;31m \u001b[0mplt\u001b[0m\u001b[0;34m.\u001b[0m\u001b[0mplot\u001b[0m\u001b[0;34m(\u001b[0m\u001b[0my\u001b[0m\u001b[0;34m,\u001b[0m \u001b[0mpdf\u001b[0m\u001b[0;34m)\u001b[0m\u001b[0;34m\u001b[0m\u001b[0;34m\u001b[0m\u001b[0m\n\u001b[0m",
      "\u001b[0;31mNameError\u001b[0m: name 'pdf' is not defined"
     ]
    }
   ],
   "source": [
    "plt.plot(y, pdf)"
   ]
  },
  {
   "cell_type": "code",
   "execution_count": 10,
   "metadata": {},
   "outputs": [
    {
     "ename": "NameError",
     "evalue": "name 'cdf' is not defined",
     "output_type": "error",
     "traceback": [
      "\u001b[0;31m---------------------------------------------------------------------------\u001b[0m",
      "\u001b[0;31mNameError\u001b[0m                                 Traceback (most recent call last)",
      "\u001b[0;32m<ipython-input-10-974a397a439d>\u001b[0m in \u001b[0;36m<module>\u001b[0;34m\u001b[0m\n\u001b[0;32m----> 1\u001b[0;31m \u001b[0mplt\u001b[0m\u001b[0;34m.\u001b[0m\u001b[0mplot\u001b[0m\u001b[0;34m(\u001b[0m\u001b[0my\u001b[0m\u001b[0;34m,\u001b[0m \u001b[0mcdf\u001b[0m\u001b[0;34m)\u001b[0m\u001b[0;34m\u001b[0m\u001b[0;34m\u001b[0m\u001b[0m\n\u001b[0m",
      "\u001b[0;31mNameError\u001b[0m: name 'cdf' is not defined"
     ]
    }
   ],
   "source": [
    "plt.plot(y, cdf)"
   ]
  },
  {
   "cell_type": "code",
   "execution_count": 11,
   "metadata": {},
   "outputs": [
    {
     "ename": "NameError",
     "evalue": "name 'ppf_fn' is not defined",
     "output_type": "error",
     "traceback": [
      "\u001b[0;31m---------------------------------------------------------------------------\u001b[0m",
      "\u001b[0;31mNameError\u001b[0m                                 Traceback (most recent call last)",
      "\u001b[0;32m<ipython-input-11-679987758c43>\u001b[0m in \u001b[0;36m<module>\u001b[0;34m\u001b[0m\n\u001b[1;32m      1\u001b[0m \u001b[0mq_arr\u001b[0m \u001b[0;34m=\u001b[0m \u001b[0mnp\u001b[0m\u001b[0;34m.\u001b[0m\u001b[0mlinspace\u001b[0m\u001b[0;34m(\u001b[0m\u001b[0;36m0\u001b[0m\u001b[0;34m,\u001b[0m\u001b[0;36m1\u001b[0m\u001b[0;34m,\u001b[0m \u001b[0;36m10000\u001b[0m\u001b[0;34m)\u001b[0m\u001b[0;34m\u001b[0m\u001b[0;34m\u001b[0m\u001b[0m\n\u001b[0;32m----> 2\u001b[0;31m \u001b[0mplt\u001b[0m\u001b[0;34m.\u001b[0m\u001b[0mplot\u001b[0m\u001b[0;34m(\u001b[0m\u001b[0mq_arr\u001b[0m\u001b[0;34m,\u001b[0m\u001b[0mppf_fn\u001b[0m\u001b[0;34m(\u001b[0m\u001b[0mq_arr\u001b[0m\u001b[0;34m)\u001b[0m\u001b[0;34m)\u001b[0m\u001b[0;34m\u001b[0m\u001b[0;34m\u001b[0m\u001b[0m\n\u001b[0m",
      "\u001b[0;31mNameError\u001b[0m: name 'ppf_fn' is not defined"
     ]
    }
   ],
   "source": [
    "\n",
    "q_arr = np.linspace(0,1, 10000)\n",
    "plt.plot(q_arr,ppf_fn(q_arr))"
   ]
  },
  {
   "cell_type": "code",
   "execution_count": 12,
   "metadata": {},
   "outputs": [
    {
     "ename": "NameError",
     "evalue": "name 'pdf' is not defined",
     "output_type": "error",
     "traceback": [
      "\u001b[0;31m---------------------------------------------------------------------------\u001b[0m",
      "\u001b[0;31mNameError\u001b[0m                                 Traceback (most recent call last)",
      "\u001b[0;32m<ipython-input-12-3ba5d6ef1539>\u001b[0m in \u001b[0;36m<module>\u001b[0;34m\u001b[0m\n\u001b[1;32m      2\u001b[0m \u001b[0;34m\u001b[0m\u001b[0m\n\u001b[1;32m      3\u001b[0m \u001b[0mplt\u001b[0m\u001b[0;34m.\u001b[0m\u001b[0mfigure\u001b[0m\u001b[0;34m(\u001b[0m\u001b[0mfigsize\u001b[0m\u001b[0;34m=\u001b[0m\u001b[0;34m(\u001b[0m\u001b[0;36m16\u001b[0m\u001b[0;34m,\u001b[0m\u001b[0;36m9\u001b[0m\u001b[0;34m)\u001b[0m\u001b[0;34m)\u001b[0m\u001b[0;34m\u001b[0m\u001b[0;34m\u001b[0m\u001b[0m\n\u001b[0;32m----> 4\u001b[0;31m \u001b[0mplt\u001b[0m\u001b[0;34m.\u001b[0m\u001b[0mplot\u001b[0m\u001b[0;34m(\u001b[0m\u001b[0my\u001b[0m\u001b[0;34m,\u001b[0m \u001b[0mpdf\u001b[0m\u001b[0;34m)\u001b[0m\u001b[0;34m\u001b[0m\u001b[0;34m\u001b[0m\u001b[0m\n\u001b[0m\u001b[1;32m      5\u001b[0m \u001b[0;34m\u001b[0m\u001b[0m\n\u001b[1;32m      6\u001b[0m \u001b[0mplt\u001b[0m\u001b[0;34m.\u001b[0m\u001b[0mxlim\u001b[0m\u001b[0;34m(\u001b[0m\u001b[0;34m(\u001b[0m\u001b[0;34m-\u001b[0m\u001b[0;36m0.4\u001b[0m\u001b[0;34m,\u001b[0m\u001b[0;34m-\u001b[0m\u001b[0;36m0\u001b[0m\u001b[0;34m)\u001b[0m\u001b[0;34m)\u001b[0m\u001b[0;34m\u001b[0m\u001b[0;34m\u001b[0m\u001b[0m\n",
      "\u001b[0;31mNameError\u001b[0m: name 'pdf' is not defined"
     ]
    },
    {
     "data": {
      "text/plain": [
       "<Figure size 1152x648 with 0 Axes>"
      ]
     },
     "metadata": {},
     "output_type": "display_data"
    }
   ],
   "source": [
    "# plt.plot(y, pdf_fn(y))\n",
    "\n",
    "plt.figure(figsize=(16,9))\n",
    "plt.plot(y, pdf)\n",
    "\n",
    "plt.xlim((-0.4,-0))\n",
    "# x_arr = np.linspace(-0.4,-0.25, 10000)\n",
    "\n",
    "# plt.plot(x_arr, pdf_fn(x_arr))\n",
    "\n",
    "plt.scatter(-0.33,C.f_RH(h, -0.33))\n",
    "plt.scatter(-0.34,C.f_RH(h, -0.34))\n",
    "plt.scatter(-0.26,C.f_RH(h, -0.26))\n",
    "plt.scatter(-0.15,C.f_RH(h, -0.15))\n",
    "\n",
    "plt.scatter(0,C.f_RH(0.7, 0))\n",
    "\n",
    "# plt.ylim((0,))"
   ]
  },
  {
   "cell_type": "code",
   "execution_count": 13,
   "metadata": {},
   "outputs": [],
   "source": [
    "from scipy.stats import multivariate_normal\n",
    "from scipy import integrate\n",
    "rho = 0.8\n",
    "\n",
    "R = np.array([[1.0, rho], [rho, 1]])\n",
    "MN = multivariate_normal([0, 0], R)\n"
   ]
  },
  {
   "cell_type": "code",
   "execution_count": 14,
   "metadata": {},
   "outputs": [
    {
     "ename": "NameError",
     "evalue": "name 'pdf' is not defined",
     "output_type": "error",
     "traceback": [
      "\u001b[0;31m---------------------------------------------------------------------------\u001b[0m",
      "\u001b[0;31mNameError\u001b[0m                                 Traceback (most recent call last)",
      "\u001b[0;32m<ipython-input-14-f83d88f88989>\u001b[0m in \u001b[0;36m<module>\u001b[0;34m\u001b[0m\n\u001b[1;32m      1\u001b[0m \u001b[0;31m# np.sum((pdf[1:]+ pdf[:-1])*(y_range/M)/2)\u001b[0m\u001b[0;34m\u001b[0m\u001b[0;34m\u001b[0m\u001b[0;34m\u001b[0m\u001b[0m\n\u001b[0;32m----> 2\u001b[0;31m \u001b[0mintegrate\u001b[0m\u001b[0;34m.\u001b[0m\u001b[0msimps\u001b[0m\u001b[0;34m(\u001b[0m\u001b[0mpdf\u001b[0m\u001b[0;34m,\u001b[0m\u001b[0my\u001b[0m\u001b[0;34m)\u001b[0m\u001b[0;34m\u001b[0m\u001b[0;34m\u001b[0m\u001b[0m\n\u001b[0m",
      "\u001b[0;31mNameError\u001b[0m: name 'pdf' is not defined"
     ]
    }
   ],
   "source": [
    "# np.sum((pdf[1:]+ pdf[:-1])*(y_range/M)/2)\n",
    "integrate.simps(pdf,y)"
   ]
  },
  {
   "cell_type": "code",
   "execution_count": 15,
   "metadata": {},
   "outputs": [
    {
     "ename": "NameError",
     "evalue": "name 'pdf' is not defined",
     "output_type": "error",
     "traceback": [
      "\u001b[0;31m---------------------------------------------------------------------------\u001b[0m",
      "\u001b[0;31mNameError\u001b[0m                                 Traceback (most recent call last)",
      "\u001b[0;32m<ipython-input-15-ed6708451907>\u001b[0m in \u001b[0;36m<module>\u001b[0;34m\u001b[0m\n\u001b[1;32m      1\u001b[0m \u001b[0malpha\u001b[0m \u001b[0;34m=\u001b[0m \u001b[0mint\u001b[0m\u001b[0;34m(\u001b[0m\u001b[0mnp\u001b[0m\u001b[0;34m.\u001b[0m\u001b[0mfloor\u001b[0m\u001b[0;34m(\u001b[0m\u001b[0;36m0.05\u001b[0m\u001b[0;34m*\u001b[0m\u001b[0mlen\u001b[0m\u001b[0;34m(\u001b[0m\u001b[0my\u001b[0m\u001b[0;34m)\u001b[0m\u001b[0;34m)\u001b[0m\u001b[0;34m)\u001b[0m\u001b[0;34m\u001b[0m\u001b[0;34m\u001b[0m\u001b[0m\n\u001b[0;32m----> 2\u001b[0;31m \u001b[0mintegrate\u001b[0m\u001b[0;34m.\u001b[0m\u001b[0msimps\u001b[0m\u001b[0;34m(\u001b[0m\u001b[0mpdf\u001b[0m\u001b[0;34m,\u001b[0m\u001b[0my\u001b[0m\u001b[0;34m)\u001b[0m\u001b[0;34m\u001b[0m\u001b[0;34m\u001b[0m\u001b[0m\n\u001b[0m",
      "\u001b[0;31mNameError\u001b[0m: name 'pdf' is not defined"
     ]
    }
   ],
   "source": [
    "alpha = int(np.floor(0.05*len(y)))\n",
    "integrate.simps(pdf,y)"
   ]
  },
  {
   "cell_type": "code",
   "execution_count": 16,
   "metadata": {},
   "outputs": [
    {
     "ename": "NameError",
     "evalue": "name 'cdf' is not defined",
     "output_type": "error",
     "traceback": [
      "\u001b[0;31m---------------------------------------------------------------------------\u001b[0m",
      "\u001b[0;31mNameError\u001b[0m                                 Traceback (most recent call last)",
      "\u001b[0;32m<ipython-input-16-8103e5aa54ce>\u001b[0m in \u001b[0;36m<module>\u001b[0;34m\u001b[0m\n\u001b[0;32m----> 1\u001b[0;31m \u001b[0mcdf\u001b[0m\u001b[0;34m\u001b[0m\u001b[0;34m\u001b[0m\u001b[0m\n\u001b[0m",
      "\u001b[0;31mNameError\u001b[0m: name 'cdf' is not defined"
     ]
    }
   ],
   "source": [
    "cdf"
   ]
  },
  {
   "cell_type": "code",
   "execution_count": 17,
   "metadata": {},
   "outputs": [],
   "source": [
    "MN_rvs = MN.rvs(10000)\n",
    "\n",
    "u1 = norm.cdf(MN_rvs[:,0])\n",
    "u2 = norm.cdf(MN_rvs[:,1])\n",
    "\n",
    "rs = rs_law.ppf(u1)\n",
    "rf = rf_law.ppf(u2)"
   ]
  },
  {
   "cell_type": "code",
   "execution_count": 18,
   "metadata": {},
   "outputs": [
    {
     "data": {
      "text/plain": [
       "<matplotlib.collections.PathCollection at 0x7f8a5c225a90>"
      ]
     },
     "execution_count": 18,
     "metadata": {},
     "output_type": "execute_result"
    },
    {
     "data": {
      "image/png": "[encoded data removed]",
      "text/plain": [
       "<Figure size 360x360 with 1 Axes>"
      ]
     },
     "metadata": {
      "needs_background": "light"
     },
     "output_type": "display_data"
    }
   ],
   "source": [
    "plt.figure(figsize=(5,5))\n",
    "# plt.scatter(u1, u2)\n",
    "plt.scatter(rs, rf)"
   ]
  },
  {
   "cell_type": "code",
   "execution_count": 19,
   "metadata": {},
   "outputs": [
    {
     "name": "stderr",
     "output_type": "stream",
     "text": [
      "/Users/francis/opt/anaconda3/lib/python3.7/site-packages/seaborn/distributions.py:2551: FutureWarning: `distplot` is a deprecated function and will be removed in a future version. Please adapt your code to use either `displot` (a figure-level function with similar flexibility) or `histplot` (an axes-level function for histograms).\n",
      "  warnings.warn(msg, FutureWarning)\n",
      "/Users/francis/opt/anaconda3/lib/python3.7/site-packages/matplotlib/cbook/__init__.py:1402: FutureWarning: Support for multi-dimensional indexing (e.g. `obj[:, None]`) is deprecated and will be removed in a future version.  Convert to a numpy array before indexing instead.\n",
      "  x[:, None]\n",
      "/Users/francis/opt/anaconda3/lib/python3.7/site-packages/matplotlib/axes/_base.py:276: FutureWarning: Support for multi-dimensional indexing (e.g. `obj[:, None]`) is deprecated and will be removed in a future version.  Convert to a numpy array before indexing instead.\n",
      "  x = x[:, np.newaxis]\n",
      "/Users/francis/opt/anaconda3/lib/python3.7/site-packages/matplotlib/axes/_base.py:278: FutureWarning: Support for multi-dimensional indexing (e.g. `obj[:, None]`) is deprecated and will be removed in a future version.  Convert to a numpy array before indexing instead.\n",
      "  y = y[:, np.newaxis]\n"
     ]
    },
    {
     "ename": "NameError",
     "evalue": "name 'pdf_fn' is not defined",
     "output_type": "error",
     "traceback": [
      "\u001b[0;31m---------------------------------------------------------------------------\u001b[0m",
      "\u001b[0;31mNameError\u001b[0m                                 Traceback (most recent call last)",
      "\u001b[0;32m<ipython-input-19-a86909bed87f>\u001b[0m in \u001b[0;36m<module>\u001b[0;34m\u001b[0m\n\u001b[1;32m      2\u001b[0m \u001b[0msns\u001b[0m\u001b[0;34m.\u001b[0m\u001b[0mdistplot\u001b[0m\u001b[0;34m(\u001b[0m\u001b[0mrh\u001b[0m\u001b[0;34m)\u001b[0m\u001b[0;34m\u001b[0m\u001b[0;34m\u001b[0m\u001b[0m\n\u001b[1;32m      3\u001b[0m \u001b[0;31m# plt.plot(y,pdf)\u001b[0m\u001b[0;34m\u001b[0m\u001b[0;34m\u001b[0m\u001b[0;34m\u001b[0m\u001b[0m\n\u001b[0;32m----> 4\u001b[0;31m \u001b[0mplt\u001b[0m\u001b[0;34m.\u001b[0m\u001b[0mplot\u001b[0m\u001b[0;34m(\u001b[0m\u001b[0my\u001b[0m\u001b[0;34m,\u001b[0m\u001b[0mpdf_fn\u001b[0m\u001b[0;34m(\u001b[0m\u001b[0my\u001b[0m\u001b[0;34m)\u001b[0m\u001b[0;34m)\u001b[0m\u001b[0;34m\u001b[0m\u001b[0;34m\u001b[0m\u001b[0m\n\u001b[0m\u001b[1;32m      5\u001b[0m \u001b[0;34m\u001b[0m\u001b[0m\n\u001b[1;32m      6\u001b[0m \u001b[0mplt\u001b[0m\u001b[0;34m.\u001b[0m\u001b[0mxlim\u001b[0m\u001b[0;34m(\u001b[0m\u001b[0;34m(\u001b[0m\u001b[0;36m0.1\u001b[0m\u001b[0;34m,\u001b[0m\u001b[0;36m0.3\u001b[0m\u001b[0;34m)\u001b[0m\u001b[0;34m)\u001b[0m\u001b[0;34m\u001b[0m\u001b[0;34m\u001b[0m\u001b[0m\n",
      "\u001b[0;31mNameError\u001b[0m: name 'pdf_fn' is not defined"
     ]
    },
    {
     "data": {
      "image/png": "[encoded data removed]",
      "text/plain": [
       "<Figure size 432x288 with 1 Axes>"
      ]
     },
     "metadata": {
      "needs_background": "light"
     },
     "output_type": "display_data"
    }
   ],
   "source": [
    "rh = rs-h*rf\n",
    "sns.distplot(rh)\n",
    "# plt.plot(y,pdf)\n",
    "plt.plot(y,pdf_fn(y))\n",
    "\n",
    "plt.xlim((0.1,0.3))\n",
    "plt.ylim((0,0.1))"
   ]
  },
  {
   "cell_type": "code",
   "execution_count": 20,
   "metadata": {},
   "outputs": [
    {
     "ename": "NameError",
     "evalue": "name 'cdf' is not defined",
     "output_type": "error",
     "traceback": [
      "\u001b[0;31m---------------------------------------------------------------------------\u001b[0m",
      "\u001b[0;31mNameError\u001b[0m                                 Traceback (most recent call last)",
      "\u001b[0;32m<ipython-input-20-38ff1310ac46>\u001b[0m in \u001b[0;36m<module>\u001b[0;34m\u001b[0m\n\u001b[1;32m      2\u001b[0m \u001b[0;34m\u001b[0m\u001b[0m\n\u001b[1;32m      3\u001b[0m \u001b[0mplt\u001b[0m\u001b[0;34m.\u001b[0m\u001b[0mplot\u001b[0m\u001b[0;34m(\u001b[0m\u001b[0my\u001b[0m\u001b[0;34m,\u001b[0m \u001b[0mECDF\u001b[0m\u001b[0;34m(\u001b[0m\u001b[0mrh\u001b[0m\u001b[0;34m)\u001b[0m\u001b[0;34m(\u001b[0m\u001b[0my\u001b[0m\u001b[0;34m)\u001b[0m\u001b[0;34m)\u001b[0m\u001b[0;34m\u001b[0m\u001b[0;34m\u001b[0m\u001b[0m\n\u001b[0;32m----> 4\u001b[0;31m \u001b[0mplt\u001b[0m\u001b[0;34m.\u001b[0m\u001b[0mplot\u001b[0m\u001b[0;34m(\u001b[0m\u001b[0my\u001b[0m\u001b[0;34m,\u001b[0m \u001b[0mcdf\u001b[0m\u001b[0;34m)\u001b[0m\u001b[0;34m\u001b[0m\u001b[0;34m\u001b[0m\u001b[0m\n\u001b[0m",
      "\u001b[0;31mNameError\u001b[0m: name 'cdf' is not defined"
     ]
    },
    {
     "data": {
      "image/png": "[encoded data removed]",
      "text/plain": [
       "<Figure size 432x288 with 1 Axes>"
      ]
     },
     "metadata": {
      "needs_background": "light"
     },
     "output_type": "display_data"
    }
   ],
   "source": [
    "from statsmodels.distributions.empirical_distribution import ECDF\n",
    "\n",
    "plt.plot(y, ECDF(rh)(y))\n",
    "plt.plot(y, cdf)"
   ]
  },
  {
   "cell_type": "code",
   "execution_count": 45,
   "metadata": {},
   "outputs": [],
   "source": [
    "file =  pd.read_csv('../processed_data/BBT_future_CRIX/train/0.csv')"
   ]
  },
  {
   "cell_type": "code",
   "execution_count": 47,
   "metadata": {},
   "outputs": [
    {
     "data": {
      "text/html": [
       "<div>\n",
       "<style scoped>\n",
       "    .dataframe tbody tr th:only-of-type {\n",
       "        vertical-align: middle;\n",
       "    }\n",
       "\n",
       "    .dataframe tbody tr th {\n",
       "        vertical-align: top;\n",
       "    }\n",
       "\n",
       "    .dataframe thead th {\n",
       "        text-align: right;\n",
       "    }\n",
       "</style>\n",
       "<table border=\"1\" class=\"dataframe\">\n",
       "  <thead>\n",
       "    <tr style=\"text-align: right;\">\n",
       "      <th></th>\n",
       "      <th>Unnamed: 0</th>\n",
       "      <th>Date</th>\n",
       "      <th>PX_LAST</th>\n",
       "      <th>contract_name</th>\n",
       "      <th>CRIX Price</th>\n",
       "      <th>log return future</th>\n",
       "      <th>log return CRIX</th>\n",
       "    </tr>\n",
       "  </thead>\n",
       "  <tbody>\n",
       "    <tr>\n",
       "      <th>0</th>\n",
       "      <td>5</td>\n",
       "      <td>2021-05-20 20:00:00+00:00</td>\n",
       "      <td>40350.0</td>\n",
       "      <td>BTCM1 Curncy</td>\n",
       "      <td>4387.153184</td>\n",
       "      <td>0.021291</td>\n",
       "      <td>0.033315</td>\n",
       "    </tr>\n",
       "    <tr>\n",
       "      <th>1</th>\n",
       "      <td>6</td>\n",
       "      <td>2021-05-19 20:00:00+00:00</td>\n",
       "      <td>39500.0</td>\n",
       "      <td>BTCM1 Curncy</td>\n",
       "      <td>4243.404629</td>\n",
       "      <td>-0.090465</td>\n",
       "      <td>-0.157294</td>\n",
       "    </tr>\n",
       "    <tr>\n",
       "      <th>2</th>\n",
       "      <td>7</td>\n",
       "      <td>2021-05-18 20:00:00+00:00</td>\n",
       "      <td>43240.0</td>\n",
       "      <td>BTCM1 Curncy</td>\n",
       "      <td>4966.222392</td>\n",
       "      <td>-0.019694</td>\n",
       "      <td>-0.012067</td>\n",
       "    </tr>\n",
       "    <tr>\n",
       "      <th>3</th>\n",
       "      <td>8</td>\n",
       "      <td>2021-05-17 20:00:00+00:00</td>\n",
       "      <td>44100.0</td>\n",
       "      <td>BTCM1 Curncy</td>\n",
       "      <td>5026.514496</td>\n",
       "      <td>-0.131645</td>\n",
       "      <td>-0.123533</td>\n",
       "    </tr>\n",
       "    <tr>\n",
       "      <th>4</th>\n",
       "      <td>9</td>\n",
       "      <td>2021-05-14 20:00:00+00:00</td>\n",
       "      <td>50305.0</td>\n",
       "      <td>BTCM1 Curncy</td>\n",
       "      <td>5687.439512</td>\n",
       "      <td>0.036850</td>\n",
       "      <td>0.054760</td>\n",
       "    </tr>\n",
       "  </tbody>\n",
       "</table>\n",
       "</div>"
      ],
      "text/plain": [
       "   Unnamed: 0                       Date  PX_LAST contract_name   CRIX Price  \\\n",
       "0           5  2021-05-20 20:00:00+00:00  40350.0  BTCM1 Curncy  4387.153184   \n",
       "1           6  2021-05-19 20:00:00+00:00  39500.0  BTCM1 Curncy  4243.404629   \n",
       "2           7  2021-05-18 20:00:00+00:00  43240.0  BTCM1 Curncy  4966.222392   \n",
       "3           8  2021-05-17 20:00:00+00:00  44100.0  BTCM1 Curncy  5026.514496   \n",
       "4           9  2021-05-14 20:00:00+00:00  50305.0  BTCM1 Curncy  5687.439512   \n",
       "\n",
       "   log return future  log return CRIX  \n",
       "0           0.021291         0.033315  \n",
       "1          -0.090465        -0.157294  \n",
       "2          -0.019694        -0.012067  \n",
       "3          -0.131645        -0.123533  \n",
       "4           0.036850         0.054760  "
      ]
     },
     "execution_count": 47,
     "metadata": {},
     "output_type": "execute_result"
    }
   ],
   "source": [
    "# u = ECDF(file.iloc[:,-1])(file.iloc[:,-1])\n",
    "# v = ECDF(file.iloc[:,-2])(file.iloc[:,-2])\n",
    "\n",
    "\n",
    "# pd.DataFrame({'u':u, 'v':v}).to_csv('BBT_future_CRIX_0_uv.csv')\n",
    "file.head()"
   ]
  },
  {
   "cell_type": "code",
   "execution_count": 48,
   "metadata": {},
   "outputs": [],
   "source": [
    "sys.path.append('../../src/')\n",
    "\n",
    "from KDEs import *\n",
    "np.random.seed(0)\n",
    "\n",
    "rs = file.iloc[:,-1]\n",
    "rf = file.iloc[:,-2]\n",
    "\n",
    "kde_rs = KDE(rs, 'Gaussian')\n",
    "kde_rf = KDE(rf, 'Gaussian')"
   ]
  },
  {
   "cell_type": "code",
   "execution_count": 52,
   "metadata": {},
   "outputs": [],
   "source": [
    "u = kde_rs.cdf(rs)\n",
    "v = kde_rf.cdf(rf)\n"
   ]
  },
  {
   "cell_type": "code",
   "execution_count": 53,
   "metadata": {},
   "outputs": [
    {
     "data": {
      "text/plain": [
       "0"
      ]
     },
     "execution_count": 53,
     "metadata": {},
     "output_type": "execute_result"
    }
   ],
   "source": [
    "np.sum(v==0)"
   ]
  },
  {
   "cell_type": "code",
   "execution_count": 54,
   "metadata": {},
   "outputs": [
    {
     "name": "stdout",
     "output_type": "stream",
     "text": [
      "Optimization terminated successfully.\n",
      "         Current function value: 0.024195\n",
      "         Iterations: 174\n",
      "         Function evaluations: 323\n"
     ]
    },
    {
     "data": {
      "text/plain": [
       "array([0.98449141, 2.        ])"
      ]
     },
     "execution_count": 54,
     "metadata": {},
     "output_type": "execute_result"
    }
   ],
   "source": [
    "C = t_Copula({'rho':.1, 'nu':2}, kde_rs, kde_rf, 2)\n",
    "C.mm_calibrate(u,v,[0.05,0.1, 0.9,0.95])"
   ]
  },
  {
   "cell_type": "code",
   "execution_count": 55,
   "metadata": {},
   "outputs": [
    {
     "data": {
      "text/plain": [
       "472.6304858759661"
      ]
     },
     "execution_count": 55,
     "metadata": {},
     "output_type": "execute_result"
    }
   ],
   "source": [
    "C.l_fn(C.rho, C.nu,  u, v)"
   ]
  },
  {
   "cell_type": "code",
   "execution_count": 43,
   "metadata": {
    "scrolled": true
   },
   "outputs": [
    {
     "name": "stdout",
     "output_type": "stream",
     "text": [
      "Optimization terminated successfully.\n",
      "         Current function value: 0.000040\n",
      "         Iterations: 11\n",
      "         Function evaluations: 22\n",
      "Optimization terminated successfully.\n",
      "         Current function value: 0.008517\n",
      "         Iterations: 11\n",
      "         Function evaluations: 22\n",
      "Optimization terminated successfully.\n",
      "         Current function value: 0.026025\n",
      "         Iterations: 10\n",
      "         Function evaluations: 20\n",
      "Optimization terminated successfully.\n",
      "         Current function value: 0.013982\n",
      "         Iterations: 11\n",
      "         Function evaluations: 22\n",
      "Optimization terminated successfully.\n",
      "         Current function value: 0.016058\n",
      "         Iterations: 11\n",
      "         Function evaluations: 24\n",
      "Optimization terminated successfully.\n",
      "         Current function value: 0.008155\n",
      "         Iterations: 11\n",
      "         Function evaluations: 22\n"
     ]
    },
    {
     "data": {
      "text/plain": [
       "[0.9626953125,\n",
       " 0.96708984375,\n",
       " 0.97939453125,\n",
       " 0.9743164062499999,\n",
       " 0.982421875,\n",
       " 0.955859375]"
      ]
     },
     "execution_count": 43,
     "metadata": {},
     "output_type": "execute_result"
    }
   ],
   "source": [
    "optimize_h(C, [10], [0.01,0.05], [0.01,0.05])"
   ]
  }
 ],
 "metadata": {
  "kernelspec": {
   "display_name": "Python 3",
   "language": "python",
   "name": "python3"
  },
  "language_info": {
   "codemirror_mode": {
    "name": "ipython",
    "version": 3
   },
   "file_extension": ".py",
   "mimetype": "text/x-python",
   "name": "python",
   "nbconvert_exporter": "python",
   "pygments_lexer": "ipython3",
   "version": "3.7.4"
  },
  "toc": {
   "base_numbering": 1,
   "nav_menu": {},
   "number_sections": true,
   "sideBar": true,
   "skip_h1_title": false,
   "title_cell": "Table of Contents",
   "title_sidebar": "Contents",
   "toc_cell": false,
   "toc_position": {},
   "toc_section_display": true,
   "toc_window_display": false
  }
 },
 "nbformat": 4,
 "nbformat_minor": 2
}
