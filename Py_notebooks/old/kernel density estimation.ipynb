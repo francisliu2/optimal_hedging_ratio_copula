{
 "cells": [
  {
   "cell_type": "code",
   "execution_count": 1,
   "metadata": {},
   "outputs": [],
   "source": [
    "import matplotlib.pyplot as plt\n",
    "import scipy\n",
    "from scipy import stats\n",
    "from scipy.stats import norm\n",
    "import pandas as pd\n",
    "import numpy as np\n",
    "import seaborn as sns\n",
    "from statsmodels.distributions.empirical_distribution import ECDF\n",
    "from copulae import *\n",
    "import itertools\n",
    "from toolbox import *\n",
    "from KDEs import *\n",
    "data = pd.read_csv('../processed_data/btc_future_crix.csv')\n",
    "data.head()\n",
    "brr = np.array(data.return_brr)\n",
    "btc = np.array(data.return_btc)\n",
    "\n",
    "ecdf_brr = ECDF(data.return_brr)\n",
    "ecdf_btc = ECDF(data.return_btc)\n"
   ]
  },
  {
   "cell_type": "markdown",
   "metadata": {},
   "source": [
    "$$CV(h) = \\frac{1}{n^2h}\\sum_i\\sum_j K\\star K\\left(\\frac{X_j-X_i}{h}\\right) - \\frac{2}{n(n-1)}\\sum_i\\sum_{j\\neq i}K_h(X_j-X_i)$$\n",
    "\n",
    "where $K\\left(\\frac{x}{h}\\right)=K_h(x)$ and $ K\\star K = \\int K(u-v)K(v)dv$ \n",
    "\n",
    "(Remark: using symmetric kernel)\n",
    "\n",
    "from section 3.3.2 of Haerdle's book"
   ]
  },
  {
   "cell_type": "code",
   "execution_count": 2,
   "metadata": {},
   "outputs": [
    {
     "data": {
      "text/plain": [
       "2.0238505032544123"
      ]
     },
     "execution_count": 2,
     "metadata": {},
     "output_type": "execute_result"
    }
   ],
   "source": [
    "kde = KDE(brr, 'Gaussian', bw=0.001)\n",
    "np.mean(np.log([kde.pdf(r) for r in brr]))"
   ]
  },
  {
   "cell_type": "code",
   "execution_count": 3,
   "metadata": {
    "scrolled": true
   },
   "outputs": [
    {
     "name": "stdout",
     "output_type": "stream",
     "text": [
      "Optimization terminated successfully.\n",
      "         Current function value: -571.177346\n",
      "         Iterations: 19\n",
      "         Function evaluations: 38\n"
     ]
    },
    {
     "name": "stderr",
     "output_type": "stream",
     "text": [
      "/Users/francis/opt/anaconda3/lib/python3.7/site-packages/ipykernel_launcher.py:13: RuntimeWarning: divide by zero encountered in log\n",
      "  del sys.path[0]\n",
      "/Users/francis/opt/anaconda3/lib/python3.7/site-packages/ipykernel_launcher.py:13: RuntimeWarning: invalid value encountered in log\n",
      "  del sys.path[0]\n"
     ]
    },
    {
     "data": {
      "text/plain": [
       "array([0.01758057])"
      ]
     },
     "execution_count": 3,
     "metadata": {},
     "output_type": "execute_result"
    }
   ],
   "source": [
    "kde = KDE(brr[:300], 'Epanechnikov')\n",
    "\n",
    "X = np.array(list(itertools.product(kde.data, kde.data)))\n",
    "input1 = X[:,0] - X[:,1]\n",
    "_ids = [i+len(kde.data)*i for i in range(len(kde.data))]\n",
    "input2 = np.delete(input1, _ids) # leave-one-out array X_j - X_i where j!=i\n",
    "\n",
    "def l_fn(h):\n",
    "    to_kernel = input2/h\n",
    "    f = kde.kernel(to_kernel)\n",
    "    f = f.reshape((len(kde.data),-1))\n",
    "    f = np.sum(f, axis=1)/((len(kde.data)-1)*h)\n",
    "    f = np.log(f)\n",
    "    if len(kde.data) - np.sum(np.isfinite(f))<=2: # Make sure the h is not too small causing make log(0) (allow only two log(0))\n",
    "        f = np.sum(f[np.isfinite(f)])    \n",
    "        return f\n",
    "    else:\n",
    "        return -5000\n",
    "\n",
    "toopt = lambda h: -l_fn(h)\n",
    "scipy.optimize.fmin(toopt,\n",
    "                    x0=.19)"
   ]
  },
  {
   "cell_type": "code",
   "execution_count": 4,
   "metadata": {},
   "outputs": [],
   "source": [
    "kde_brr = KDE(brr[:300], 'Epanechnikov', 0.01757812)\n",
    "kde_btc = KDE(btc[:300], 'Epanechnikov', 0.027794)\n",
    "\n",
    "kde_brr2 = KDE(brr[:300], 'Gaussian', 0.02207031)\n",
    "kde_btc2 = KDE(btc[:300], 'Gaussian', 0.02175293)\n",
    "\n",
    "u = ECDF(brr[:300])(brr[:300])\n",
    "v = ECDF(btc[:300])(btc[:300])"
   ]
  },
  {
   "cell_type": "code",
   "execution_count": 9,
   "metadata": {},
   "outputs": [
    {
     "data": {
      "image/png": "[encoded data removed]",
      "text/plain": [
       "<Figure size 432x288 with 1 Axes>"
      ]
     },
     "metadata": {
      "needs_background": "light"
     },
     "output_type": "display_data"
    }
   ],
   "source": [
    "kde_brr = KDE(brr[100:300], 'Epanechnikov', 0.01)\n",
    "\n",
    "kde_brr.plot_density()\n",
    "# kde_btc.plot_density()\n",
    "# kde_brr2.plot_density()\n",
    "# kde_btc2.plot_density()\n",
    "# sns.distplot(btc[:300])"
   ]
  },
  {
   "cell_type": "code",
   "execution_count": 378,
   "metadata": {},
   "outputs": [
    {
     "data": {
      "text/plain": [
       "array([-11.15789788, -10.18652469,  -9.81618419, ...,   9.53961528,\n",
       "         9.74852205,  11.70412881])"
      ]
     },
     "execution_count": 378,
     "metadata": {},
     "output_type": "execute_result"
    }
   ],
   "source": [
    "NIG = norminvgauss(1,0,0,1)\n",
    "q_arr = np.linspace(0,1,1000000)\n",
    "NIG.ppf_sampling_approx(q_arr)"
   ]
  },
  {
   "cell_type": "code",
   "execution_count": 399,
   "metadata": {},
   "outputs": [],
   "source": [
    "u = ECDF(brr[:300])(brr[:300])\n",
    "v = ECDF(btc[:300])(btc[:300])"
   ]
  },
  {
   "cell_type": "code",
   "execution_count": 400,
   "metadata": {},
   "outputs": [
    {
     "name": "stdout",
     "output_type": "stream",
     "text": [
      "Optimization terminated successfully.\n",
      "         Current function value: 5000.000000\n",
      "         Iterations: 34\n",
      "         Function evaluations: 135\n"
     ]
    }
   ],
   "source": [
    "C = t_Copula(rho=0.95, nu=10, Law_RS=kde_brr, Law_RF = kde_btc)\n",
    "C.canonical_calibrate(u,v)\n",
    "s = C.sample(1000000)\n",
    "u = kde_brr.cdf(s[:,0])\n",
    "v = kde_btc.cdf(s[:,1])"
   ]
  },
  {
   "cell_type": "code",
   "execution_count": 402,
   "metadata": {},
   "outputs": [
    {
     "data": {
      "text/plain": [
       "<matplotlib.collections.PathCollection at 0x7fc8e9a83c90>"
      ]
     },
     "execution_count": 402,
     "metadata": {},
     "output_type": "execute_result"
    },
    {
     "data": {
      "image/png": "[encoded data removed]",
      "text/plain": [
       "<Figure size 360x360 with 1 Axes>"
      ]
     },
     "metadata": {
      "needs_background": "light"
     },
     "output_type": "display_data"
    }
   ],
   "source": [
    "plt.figure(figsize=(5,5))\n",
    "# plt.scatter(s[:,0],s[:,1])\n",
    "plt.scatter(NIG.ppf_sampling_approx(u), NIG.ppf_sampling_approx(v))\n",
    "plt.scatter(kde_brr.data,kde_btc.data)"
   ]
  },
  {
   "cell_type": "code",
   "execution_count": 561,
   "metadata": {},
   "outputs": [
    {
     "name": "stderr",
     "output_type": "stream",
     "text": [
      "/Users/francis/opt/anaconda3/lib/python3.7/site-packages/ipykernel_launcher.py:10: IntegrationWarning: The maximum number of subdivisions (50) has been achieved.\n",
      "  If increasing the limit yields no improvement it is advised to analyze \n",
      "  the integrand in order to determine the difficulties.  If the position of a \n",
      "  local difficulty can be determined (singularity, discontinuity) one will \n",
      "  probably gain from splitting up the interval and calling the integrator \n",
      "  on the subranges.  Perhaps a special-purpose integrator should be used.\n",
      "  # Remove the CWD from sys.path while we load stuff.\n"
     ]
    }
   ],
   "source": [
    "h=0.01\n",
    "L = len(kde_btc.data)\n",
    "\n",
    "def part1(h):\n",
    "    _in = lambda x: (x-kde_btc.data)/h\n",
    "    f = lambda x:np.sum(kde_brr.kernel(_in(x)))/(L*h)\n",
    "    s2 = lambda x: f(x)**2\n",
    "    \n",
    "#     fn = lambda x: (np.sum(kde_brr.kernel((x-kde_brr.data)/h))/(L*h))**2\n",
    "    return scipy.integrate.quad(s2, -np.inf,np.inf)[0]\n",
    "\n",
    "# part2 = lambda h: 2*np.mean(kde_brr.kernel(input2/h))/h/L\n",
    "# part2 = lambda h: np.mean(kde_brr.kernel(input2/h))/h\n",
    "part2 = lambda h: 2*np.sum(kde_btc.kernel(input2/h))/L/L/h\n",
    "CV = []\n",
    "p1_arr = []\n",
    "p2_arr = []\n",
    "h_arr = np.linspace(0.001,0.04,100)\n",
    "for h in h_arr:\n",
    "    p1 = part1(h)\n",
    "    p2 = part2(h)\n",
    "    p1_arr.append(p1)\n",
    "    p2_arr.append(p2)\n",
    "    CV.append(p1-p2)\n"
   ]
  },
  {
   "cell_type": "code",
   "execution_count": 562,
   "metadata": {},
   "outputs": [
    {
     "data": {
      "text/plain": [
       "0.006909090909090909"
      ]
     },
     "execution_count": 562,
     "metadata": {},
     "output_type": "execute_result"
    }
   ],
   "source": [
    "h_arr[np.argmin(CV)]"
   ]
  },
  {
   "cell_type": "code",
   "execution_count": 563,
   "metadata": {},
   "outputs": [
    {
     "data": {
      "text/plain": [
       "[<matplotlib.lines.Line2D at 0x7fc8caa77950>]"
      ]
     },
     "execution_count": 563,
     "metadata": {},
     "output_type": "execute_result"
    },
    {
     "data": {
      "image/png": "[encoded data removed]",
      "text/plain": [
       "<Figure size 432x288 with 1 Axes>"
      ]
     },
     "metadata": {
      "needs_background": "light"
     },
     "output_type": "display_data"
    }
   ],
   "source": [
    "plt.plot(h_arr, CV)\n",
    "# plt.plot(h_arr, p1_arr)\n",
    "# plt.plot(h_arr, p2_arr)"
   ]
  },
  {
   "cell_type": "code",
   "execution_count": 518,
   "metadata": {},
   "outputs": [
    {
     "data": {
      "text/plain": [
       "0.2793895104696913"
      ]
     },
     "execution_count": 518,
     "metadata": {},
     "output_type": "execute_result"
    }
   ],
   "source": [
    "K_star_K(input1[1000]/h)"
   ]
  },
  {
   "cell_type": "code",
   "execution_count": 519,
   "metadata": {},
   "outputs": [
    {
     "data": {
      "text/plain": [
       "0.03926576613192084"
      ]
     },
     "execution_count": 519,
     "metadata": {},
     "output_type": "execute_result"
    }
   ],
   "source": [
    "input1[1000]"
   ]
  },
  {
   "cell_type": "code",
   "execution_count": 521,
   "metadata": {},
   "outputs": [
    {
     "name": "stderr",
     "output_type": "stream",
     "text": [
      "/Users/francis/opt/anaconda3/lib/python3.7/site-packages/ipykernel_launcher.py:3: IntegrationWarning: The maximum number of subdivisions (50) has been achieved.\n",
      "  If increasing the limit yields no improvement it is advised to analyze \n",
      "  the integrand in order to determine the difficulties.  If the position of a \n",
      "  local difficulty can be determined (singularity, discontinuity) one will \n",
      "  probably gain from splitting up the interval and calling the integrator \n",
      "  on the subranges.  Perhaps a special-purpose integrator should be used.\n",
      "  This is separate from the ipykernel package so we can avoid doing imports until\n"
     ]
    },
    {
     "data": {
      "text/plain": [
       "(1.782556871856028, 0.000585003889624014)"
      ]
     },
     "execution_count": 521,
     "metadata": {},
     "output_type": "execute_result"
    }
   ],
   "source": [
    "fn = lambda x: kde_brr.pdf(x/h)**2\n",
    "\n",
    "scipy.integrate.quad(fn, -np.inf,np.inf)"
   ]
  },
  {
   "cell_type": "code",
   "execution_count": 266,
   "metadata": {},
   "outputs": [
    {
     "name": "stderr",
     "output_type": "stream",
     "text": [
      "/Users/francis/opt/anaconda3/lib/python3.7/site-packages/ipykernel_launcher.py:7: RuntimeWarning: divide by zero encountered in log\n",
      "  import sys\n"
     ]
    },
    {
     "data": {
      "text/plain": [
       "2"
      ]
     },
     "execution_count": 266,
     "metadata": {},
     "output_type": "execute_result"
    }
   ],
   "source": [
    "h=0.0222\n",
    "to_kernel = input2/h\n",
    "\n",
    "f = kde.kernel(to_kernel)\n",
    "f = f.reshape((len(kde.data),-1))\n",
    "f = np.sum(f, axis=1)/((len(kde.data)-1)*h)\n",
    "f = np.log(f)\n",
    "# f = f[np.isfinite(f)]\n",
    "# f = np.sum(f)   \n",
    "len(kde.data) - np.sum(np.isfinite(f))"
   ]
  },
  {
   "cell_type": "code",
   "execution_count": 222,
   "metadata": {},
   "outputs": [
    {
     "data": {
      "text/plain": [
       "15480.70113860412"
      ]
     },
     "execution_count": 222,
     "metadata": {},
     "output_type": "execute_result"
    }
   ],
   "source": [
    "f = kde.kernel(to_kernel)\n",
    "# f = f.reshape((len(kde.data),-1))\n",
    "# f = np.sum(f, axis=1)/((len(kde.data)-1)*h)\n",
    "np.sum(f)\n"
   ]
  },
  {
   "cell_type": "code",
   "execution_count": 253,
   "metadata": {},
   "outputs": [],
   "source": [
    "h=0.3\n",
    "f = kde.kernel(to_kernel)\n"
   ]
  },
  {
   "cell_type": "code",
   "execution_count": 503,
   "metadata": {},
   "outputs": [],
   "source": [
    "def K_Uniform(u):\n",
    "    u = np.abs(u)\n",
    "    return 0.5*(u <= 1)\n",
    "\n",
    "def K_Triangle(u):\n",
    "    u = np.abs(u)\n",
    "    return (1-u)*(u <= 1)\n",
    "\n",
    "def K_Epanechnikov(u):\n",
    "    return (3/4)*(1-u**2)*(np.abs(u)<=1)\n",
    "\n",
    "def K_Gaussian(u):\n",
    "    return np.exp(-0.5*u**2)/np.sqrt(2*np.pi)"
   ]
  },
  {
   "cell_type": "code",
   "execution_count": 504,
   "metadata": {
    "scrolled": true
   },
   "outputs": [
    {
     "name": "stdout",
     "output_type": "stream",
     "text": [
      "CPU times: user 1.17 ms, sys: 4 µs, total: 1.17 ms\n",
      "Wall time: 1.19 ms\n"
     ]
    },
    {
     "data": {
      "text/plain": [
       "0.21969564473386166"
      ]
     },
     "execution_count": 504,
     "metadata": {},
     "output_type": "execute_result"
    }
   ],
   "source": [
    "%%time\n",
    "def K_star_K(u,K=K_Gaussian):\n",
    "    fn = lambda v: K(u-v)*K(v)\n",
    "    return scipy.integrate.quad(fn, -np.inf, np.inf)[0]\n",
    "K_star_K(1)"
   ]
  },
  {
   "cell_type": "code",
   "execution_count": 4,
   "metadata": {},
   "outputs": [],
   "source": [
    "X = np.array(list(itertools.product(brr[:300], brr[:300])))\n",
    "input1 = X[:,0] - X[:,1]\n",
    "input2 = input1[input1!=0]"
   ]
  },
  {
   "cell_type": "code",
   "execution_count": 129,
   "metadata": {},
   "outputs": [
    {
     "name": "stderr",
     "output_type": "stream",
     "text": [
      "/Users/francis/opt/anaconda3/lib/python3.7/site-packages/ipykernel_launcher.py:4: RuntimeWarning: divide by zero encountered in log\n",
      "  after removing the cwd from sys.path.\n"
     ]
    }
   ],
   "source": [
    "a = []\n",
    "h=0.001\n",
    "for i in range(len(brr)):\n",
    "    a.append(np.log(np.sum(kde.kernel(input2[i*300:(i+1)*300]/h))))"
   ]
  },
  {
   "cell_type": "code",
   "execution_count": 249,
   "metadata": {},
   "outputs": [
    {
     "name": "stderr",
     "output_type": "stream",
     "text": [
      "100%|██████████| 1000/1000 [00:08<00:00, 111.25it/s]\n"
     ]
    }
   ],
   "source": [
    "MLCV_arr = []\n",
    "h_arr = np.linspace(0.00000001,0.000001, 1000)\n",
    "for h in tqdm(h_arr):\n",
    "    L = len(brr)\n",
    "    a = np.ones((L))\n",
    "    for i in range(len(brr)):\n",
    "        LOO = np.sum(kde.kernel(input2[i*(L-1):(i+1)*(L-1)]/h))\n",
    "        if LOO == 0:\n",
    "            LOO = 0.0000000000000000000001\n",
    "        a[i] = np.log(LOO)\n",
    "    MLCV = np.sum(a)/L - np.log((L-1)*h)\n",
    "    MLCV_arr.append(MLCV)"
   ]
  },
  {
   "cell_type": "code",
   "execution_count": 250,
   "metadata": {
    "scrolled": true
   },
   "outputs": [
    {
     "data": {
      "text/plain": [
       "[<matplotlib.lines.Line2D at 0x7f8a6da8f7d0>]"
      ]
     },
     "execution_count": 250,
     "metadata": {},
     "output_type": "execute_result"
    },
    {
     "data": {
      "image/png": "[encoded data removed]",
      "text/plain": [
       "<Figure size 432x288 with 1 Axes>"
      ]
     },
     "metadata": {
      "needs_background": "light"
     },
     "output_type": "display_data"
    }
   ],
   "source": [
    "plt.plot(h_arr, MLCV_arr)"
   ]
  },
  {
   "cell_type": "code",
   "execution_count": 151,
   "metadata": {},
   "outputs": [
    {
     "name": "stderr",
     "output_type": "stream",
     "text": [
      "  0%|          | 0/50 [00:00<?, ?it/s]/Users/francis/opt/anaconda3/lib/python3.7/site-packages/ipykernel_launcher.py:7: RuntimeWarning: divide by zero encountered in log\n",
      "  import sys\n",
      "100%|██████████| 50/50 [00:20<00:00,  2.41it/s]\n"
     ]
    }
   ],
   "source": [
    "f_arr = []\n",
    "h_arr = np.linspace(0.1,0.2, 50)\n",
    "for h in tqdm(h_arr):\n",
    "    f = np.array([kde.kernel(i/h) for i in input2])\n",
    "    f = f.reshape((300,-1))\n",
    "    f = np.sum(f, axis=1)/(299*h)\n",
    "    f = np.sum(np.log(f))\n",
    "    f_arr.append(f)\n",
    "# f = np.product(np.sum(f, axis=1))"
   ]
  },
  {
   "cell_type": "code",
   "execution_count": 152,
   "metadata": {},
   "outputs": [
    {
     "data": {
      "text/plain": [
       "[<matplotlib.lines.Line2D at 0x7fc8e9fdc0d0>]"
      ]
     },
     "execution_count": 152,
     "metadata": {},
     "output_type": "execute_result"
    },
    {
     "data": {
      "image/png": "[encoded data removed]",
      "text/plain": [
       "<Figure size 432x288 with 1 Axes>"
      ]
     },
     "metadata": {
      "needs_background": "light"
     },
     "output_type": "display_data"
    }
   ],
   "source": [
    "plt.plot(h_arr, f_arr)"
   ]
  },
  {
   "cell_type": "code",
   "execution_count": 150,
   "metadata": {},
   "outputs": [
    {
     "data": {
      "text/plain": [
       "[-inf,\n",
       " -inf,\n",
       " -inf,\n",
       " -inf,\n",
       " -inf,\n",
       " -inf,\n",
       " -inf,\n",
       " -inf,\n",
       " -inf,\n",
       " -inf,\n",
       " -inf,\n",
       " -inf,\n",
       " -inf,\n",
       " -inf,\n",
       " -inf,\n",
       " -inf,\n",
       " -inf,\n",
       " -inf,\n",
       " -inf,\n",
       " -inf,\n",
       " -inf,\n",
       " -inf,\n",
       " -inf,\n",
       " -inf,\n",
       " -inf,\n",
       " -inf,\n",
       " -inf,\n",
       " -inf,\n",
       " -inf,\n",
       " -inf,\n",
       " -inf,\n",
       " -inf,\n",
       " -inf,\n",
       " -inf,\n",
       " -inf,\n",
       " -inf,\n",
       " -inf,\n",
       " -inf,\n",
       " -inf,\n",
       " -inf,\n",
       " -inf,\n",
       " -inf,\n",
       " -inf,\n",
       " -inf,\n",
       " -inf,\n",
       " -inf,\n",
       " -inf,\n",
       " -inf,\n",
       " -inf,\n",
       " -inf]"
      ]
     },
     "execution_count": 150,
     "metadata": {},
     "output_type": "execute_result"
    }
   ],
   "source": [
    "f_arr"
   ]
  },
  {
   "cell_type": "code",
   "execution_count": 44,
   "metadata": {},
   "outputs": [
    {
     "name": "stderr",
     "output_type": "stream",
     "text": [
      "/Users/francis/opt/anaconda3/lib/python3.7/site-packages/seaborn/distributions.py:2551: FutureWarning: `distplot` is a deprecated function and will be removed in a future version. Please adapt your code to use either `displot` (a figure-level function with similar flexibility) or `histplot` (an axes-level function for histograms).\n",
      "  warnings.warn(msg, FutureWarning)\n"
     ]
    },
    {
     "data": {
      "image/png": "[encoded data removed]",
      "text/plain": [
       "<Figure size 432x288 with 1 Axes>"
      ]
     },
     "metadata": {
      "needs_background": "light"
     },
     "output_type": "display_data"
    }
   ],
   "source": [
    "kde1 = KDE(brr, 'Gaussian', bw=bw)\n",
    "sns.distplot(brr)\n",
    "kde.plot_density()\n",
    "kde1.plot_density()"
   ]
  },
  {
   "cell_type": "code",
   "execution_count": 39,
   "metadata": {},
   "outputs": [
    {
     "name": "stderr",
     "output_type": "stream",
     "text": [
      "/Users/francis/opt/anaconda3/lib/python3.7/site-packages/seaborn/distributions.py:2551: FutureWarning: `distplot` is a deprecated function and will be removed in a future version. Please adapt your code to use either `displot` (a figure-level function with similar flexibility) or `histplot` (an axes-level function for histograms).\n",
      "  warnings.warn(msg, FutureWarning)\n"
     ]
    },
    {
     "data": {
      "image/png": "[encoded data removed]",
      "text/plain": [
       "<Figure size 432x288 with 1 Axes>"
      ]
     },
     "metadata": {
      "needs_background": "light"
     },
     "output_type": "display_data"
    }
   ],
   "source": [
    "kde = KDE(brr, 'Gaussian')\n",
    "sns.distplot(brr)\n",
    "kde.plot_density()"
   ]
  },
  {
   "cell_type": "code",
   "execution_count": 277,
   "metadata": {},
   "outputs": [
    {
     "name": "stderr",
     "output_type": "stream",
     "text": [
      "/Users/francis/opt/anaconda3/lib/python3.7/site-packages/numpy/core/fromnumeric.py:86: RuntimeWarning: overflow encountered in reduce\n",
      "  return ufunc.reduce(obj, axis, dtype, out, **passkwargs)\n"
     ]
    },
    {
     "data": {
      "text/plain": [
       "inf"
      ]
     },
     "execution_count": 277,
     "metadata": {},
     "output_type": "execute_result"
    }
   ],
   "source": [
    "np.product(np.sum(f, axis=1))"
   ]
  },
  {
   "cell_type": "code",
   "execution_count": 282,
   "metadata": {},
   "outputs": [
    {
     "data": {
      "text/plain": [
       "3.9074146896144993e+214"
      ]
     },
     "execution_count": 282,
     "metadata": {},
     "output_type": "execute_result"
    }
   ],
   "source": []
  },
  {
   "cell_type": "code",
   "execution_count": 168,
   "metadata": {},
   "outputs": [
    {
     "data": {
      "text/plain": [
       "4.781505040182875"
      ]
     },
     "execution_count": 168,
     "metadata": {},
     "output_type": "execute_result"
    }
   ],
   "source": [
    "h=100000\n",
    "np.log(np.sum(kde.kernel(input2[i*299:(i+1)*299]/h)))"
   ]
  },
  {
   "cell_type": "code",
   "execution_count": 26,
   "metadata": {},
   "outputs": [
    {
     "name": "stderr",
     "output_type": "stream",
     "text": [
      "100%|██████████| 90000/90000 [00:43<00:00, 2055.86it/s]\n"
     ]
    }
   ],
   "source": [
    "from tqdm import tqdm\n",
    "h=0.001\n",
    "\n",
    "part1 = []\n",
    "for x in tqdm(input1):\n",
    "    part1.append(K_star_K(x/h))"
   ]
  },
  {
   "cell_type": "code",
   "execution_count": 31,
   "metadata": {},
   "outputs": [
    {
     "name": "stderr",
     "output_type": "stream",
     "text": [
      "100%|██████████| 89700/89700 [00:00<00:00, 283591.60it/s]\n"
     ]
    }
   ],
   "source": [
    "part2 = []\n",
    "for x in tqdm(input2):\n",
    "    part2.append(K_Gaussian(x/h))\n",
    "    "
   ]
  },
  {
   "cell_type": "code",
   "execution_count": 5,
   "metadata": {},
   "outputs": [],
   "source": [
    "def f(x, data, h, K=K_Gaussian):\n",
    "    u = lambda x: (x - data)/h\n",
    "    s = np.sum(K(u(x)))\n",
    "    return s/(len(data)*h)"
   ]
  },
  {
   "cell_type": "code",
   "execution_count": 140,
   "metadata": {},
   "outputs": [],
   "source": [
    "uq = np.quantile(data.return_brr, .75)\n",
    "lq = np.quantile(data.return_brr, .25)"
   ]
  },
  {
   "cell_type": "code",
   "execution_count": 142,
   "metadata": {},
   "outputs": [
    {
     "data": {
      "text/plain": [
       "[<matplotlib.lines.Line2D at 0x7ffebd429fd0>]"
      ]
     },
     "execution_count": 142,
     "metadata": {},
     "output_type": "execute_result"
    },
    {
     "data": {
      "image/png": "[encoded data removed]",
      "text/plain": [
       "<Figure size 432x288 with 1 Axes>"
      ]
     },
     "metadata": {
      "needs_background": "light"
     },
     "output_type": "display_data"
    }
   ],
   "source": [
    "x = np.linspace(-0.25,0.25,1000)\n",
    "h_rot = 1.06*np.std(data.return_brr)*len(data.return_brr)**(-1/5)\n",
    "h_brot =  1.06*min(np.std(data.return_brr), (uq-lq)/1.34)*len(data.return_brr)**(-1/5)\n",
    "h = h_brot\n",
    "plt.plot(x,[f(x[i],data.return_brr,h, K_Uniform) for i in range(1000)])\n",
    "plt.plot(x,[f(x[i],data.return_brr,h, K_Triangle) for i in range(1000)])\n",
    "plt.plot(x,[f(x[i],data.return_brr,h, K_Epanechnikov) for i in range(1000)])\n",
    "plt.plot(x,[f(x[i],data.return_brr,h, K_Gaussian) for i in range(1000)])"
   ]
  },
  {
   "cell_type": "code",
   "execution_count": 144,
   "metadata": {},
   "outputs": [
    {
     "data": {
      "text/plain": [
       "0.00732460853848504"
      ]
     },
     "execution_count": 144,
     "metadata": {},
     "output_type": "execute_result"
    }
   ],
   "source": [
    "h_brot"
   ]
  },
  {
   "cell_type": "code",
   "execution_count": 127,
   "metadata": {},
   "outputs": [],
   "source": [
    "import random\n",
    "\n",
    "def sample_Tri(size, data, h):\n",
    "    datasample = random.choices(data,k=size)\n",
    "    u1 = stats.uniform().rvs(size)\n",
    "    u2 = stats.uniform().rvs(size)\n",
    "    kernelsample = (u1+u2-1) *h\n",
    "    return datasample + kernelsample \n",
    "\n",
    "def sample_Uni(size, data, h):\n",
    "    datasample = random.choices(data,k=size)\n",
    "    u1 = stats.uniform().rvs(size)\n",
    "    kernelsample = u1*h\n",
    "    return datasample + kernelsample \n",
    "\n",
    "def sample_Epanechnikov(size, data, h):\n",
    "    datasample = random.choices(data,k=size)\n",
    "    u1 = stats.uniform().rvs(size)*2-1\n",
    "    u2 = stats.uniform().rvs(size)*2-1\n",
    "    u3 = stats.uniform().rvs(size)*2-1\n",
    "    kernelsample = u3[:]\n",
    "    i = ( np.abs(u3) >= np.abs(u2) ) & ( np.abs(u3) >= np.abs(u1) )\n",
    "    kernelsample[i] = u2[i]\n",
    "    kernelsample = kernelsample*h\n",
    "    return datasample + kernelsample \n",
    "\n",
    "def sample_Gaussian(size, data, h):\n",
    "    datasample = random.choices(data,k=size)\n",
    "    kernelsample = stats.norm().rvs(size)*h\n",
    "    return datasample + kernelsample "
   ]
  },
  {
   "cell_type": "code",
   "execution_count": 153,
   "metadata": {},
   "outputs": [
    {
     "name": "stderr",
     "output_type": "stream",
     "text": [
      "/Users/francis/opt/anaconda3/lib/python3.7/site-packages/seaborn/distributions.py:2551: FutureWarning: `distplot` is a deprecated function and will be removed in a future version. Please adapt your code to use either `displot` (a figure-level function with similar flexibility) or `histplot` (an axes-level function for histograms).\n",
      "  warnings.warn(msg, FutureWarning)\n",
      "/Users/francis/opt/anaconda3/lib/python3.7/site-packages/seaborn/distributions.py:2551: FutureWarning: `distplot` is a deprecated function and will be removed in a future version. Please adapt your code to use either `displot` (a figure-level function with similar flexibility) or `histplot` (an axes-level function for histograms).\n",
      "  warnings.warn(msg, FutureWarning)\n"
     ]
    },
    {
     "data": {
      "text/plain": [
       "<matplotlib.axes._subplots.AxesSubplot at 0x7ffebda58090>"
      ]
     },
     "execution_count": 153,
     "metadata": {},
     "output_type": "execute_result"
    },
    {
     "data": {
      "image/png": "[encoded data removed]",
      "text/plain": [
       "<Figure size 432x288 with 1 Axes>"
      ]
     },
     "metadata": {
      "needs_background": "light"
     },
     "output_type": "display_data"
    }
   ],
   "source": [
    "sns.distplot(sample_Gaussian(20000, data.return_brr, h_brot))\n",
    "sns.distplot(data.return_brr)"
   ]
  },
  {
   "cell_type": "code",
   "execution_count": 36,
   "metadata": {},
   "outputs": [
    {
     "name": "stderr",
     "output_type": "stream",
     "text": [
      "/Users/francis/opt/anaconda3/lib/python3.7/site-packages/seaborn/distributions.py:2551: FutureWarning: `distplot` is a deprecated function and will be removed in a future version. Please adapt your code to use either `displot` (a figure-level function with similar flexibility) or `histplot` (an axes-level function for histograms).\n",
      "  warnings.warn(msg, FutureWarning)\n",
      "/Users/francis/opt/anaconda3/lib/python3.7/site-packages/seaborn/distributions.py:2551: FutureWarning: `distplot` is a deprecated function and will be removed in a future version. Please adapt your code to use either `displot` (a figure-level function with similar flexibility) or `histplot` (an axes-level function for histograms).\n",
      "  warnings.warn(msg, FutureWarning)\n"
     ]
    },
    {
     "data": {
      "text/plain": [
       "<matplotlib.axes._subplots.AxesSubplot at 0x7ffeb3e48e10>"
      ]
     },
     "execution_count": 36,
     "metadata": {},
     "output_type": "execute_result"
    },
    {
     "data": {
      "image/png": "[encoded data removed]",
      "text/plain": [
       "<Figure size 432x288 with 1 Axes>"
      ]
     },
     "metadata": {
      "needs_background": "light"
     },
     "output_type": "display_data"
    }
   ],
   "source": [
    "sns.distplot(data.return_btc + trisample*0.01)\n",
    "sns.distplot(data.return_btc)"
   ]
  },
  {
   "cell_type": "code",
   "execution_count": 27,
   "metadata": {},
   "outputs": [],
   "source": [
    "y=np.array([f(x[i],data.return_brr,0.01, K_Uniform) for i in range(1000)])"
   ]
  },
  {
   "cell_type": "code",
   "execution_count": 2,
   "metadata": {},
   "outputs": [
    {
     "name": "stderr",
     "output_type": "stream",
     "text": [
      "/Users/francis/opt/anaconda3/lib/python3.7/site-packages/seaborn/distributions.py:2551: FutureWarning: `distplot` is a deprecated function and will be removed in a future version. Please adapt your code to use either `displot` (a figure-level function with similar flexibility) or `histplot` (an axes-level function for histograms).\n",
      "  warnings.warn(msg, FutureWarning)\n",
      "/Users/francis/opt/anaconda3/lib/python3.7/site-packages/seaborn/distributions.py:2551: FutureWarning: `distplot` is a deprecated function and will be removed in a future version. Please adapt your code to use either `displot` (a figure-level function with similar flexibility) or `histplot` (an axes-level function for histograms).\n",
      "  warnings.warn(msg, FutureWarning)\n"
     ]
    },
    {
     "data": {
      "text/plain": [
       "<matplotlib.axes._subplots.AxesSubplot at 0x7fa8ac7ccf10>"
      ]
     },
     "execution_count": 2,
     "metadata": {},
     "output_type": "execute_result"
    },
    {
     "data": {
      "image/png": "[encoded data removed]",
      "text/plain": [
       "<Figure size 432x288 with 1 Axes>"
      ]
     },
     "metadata": {
      "needs_background": "light"
     },
     "output_type": "display_data"
    }
   ],
   "source": [
    "from KDEs import *\n",
    "\n",
    "kde = KDE(data.return_brr, \"Gaussian\")\n",
    "sns.distplot(kde.rvs(10000))\n",
    "sns.distplot(kde.data)"
   ]
  },
  {
   "cell_type": "code",
   "execution_count": 10,
   "metadata": {},
   "outputs": [
    {
     "data": {
      "text/plain": [
       "[<matplotlib.lines.Line2D at 0x7fa8ad155b90>]"
      ]
     },
     "execution_count": 10,
     "metadata": {},
     "output_type": "execute_result"
    },
    {
     "data": {
      "image/png": "[encoded data removed]",
      "text/plain": [
       "<Figure size 432x288 with 1 Axes>"
      ]
     },
     "metadata": {
      "needs_background": "light"
     },
     "output_type": "display_data"
    }
   ],
   "source": [
    "x= np.linspace(min(kde.data),max(kde.data),100)\n",
    "plt.plot(x,kde.cdf(x))\n",
    "# plt.plot(x,kde.pdf(x))"
   ]
  },
  {
   "cell_type": "code",
   "execution_count": 11,
   "metadata": {},
   "outputs": [
    {
     "name": "stderr",
     "output_type": "stream",
     "text": [
      "/Users/francis/opt/anaconda3/lib/python3.7/site-packages/seaborn/distributions.py:2551: FutureWarning: `distplot` is a deprecated function and will be removed in a future version. Please adapt your code to use either `displot` (a figure-level function with similar flexibility) or `histplot` (an axes-level function for histograms).\n",
      "  warnings.warn(msg, FutureWarning)\n"
     ]
    },
    {
     "data": {
      "text/plain": [
       "<matplotlib.axes._subplots.AxesSubplot at 0x7fa8ad2b1590>"
      ]
     },
     "execution_count": 11,
     "metadata": {},
     "output_type": "execute_result"
    },
    {
     "data": {
      "image/png": "[encoded data removed]",
      "text/plain": [
       "<Figure size 432x288 with 1 Axes>"
      ]
     },
     "metadata": {
      "needs_background": "light"
     },
     "output_type": "display_data"
    }
   ],
   "source": [
    "plt.plot(x, [kde.pdf(y) for y in x])\n",
    "sns.distplot(kde.data)"
   ]
  },
  {
   "cell_type": "code",
   "execution_count": 25,
   "metadata": {},
   "outputs": [
    {
     "name": "stdout",
     "output_type": "stream",
     "text": [
      "CPU times: user 1.45 ms, sys: 245 µs, total: 1.7 ms\n",
      "Wall time: 1.51 ms\n"
     ]
    },
    {
     "data": {
      "text/plain": [
       "16.68037993684482"
      ]
     },
     "execution_count": 25,
     "metadata": {},
     "output_type": "execute_result"
    }
   ],
   "source": [
    "%%time \n",
    "kde.pdf(0)"
   ]
  },
  {
   "cell_type": "code",
   "execution_count": 144,
   "metadata": {},
   "outputs": [
    {
     "name": "stdout",
     "output_type": "stream",
     "text": [
      "Optimization terminated successfully.\n",
      "         Current function value: 1.307527\n",
      "         Iterations: 111\n",
      "         Function evaluations: 194\n",
      "[0.01656656 0.55917455 2.29039561]\n"
     ]
    }
   ],
   "source": [
    "brr_normalised = (data.return_brr - np.mean(data.return_brr) ) / np.std(data.return_brr)\n",
    "btc_normalised = (data.return_btc - np.mean(data.return_btc) ) / np.std(data.return_btc)\n",
    "\n",
    "\n",
    "# def loss(data, df):\n",
    "#     return np.mean(np.log(stats.t.pdf(data, df=df)))\n",
    "    \n",
    "def loss(data, loc, scale, df):\n",
    "    if df <= 2:\n",
    "        return -5000\n",
    "    return np.mean(np.log(stats.t(loc=loc,scale=scale,df=df).pdf(data)))\n",
    "\n",
    "fn = lambda x: -loss(brr_normalised, x[0],x[1],x[2])\n",
    "\n",
    "result = scipy.optimize.fmin(fn, (0,1,10))\n",
    "print(result)"
   ]
  },
  {
   "cell_type": "code",
   "execution_count": 159,
   "metadata": {},
   "outputs": [
    {
     "name": "stdout",
     "output_type": "stream",
     "text": [
      "Optimization terminated successfully.\n",
      "         Current function value: 1.383171\n",
      "         Iterations: 44\n",
      "         Function evaluations: 89\n",
      "[2.39047753e-04 1.03100422e+00 8.57871269e+00]\n"
     ]
    }
   ],
   "source": [
    "\n",
    "m = np.mean(data.return_brr)\n",
    "s = np.std(data.return_brr)\n",
    "\n",
    "brr_normalised = (data.return_brr -m  ) / s\n",
    "btc_normalised = (data.return_btc - np.mean(data.return_btc) ) / np.std(data.return_btc)\n",
    "\n",
    "# def loss(data, df):\n",
    "#     return np.mean(np.log(stats.t.pdf(data, df=df)))\n",
    "    \n",
    "def loss(data, loc, scale, df):\n",
    "    if df <= 2:\n",
    "        return -5000\n",
    "    return np.mean(np.log(stats.t(loc=loc,scale=scale,df=df).pdf(data)))\n",
    "\n",
    "fn = lambda x: -loss(brr_normalised, 0,1,x[2])\n",
    "\n",
    "result = scipy.optimize.fmin(fn, (0,1,10))\n",
    "print(result)"
   ]
  },
  {
   "cell_type": "code",
   "execution_count": 145,
   "metadata": {},
   "outputs": [
    {
     "name": "stderr",
     "output_type": "stream",
     "text": [
      "/Users/francis/opt/anaconda3/lib/python3.7/site-packages/seaborn/distributions.py:2551: FutureWarning: `distplot` is a deprecated function and will be removed in a future version. Please adapt your code to use either `displot` (a figure-level function with similar flexibility) or `histplot` (an axes-level function for histograms).\n",
      "  warnings.warn(msg, FutureWarning)\n",
      "/Users/francis/opt/anaconda3/lib/python3.7/site-packages/seaborn/distributions.py:2551: FutureWarning: `distplot` is a deprecated function and will be removed in a future version. Please adapt your code to use either `displot` (a figure-level function with similar flexibility) or `histplot` (an axes-level function for histograms).\n",
      "  warnings.warn(msg, FutureWarning)\n"
     ]
    },
    {
     "data": {
      "text/plain": [
       "<matplotlib.axes._subplots.AxesSubplot at 0x7fa895c87650>"
      ]
     },
     "execution_count": 145,
     "metadata": {},
     "output_type": "execute_result"
    },
    {
     "data": {
      "image/png": "[encoded data removed]",
      "text/plain": [
       "<Figure size 432x288 with 1 Axes>"
      ]
     },
     "metadata": {
      "needs_background": "light"
     },
     "output_type": "display_data"
    }
   ],
   "source": [
    "sns.distplot(stats.t(loc=result[0], scale=result[1], df=result[2]).rvs(10000))\n",
    "sns.distplot(brr_normalised)"
   ]
  },
  {
   "cell_type": "code",
   "execution_count": 160,
   "metadata": {},
   "outputs": [
    {
     "name": "stderr",
     "output_type": "stream",
     "text": [
      "/Users/francis/opt/anaconda3/lib/python3.7/site-packages/seaborn/distributions.py:2551: FutureWarning: `distplot` is a deprecated function and will be removed in a future version. Please adapt your code to use either `displot` (a figure-level function with similar flexibility) or `histplot` (an axes-level function for histograms).\n",
      "  warnings.warn(msg, FutureWarning)\n",
      "/Users/francis/opt/anaconda3/lib/python3.7/site-packages/seaborn/distributions.py:2551: FutureWarning: `distplot` is a deprecated function and will be removed in a future version. Please adapt your code to use either `displot` (a figure-level function with similar flexibility) or `histplot` (an axes-level function for histograms).\n",
      "  warnings.warn(msg, FutureWarning)\n"
     ]
    },
    {
     "data": {
      "text/plain": [
       "<matplotlib.axes._subplots.AxesSubplot at 0x7fa89aa69290>"
      ]
     },
     "execution_count": 160,
     "metadata": {},
     "output_type": "execute_result"
    },
    {
     "data": {
      "image/png": "[encoded data removed]",
      "text/plain": [
       "<Figure size 432x288 with 1 Axes>"
      ]
     },
     "metadata": {
      "needs_background": "light"
     },
     "output_type": "display_data"
    }
   ],
   "source": [
    "sns.distplot((brr_normalised * s )+ m)\n",
    "sns.distplot(data.return_brr)"
   ]
  },
  {
   "cell_type": "code",
   "execution_count": 161,
   "metadata": {},
   "outputs": [
    {
     "data": {
      "text/plain": [
       "0.0417510451863394"
      ]
     },
     "execution_count": 161,
     "metadata": {},
     "output_type": "execute_result"
    }
   ],
   "source": [
    "s"
   ]
  },
  {
   "cell_type": "code",
   "execution_count": 140,
   "metadata": {},
   "outputs": [
    {
     "name": "stderr",
     "output_type": "stream",
     "text": [
      "/Users/francis/opt/anaconda3/lib/python3.7/site-packages/seaborn/distributions.py:2551: FutureWarning: `distplot` is a deprecated function and will be removed in a future version. Please adapt your code to use either `displot` (a figure-level function with similar flexibility) or `histplot` (an axes-level function for histograms).\n",
      "  warnings.warn(msg, FutureWarning)\n",
      "/Users/francis/opt/anaconda3/lib/python3.7/site-packages/seaborn/distributions.py:2551: FutureWarning: `distplot` is a deprecated function and will be removed in a future version. Please adapt your code to use either `displot` (a figure-level function with similar flexibility) or `histplot` (an axes-level function for histograms).\n",
      "  warnings.warn(msg, FutureWarning)\n"
     ]
    },
    {
     "data": {
      "text/plain": [
       "<matplotlib.axes._subplots.AxesSubplot at 0x7fa895157ad0>"
      ]
     },
     "execution_count": 140,
     "metadata": {},
     "output_type": "execute_result"
    },
    {
     "data": {
      "image/png": "[encoded data removed]",
      "text/plain": [
       "<Figure size 432x288 with 1 Axes>"
      ]
     },
     "metadata": {
      "needs_background": "light"
     },
     "output_type": "display_data"
    }
   ],
   "source": [
    "sns.distplot(stats.t(loc=result[0], scale=result[1], df=result[2]).rvs(10000))\n",
    "sns.distplot(brr_normalised)"
   ]
  },
  {
   "cell_type": "code",
   "execution_count": 42,
   "metadata": {
    "collapsed": true
   },
   "outputs": [
    {
     "name": "stderr",
     "output_type": "stream",
     "text": [
      "/Users/francis/opt/anaconda3/lib/python3.7/site-packages/seaborn/distributions.py:2551: FutureWarning: `distplot` is a deprecated function and will be removed in a future version. Please adapt your code to use either `displot` (a figure-level function with similar flexibility) or `histplot` (an axes-level function for histograms).\n",
      "  warnings.warn(msg, FutureWarning)\n",
      "/Users/francis/opt/anaconda3/lib/python3.7/site-packages/seaborn/distributions.py:2551: FutureWarning: `distplot` is a deprecated function and will be removed in a future version. Please adapt your code to use either `displot` (a figure-level function with similar flexibility) or `histplot` (an axes-level function for histograms).\n",
      "  warnings.warn(msg, FutureWarning)\n"
     ]
    },
    {
     "data": {
      "text/plain": [
       "<matplotlib.axes._subplots.AxesSubplot at 0x7fa8b0b51210>"
      ]
     },
     "execution_count": 42,
     "metadata": {},
     "output_type": "execute_result"
    },
    {
     "data": {
      "image/png": "[encoded data removed]",
      "text/plain": [
       "<Figure size 432x288 with 1 Axes>"
      ]
     },
     "metadata": {
      "needs_background": "light"
     },
     "output_type": "display_data"
    }
   ],
   "source": [
    "sns.distplot(stats.t(df=8.578).rvs(10000)*np.std(data.return_brr)+np.mean(data.return_brr))\n",
    "sns.distplot(data.return_brr)"
   ]
  },
  {
   "cell_type": "code",
   "execution_count": 57,
   "metadata": {},
   "outputs": [
    {
     "name": "stderr",
     "output_type": "stream",
     "text": [
      "/Users/francis/opt/anaconda3/lib/python3.7/site-packages/seaborn/distributions.py:2551: FutureWarning: `distplot` is a deprecated function and will be removed in a future version. Please adapt your code to use either `displot` (a figure-level function with similar flexibility) or `histplot` (an axes-level function for histograms).\n",
      "  warnings.warn(msg, FutureWarning)\n",
      "/Users/francis/opt/anaconda3/lib/python3.7/site-packages/seaborn/distributions.py:2551: FutureWarning: `distplot` is a deprecated function and will be removed in a future version. Please adapt your code to use either `displot` (a figure-level function with similar flexibility) or `histplot` (an axes-level function for histograms).\n",
      "  warnings.warn(msg, FutureWarning)\n"
     ]
    },
    {
     "data": {
      "text/plain": [
       "<matplotlib.axes._subplots.AxesSubplot at 0x7fa8aee1aa90>"
      ]
     },
     "execution_count": 57,
     "metadata": {},
     "output_type": "execute_result"
    },
    {
     "data": {
      "image/png": "[encoded data removed]",
      "text/plain": [
       "<Figure size 432x288 with 1 Axes>"
      ]
     },
     "metadata": {
      "needs_background": "light"
     },
     "output_type": "display_data"
    }
   ],
   "source": [
    "sns.distplot(stats.t(df=3.3).rvs(10000))\n",
    "sns.distplot(brr_normalised)"
   ]
  },
  {
   "cell_type": "code",
   "execution_count": 86,
   "metadata": {},
   "outputs": [],
   "source": [
    "def loss(data, loc, scale, df):\n",
    "    if df <= 2:\n",
    "        return -5000\n",
    "    return np.mean(np.log(stats.t(loc=loc,scale=scale,df=df).pdf(data)))"
   ]
  },
  {
   "cell_type": "code",
   "execution_count": 87,
   "metadata": {},
   "outputs": [
    {
     "name": "stdout",
     "output_type": "stream",
     "text": [
      "Optimization terminated successfully.\n",
      "         Current function value: -1.868504\n",
      "         Iterations: 215\n",
      "         Function evaluations: 400\n"
     ]
    }
   ],
   "source": [
    "fn = lambda x: -loss(data.return_brr,x[0],x[1],x[2])\n",
    "result = scipy.optimize.fmin(fn, (0,1,10),\n",
    "                             maxiter=10000,\n",
    "                             maxfun=10000)"
   ]
  },
  {
   "cell_type": "code",
   "execution_count": 95,
   "metadata": {},
   "outputs": [
    {
     "name": "stderr",
     "output_type": "stream",
     "text": [
      "/Users/francis/opt/anaconda3/lib/python3.7/site-packages/seaborn/distributions.py:2551: FutureWarning: `distplot` is a deprecated function and will be removed in a future version. Please adapt your code to use either `displot` (a figure-level function with similar flexibility) or `histplot` (an axes-level function for histograms).\n",
      "  warnings.warn(msg, FutureWarning)\n"
     ]
    },
    {
     "data": {
      "text/plain": [
       "<matplotlib.axes._subplots.AxesSubplot at 0x7fa892ddc4d0>"
      ]
     },
     "execution_count": 95,
     "metadata": {},
     "output_type": "execute_result"
    },
    {
     "data": {
      "image/png": "[encoded data removed]",
      "text/plain": [
       "<Figure size 432x288 with 1 Axes>"
      ]
     },
     "metadata": {
      "needs_background": "light"
     },
     "output_type": "display_data"
    }
   ],
   "source": [
    "x = np.linspace(-1,1,1000)\n",
    "plt.plot(x,stats.t(loc=result[0],scale=result[1],df=result[2]).pdf(x))\n",
    "sns.distplot(data.return_brr)"
   ]
  },
  {
   "cell_type": "code",
   "execution_count": 103,
   "metadata": {},
   "outputs": [],
   "source": [
    "fitted_t = stats.t(loc=result[0],scale=result[1],df=result[2])"
   ]
  },
  {
   "cell_type": "code",
   "execution_count": 104,
   "metadata": {},
   "outputs": [
    {
     "data": {
      "text/plain": [
       "[<matplotlib.lines.Line2D at 0x7fa8931628d0>]"
      ]
     },
     "execution_count": 104,
     "metadata": {},
     "output_type": "execute_result"
    },
    {
     "data": {
      "image/png": "[encoded data removed]",
      "text/plain": [
       "<Figure size 432x288 with 1 Axes>"
      ]
     },
     "metadata": {
      "needs_background": "light"
     },
     "output_type": "display_data"
    }
   ],
   "source": [
    "ecdf = ECDF(data.return_brr)\n",
    "plt.plot(x,ecdf(x))\n",
    "plt.plot(x,fitted_t.cdf(x))"
   ]
  },
  {
   "cell_type": "code",
   "execution_count": 109,
   "metadata": {},
   "outputs": [
    {
     "name": "stderr",
     "output_type": "stream",
     "text": [
      "/Users/francis/opt/anaconda3/lib/python3.7/site-packages/seaborn/distributions.py:2551: FutureWarning: `distplot` is a deprecated function and will be removed in a future version. Please adapt your code to use either `displot` (a figure-level function with similar flexibility) or `histplot` (an axes-level function for histograms).\n",
      "  warnings.warn(msg, FutureWarning)\n",
      "/Users/francis/opt/anaconda3/lib/python3.7/site-packages/seaborn/distributions.py:2551: FutureWarning: `distplot` is a deprecated function and will be removed in a future version. Please adapt your code to use either `displot` (a figure-level function with similar flexibility) or `histplot` (an axes-level function for histograms).\n",
      "  warnings.warn(msg, FutureWarning)\n"
     ]
    },
    {
     "data": {
      "text/plain": [
       "<matplotlib.axes._subplots.AxesSubplot at 0x7fa892b953d0>"
      ]
     },
     "execution_count": 109,
     "metadata": {},
     "output_type": "execute_result"
    },
    {
     "data": {
      "image/png": "[encoded data removed]",
      "text/plain": [
       "<Figure size 432x288 with 1 Axes>"
      ]
     },
     "metadata": {
      "needs_background": "light"
     },
     "output_type": "display_data"
    }
   ],
   "source": [
    "sns.distplot(fitted_t.rvs(10000))\n",
    "sns.distplot(data.return_brr)"
   ]
  },
  {
   "cell_type": "code",
   "execution_count": 131,
   "metadata": {},
   "outputs": [
    {
     "name": "stdout",
     "output_type": "stream",
     "text": [
      "Optimization terminated successfully.\n",
      "         Current function value: 6.125909\n",
      "         Iterations: 61\n",
      "         Function evaluations: 112\n"
     ]
    }
   ],
   "source": [
    "T = stats.t(df=10).rvs(100000)\n",
    "testing_data = 500 + 100*T\n",
    "\n",
    "fn = lambda x: -loss(testing_data,x[0],x[1],x[2])\n",
    "result = scipy.optimize.fmin(fn, (500,100,10),\n",
    "                             maxiter=10000,\n",
    "                             maxfun=10000)"
   ]
  },
  {
   "cell_type": "code",
   "execution_count": 132,
   "metadata": {},
   "outputs": [
    {
     "data": {
      "text/plain": [
       "array([500.11745237, 100.33784862,  10.38775963])"
      ]
     },
     "execution_count": 132,
     "metadata": {},
     "output_type": "execute_result"
    }
   ],
   "source": [
    "result"
   ]
  },
  {
   "cell_type": "code",
   "execution_count": 130,
   "metadata": {},
   "outputs": [
    {
     "name": "stderr",
     "output_type": "stream",
     "text": [
      "/Users/francis/opt/anaconda3/lib/python3.7/site-packages/seaborn/distributions.py:2551: FutureWarning: `distplot` is a deprecated function and will be removed in a future version. Please adapt your code to use either `displot` (a figure-level function with similar flexibility) or `histplot` (an axes-level function for histograms).\n",
      "  warnings.warn(msg, FutureWarning)\n"
     ]
    },
    {
     "data": {
      "text/plain": [
       "<matplotlib.axes._subplots.AxesSubplot at 0x7fa8956bccd0>"
      ]
     },
     "execution_count": 130,
     "metadata": {},
     "output_type": "execute_result"
    },
    {
     "data": {
      "image/png": "[encoded data removed]",
      "text/plain": [
       "<Figure size 432x288 with 1 Axes>"
      ]
     },
     "metadata": {
      "needs_background": "light"
     },
     "output_type": "display_data"
    }
   ],
   "source": [
    "sns.distplot(testing_data)"
   ]
  },
  {
   "cell_type": "code",
   "execution_count": 168,
   "metadata": {},
   "outputs": [],
   "source": [
    "D = data.return_brr\n",
    "kdes = [KDE(np.array([d]), 'Gaussian') for d in D]"
   ]
  },
  {
   "cell_type": "code",
   "execution_count": 176,
   "metadata": {},
   "outputs": [],
   "source": [
    "F = [kdes[i].pdf(0.01) for i in range(len(D))]"
   ]
  },
  {
   "cell_type": "code",
   "execution_count": 188,
   "metadata": {},
   "outputs": [],
   "source": [
    "kde = KDE(D, 'Gaussian')"
   ]
  },
  {
   "cell_type": "code",
   "execution_count": 232,
   "metadata": {},
   "outputs": [],
   "source": [
    "u = lambda x: (x - D)/kde.h_brot\n",
    "K_cdf = norm(scale=kde.h_brot)\n",
    "\n",
    "x_arr = np.linspace(-0.3,0.3,1000)\n",
    "results = []\n",
    "\n",
    "for x in x_arr:\n",
    "    results.append(np.mean(K_cdf.cdf(u(x))))\n",
    "\n",
    "ecdf = ECDF(D)"
   ]
  },
  {
   "cell_type": "code",
   "execution_count": 235,
   "metadata": {},
   "outputs": [
    {
     "data": {
      "text/plain": [
       "[<matplotlib.lines.Line2D at 0x7fa89cdb7c90>]"
      ]
     },
     "execution_count": 235,
     "metadata": {},
     "output_type": "execute_result"
    },
    {
     "data": {
      "image/png": "[encoded data removed]",
      "text/plain": [
       "<Figure size 720x360 with 1 Axes>"
      ]
     },
     "metadata": {
      "needs_background": "light"
     },
     "output_type": "display_data"
    }
   ],
   "source": [
    "plt.figure(figsize=(10,5))\n",
    "plt.plot(x_arr, results, 'b-', markersize=1)\n",
    "plt.plot(x_arr, ecdf(x_arr), 'g.', markersize=1)\n",
    "plt.plot(x_arr, (results - ecdf(x_arr))**2)"
   ]
  },
  {
   "cell_type": "code",
   "execution_count": 234,
   "metadata": {},
   "outputs": [
    {
     "data": {
      "text/plain": [
       "3.2816126124756166e-05"
      ]
     },
     "execution_count": 234,
     "metadata": {},
     "output_type": "execute_result"
    }
   ],
   "source": [
    "np.sum((results - ecdf(x_arr))**2)"
   ]
  },
  {
   "cell_type": "code",
   "execution_count": 313,
   "metadata": {},
   "outputs": [],
   "source": [
    "kde_proposal = KDE(D*10, 'Gaussian')\n",
    "kde_target   = KDE(D, \"Gaussian\")"
   ]
  },
  {
   "cell_type": "code",
   "execution_count": 314,
   "metadata": {},
   "outputs": [],
   "source": [
    "sample_proposal = kde_proposal.rvs(20000)"
   ]
  },
  {
   "cell_type": "code",
   "execution_count": 315,
   "metadata": {},
   "outputs": [],
   "source": [
    "p = np.array([kde_proposal.pdf(sample_proposal[i]) for i in range(len(sample_proposal))])\n",
    "q = np.array([kde_target.pdf(sample_proposal[i]) for i in range(len(sample_proposal))])"
   ]
  },
  {
   "cell_type": "code",
   "execution_count": 316,
   "metadata": {},
   "outputs": [
    {
     "name": "stderr",
     "output_type": "stream",
     "text": [
      "/Users/francis/opt/anaconda3/lib/python3.7/site-packages/seaborn/distributions.py:2551: FutureWarning: `distplot` is a deprecated function and will be removed in a future version. Please adapt your code to use either `displot` (a figure-level function with similar flexibility) or `histplot` (an axes-level function for histograms).\n",
      "  warnings.warn(msg, FutureWarning)\n",
      "/Users/francis/opt/anaconda3/lib/python3.7/site-packages/seaborn/distributions.py:2551: FutureWarning: `distplot` is a deprecated function and will be removed in a future version. Please adapt your code to use either `displot` (a figure-level function with similar flexibility) or `histplot` (an axes-level function for histograms).\n",
      "  warnings.warn(msg, FutureWarning)\n"
     ]
    },
    {
     "data": {
      "text/plain": [
       "<matplotlib.axes._subplots.AxesSubplot at 0x7fa89e861390>"
      ]
     },
     "execution_count": 316,
     "metadata": {},
     "output_type": "execute_result"
    },
    {
     "data": {
      "image/png": "[encoded data removed]",
      "text/plain": [
       "<Figure size 432x288 with 1 Axes>"
      ]
     },
     "metadata": {
      "needs_background": "light"
     },
     "output_type": "display_data"
    }
   ],
   "source": [
    "S = np.random.choice(sample_proposal, p=q/p/sum(q/p), size=200000)\n",
    "sns.distplot(S)\n",
    "sns.distplot(D)"
   ]
  },
  {
   "cell_type": "code",
   "execution_count": 317,
   "metadata": {},
   "outputs": [
    {
     "data": {
      "text/plain": [
       "0.2217694587294419"
      ]
     },
     "execution_count": 317,
     "metadata": {},
     "output_type": "execute_result"
    }
   ],
   "source": [
    "max(kde_target.rvs(200000))"
   ]
  },
  {
   "cell_type": "code",
   "execution_count": 318,
   "metadata": {},
   "outputs": [
    {
     "data": {
      "text/plain": [
       "0.22029499805072678"
      ]
     },
     "execution_count": 318,
     "metadata": {},
     "output_type": "execute_result"
    }
   ],
   "source": [
    "max(S)"
   ]
  },
  {
   "cell_type": "code",
   "execution_count": 319,
   "metadata": {},
   "outputs": [
    {
     "data": {
      "text/plain": [
       "0.20025172800119664"
      ]
     },
     "execution_count": 319,
     "metadata": {},
     "output_type": "execute_result"
    }
   ],
   "source": [
    "max(D)"
   ]
  },
  {
   "cell_type": "code",
   "execution_count": 323,
   "metadata": {},
   "outputs": [
    {
     "data": {
      "text/plain": [
       "-0.27096567781743053"
      ]
     },
     "execution_count": 323,
     "metadata": {},
     "output_type": "execute_result"
    }
   ],
   "source": [
    "min(kde_target.rvs(200000))"
   ]
  },
  {
   "cell_type": "code",
   "execution_count": 324,
   "metadata": {},
   "outputs": [
    {
     "data": {
      "text/plain": [
       "-0.2632271376099256"
      ]
     },
     "execution_count": 324,
     "metadata": {},
     "output_type": "execute_result"
    }
   ],
   "source": [
    "min(S)"
   ]
  },
  {
   "cell_type": "code",
   "execution_count": 325,
   "metadata": {},
   "outputs": [
    {
     "data": {
      "text/plain": [
       "-0.24703383936521514"
      ]
     },
     "execution_count": 325,
     "metadata": {},
     "output_type": "execute_result"
    }
   ],
   "source": [
    "min(D)"
   ]
  },
  {
   "cell_type": "code",
   "execution_count": null,
   "metadata": {},
   "outputs": [],
   "source": [
    "kde"
   ]
  }
 ],
 "metadata": {
  "kernelspec": {
   "display_name": "Python 3",
   "language": "python",
   "name": "python3"
  },
  "language_info": {
   "codemirror_mode": {
    "name": "ipython",
    "version": 3
   },
   "file_extension": ".py",
   "mimetype": "text/x-python",
   "name": "python",
   "nbconvert_exporter": "python",
   "pygments_lexer": "ipython3",
   "version": "3.7.4"
  },
  "toc": {
   "base_numbering": 1,
   "nav_menu": {},
   "number_sections": true,
   "sideBar": true,
   "skip_h1_title": false,
   "title_cell": "Table of Contents",
   "title_sidebar": "Contents",
   "toc_cell": false,
   "toc_position": {},
   "toc_section_display": true,
   "toc_window_display": false
  }
 },
 "nbformat": 4,
 "nbformat_minor": 2
}
