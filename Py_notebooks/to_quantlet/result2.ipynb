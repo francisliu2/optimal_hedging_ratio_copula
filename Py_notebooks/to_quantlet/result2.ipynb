{
 "cells": [
  {
   "cell_type": "code",
   "execution_count": 1,
   "metadata": {},
   "outputs": [],
   "source": [
    "import numpy as np\n",
    "import pandas as pd\n",
    "import seaborn as sns\n",
    "import matplotlib.pyplot as plt\n",
    "import scipy.stats as ss\n",
    "import seaborn as sns\n",
    "import sys, os\n",
    "sys.path.append('../../src/')\n",
    "from toolbox import *\n",
    "import datetime\n",
    "\n",
    "result_names = ['BBT_Tiingo',                #0\n",
    "                'BBT_future_Tiingo_ada', \n",
    "                'BBT_future_Tiingo_eth',     #2\n",
    "                'BBT_future_Tiingo_ltc',\n",
    "                'BBT_future_Tiingo_xrp',     #4\n",
    "                'BBT_future_BITX',\n",
    "                'BBT_future_BITW20',         #6\n",
    "                'BBT_future_BITW70', \n",
    "                'BBT_future_BITW100',        #8\n",
    "                'BBT_future_CRIX']\n",
    "\n",
    "risk_measures = ['Variance',\n",
    "                 'ES q=0.05', 'ES q=0.01',\n",
    "                 'VaR q=0.05', 'VaR q=0.01',\n",
    "                 'ERM k=10', 'CH']\n",
    "\n",
    "order = ['BBT_Tiingo',    \n",
    "         'BBT_future_CRIX', 'BBT_future_BITX', 'BBT_future_BITW100', \n",
    "         'BBT_future_BITW20',  'BBT_future_BITW70',\n",
    "         'BBT_future_Tiingo_ada', 'BBT_future_Tiingo_eth',  'BBT_future_Tiingo_ltc','BBT_future_Tiingo_xrp']\n",
    "\n",
    "coin_names = ['btc', 'CRIX', 'BITX', 'BITW100', 'BITW20', 'BITW70', 'ada', 'eth', 'ltc', 'xrp']\n",
    "\n",
    "new_coin_names = ['BTC', 'CRIX', 'BITX', 'BITW100', 'BITW20', 'BITW70', 'ADA', 'ETH', 'LTC', 'XRP']"
   ]
  },
  {
   "cell_type": "code",
   "execution_count": 2,
   "metadata": {},
   "outputs": [],
   "source": [
    "# rn = 'BBT_future_Tiingo_ada'\n",
    "rn = 'BBT_Tiingo'\n",
    "rm = 'Variance'\n",
    "path = '../../results/%s/MM/rh_%s_copula_selection.csv'\\\n",
    "                %(rn, rm)\n",
    "\n",
    "df = pd.read_csv(path)\n",
    "df.Date = pd.to_datetime(df.Date)"
   ]
  }
 ],
 "metadata": {
  "kernelspec": {
   "display_name": "Python 3",
   "language": "python",
   "name": "python3"
  },
  "language_info": {
   "codemirror_mode": {
    "name": "ipython",
    "version": 3
   },
   "file_extension": ".py",
   "mimetype": "text/x-python",
   "name": "python",
   "nbconvert_exporter": "python",
   "pygments_lexer": "ipython3",
   "version": "3.7.4"
  },
  "toc": {
   "base_numbering": 1,
   "nav_menu": {},
   "number_sections": true,
   "sideBar": true,
   "skip_h1_title": false,
   "title_cell": "Table of Contents",
   "title_sidebar": "Contents",
   "toc_cell": false,
   "toc_position": {},
   "toc_section_display": true,
   "toc_window_display": false
  }
 },
 "nbformat": 4,
 "nbformat_minor": 2
}
