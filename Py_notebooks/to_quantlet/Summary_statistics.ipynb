{
 "cells": [
  {
   "cell_type": "code",
   "execution_count": 29,
   "metadata": {},
   "outputs": [],
   "source": [
    "import pandas as pd\n",
    "import numpy as np\n",
    "import scipy.stats as ss\n",
    "import os, sys\n",
    "sys.path.append('../../src/')\n",
    "\n",
    "import toolbox"
   ]
  },
  {
   "cell_type": "code",
   "execution_count": 30,
   "metadata": {},
   "outputs": [],
   "source": [
    "# List \n",
    "# individual coins: btc, ada, eth, ltc, xrp\n",
    "# indexes: BITX, BITW20, BITW100, CRIX\n",
    "\n",
    "index = ['BITX', 'BITW20', 'BITW70', 'BITW100', 'CRIX']\n",
    "coin_arr = ['ada', 'eth', 'ltc', 'xrp']"
   ]
  },
  {
   "cell_type": "code",
   "execution_count": 31,
   "metadata": {},
   "outputs": [],
   "source": [
    "# Table 1a: Moments, dependency with future, start and end\n",
    "def summary_statistics(df, coin_name, start='2000-01-01'):\n",
    "    \n",
    "    df = df.loc[df.Date >= start,:]\n",
    "    \n",
    "    rs = df.loc[:,'log return %s'%coin_name]\n",
    "    rf = df.loc[:, 'log return future']\n",
    "    \n",
    "    m1 = np.mean(rs)\n",
    "    m2 = np.std(rs)\n",
    "    m3 = ss.skew(rs) # Pearson coefficient of skewness\n",
    "    m4 = ss.kurtosis(rs) # Pearson coefficient of kurtosis\n",
    "\n",
    "    _max = np.max(rs)\n",
    "    _min = np.min(rs)\n",
    "\n",
    "    tau = ss.kendalltau(rs,rf)[0]\n",
    "    rho = np.corrcoef(rs, rf)[0,1]\n",
    "\n",
    "    end = df.Date.iloc[0]\n",
    "    start = df.Date.iloc[-1]\n",
    "    \n",
    "    _dict = {'m1':m1, 'm2':m2, 'm3':m3, 'm4':m4, \n",
    "            'max':_max, 'min':_min, \n",
    "            'tau':tau, 'rho':rho, \n",
    "            'start':start[:10], 'end':end[:10]}\n",
    "    \n",
    "    return pd.DataFrame([_dict], [coin_name])"
   ]
  },
  {
   "cell_type": "code",
   "execution_count": 32,
   "metadata": {},
   "outputs": [],
   "source": [
    "coin_arr = ['ada', 'eth', 'ltc', 'xrp']\n",
    "table1 = pd.DataFrame()\n",
    "for c in coin_arr:\n",
    "    coin_name = c\n",
    "    file_name = 'BBT_future_Tiingo_'+coin_name+'.csv'\n",
    "    path = '../../data/cleaned_data/'+file_name\n",
    "    df = pd.read_csv(path)\n",
    "    df = df.sort_values('Date', ascending=False)\n",
    "    table1 = table1.append(summary_statistics(df, c, '2018-08-01'))\n",
    "    "
   ]
  },
  {
   "cell_type": "code",
   "execution_count": 33,
   "metadata": {},
   "outputs": [],
   "source": [
    "# btc\n",
    "path = '../../data/cleaned_data/BBT_Tiingo.csv'\n",
    "df = pd.read_csv(path)\n",
    "\n",
    "table1 = table1.append(summary_statistics(df, 'bitcoin', '2018-08-01'))\n",
    "table1 = table1.append(summary_statistics(df, 'future', '2018-08-01'))"
   ]
  },
  {
   "cell_type": "code",
   "execution_count": 34,
   "metadata": {},
   "outputs": [],
   "source": [
    "for index_name in index:\n",
    "    file_name = 'BBT_future_'+index_name+'.csv'\n",
    "    path = '../../data/cleaned_data/'+file_name\n",
    "    df = pd.read_csv(path)\n",
    "    df = df.sort_values('Date', ascending=False)\n",
    "    table1 = table1.append(summary_statistics(df, index_name, '2018-08-01'))"
   ]
  },
  {
   "cell_type": "code",
   "execution_count": 35,
   "metadata": {},
   "outputs": [],
   "source": [
    "_index = ['btc','eth','ada','ltc','xrp','BITX','CRIX','BITW100','BITW20','BITW70']\n",
    "\n",
    "# table1"
   ]
  },
  {
   "cell_type": "code",
   "execution_count": 36,
   "metadata": {},
   "outputs": [],
   "source": [
    "def risk_statistics(df, coin_name, start='2000-01-01'):\n",
    "    \n",
    "    df = df.loc[df.Date >= start,:]\n",
    "\n",
    "    rs = df.loc[:,'log return %s'%coin_name]\n",
    "    ERM = toolbox.ERM_estimate_trapezoidal(10, rs)\n",
    "    ES1 = toolbox.ES(0.01, rs)\n",
    "    ES5 = toolbox.ES(0.05, rs)\n",
    "    VaR1 = toolbox.VaR(0.01, rs)\n",
    "    VaR5 = toolbox.VaR(0.05, rs)\n",
    "    Var = toolbox.Variance(rs)\n",
    "    \n",
    "    _dict = {'ERM':ERM, 'ES1':ES1, 'ES5':ES5, 'VaR1':VaR1, \n",
    "             'VaR5':VaR5, 'Var':Var}\n",
    "    \n",
    "    return pd.DataFrame([_dict], [coin_name])"
   ]
  },
  {
   "cell_type": "code",
   "execution_count": 37,
   "metadata": {},
   "outputs": [],
   "source": [
    "table2 = pd.DataFrame()\n",
    "\n",
    "for c in coin_arr:\n",
    "    coin_name = c\n",
    "    file_name = 'BBT_future_Tiingo_'+coin_name+'.csv'\n",
    "    path = '../../data/cleaned_data/'+file_name\n",
    "    df = pd.read_csv(path)\n",
    "    df = df.sort_values('Date', ascending=False)\n",
    "    table2 = table2.append(risk_statistics(df, c, '2018-08-01'))\n",
    "    \n",
    "path = '../../data/cleaned_data/BBT_Tiingo.csv'\n",
    "df = pd.read_csv(path)\n",
    "\n",
    "table2 = table2.append(risk_statistics(df, 'bitcoin'))\n",
    "table2 = table2.append(risk_statistics(df, 'future'))\n",
    "\n",
    "for index_name in index:\n",
    "    file_name = 'BBT_future_'+index_name+'.csv'\n",
    "    path = '../../data/cleaned_data/'+file_name\n",
    "    df = pd.read_csv(path)\n",
    "    df = df.sort_values('Date', ascending=False)\n",
    "    table2 = table2.append(risk_statistics(df, index_name, '2018-08-01'))"
   ]
  },
  {
   "cell_type": "code",
   "execution_count": 38,
   "metadata": {},
   "outputs": [
    {
     "data": {
      "text/html": [
       "<div>\n",
       "<style scoped>\n",
       "    .dataframe tbody tr th:only-of-type {\n",
       "        vertical-align: middle;\n",
       "    }\n",
       "\n",
       "    .dataframe tbody tr th {\n",
       "        vertical-align: top;\n",
       "    }\n",
       "\n",
       "    .dataframe thead th {\n",
       "        text-align: right;\n",
       "    }\n",
       "</style>\n",
       "<table border=\"1\" class=\"dataframe\">\n",
       "  <thead>\n",
       "    <tr style=\"text-align: right;\">\n",
       "      <th></th>\n",
       "      <th>ERM</th>\n",
       "      <th>ES1</th>\n",
       "      <th>ES5</th>\n",
       "      <th>VaR1</th>\n",
       "      <th>VaR5</th>\n",
       "      <th>Var</th>\n",
       "    </tr>\n",
       "  </thead>\n",
       "  <tbody>\n",
       "    <tr>\n",
       "      <th>ada</th>\n",
       "      <td>0.095791</td>\n",
       "      <td>0.214140</td>\n",
       "      <td>0.152781</td>\n",
       "      <td>0.170588</td>\n",
       "      <td>0.101729</td>\n",
       "      <td>0.004419</td>\n",
       "    </tr>\n",
       "    <tr>\n",
       "      <th>eth</th>\n",
       "      <td>0.088572</td>\n",
       "      <td>0.217855</td>\n",
       "      <td>0.144642</td>\n",
       "      <td>0.169135</td>\n",
       "      <td>0.097715</td>\n",
       "      <td>0.003672</td>\n",
       "    </tr>\n",
       "    <tr>\n",
       "      <th>ltc</th>\n",
       "      <td>0.096585</td>\n",
       "      <td>0.242580</td>\n",
       "      <td>0.158273</td>\n",
       "      <td>0.185884</td>\n",
       "      <td>0.101919</td>\n",
       "      <td>0.004139</td>\n",
       "    </tr>\n",
       "    <tr>\n",
       "      <th>xrp</th>\n",
       "      <td>0.095668</td>\n",
       "      <td>0.259285</td>\n",
       "      <td>0.159456</td>\n",
       "      <td>0.171372</td>\n",
       "      <td>0.104897</td>\n",
       "      <td>0.005142</td>\n",
       "    </tr>\n",
       "    <tr>\n",
       "      <th>bitcoin</th>\n",
       "      <td>0.073294</td>\n",
       "      <td>0.190733</td>\n",
       "      <td>0.120182</td>\n",
       "      <td>0.135245</td>\n",
       "      <td>0.083006</td>\n",
       "      <td>0.002257</td>\n",
       "    </tr>\n",
       "    <tr>\n",
       "      <th>future</th>\n",
       "      <td>0.075553</td>\n",
       "      <td>0.191951</td>\n",
       "      <td>0.123777</td>\n",
       "      <td>0.149558</td>\n",
       "      <td>0.082433</td>\n",
       "      <td>0.002391</td>\n",
       "    </tr>\n",
       "    <tr>\n",
       "      <th>BITX</th>\n",
       "      <td>0.072262</td>\n",
       "      <td>0.180512</td>\n",
       "      <td>0.121851</td>\n",
       "      <td>0.147969</td>\n",
       "      <td>0.076431</td>\n",
       "      <td>0.002242</td>\n",
       "    </tr>\n",
       "    <tr>\n",
       "      <th>BITW20</th>\n",
       "      <td>0.087091</td>\n",
       "      <td>0.222895</td>\n",
       "      <td>0.142478</td>\n",
       "      <td>0.175095</td>\n",
       "      <td>0.083903</td>\n",
       "      <td>0.003024</td>\n",
       "    </tr>\n",
       "    <tr>\n",
       "      <th>BITW70</th>\n",
       "      <td>0.094595</td>\n",
       "      <td>0.239928</td>\n",
       "      <td>0.156907</td>\n",
       "      <td>0.198197</td>\n",
       "      <td>0.098095</td>\n",
       "      <td>0.003424</td>\n",
       "    </tr>\n",
       "    <tr>\n",
       "      <th>BITW100</th>\n",
       "      <td>0.073052</td>\n",
       "      <td>0.184992</td>\n",
       "      <td>0.123148</td>\n",
       "      <td>0.146904</td>\n",
       "      <td>0.077594</td>\n",
       "      <td>0.002270</td>\n",
       "    </tr>\n",
       "    <tr>\n",
       "      <th>CRIX</th>\n",
       "      <td>0.070835</td>\n",
       "      <td>0.181904</td>\n",
       "      <td>0.118451</td>\n",
       "      <td>0.144185</td>\n",
       "      <td>0.074766</td>\n",
       "      <td>0.002210</td>\n",
       "    </tr>\n",
       "  </tbody>\n",
       "</table>\n",
       "</div>"
      ],
      "text/plain": [
       "              ERM       ES1       ES5      VaR1      VaR5       Var\n",
       "ada      0.095791  0.214140  0.152781  0.170588  0.101729  0.004419\n",
       "eth      0.088572  0.217855  0.144642  0.169135  0.097715  0.003672\n",
       "ltc      0.096585  0.242580  0.158273  0.185884  0.101919  0.004139\n",
       "xrp      0.095668  0.259285  0.159456  0.171372  0.104897  0.005142\n",
       "bitcoin  0.073294  0.190733  0.120182  0.135245  0.083006  0.002257\n",
       "future   0.075553  0.191951  0.123777  0.149558  0.082433  0.002391\n",
       "BITX     0.072262  0.180512  0.121851  0.147969  0.076431  0.002242\n",
       "BITW20   0.087091  0.222895  0.142478  0.175095  0.083903  0.003024\n",
       "BITW70   0.094595  0.239928  0.156907  0.198197  0.098095  0.003424\n",
       "BITW100  0.073052  0.184992  0.123148  0.146904  0.077594  0.002270\n",
       "CRIX     0.070835  0.181904  0.118451  0.144185  0.074766  0.002210"
      ]
     },
     "execution_count": 38,
     "metadata": {},
     "output_type": "execute_result"
    }
   ],
   "source": [
    "# table2 = table2.reindex(_index)\n",
    "table2"
   ]
  },
  {
   "cell_type": "code",
   "execution_count": 39,
   "metadata": {},
   "outputs": [],
   "source": [
    "_index = ['future','bitcoin','eth','ada','ltc','xrp','BITX','CRIX','BITW100','BITW20','BITW70']"
   ]
  },
  {
   "cell_type": "code",
   "execution_count": 40,
   "metadata": {},
   "outputs": [],
   "source": [
    "table1 = table1.reindex(_index)\n",
    "table2 = table2.reindex(_index)"
   ]
  },
  {
   "cell_type": "code",
   "execution_count": 41,
   "metadata": {},
   "outputs": [
    {
     "data": {
      "text/html": [
       "<div>\n",
       "<style scoped>\n",
       "    .dataframe tbody tr th:only-of-type {\n",
       "        vertical-align: middle;\n",
       "    }\n",
       "\n",
       "    .dataframe tbody tr th {\n",
       "        vertical-align: top;\n",
       "    }\n",
       "\n",
       "    .dataframe thead th {\n",
       "        text-align: right;\n",
       "    }\n",
       "</style>\n",
       "<table border=\"1\" class=\"dataframe\">\n",
       "  <thead>\n",
       "    <tr style=\"text-align: right;\">\n",
       "      <th></th>\n",
       "      <th>m1</th>\n",
       "      <th>m2</th>\n",
       "      <th>m3</th>\n",
       "      <th>m4</th>\n",
       "      <th>max</th>\n",
       "      <th>min</th>\n",
       "      <th>tau</th>\n",
       "      <th>rho</th>\n",
       "    </tr>\n",
       "  </thead>\n",
       "  <tbody>\n",
       "    <tr>\n",
       "      <th>future</th>\n",
       "      <td>0.002266</td>\n",
       "      <td>0.047580</td>\n",
       "      <td>-0.366160</td>\n",
       "      <td>4.792542</td>\n",
       "      <td>0.222514</td>\n",
       "      <td>-0.269920</td>\n",
       "      <td>1.000000</td>\n",
       "      <td>1.000000</td>\n",
       "    </tr>\n",
       "    <tr>\n",
       "      <th>bitcoin</th>\n",
       "      <td>0.002261</td>\n",
       "      <td>0.045790</td>\n",
       "      <td>-0.387484</td>\n",
       "      <td>5.044245</td>\n",
       "      <td>0.211384</td>\n",
       "      <td>-0.259965</td>\n",
       "      <td>0.921749</td>\n",
       "      <td>0.992384</td>\n",
       "    </tr>\n",
       "    <tr>\n",
       "      <th>eth</th>\n",
       "      <td>0.002594</td>\n",
       "      <td>0.060593</td>\n",
       "      <td>-0.069137</td>\n",
       "      <td>4.046130</td>\n",
       "      <td>0.315242</td>\n",
       "      <td>-0.320144</td>\n",
       "      <td>0.613693</td>\n",
       "      <td>0.786019</td>\n",
       "    </tr>\n",
       "    <tr>\n",
       "      <th>ada</th>\n",
       "      <td>0.003486</td>\n",
       "      <td>0.066478</td>\n",
       "      <td>0.007250</td>\n",
       "      <td>2.015130</td>\n",
       "      <td>0.258805</td>\n",
       "      <td>-0.268528</td>\n",
       "      <td>0.503697</td>\n",
       "      <td>0.685398</td>\n",
       "    </tr>\n",
       "    <tr>\n",
       "      <th>ltc</th>\n",
       "      <td>0.001298</td>\n",
       "      <td>0.064339</td>\n",
       "      <td>-0.333109</td>\n",
       "      <td>4.162287</td>\n",
       "      <td>0.272965</td>\n",
       "      <td>-0.375913</td>\n",
       "      <td>0.590592</td>\n",
       "      <td>0.779309</td>\n",
       "    </tr>\n",
       "    <tr>\n",
       "      <th>xrp</th>\n",
       "      <td>0.001138</td>\n",
       "      <td>0.071705</td>\n",
       "      <td>0.683356</td>\n",
       "      <td>12.436338</td>\n",
       "      <td>0.530037</td>\n",
       "      <td>-0.527652</td>\n",
       "      <td>0.493555</td>\n",
       "      <td>0.506819</td>\n",
       "    </tr>\n",
       "    <tr>\n",
       "      <th>BITX</th>\n",
       "      <td>0.002092</td>\n",
       "      <td>0.047350</td>\n",
       "      <td>-0.552960</td>\n",
       "      <td>4.038681</td>\n",
       "      <td>0.196783</td>\n",
       "      <td>-0.270220</td>\n",
       "      <td>0.865932</td>\n",
       "      <td>0.976451</td>\n",
       "    </tr>\n",
       "    <tr>\n",
       "      <th>CRIX</th>\n",
       "      <td>0.002209</td>\n",
       "      <td>0.047011</td>\n",
       "      <td>-0.494949</td>\n",
       "      <td>4.155185</td>\n",
       "      <td>0.194555</td>\n",
       "      <td>-0.271385</td>\n",
       "      <td>0.849397</td>\n",
       "      <td>0.973261</td>\n",
       "    </tr>\n",
       "    <tr>\n",
       "      <th>BITW100</th>\n",
       "      <td>0.002230</td>\n",
       "      <td>0.047644</td>\n",
       "      <td>-0.629151</td>\n",
       "      <td>4.033059</td>\n",
       "      <td>0.192144</td>\n",
       "      <td>-0.272694</td>\n",
       "      <td>0.851556</td>\n",
       "      <td>0.969868</td>\n",
       "    </tr>\n",
       "    <tr>\n",
       "      <th>BITW20</th>\n",
       "      <td>0.001825</td>\n",
       "      <td>0.054992</td>\n",
       "      <td>-0.900307</td>\n",
       "      <td>3.718742</td>\n",
       "      <td>0.180531</td>\n",
       "      <td>-0.310092</td>\n",
       "      <td>0.606355</td>\n",
       "      <td>0.784459</td>\n",
       "    </tr>\n",
       "    <tr>\n",
       "      <th>BITW70</th>\n",
       "      <td>0.001724</td>\n",
       "      <td>0.058515</td>\n",
       "      <td>-0.962299</td>\n",
       "      <td>4.105459</td>\n",
       "      <td>0.194287</td>\n",
       "      <td>-0.323453</td>\n",
       "      <td>0.553084</td>\n",
       "      <td>0.737774</td>\n",
       "    </tr>\n",
       "  </tbody>\n",
       "</table>\n",
       "</div>"
      ],
      "text/plain": [
       "               m1        m2        m3         m4       max       min  \\\n",
       "future   0.002266  0.047580 -0.366160   4.792542  0.222514 -0.269920   \n",
       "bitcoin  0.002261  0.045790 -0.387484   5.044245  0.211384 -0.259965   \n",
       "eth      0.002594  0.060593 -0.069137   4.046130  0.315242 -0.320144   \n",
       "ada      0.003486  0.066478  0.007250   2.015130  0.258805 -0.268528   \n",
       "ltc      0.001298  0.064339 -0.333109   4.162287  0.272965 -0.375913   \n",
       "xrp      0.001138  0.071705  0.683356  12.436338  0.530037 -0.527652   \n",
       "BITX     0.002092  0.047350 -0.552960   4.038681  0.196783 -0.270220   \n",
       "CRIX     0.002209  0.047011 -0.494949   4.155185  0.194555 -0.271385   \n",
       "BITW100  0.002230  0.047644 -0.629151   4.033059  0.192144 -0.272694   \n",
       "BITW20   0.001825  0.054992 -0.900307   3.718742  0.180531 -0.310092   \n",
       "BITW70   0.001724  0.058515 -0.962299   4.105459  0.194287 -0.323453   \n",
       "\n",
       "              tau       rho  \n",
       "future   1.000000  1.000000  \n",
       "bitcoin  0.921749  0.992384  \n",
       "eth      0.613693  0.786019  \n",
       "ada      0.503697  0.685398  \n",
       "ltc      0.590592  0.779309  \n",
       "xrp      0.493555  0.506819  \n",
       "BITX     0.865932  0.976451  \n",
       "CRIX     0.849397  0.973261  \n",
       "BITW100  0.851556  0.969868  \n",
       "BITW20   0.606355  0.784459  \n",
       "BITW70   0.553084  0.737774  "
      ]
     },
     "execution_count": 41,
     "metadata": {},
     "output_type": "execute_result"
    }
   ],
   "source": [
    "table1.iloc[:,:-2]"
   ]
  },
  {
   "cell_type": "code",
   "execution_count": 42,
   "metadata": {},
   "outputs": [
    {
     "data": {
      "text/html": [
       "<div>\n",
       "<style scoped>\n",
       "    .dataframe tbody tr th:only-of-type {\n",
       "        vertical-align: middle;\n",
       "    }\n",
       "\n",
       "    .dataframe tbody tr th {\n",
       "        vertical-align: top;\n",
       "    }\n",
       "\n",
       "    .dataframe thead th {\n",
       "        text-align: right;\n",
       "    }\n",
       "</style>\n",
       "<table border=\"1\" class=\"dataframe\">\n",
       "  <thead>\n",
       "    <tr style=\"text-align: right;\">\n",
       "      <th></th>\n",
       "      <th>ERM</th>\n",
       "      <th>ES1</th>\n",
       "      <th>ES5</th>\n",
       "      <th>VaR1</th>\n",
       "      <th>VaR5</th>\n",
       "      <th>Var</th>\n",
       "    </tr>\n",
       "  </thead>\n",
       "  <tbody>\n",
       "    <tr>\n",
       "      <th>future</th>\n",
       "      <td>0.075553</td>\n",
       "      <td>0.191951</td>\n",
       "      <td>0.123777</td>\n",
       "      <td>0.149558</td>\n",
       "      <td>0.082433</td>\n",
       "      <td>0.002391</td>\n",
       "    </tr>\n",
       "    <tr>\n",
       "      <th>bitcoin</th>\n",
       "      <td>0.073294</td>\n",
       "      <td>0.190733</td>\n",
       "      <td>0.120182</td>\n",
       "      <td>0.135245</td>\n",
       "      <td>0.083006</td>\n",
       "      <td>0.002257</td>\n",
       "    </tr>\n",
       "    <tr>\n",
       "      <th>eth</th>\n",
       "      <td>0.088572</td>\n",
       "      <td>0.217855</td>\n",
       "      <td>0.144642</td>\n",
       "      <td>0.169135</td>\n",
       "      <td>0.097715</td>\n",
       "      <td>0.003672</td>\n",
       "    </tr>\n",
       "    <tr>\n",
       "      <th>ada</th>\n",
       "      <td>0.095791</td>\n",
       "      <td>0.214140</td>\n",
       "      <td>0.152781</td>\n",
       "      <td>0.170588</td>\n",
       "      <td>0.101729</td>\n",
       "      <td>0.004419</td>\n",
       "    </tr>\n",
       "    <tr>\n",
       "      <th>ltc</th>\n",
       "      <td>0.096585</td>\n",
       "      <td>0.242580</td>\n",
       "      <td>0.158273</td>\n",
       "      <td>0.185884</td>\n",
       "      <td>0.101919</td>\n",
       "      <td>0.004139</td>\n",
       "    </tr>\n",
       "    <tr>\n",
       "      <th>xrp</th>\n",
       "      <td>0.095668</td>\n",
       "      <td>0.259285</td>\n",
       "      <td>0.159456</td>\n",
       "      <td>0.171372</td>\n",
       "      <td>0.104897</td>\n",
       "      <td>0.005142</td>\n",
       "    </tr>\n",
       "    <tr>\n",
       "      <th>BITX</th>\n",
       "      <td>0.072262</td>\n",
       "      <td>0.180512</td>\n",
       "      <td>0.121851</td>\n",
       "      <td>0.147969</td>\n",
       "      <td>0.076431</td>\n",
       "      <td>0.002242</td>\n",
       "    </tr>\n",
       "    <tr>\n",
       "      <th>CRIX</th>\n",
       "      <td>0.070835</td>\n",
       "      <td>0.181904</td>\n",
       "      <td>0.118451</td>\n",
       "      <td>0.144185</td>\n",
       "      <td>0.074766</td>\n",
       "      <td>0.002210</td>\n",
       "    </tr>\n",
       "    <tr>\n",
       "      <th>BITW100</th>\n",
       "      <td>0.073052</td>\n",
       "      <td>0.184992</td>\n",
       "      <td>0.123148</td>\n",
       "      <td>0.146904</td>\n",
       "      <td>0.077594</td>\n",
       "      <td>0.002270</td>\n",
       "    </tr>\n",
       "    <tr>\n",
       "      <th>BITW20</th>\n",
       "      <td>0.087091</td>\n",
       "      <td>0.222895</td>\n",
       "      <td>0.142478</td>\n",
       "      <td>0.175095</td>\n",
       "      <td>0.083903</td>\n",
       "      <td>0.003024</td>\n",
       "    </tr>\n",
       "    <tr>\n",
       "      <th>BITW70</th>\n",
       "      <td>0.094595</td>\n",
       "      <td>0.239928</td>\n",
       "      <td>0.156907</td>\n",
       "      <td>0.198197</td>\n",
       "      <td>0.098095</td>\n",
       "      <td>0.003424</td>\n",
       "    </tr>\n",
       "  </tbody>\n",
       "</table>\n",
       "</div>"
      ],
      "text/plain": [
       "              ERM       ES1       ES5      VaR1      VaR5       Var\n",
       "future   0.075553  0.191951  0.123777  0.149558  0.082433  0.002391\n",
       "bitcoin  0.073294  0.190733  0.120182  0.135245  0.083006  0.002257\n",
       "eth      0.088572  0.217855  0.144642  0.169135  0.097715  0.003672\n",
       "ada      0.095791  0.214140  0.152781  0.170588  0.101729  0.004419\n",
       "ltc      0.096585  0.242580  0.158273  0.185884  0.101919  0.004139\n",
       "xrp      0.095668  0.259285  0.159456  0.171372  0.104897  0.005142\n",
       "BITX     0.072262  0.180512  0.121851  0.147969  0.076431  0.002242\n",
       "CRIX     0.070835  0.181904  0.118451  0.144185  0.074766  0.002210\n",
       "BITW100  0.073052  0.184992  0.123148  0.146904  0.077594  0.002270\n",
       "BITW20   0.087091  0.222895  0.142478  0.175095  0.083903  0.003024\n",
       "BITW70   0.094595  0.239928  0.156907  0.198197  0.098095  0.003424"
      ]
     },
     "execution_count": 42,
     "metadata": {},
     "output_type": "execute_result"
    }
   ],
   "source": [
    "table2"
   ]
  },
  {
   "cell_type": "code",
   "execution_count": 43,
   "metadata": {},
   "outputs": [
    {
     "data": {
      "text/plain": [
       "5.717027701406222"
      ]
     },
     "execution_count": 43,
     "metadata": {},
     "output_type": "execute_result"
    }
   ],
   "source": [
    "np.log(300+4)"
   ]
  },
  {
   "cell_type": "code",
   "execution_count": 44,
   "metadata": {},
   "outputs": [
    {
     "data": {
      "text/plain": [
       "5.71042701737487"
      ]
     },
     "execution_count": 44,
     "metadata": {},
     "output_type": "execute_result"
    }
   ],
   "source": [
    "np.log(300+2)"
   ]
  },
  {
   "cell_type": "code",
   "execution_count": 215,
   "metadata": {},
   "outputs": [],
   "source": [
    "import copulae1 as C\n",
    "import KDEs as K"
   ]
  },
  {
   "cell_type": "code",
   "execution_count": 250,
   "metadata": {},
   "outputs": [],
   "source": [
    "kde_rs = K.KDE(rs, 'Gaussian')\n",
    "kde_rf = K.KDE(rf, 'Gaussian')\n",
    "\n",
    "C1 = C.Gaussian({'rho':0.9}, kde_rs, kde_rf)\n",
    "C2 = C.t_Copula({'rho':0.9, 'nu':4}, kde_rs, kde_rf, 2)"
   ]
  },
  {
   "cell_type": "code",
   "execution_count": 251,
   "metadata": {},
   "outputs": [
    {
     "name": "stderr",
     "output_type": "stream",
     "text": [
      "../../src/copulae1.py:116: RuntimeWarning: invalid value encountered in true_divide\n",
      "  return np.nanmean(np.log(part1 / part2))\n"
     ]
    },
    {
     "name": "stdout",
     "output_type": "stream",
     "text": [
      "Optimization terminated successfully.\n",
      "         Current function value: -0.333252\n",
      "         Iterations: 33\n",
      "         Function evaluations: 70\n"
     ]
    },
    {
     "name": "stderr",
     "output_type": "stream",
     "text": [
      "../../src/copulae1.py:78: RuntimeWarning: invalid value encountered in double_scalars\n",
      "  result = part1 / part2\n",
      "/Users/francis/opt/anaconda3/lib/python3.7/site-packages/ipykernel_launcher.py:4: RuntimeWarning: divide by zero encountered in log\n",
      "  after removing the cwd from sys.path.\n"
     ]
    },
    {
     "data": {
      "text/plain": [
       "279.2649923472345"
      ]
     },
     "execution_count": 251,
     "metadata": {},
     "output_type": "execute_result"
    }
   ],
   "source": [
    "u = kde_rs.cdf(rs)\n",
    "v = kde_rf.cdf(rf)\n",
    "C1.canonical_calibrate(u,v)\n",
    "l = np.array([np.log(C1.c(u[i],v[i])) for i in range(len(rs))])\n",
    "np.sum(l[np.isfinite(l)])"
   ]
  },
  {
   "cell_type": "code",
   "execution_count": 252,
   "metadata": {},
   "outputs": [
    {
     "name": "stdout",
     "output_type": "stream",
     "text": [
      "Optimization terminated successfully.\n",
      "         Current function value: -0.402058\n",
      "         Iterations: 75\n",
      "         Function evaluations: 158\n"
     ]
    },
    {
     "data": {
      "text/plain": [
       "326.9511478845575"
      ]
     },
     "execution_count": 252,
     "metadata": {},
     "output_type": "execute_result"
    }
   ],
   "source": [
    "u = kde_rs.cdf(rs)\n",
    "v = kde_rf.cdf(rf)\n",
    "C2.canonical_calibrate(u,v)\n",
    "l = np.array([np.log(C2.c(u[i],v[i])) for i in range(len(rs))])\n",
    "np.sum(l[np.isfinite(l)])"
   ]
  },
  {
   "cell_type": "code",
   "execution_count": 253,
   "metadata": {},
   "outputs": [
    {
     "data": {
      "text/plain": [
       "185.6562"
      ]
     },
     "execution_count": 253,
     "metadata": {},
     "output_type": "execute_result"
    }
   ],
   "source": [
    "0.618854*300"
   ]
  }
 ],
 "metadata": {
  "kernelspec": {
   "display_name": "Python 3",
   "language": "python",
   "name": "python3"
  },
  "language_info": {
   "codemirror_mode": {
    "name": "ipython",
    "version": 3
   },
   "file_extension": ".py",
   "mimetype": "text/x-python",
   "name": "python",
   "nbconvert_exporter": "python",
   "pygments_lexer": "ipython3",
   "version": "3.7.4"
  },
  "toc": {
   "base_numbering": 1,
   "nav_menu": {},
   "number_sections": true,
   "sideBar": true,
   "skip_h1_title": false,
   "title_cell": "Table of Contents",
   "title_sidebar": "Contents",
   "toc_cell": false,
   "toc_position": {},
   "toc_section_display": true,
   "toc_window_display": false
  }
 },
 "nbformat": 4,
 "nbformat_minor": 2
}
