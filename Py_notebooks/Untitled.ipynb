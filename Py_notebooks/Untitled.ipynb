{
 "cells": [
  {
   "cell_type": "code",
   "execution_count": 14,
   "metadata": {},
   "outputs": [],
   "source": [
    "import os, sys\n",
    "sys.path.append('../src/')\n",
    "\n",
    "import seaborn as sns\n",
    "\n",
    "from scipy import interpolate\n",
    "from copulae1 import *\n",
    "\n",
    "import json\n",
    "with open('../src/configs/BBT_future_Tiingo_xrp_MM.json','r') as file:\n",
    "    config = json.load(file)\n",
    "config\n",
    "data_name = config['data_name']\n",
    "calibration_method  = config['calibration_method']\n",
    "OHR = pd.read_hdf('../results/'+data_name +'/'+calibration_method+'/best_h.h5')\n",
    "if not os.path.exists(\"../results/\" + data_name + \"/MLE/reports\"):\n",
    "\tprint(\"Create new folder for results\")\n",
    "\tos.mkdir(\"../results/\" + data_name + \"/MLE/reports\")\n",
    "\tos.mkdir(\"../results/\" + data_name + \"/MM/reports\")\n",
    "    \n",
    "if calibration_method == \"MLE\":\n",
    "    report_path = \"../results/\" + data_name + \"/MLE/reports/\"\n",
    "    result_path = \"../results/\" + data_name + \"/MLE/\"\n",
    "elif calibration_method == \"MM\":\n",
    "    report_path = \"../results/\" + data_name + \"/MM/reports/\"\n",
    "    result_path = \"../results/\" + data_name + \"/MM/\""
   ]
  },
  {
   "cell_type": "code",
   "execution_count": 15,
   "metadata": {},
   "outputs": [],
   "source": [
    "OHR = pd.read_csv(\"../results/%s/%s/OHR.csv\"%(data_name, calibration_method))\n",
    "cleaned_data = pd.read_csv('../data/cleaned_data/BBT_future_Tiingo_xrp.csv')"
   ]
  },
  {
   "cell_type": "code",
   "execution_count": 16,
   "metadata": {},
   "outputs": [],
   "source": [
    "norm = stats.norm(0,1)"
   ]
  },
  {
   "cell_type": "code",
   "execution_count": 17,
   "metadata": {},
   "outputs": [
    {
     "data": {
      "text/plain": [
       "1.020795194930687e-06"
      ]
     },
     "execution_count": 17,
     "metadata": {},
     "output_type": "execute_result"
    }
   ],
   "source": [
    "rs_law = stats.norm(scale = .1)\n",
    "rf_law = stats.norm(scale = .1)\n",
    "C = Gaussian({'rho':0.8}, Law_RS=rs_law, Law_RF=rf_law)\n",
    "\n",
    "\n",
    "C.f_RH(0.7, -0.33)"
   ]
  },
  {
   "cell_type": "code",
   "execution_count": 18,
   "metadata": {},
   "outputs": [
    {
     "data": {
      "text/plain": [
       "-inf"
      ]
     },
     "execution_count": 18,
     "metadata": {},
     "output_type": "execute_result"
    }
   ],
   "source": [
    "rs_law.ppf(0)"
   ]
  },
  {
   "cell_type": "code",
   "execution_count": 135,
   "metadata": {},
   "outputs": [
    {
     "name": "stdout",
     "output_type": "stream",
     "text": [
      "1025 1025\n",
      "0.9999862403071154 1.0000000000000004\n",
      "CPU times: user 966 ms, sys: 185 ms, total: 1.15 s\n",
      "Wall time: 632 ms\n"
     ]
    }
   ],
   "source": [
    "%%time\n",
    "h = 1\n",
    "\n",
    "# M = 1600\n",
    "# N = 1600 # n points for integration\n",
    "\n",
    "M = 1+2**10\n",
    "N = 1+2**10\n",
    "print(M, N)\n",
    "\n",
    "u = np.linspace(0.000001,0.999999,N)\n",
    "u_mat = np.repeat([u], M, axis=0)\n",
    "\n",
    "y_left  = -0.4\n",
    "y_right = .4\n",
    "y_range = y_right - y_left\n",
    "\n",
    "y = np.linspace(y_left,y_right,M)\n",
    "y_mat = np.repeat(y.reshape((-1,1)), N, axis=1)\n",
    "\n",
    "arg1 = norm.ppf(u_mat).reshape(-1)\n",
    "# arg2 = norm.ppf(rf_law.cdf((rs_law.ppf(u) - y).reshape(-1))/h)\n",
    "\n",
    "_h = (rs_law.ppf(u_mat) - y_mat)/h\n",
    "arg2 = rf_law.cdf(_h) \n",
    "arg2[arg2 <= 0.000001] = 0.000001\n",
    "arg2[arg2 >= 0.999999] = 0.999999\n",
    "arg2 = norm.ppf(arg2).reshape(-1)\n",
    "\n",
    "arg = np.stack((arg1, arg2), axis=-1)\n",
    "\n",
    "part1 = (MN.pdf(arg)/(norm.pdf(arg1)*norm.pdf(arg2))).reshape(M,N) # copula density\n",
    "part2 = rf_law.pdf(_h)\n",
    "\n",
    "_int = (part1*part2)\n",
    "# print(_int.shape)\n",
    "\n",
    "# pdf = (_int[:,1:]+_int[:, :-1])*(1/N)/2\n",
    "# pdf = np.sum(pdf, axis=1)/h\n",
    "\n",
    "pdf = integrate.simps(_int, u, axis=1)/np.abs(h)\n",
    "\n",
    "pdf_fn = interpolate.interp1d(y,pdf,kind='cubic', assume_sorted=True, fill_value=\"extrapolate\")\n",
    "cdf = np.cumsum(pdf)/np.sum(pdf)\n",
    "cdf_fn = interpolate.interp1d(y,cdf,kind='cubic', fill_value=\"extrapolate\")\n",
    "\n",
    "# duplicate_id = (cdf[1:]-cdf[:-1])!=0\n",
    "# ppf_fn = interpolate.interp1d(cdf[1:][duplicate_id], y[1:][duplicate_id], kind='cubic', fill_value='extrapolate')\n",
    "\n",
    "ppf_fn = interpolate.interp1d(cdf, y, kind='cubic', fill_value='extrapolate')\n",
    "\n",
    "\n",
    "VaR5 = -ppf_fn(0.05)\n",
    "q_arr = np.linspace(0,0.05, 10000)\n",
    "ES5 = -integrate.simps(ppf_fn(q_arr), q_arr)\n",
    "\n",
    "\n",
    "print(integrate.simps(pdf,y), cdf[-1])"
   ]
  },
  {
   "cell_type": "code",
   "execution_count": 136,
   "metadata": {},
   "outputs": [
    {
     "data": {
      "text/plain": [
       "0.006544954652685093"
      ]
     },
     "execution_count": 136,
     "metadata": {},
     "output_type": "execute_result"
    }
   ],
   "source": [
    "ES5"
   ]
  },
  {
   "cell_type": "code",
   "execution_count": 137,
   "metadata": {},
   "outputs": [
    {
     "data": {
      "text/plain": [
       "0.10444415804143624"
      ]
     },
     "execution_count": 137,
     "metadata": {},
     "output_type": "execute_result"
    }
   ],
   "source": [
    "VaR5"
   ]
  },
  {
   "cell_type": "code",
   "execution_count": 119,
   "metadata": {},
   "outputs": [
    {
     "data": {
      "text/plain": [
       "[<matplotlib.lines.Line2D at 0x7f8ce79fca90>]"
      ]
     },
     "execution_count": 119,
     "metadata": {},
     "output_type": "execute_result"
    },
    {
     "data": {
      "image/png": "[encoded data removed]",
      "text/plain": [
       "<Figure size 432x288 with 1 Axes>"
      ]
     },
     "metadata": {
      "needs_background": "light"
     },
     "output_type": "display_data"
    }
   ],
   "source": [
    "plt.plot(y, pdf)"
   ]
  },
  {
   "cell_type": "code",
   "execution_count": 120,
   "metadata": {},
   "outputs": [
    {
     "data": {
      "text/plain": [
       "[<matplotlib.lines.Line2D at 0x7f8ce8de1510>]"
      ]
     },
     "execution_count": 120,
     "metadata": {},
     "output_type": "execute_result"
    },
    {
     "data": {
      "image/png": "[encoded data removed]",
      "text/plain": [
       "<Figure size 432x288 with 1 Axes>"
      ]
     },
     "metadata": {
      "needs_background": "light"
     },
     "output_type": "display_data"
    }
   ],
   "source": [
    "plt.plot(y, cdf)"
   ]
  },
  {
   "cell_type": "code",
   "execution_count": 127,
   "metadata": {},
   "outputs": [
    {
     "data": {
      "text/plain": [
       "[<matplotlib.lines.Line2D at 0x7f8ce952fed0>]"
      ]
     },
     "execution_count": 127,
     "metadata": {},
     "output_type": "execute_result"
    },
    {
     "data": {
      "image/png": "[encoded data removed]",
      "text/plain": [
       "<Figure size 432x288 with 1 Axes>"
      ]
     },
     "metadata": {
      "needs_background": "light"
     },
     "output_type": "display_data"
    }
   ],
   "source": [
    "\n",
    "q_arr = np.linspace(0,1, 10000)\n",
    "plt.plot(q_arr,ppf_fn(q_arr))"
   ]
  },
  {
   "cell_type": "code",
   "execution_count": 101,
   "metadata": {},
   "outputs": [
    {
     "data": {
      "text/plain": [
       "<matplotlib.collections.PathCollection at 0x7f8ce95ff750>"
      ]
     },
     "execution_count": 101,
     "metadata": {},
     "output_type": "execute_result"
    },
    {
     "data": {
      "image/png": "[encoded data removed]",
      "text/plain": [
       "<Figure size 1152x648 with 1 Axes>"
      ]
     },
     "metadata": {
      "needs_background": "light"
     },
     "output_type": "display_data"
    }
   ],
   "source": [
    "# plt.plot(y, pdf_fn(y))\n",
    "\n",
    "plt.figure(figsize=(16,9))\n",
    "plt.plot(y, pdf)\n",
    "\n",
    "plt.xlim((-0.4,-0))\n",
    "# x_arr = np.linspace(-0.4,-0.25, 10000)\n",
    "\n",
    "# plt.plot(x_arr, pdf_fn(x_arr))\n",
    "\n",
    "plt.scatter(-0.33,C.f_RH(h, -0.33))\n",
    "plt.scatter(-0.34,C.f_RH(h, -0.34))\n",
    "plt.scatter(-0.26,C.f_RH(h, -0.26))\n",
    "plt.scatter(-0.15,C.f_RH(h, -0.15))\n",
    "\n",
    "plt.scatter(0,C.f_RH(0.7, 0))\n",
    "\n",
    "# plt.ylim((0,))"
   ]
  },
  {
   "cell_type": "code",
   "execution_count": 104,
   "metadata": {},
   "outputs": [],
   "source": [
    "from scipy.stats import multivariate_normal\n",
    "from scipy import integrate\n",
    "rho = 0.8\n",
    "\n",
    "R = np.array([[1.0, rho], [rho, 1]])\n",
    "MN = multivariate_normal([0, 0], R)\n"
   ]
  },
  {
   "cell_type": "code",
   "execution_count": 105,
   "metadata": {},
   "outputs": [
    {
     "data": {
      "text/plain": [
       "0.9999862403071154"
      ]
     },
     "execution_count": 105,
     "metadata": {},
     "output_type": "execute_result"
    }
   ],
   "source": [
    "# np.sum((pdf[1:]+ pdf[:-1])*(y_range/M)/2)\n",
    "integrate.simps(pdf,y)"
   ]
  },
  {
   "cell_type": "code",
   "execution_count": 106,
   "metadata": {},
   "outputs": [
    {
     "data": {
      "text/plain": [
       "0.9999862403071154"
      ]
     },
     "execution_count": 106,
     "metadata": {},
     "output_type": "execute_result"
    }
   ],
   "source": [
    "alpha = int(np.floor(0.05*len(y)))\n",
    "integrate.simps(pdf,y)"
   ]
  },
  {
   "cell_type": "code",
   "execution_count": 107,
   "metadata": {},
   "outputs": [
    {
     "data": {
      "text/plain": [
       "array([1.40254505e-11, 2.91249160e-11, 4.53791176e-11, ...,\n",
       "       1.00000000e+00, 1.00000000e+00, 1.00000000e+00])"
      ]
     },
     "execution_count": 107,
     "metadata": {},
     "output_type": "execute_result"
    }
   ],
   "source": [
    "cdf"
   ]
  },
  {
   "cell_type": "code",
   "execution_count": 109,
   "metadata": {},
   "outputs": [],
   "source": [
    "MN_rvs = MN.rvs(10000)\n",
    "\n",
    "u1 = norm.cdf(MN_rvs[:,0])\n",
    "u2 = norm.cdf(MN_rvs[:,1])\n",
    "\n",
    "rs = rs_law.ppf(u1)\n",
    "rf = rf_law.ppf(u2)"
   ]
  },
  {
   "cell_type": "code",
   "execution_count": 55,
   "metadata": {},
   "outputs": [
    {
     "data": {
      "text/plain": [
       "<matplotlib.collections.PathCollection at 0x7f8cfb6cebd0>"
      ]
     },
     "execution_count": 55,
     "metadata": {},
     "output_type": "execute_result"
    },
    {
     "data": {
      "image/png": "[encoded data removed]",
      "text/plain": [
       "<Figure size 360x360 with 1 Axes>"
      ]
     },
     "metadata": {
      "needs_background": "light"
     },
     "output_type": "display_data"
    }
   ],
   "source": [
    "plt.figure(figsize=(5,5))\n",
    "# plt.scatter(u1, u2)\n",
    "plt.scatter(rs, rf)"
   ]
  },
  {
   "cell_type": "code",
   "execution_count": 112,
   "metadata": {},
   "outputs": [
    {
     "name": "stderr",
     "output_type": "stream",
     "text": [
      "/Users/francis/opt/anaconda3/lib/python3.7/site-packages/seaborn/distributions.py:2551: FutureWarning: `distplot` is a deprecated function and will be removed in a future version. Please adapt your code to use either `displot` (a figure-level function with similar flexibility) or `histplot` (an axes-level function for histograms).\n",
      "  warnings.warn(msg, FutureWarning)\n",
      "/Users/francis/opt/anaconda3/lib/python3.7/site-packages/matplotlib/cbook/__init__.py:1402: FutureWarning: Support for multi-dimensional indexing (e.g. `obj[:, None]`) is deprecated and will be removed in a future version.  Convert to a numpy array before indexing instead.\n",
      "  x[:, None]\n",
      "/Users/francis/opt/anaconda3/lib/python3.7/site-packages/matplotlib/axes/_base.py:276: FutureWarning: Support for multi-dimensional indexing (e.g. `obj[:, None]`) is deprecated and will be removed in a future version.  Convert to a numpy array before indexing instead.\n",
      "  x = x[:, np.newaxis]\n",
      "/Users/francis/opt/anaconda3/lib/python3.7/site-packages/matplotlib/axes/_base.py:278: FutureWarning: Support for multi-dimensional indexing (e.g. `obj[:, None]`) is deprecated and will be removed in a future version.  Convert to a numpy array before indexing instead.\n",
      "  y = y[:, np.newaxis]\n"
     ]
    },
    {
     "data": {
      "text/plain": [
       "(0, 0.1)"
      ]
     },
     "execution_count": 112,
     "metadata": {},
     "output_type": "execute_result"
    },
    {
     "data": {
      "image/png": "[encoded data removed]",
      "text/plain": [
       "<Figure size 432x288 with 1 Axes>"
      ]
     },
     "metadata": {
      "needs_background": "light"
     },
     "output_type": "display_data"
    }
   ],
   "source": [
    "rh = rs-h*rf\n",
    "sns.distplot(rh)\n",
    "# plt.plot(y,pdf)\n",
    "plt.plot(y,pdf_fn(y))\n",
    "\n",
    "plt.xlim((0.1,0.3))\n",
    "plt.ylim((0,0.1))"
   ]
  },
  {
   "cell_type": "code",
   "execution_count": 111,
   "metadata": {},
   "outputs": [
    {
     "data": {
      "text/plain": [
       "[<matplotlib.lines.Line2D at 0x7f8ce675f150>]"
      ]
     },
     "execution_count": 111,
     "metadata": {},
     "output_type": "execute_result"
    },
    {
     "data": {
      "image/png": "[encoded data removed]",
      "text/plain": [
       "<Figure size 432x288 with 1 Axes>"
      ]
     },
     "metadata": {
      "needs_background": "light"
     },
     "output_type": "display_data"
    }
   ],
   "source": [
    "from statsmodels.distributions.empirical_distribution import ECDF\n",
    "\n",
    "plt.plot(y, ECDF(rh)(y))\n",
    "plt.plot(y, cdf)"
   ]
  },
  {
   "cell_type": "code",
   "execution_count": null,
   "metadata": {},
   "outputs": [],
   "source": []
  },
  {
   "cell_type": "code",
   "execution_count": null,
   "metadata": {},
   "outputs": [],
   "source": []
  }
 ],
 "metadata": {
  "kernelspec": {
   "display_name": "Python 3",
   "language": "python",
   "name": "python3"
  },
  "language_info": {
   "codemirror_mode": {
    "name": "ipython",
    "version": 3
   },
   "file_extension": ".py",
   "mimetype": "text/x-python",
   "name": "python",
   "nbconvert_exporter": "python",
   "pygments_lexer": "ipython3",
   "version": "3.7.4"
  },
  "toc": {
   "base_numbering": 1,
   "nav_menu": {},
   "number_sections": true,
   "sideBar": true,
   "skip_h1_title": false,
   "title_cell": "Table of Contents",
   "title_sidebar": "Contents",
   "toc_cell": false,
   "toc_position": {},
   "toc_section_display": true,
   "toc_window_display": false
  }
 },
 "nbformat": 4,
 "nbformat_minor": 2
}
