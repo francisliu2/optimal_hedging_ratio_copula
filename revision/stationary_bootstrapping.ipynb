{
 "cells": [
  {
   "cell_type": "code",
   "execution_count": 259,
   "metadata": {},
   "outputs": [],
   "source": [
    "import numpy as np\n",
    "import pandas as pd\n",
    "pd.set_option('display.max_rows', 20)\n",
    "import sys, os\n",
    "sys.path.append('../../src/')\n",
    "# import toolbox\n",
    "import matplotlib.pyplot as plt\n",
    "import seaborn as sns\n",
    "from statsmodels.graphics.tsaplots import plot_acf\n",
    "from statsmodels.graphics.tsaplots import plot_pacf\n",
    "from toolbox import *\n",
    "import pickle\n",
    "# from toolbox import *"
   ]
  },
  {
   "cell_type": "code",
   "execution_count": 260,
   "metadata": {},
   "outputs": [],
   "source": [
    "spotCoin = 'eth'\n",
    "data_name = '%sUSD_BTCUSD_25SEP20'%spotCoin.upper()\n",
    "OHR_path = 'best_h/%s/'%data_name\n",
    "data_path = '/Volumes/external_SSD/copulaData/Deribit_ready2/%s/'%data_name\n",
    "HEs = pd.read_csv('%s_HEs.csv'%spotCoin, index_col=0)\n",
    "rh_results_df = pd.read_csv('%s_rh_results.csv'%spotCoin, index_col=0)"
   ]
  },
  {
   "cell_type": "code",
   "execution_count": 261,
   "metadata": {},
   "outputs": [],
   "source": [
    "ERM = lambda x: ERM_estimate_trapezoidal(10, x)\n",
    "ES1 = lambda x: ES(0.01, x)\n",
    "ES5 = lambda x: ES(0.05, x)\n",
    "VaR1 = lambda x: VaR(0.01, x)\n",
    "VaR5 = lambda x: VaR(0.05, x)\n",
    "Variance = lambda x: np.var(x)\n",
    "\n",
    "risk_measures_fn = [Variance, ES5, ES1, VaR5, VaR1, ERM]\n",
    "risk_measures_dict = dict(zip(risk_measures_name, risk_measures_fn))"
   ]
  },
  {
   "cell_type": "code",
   "execution_count": 262,
   "metadata": {},
   "outputs": [
    {
     "name": "stderr",
     "output_type": "stream",
     "text": [
      "/Users/francis/opt/anaconda3/lib/python3.7/site-packages/pandas/core/indexing.py:1773: SettingWithCopyWarning: \n",
      "A value is trying to be set on a copy of a slice from a DataFrame.\n",
      "Try using .loc[row_indexer,col_indexer] = value instead\n",
      "\n",
      "See the caveats in the documentation: https://pandas.pydata.org/pandas-docs/stable/user_guide/indexing.html#returning-a-view-versus-a-copy\n",
      "  self._setitem_single_column(ilocs[0], value, pi)\n"
     ]
    }
   ],
   "source": [
    "rh_copula_selection = rh_results_df.loc[rh_results_df.AIC_selected == 1,:]\n",
    "rh_copula_selection.loc[:,'datetime'] = pd.to_datetime(rh_copula_selection.loc[:,'datetime'])\n",
    "# risk_measures_name = list(set(rh_copula_selection.risk_measure))\n",
    "\n",
    "risk_measures_name = ['Variance', 'ES q=0.05', 'ES q=0.01', \n",
    "                      'VaR q=0.05', 'VaR q=0.01', 'ERM k=10']\n",
    "\n",
    "rh_copula_selection = rh_copula_selection.sort_values('datetime').reset_index(drop=True)"
   ]
  },
  {
   "cell_type": "code",
   "execution_count": 263,
   "metadata": {},
   "outputs": [],
   "source": [
    "# Stationary Block Bootstrap 2.7.2 of Lahiri\n",
    "def SB(X, p, T, seed, return_id=True):\n",
    "    np.random.seed(seed)\n",
    "    # X: time series to be sampled\n",
    "    # p: param of Geometric distribution; 1/p = mean of block sample length\n",
    "    # T: length of pseudo time series \n",
    "    X = X.reset_index(drop=True)\n",
    "    blockL = 0\n",
    "    s = []\n",
    "    while blockL < T:\n",
    "        I = int(np.random.choice(len(X), 1, replace=True))\n",
    "        L = int(np.random.geometric(p=p, size=1))\n",
    "        _id = np.linspace(I, I+L-1, num=L)\n",
    "        _id = list((_id % len(X)).astype(int))\n",
    "        blockL += len(_id)\n",
    "        if return_id:\n",
    "            s+=[_id]\n",
    "        else:\n",
    "            s.append(X.loc[_id, :])\n",
    "    \n",
    "    if return_id:\n",
    "        return np.concatenate(s).astype('int')[:T]\n",
    "    else:\n",
    "        return pd.concat(s).iloc[:T]"
   ]
  },
  {
   "cell_type": "code",
   "execution_count": 264,
   "metadata": {},
   "outputs": [],
   "source": [
    "T = len(pd.read_csv(data_path+'train/1.csv', index_col=0)) # = 336\n",
    "p = 1/4"
   ]
  },
  {
   "cell_type": "code",
   "execution_count": 265,
   "metadata": {
    "scrolled": true
   },
   "outputs": [],
   "source": [
    "_id = rh_results_df.risk_measure == risk_measures_name[0]\n",
    "_id &= rh_results_df.copula == 'Gaussian'\n",
    "X = rh_results_df.loc[_id].reset_index(drop=True)\n",
    "sample_id = dict()\n",
    "\n",
    "N_samples = 500\n",
    "for seed in range(0,N_samples):\n",
    "    sample_id[seed] = SB(X,p,T,seed,True)\n",
    "    "
   ]
  },
  {
   "cell_type": "code",
   "execution_count": 266,
   "metadata": {},
   "outputs": [],
   "source": [
    "copula_arr = list(set(rh_results_df.copula))"
   ]
  },
  {
   "cell_type": "code",
   "execution_count": 267,
   "metadata": {},
   "outputs": [
    {
     "data": {
      "text/plain": [
       "['t_Copula',\n",
       " 'Gaussian',\n",
       " 'Frank',\n",
       " 'Clayton',\n",
       " 'Plackett',\n",
       " 'rotGumbel',\n",
       " 'Gumbel',\n",
       " 'NIG',\n",
       " 'Gauss Mix Indep']"
      ]
     },
     "execution_count": 267,
     "metadata": {},
     "output_type": "execute_result"
    }
   ],
   "source": [
    "copula_arr"
   ]
  },
  {
   "cell_type": "code",
   "execution_count": 268,
   "metadata": {},
   "outputs": [],
   "source": [
    "HE_results_outer = dict()\n",
    "for rm in risk_measures_name:\n",
    "    HE_results = dict()\n",
    "    for c in copula_arr:\n",
    "        _id = rh_results_df.risk_measure == rm   \n",
    "        _id &= rh_results_df.copula == c\n",
    "        X = rh_results_df.loc[_id,:].copy().reset_index(drop=True)\n",
    "        fn = risk_measures_dict[rm]\n",
    "        HE_arr = []\n",
    "        for seed in list(sample_id.keys()):\n",
    "            _id = sample_id[seed]\n",
    "            _df = X.loc[_id, ['rh','rs']]\n",
    "            HE = 1-(fn(_df.rh)/fn(_df.rs))\n",
    "            HE_arr.append(HE)\n",
    "        HE_results[c] = HE_arr\n",
    "    HE_results_outer[rm] = HE_results"
   ]
  },
  {
   "cell_type": "code",
   "execution_count": 269,
   "metadata": {},
   "outputs": [
    {
     "data": {
      "image/png": "[encoded data removed]",
      "text/plain": [
       "<Figure size 432x288 with 1 Axes>"
      ]
     },
     "metadata": {
      "needs_background": "light"
     },
     "output_type": "display_data"
    }
   ],
   "source": [
    "rm = 'ES q=0.05'\n",
    "toPlot = []\n",
    "for c in copula_arr:\n",
    "    toPlot += [HE_results_outer[rm][c]]\n",
    "    \n",
    "plt.boxplot(toPlot)\n",
    "plt.xticks(range(1,len(copula_arr)+1), copula_arr, rotation=90)\n",
    "plt.title('%s HE'%rm)\n",
    "plt.show()"
   ]
  },
  {
   "cell_type": "code",
   "execution_count": 270,
   "metadata": {},
   "outputs": [
    {
     "data": {
      "image/png": "[encoded data removed]",
      "text/plain": [
       "<Figure size 432x288 with 1 Axes>"
      ]
     },
     "metadata": {
      "needs_background": "light"
     },
     "output_type": "display_data"
    }
   ],
   "source": [
    "rm = 'Variance'\n",
    "toPlot = []\n",
    "for c in copula_arr:\n",
    "    toPlot += [HE_results_outer[rm][c]]\n",
    "    \n",
    "plt.boxplot(toPlot)\n",
    "plt.xticks(range(1,len(copula_arr)+1), copula_arr, rotation=90)\n",
    "plt.title('%s HE'%rm)\n",
    "plt.show()"
   ]
  },
  {
   "cell_type": "code",
   "execution_count": 271,
   "metadata": {},
   "outputs": [
    {
     "data": {
      "image/png": "[encoded data removed]",
      "text/plain": [
       "<Figure size 432x288 with 1 Axes>"
      ]
     },
     "metadata": {
      "needs_background": "light"
     },
     "output_type": "display_data"
    }
   ],
   "source": [
    "rm = 'ES q=0.01'\n",
    "toPlot = []\n",
    "for c in copula_arr:\n",
    "    toPlot += [HE_results_outer[rm][c]]\n",
    "plt.boxplot(toPlot)\n",
    "plt.xticks(range(1,len(copula_arr)+1), copula_arr, rotation=90)\n",
    "plt.title('%s HE'%rm)\n",
    "plt.show()"
   ]
  },
  {
   "cell_type": "markdown",
   "metadata": {},
   "source": [
    "## copula selection"
   ]
  },
  {
   "cell_type": "code",
   "execution_count": 206,
   "metadata": {},
   "outputs": [],
   "source": [
    "_id = rh_copula_selection.risk_measure == risk_measures_name[0]\n",
    "X = rh_copula_selection.loc[_id].reset_index(drop=True)\n",
    "\n",
    "sample_id = dict()\n",
    "\n",
    "N_samples = 500\n",
    "for seed in range(0,N_samples):\n",
    "    sample_id[seed] = SB(X,p,T,seed,True)"
   ]
  },
  {
   "cell_type": "code",
   "execution_count": 207,
   "metadata": {},
   "outputs": [],
   "source": [
    "HE_results = dict()\n",
    "\n",
    "for rm in risk_measures_name:\n",
    "    _id = rh_copula_selection.risk_measure == rm   \n",
    "    X = rh_copula_selection.loc[_id,:].copy().reset_index(drop=True)\n",
    "    fn = risk_measures_dict[rm]\n",
    "    \n",
    "    HE_arr = []\n",
    "    for seed in list(sample_id.keys()):\n",
    "        _id = sample_id[seed]\n",
    "        _df = X.loc[_id, ['rh','rs']]\n",
    "        HE = 1-(fn(_df.rh)/fn(_df.rs))\n",
    "        HE_arr.append(HE)\n",
    "        \n",
    "    HE_results[rm] = HE_arr"
   ]
  },
  {
   "cell_type": "code",
   "execution_count": 208,
   "metadata": {},
   "outputs": [],
   "source": [
    "rm_results = dict()\n",
    "\n",
    "for rm in risk_measures_name:\n",
    "    _id = rh_copula_selection.risk_measure == rm   \n",
    "    X = rh_copula_selection.loc[_id,:].copy().reset_index(drop=True)\n",
    "    fn = risk_measures_dict[rm]\n",
    "    \n",
    "    rm_arr = []\n",
    "    for seed in list(sample_id.keys()):\n",
    "        _id = sample_id[seed]\n",
    "        _df = X.loc[_id, ['rh','rs','copula']]\n",
    "        rm_arr.append((fn(_df.rh), fn(_df.rs), _df.copula))\n",
    "        \n",
    "    rm_results[rm] = rm_arr"
   ]
  },
  {
   "cell_type": "code",
   "execution_count": 209,
   "metadata": {},
   "outputs": [
    {
     "data": {
      "text/plain": [
       "0.24284445872196814"
      ]
     },
     "execution_count": 209,
     "metadata": {},
     "output_type": "execute_result"
    }
   ],
   "source": [
    "_id  = rh_results_df.copula == 'NIG'\n",
    "_id &= rh_results_df.risk_measure == 'VaR q=0.05'\n",
    "_df = rh_results_df.loc[_id,:]\n",
    "1 - VaR5(_df.rh)/VaR5(_df.rs)"
   ]
  },
  {
   "cell_type": "code",
   "execution_count": 210,
   "metadata": {},
   "outputs": [
    {
     "data": {
      "text/plain": [
       "0.10999377641437891"
      ]
     },
     "execution_count": 210,
     "metadata": {},
     "output_type": "execute_result"
    }
   ],
   "source": [
    "_id  = rh_results_df.copula == 'NIG'\n",
    "_id &= rh_results_df.risk_measure == 'VaR q=0.01'\n",
    "_df = rh_results_df.loc[_id,:]\n",
    "1 - VaR1(_df.rh)/VaR1(_df.rs)"
   ]
  },
  {
   "cell_type": "code",
   "execution_count": 211,
   "metadata": {},
   "outputs": [
    {
     "data": {
      "text/plain": [
       "0.27296152057941236"
      ]
     },
     "execution_count": 211,
     "metadata": {},
     "output_type": "execute_result"
    }
   ],
   "source": [
    "_id  = rh_results_df.copula == 'Gaussian'\n",
    "_id &= rh_results_df.risk_measure == 'VaR q=0.05'\n",
    "_df = rh_results_df.loc[_id,:]\n",
    "1 - VaR5(_df.rh)/VaR5(_df.rs)"
   ]
  },
  {
   "cell_type": "code",
   "execution_count": 212,
   "metadata": {},
   "outputs": [
    {
     "data": {
      "text/plain": [
       "0.08568701192175554"
      ]
     },
     "execution_count": 212,
     "metadata": {},
     "output_type": "execute_result"
    }
   ],
   "source": [
    "_id  = rh_results_df.copula == 'Gaussian'\n",
    "_id &= rh_results_df.risk_measure == 'VaR q=0.01'\n",
    "_df = rh_results_df.loc[_id,:]\n",
    "1 - VaR1(_df.rh)/VaR1(_df.rs)"
   ]
  },
  {
   "cell_type": "code",
   "execution_count": 213,
   "metadata": {},
   "outputs": [],
   "source": [
    "with open('%s_HE_SB_results.pickle'%spotCoin, 'wb') as f:\n",
    "    pickle.dump(HE_results, f)"
   ]
  },
  {
   "cell_type": "code",
   "execution_count": 214,
   "metadata": {},
   "outputs": [
    {
     "data": {
      "text/plain": [
       "{'whiskers': [<matplotlib.lines.Line2D at 0x7fc734ac34d0>,\n",
       "  <matplotlib.lines.Line2D at 0x7fc734ac3a10>,\n",
       "  <matplotlib.lines.Line2D at 0x7fc73456d910>,\n",
       "  <matplotlib.lines.Line2D at 0x7fc734555f10>],\n",
       " 'caps': [<matplotlib.lines.Line2D at 0x7fc734ac3f10>,\n",
       "  <matplotlib.lines.Line2D at 0x7fc734ada810>,\n",
       "  <matplotlib.lines.Line2D at 0x7fc734555950>,\n",
       "  <matplotlib.lines.Line2D at 0x7fc734552810>],\n",
       " 'boxes': [<matplotlib.lines.Line2D at 0x7fc734ada7d0>,\n",
       "  <matplotlib.lines.Line2D at 0x7fc734ac3f90>],\n",
       " 'medians': [<matplotlib.lines.Line2D at 0x7fc734555990>,\n",
       "  <matplotlib.lines.Line2D at 0x7fc734552d10>],\n",
       " 'fliers': [<matplotlib.lines.Line2D at 0x7fc734555e90>,\n",
       "  <matplotlib.lines.Line2D at 0x7fc73456de50>],\n",
       " 'means': []}"
      ]
     },
     "execution_count": 214,
     "metadata": {},
     "output_type": "execute_result"
    },
    {
     "data": {
      "image/png": "[encoded data removed]",
      "text/plain": [
       "<Figure size 432x288 with 1 Axes>"
      ]
     },
     "metadata": {
      "needs_background": "light"
     },
     "output_type": "display_data"
    }
   ],
   "source": [
    "plt.boxplot([HE_results['ES q=0.05'], HE_results['ES q=0.01']])"
   ]
  },
  {
   "cell_type": "code",
   "execution_count": null,
   "metadata": {},
   "outputs": [],
   "source": []
  },
  {
   "cell_type": "code",
   "execution_count": 116,
   "metadata": {},
   "outputs": [],
   "source": [
    "HEs = []\n",
    "for seed in list(sample_id.keys()):\n",
    "    HEs.append(1 - ES5(X.loc[sample_id[seed], 'rh'])/ES5(X.loc[sample_id[seed], 'rs']))"
   ]
  },
  {
   "cell_type": "code",
   "execution_count": 117,
   "metadata": {},
   "outputs": [
    {
     "data": {
      "text/plain": [
       "{'whiskers': [<matplotlib.lines.Line2D at 0x7fc73339b510>,\n",
       "  <matplotlib.lines.Line2D at 0x7fc73339ba50>],\n",
       " 'caps': [<matplotlib.lines.Line2D at 0x7fc73339bf50>,\n",
       "  <matplotlib.lines.Line2D at 0x7fc7333a2490>],\n",
       " 'boxes': [<matplotlib.lines.Line2D at 0x7fc733396850>],\n",
       " 'medians': [<matplotlib.lines.Line2D at 0x7fc7333a29d0>],\n",
       " 'fliers': [<matplotlib.lines.Line2D at 0x7fc7333a2ed0>],\n",
       " 'means': []}"
      ]
     },
     "execution_count": 117,
     "metadata": {},
     "output_type": "execute_result"
    },
    {
     "data": {
      "image/png": "[encoded data removed]",
      "text/plain": [
       "<Figure size 432x288 with 1 Axes>"
      ]
     },
     "metadata": {
      "needs_background": "light"
     },
     "output_type": "display_data"
    }
   ],
   "source": [
    "plt.boxplot(HEs)"
   ]
  },
  {
   "cell_type": "code",
   "execution_count": null,
   "metadata": {},
   "outputs": [],
   "source": []
  }
 ],
 "metadata": {
  "kernelspec": {
   "display_name": "Python 3",
   "language": "python",
   "name": "python3"
  },
  "language_info": {
   "codemirror_mode": {
    "name": "ipython",
    "version": 3
   },
   "file_extension": ".py",
   "mimetype": "text/x-python",
   "name": "python",
   "nbconvert_exporter": "python",
   "pygments_lexer": "ipython3",
   "version": "3.7.4"
  },
  "toc": {
   "base_numbering": 1,
   "nav_menu": {},
   "number_sections": true,
   "sideBar": true,
   "skip_h1_title": false,
   "title_cell": "Table of Contents",
   "title_sidebar": "Contents",
   "toc_cell": false,
   "toc_position": {},
   "toc_section_display": true,
   "toc_window_display": false
  }
 },
 "nbformat": 4,
 "nbformat_minor": 2
}
