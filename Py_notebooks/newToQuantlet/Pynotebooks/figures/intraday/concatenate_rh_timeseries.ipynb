{
 "cells": [
  {
   "cell_type": "code",
   "execution_count": null,
   "metadata": {},
   "outputs": [],
   "source": [
    "import numpy as np\n",
    "import pandas as pd\n",
    "pd.set_option('display.max_rows', 20)\n",
    "import sys, os\n",
    "sys.path.append('../../src/')\n",
    "# import toolbox\n",
    "import matplotlib.pyplot as plt\n",
    "import seaborn as sns\n",
    "from statsmodels.graphics.tsaplots import plot_acf\n",
    "from statsmodels.graphics.tsaplots import plot_pacf\n",
    "from toolbox import *\n",
    "import pickle\n",
    "# from toolbox import *"
   ]
  },
  {
   "cell_type": "code",
   "execution_count": null,
   "metadata": {},
   "outputs": [],
   "source": [
    "spot_name = 'rs'\n",
    "future_name = 'rf'\n",
    "\n",
    "spotCoin = 'btc' # eth\n",
    "\n",
    "data_name = '%sUSD_BTCUSD_25SEP20'%spotCoin.upper()\n",
    "OHR_path = 'best_h/%s/'%data_name\n",
    "# Replace your directory to the data: data_path = '/Volumes/external_SSD/copulaData/Deribit_ready2/%s/'%data_name \n",
    "HEs = pd.read_csv('%s_HEs.csv'%spotCoin, index_col=0)"
   ]
  },
  {
   "cell_type": "code",
   "execution_count": null,
   "metadata": {},
   "outputs": [],
   "source": [
    "copula_names = list(set(HEs.copula))\n",
    "risk_measures = list(set(HEs.risk_measure))\n",
    "files = list(set(HEs.file))"
   ]
  },
  {
   "cell_type": "code",
   "execution_count": null,
   "metadata": {
    "scrolled": true
   },
   "outputs": [],
   "source": [
    "rh_results = []\n",
    "\n",
    "for f in files:\n",
    "    print(f)\n",
    "    ######## WORKING WITH TEST DATA ########\n",
    "    test = pd.read_csv(data_path+'test/'+f, index_col=0) \n",
    "    rs = test.rs\n",
    "    rf = test.rf\n",
    "    time = pd.to_datetime(test.datetime)\n",
    "    for c in copula_names:\n",
    "        for rm in risk_measures:\n",
    "            _id = HEs.copula == c\n",
    "            _id &= HEs.risk_measure == rm\n",
    "            _id &= HEs.file == f\n",
    "            h  = HEs.loc[_id, 'h'].values[0]\n",
    "            AIC_selected = HEs.loc[_id, 'AIC_selected'].values[0]\n",
    "            rh = rs - h*rf\n",
    "            rh_results.append({'c':c, 'rm':rm, 'f':f, 'h':h,\n",
    "                               'rs':rs, 'rf':rf, 'rh':rh,\n",
    "                               'datetime':time, 'AIC_selected':AIC_selected})"
   ]
  },
  {
   "cell_type": "code",
   "execution_count": null,
   "metadata": {},
   "outputs": [],
   "source": [
    "rh_results_df = []\n",
    "\n",
    "for row in rh_results:\n",
    "    _df = pd.DataFrame(row['rs'])\n",
    "    _df.columns = ['rs']\n",
    "    _df.loc[:, 'rf'] = row['rf']\n",
    "    _df.loc[:, 'rh'] = row['rh']\n",
    "    _df.loc[:, 'h'] = row['h']\n",
    "    _df.loc[:, 'risk_measure'] = row['rm']\n",
    "    _df.loc[:, 'datetime'] = row['datetime']\n",
    "    _df.loc[:, 'copula'] = row['c']\n",
    "    _df.loc[:, 'file'] = row['f']\n",
    "    _df.loc[:, 'AIC_selected'] = row['AIC_selected']\n",
    "    rh_results_df.append(_df)\n",
    "    \n",
    "rh_results_df = pd.concat(rh_results_df)"
   ]
  },
  {
   "cell_type": "code",
   "execution_count": null,
   "metadata": {},
   "outputs": [],
   "source": [
    "_id = rh_results_df.AIC_selected == 1\n",
    "_id &= rh_results_df.risk_measure == 'Variance'\n",
    "_df = rh_results_df.loc[_id, :].sort_values('datetime').reset_index(drop=True)"
   ]
  },
  {
   "cell_type": "code",
   "execution_count": null,
   "metadata": {
    "scrolled": true
   },
   "outputs": [],
   "source": [
    "rh_results_df.to_csv('%s_rh_results.csv'%spotCoin)"
   ]
  },
  {
   "cell_type": "code",
   "execution_count": null,
   "metadata": {},
   "outputs": [],
   "source": [
    "spotCoin = 'eth'\n",
    "data_name = '%sUSD_BTCUSD_25SEP20'%spotCoin.upper()\n",
    "OHR_path = 'best_h/%s/'%data_name\n",
    "data_path = '/Volumes/external_SSD/copulaData/Deribit_ready2/%s/'%data_name\n",
    "HEs = pd.read_csv('%s_HEs.csv'%spotCoin, index_col=0)\n",
    "rh_results_df = pd.read_csv('%s_rh_results.csv'%spotCoin)"
   ]
  },
  {
   "cell_type": "code",
   "execution_count": null,
   "metadata": {},
   "outputs": [],
   "source": [
    "rh_copula_selection = rh_results_df.loc[rh_results_df.AIC_selected == 1,:]\n",
    "rh_copula_selection.datetime = pd.to_datetime(rh_copula_selection.datetime)\n",
    "# risk_measures_name = list(set(rh_copula_selection.risk_measure))\n",
    "\n",
    "risk_measures_name = ['Variance', 'ES q=0.05', 'ES q=0.01', \n",
    "                      'VaR q=0.05', 'VaR q=0.01', 'ERM k=10']\n",
    "\n",
    "rh_copula_selection.sort_values('datetime',inplace=True)"
   ]
  },
  {
   "cell_type": "code",
   "execution_count": null,
   "metadata": {},
   "outputs": [],
   "source": [
    "# Stationary Block Bootstrap 2.7.2 of Lahiri\n",
    "def SB(X, p, T, seed, return_id=True):\n",
    "    np.random.seed(seed)\n",
    "    # X: time series to be sampled\n",
    "    # p: param of Geometric distribution; 1/p = mean of block sample length\n",
    "    # T: length of pseudo time series \n",
    "    X = X.reset_index(drop=True)\n",
    "    blockL = 0\n",
    "    s = []\n",
    "    while blockL < T:\n",
    "        I = int(np.random.choice(len(X), 1, replace=True))\n",
    "        L = int(np.random.geometric(p=p, size=1))\n",
    "        _id = np.linspace(I, I+L-1, num=L)\n",
    "        _id = list((_id % len(X)).astype(int))\n",
    "        blockL += len(_id)\n",
    "        if return_id:\n",
    "            s+=[_id]\n",
    "        else:\n",
    "            s.append(X.loc[_id, :])\n",
    "    \n",
    "    if return_id:\n",
    "        return np.concatenate(s).astype('int')[:T]\n",
    "    else:\n",
    "        return pd.concat(s).iloc[:T]"
   ]
  },
  {
   "cell_type": "code",
   "execution_count": null,
   "metadata": {},
   "outputs": [],
   "source": [
    "T = len(pd.read_csv(data_path+'train/1.csv', index_col=0)) # = 336\n",
    "p = 1/4"
   ]
  },
  {
   "cell_type": "code",
   "execution_count": null,
   "metadata": {},
   "outputs": [],
   "source": [
    "rm = 'Variance'\n",
    "_id = rh_copula_selection.risk_measure == rm   \n",
    "X = rh_copula_selection.loc[_id,:].copy()\n",
    "\n",
    "sample_id = dict()\n",
    "\n",
    "N_samples = 500\n",
    "for seed in range(0,N_samples):\n",
    "    sample_id[seed] = SB(X,p,T,seed,True)"
   ]
  },
  {
   "cell_type": "code",
   "execution_count": null,
   "metadata": {},
   "outputs": [],
   "source": [
    "risk_measures_name"
   ]
  },
  {
   "cell_type": "code",
   "execution_count": null,
   "metadata": {},
   "outputs": [],
   "source": [
    "ERM = lambda x: ERM_estimate_trapezoidal(10, x)\n",
    "ES1 = lambda x: ES(0.01, x)\n",
    "ES5 = lambda x: ES(0.05, x)\n",
    "VaR1 = lambda x: VaR(0.01, x)\n",
    "VaR5 = lambda x: VaR(0.05, x)\n",
    "Variance = lambda x: np.var(x)\n",
    "\n",
    "risk_measures_fn = [Variance, ES5, ES1, VaR5, VaR1, ERM]\n",
    "risk_measures_dict = dict(zip(risk_measures_name, risk_measures_fn))"
   ]
  },
  {
   "cell_type": "code",
   "execution_count": null,
   "metadata": {
    "scrolled": true
   },
   "outputs": [],
   "source": [
    "HE_results = dict()\n",
    "\n",
    "for rm in risk_measures_name:\n",
    "    _id = rh_copula_selection.risk_measure == rm   \n",
    "    X = rh_copula_selection.loc[_id,:].copy().reset_index(drop=True)\n",
    "    fn = risk_measures_dict[rm]\n",
    "    \n",
    "    HE_arr = []\n",
    "    for seed in list(sample_id.keys()):\n",
    "        _id = sample_id[seed]\n",
    "        _df = X.loc[_id, ['rh','rs']]\n",
    "        HE = 1-(fn(_df.rh)/fn(_df.rs))\n",
    "        HE_arr.append(HE)\n",
    "        \n",
    "    HE_results[rm] = HE_arr"
   ]
  },
  {
   "cell_type": "code",
   "execution_count": null,
   "metadata": {},
   "outputs": [],
   "source": [
    "rm_results = dict()\n",
    "\n",
    "for rm in risk_measures_name:\n",
    "    _id = rh_copula_selection.risk_measure == rm   \n",
    "    X = rh_copula_selection.loc[_id,:].copy().reset_index(drop=True)\n",
    "    fn = risk_measures_dict[rm]\n",
    "    \n",
    "    rm_arr = []\n",
    "    for seed in list(sample_id.keys()):\n",
    "        _id = sample_id[seed]\n",
    "        _df = X.loc[_id, ['rh','rs']]\n",
    "        rm_arr.append((fn(_df.rh), fn(_df.rs)))\n",
    "        \n",
    "    rm_results[rm] = rm_arr"
   ]
  },
  {
   "cell_type": "code",
   "execution_count": null,
   "metadata": {},
   "outputs": [],
   "source": [
    "returns_results = dict()\n",
    "\n",
    "for rm in risk_measures_name:\n",
    "    _id = rh_copula_selection.risk_measure == rm   \n",
    "    X   = rh_copula_selection.loc[_id,:].copy().reset_index(drop=True)\n",
    "    fn  = risk_measures_dict[rm]\n",
    "    \n",
    "    returns_arr = []\n",
    "    for seed in list(sample_id.keys()):\n",
    "        _id = sample_id[seed]\n",
    "        _df = X.loc[_id, ['rh','rs']]\n",
    "        returns_arr.append((_df.rh, _df.rs))\n",
    "        \n",
    "    returns_results[rm] = returns_arr"
   ]
  },
  {
   "cell_type": "code",
   "execution_count": null,
   "metadata": {},
   "outputs": [],
   "source": [
    "with open('%s_HE_SB_results.pickle'%spotCoin, 'wb') as f:\n",
    "    pickle.dump(HE_results, f)"
   ]
  },
  {
   "cell_type": "code",
   "execution_count": null,
   "metadata": {},
   "outputs": [],
   "source": [
    "spotCoin = 'btc'\n",
    "with open('%s_HE_SB_results.pickle'%spotCoin, 'rb') as f:\n",
    "    btc_HE = pickle.load(f)\n",
    "\n",
    "spotCoin = 'eth'\n",
    "with open('%s_HE_SB_results.pickle'%spotCoin, 'rb') as f:\n",
    "    eth_HE = pickle.load(f)"
   ]
  },
  {
   "cell_type": "code",
   "execution_count": null,
   "metadata": {},
   "outputs": [],
   "source": [
    "risk_measures_name"
   ]
  },
  {
   "cell_type": "code",
   "execution_count": null,
   "metadata": {},
   "outputs": [],
   "source": [
    "risk_measures_name = ['Variance', 'ES q=0.05', 'ES q=0.01', \n",
    "                      'VaR q=0.05', 'VaR q=0.01', 'ERM k=10']\n",
    "\n",
    "risk_measure_name_plot = ['Variance', 'ES 95%', 'ES 99%', 'VaR 95%', 'VaR 99%', 'ERM']\n",
    "rm2name =  dict(zip(risk_measures_name, risk_measure_name_plot))"
   ]
  },
  {
   "cell_type": "code",
   "execution_count": null,
   "metadata": {},
   "outputs": [],
   "source": [
    "factor = 4.5\n",
    "xsize = 3*factor\n",
    "ysize = 2*factor\n",
    "fig, axs = plt.subplots(nrows=2,ncols=3, figsize=(xsize, ysize), sharex=True, sharey=True)\n",
    "\n",
    "for i, rm in enumerate(risk_measures_name):\n",
    "    axs.flatten()[i].boxplot([btc_HE[rm], eth_HE[rm]])\n",
    "    axs.flatten()[i].axhline(y=0, xmin=0, xmax=1, color='black')\n",
    "    axs.flatten()[i].set_title(rm2name[rm])\n",
    "\n",
    "for p, a in enumerate(axs):\n",
    "    xtickNames = plt.setp(axs[p], xticklabels=['BTC', 'ETH'])\n",
    "    plt.setp(xtickNames, rotation=90, fontsize=12)\n",
    "    \n",
    "plt.ylim((-1,1))\n",
    "\n",
    "plt.savefig('intraday_HE.pdf', transparent=True, bbox_inches = 'tight')"
   ]
  },
  {
   "cell_type": "code",
   "execution_count": null,
   "metadata": {
    "scrolled": true
   },
   "outputs": [],
   "source": [
    "_id = rh_copula_selection.risk_measure == 'ES q=0.01'\n",
    "sns.distplot(rh_copula_selection.loc[_id, 'rh'])\n",
    "\n",
    "_id = rh_copula_selection.risk_measure == 'ES q=0.05'\n",
    "sns.distplot(rh_copula_selection.loc[_id, 'rh'])"
   ]
  }
 ],
 "metadata": {
  "kernelspec": {
   "display_name": "Python 3",
   "language": "python",
   "name": "python3"
  },
  "language_info": {
   "codemirror_mode": {
    "name": "ipython",
    "version": 3
   },
   "file_extension": ".py",
   "mimetype": "text/x-python",
   "name": "python",
   "nbconvert_exporter": "python",
   "pygments_lexer": "ipython3",
   "version": "3.7.4"
  },
  "toc": {
   "base_numbering": 1,
   "nav_menu": {},
   "number_sections": true,
   "sideBar": true,
   "skip_h1_title": false,
   "title_cell": "Table of Contents",
   "title_sidebar": "Contents",
   "toc_cell": false,
   "toc_position": {},
   "toc_section_display": true,
   "toc_window_display": false
  }
 },
 "nbformat": 4,
 "nbformat_minor": 2
}
