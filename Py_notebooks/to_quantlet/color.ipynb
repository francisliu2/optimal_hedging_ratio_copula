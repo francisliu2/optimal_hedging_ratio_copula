{
 "cells": [
  {
   "cell_type": "code",
   "execution_count": 8,
   "metadata": {},
   "outputs": [
    {
     "data": {
      "text/plain": [
       "(35, 169, 221)"
      ]
     },
     "execution_count": 8,
     "metadata": {},
     "output_type": "execute_result"
    }
   ],
   "source": [
    "import matplotlib.colors as mcolors\n",
    "from PIL import ImageColor\n",
    "ImageColor.getcolor(\"#23a9dd\", \"RGB\")\n",
    "# mcolors.TABLEAU_COLORS"
   ]
  },
  {
   "cell_type": "code",
   "execution_count": 12,
   "metadata": {},
   "outputs": [],
   "source": [
    "keys = list(mcolors.TABLEAU_COLORS.keys())"
   ]
  },
  {
   "cell_type": "code",
   "execution_count": 20,
   "metadata": {},
   "outputs": [
    {
     "data": {
      "text/plain": [
       "['tab:blue',\n",
       " 'tab:orange',\n",
       " 'tab:green',\n",
       " 'tab:red',\n",
       " 'tab:purple',\n",
       " 'tab:brown',\n",
       " 'tab:pink',\n",
       " 'tab:gray',\n",
       " 'tab:olive',\n",
       " 'tab:cyan']"
      ]
     },
     "execution_count": 20,
     "metadata": {},
     "output_type": "execute_result"
    }
   ],
   "source": [
    "keys"
   ]
  },
  {
   "cell_type": "code",
   "execution_count": 19,
   "metadata": {},
   "outputs": [
    {
     "name": "stdout",
     "output_type": "stream",
     "text": [
      "(31, 119, 180)\n",
      "(255, 127, 14)\n",
      "(44, 160, 44)\n",
      "(214, 39, 40)\n",
      "(148, 103, 189)\n",
      "(140, 86, 75)\n",
      "(227, 119, 194)\n",
      "(127, 127, 127)\n",
      "(188, 189, 34)\n",
      "(23, 190, 207)\n"
     ]
    }
   ],
   "source": [
    "\n",
    "for k in keys:\n",
    "    print(ImageColor.getcolor(mcolors.TABLEAU_COLORS[k], \"RGB\"))\n"
   ]
  },
  {
   "cell_type": "code",
   "execution_count": 7,
   "metadata": {},
   "outputs": [
    {
     "ename": "IndexError",
     "evalue": "tuple index out of range",
     "output_type": "error",
     "traceback": [
      "\u001b[0;31m---------------------------------------------------------------------------\u001b[0m",
      "\u001b[0;31mIndexError\u001b[0m                                Traceback (most recent call last)",
      "\u001b[0;32m<ipython-input-7-32fd7de8a1c5>\u001b[0m in \u001b[0;36m<module>\u001b[0;34m\u001b[0m\n\u001b[0;32m----> 1\u001b[0;31m \u001b[0mmcolors\u001b[0m\u001b[0;34m.\u001b[0m\u001b[0mhsv_to_rgb\u001b[0m\u001b[0;34m(\u001b[0m\u001b[0mmcolors\u001b[0m\u001b[0;34m.\u001b[0m\u001b[0mTABLEAU_COLORS\u001b[0m\u001b[0;34m[\u001b[0m\u001b[0;34m'tab:blue'\u001b[0m\u001b[0;34m]\u001b[0m\u001b[0;34m)\u001b[0m\u001b[0;34m\u001b[0m\u001b[0;34m\u001b[0m\u001b[0m\n\u001b[0m",
      "\u001b[0;32m~/opt/anaconda3/lib/python3.7/site-packages/matplotlib/colors.py\u001b[0m in \u001b[0;36mhsv_to_rgb\u001b[0;34m(hsv)\u001b[0m\n\u001b[1;32m   1457\u001b[0m \u001b[0;34m\u001b[0m\u001b[0m\n\u001b[1;32m   1458\u001b[0m     \u001b[0;31m# check length of the last dimension, should be _some_ sort of rgb\u001b[0m\u001b[0;34m\u001b[0m\u001b[0;34m\u001b[0m\u001b[0;34m\u001b[0m\u001b[0m\n\u001b[0;32m-> 1459\u001b[0;31m     \u001b[0;32mif\u001b[0m \u001b[0mhsv\u001b[0m\u001b[0;34m.\u001b[0m\u001b[0mshape\u001b[0m\u001b[0;34m[\u001b[0m\u001b[0;34m-\u001b[0m\u001b[0;36m1\u001b[0m\u001b[0;34m]\u001b[0m \u001b[0;34m!=\u001b[0m \u001b[0;36m3\u001b[0m\u001b[0;34m:\u001b[0m\u001b[0;34m\u001b[0m\u001b[0;34m\u001b[0m\u001b[0m\n\u001b[0m\u001b[1;32m   1460\u001b[0m         raise ValueError(\"Last dimension of input array must be 3; \"\n\u001b[1;32m   1461\u001b[0m                          \"shape {shp} was found.\".format(shp=hsv.shape))\n",
      "\u001b[0;31mIndexError\u001b[0m: tuple index out of range"
     ]
    }
   ],
   "source": [
    "mcolors.hsv_to_rgb(mcolors.TABLEAU_COLORS['tab:blue'])"
   ]
  },
  {
   "cell_type": "code",
   "execution_count": 26,
   "metadata": {},
   "outputs": [],
   "source": [
    "from PIL import Image, ImageDraw\n",
    "\n",
    "\n",
    "\n",
    "img = Image.new('RGB', (200,100))\n",
    "\n",
    "d = ImageDraw.Draw(img)\n",
    "d.text((20,20), '台灣玉山學者計劃')\n",
    "d.text((20,20), 'a')\n"
   ]
  }
 ],
 "metadata": {
  "kernelspec": {
   "display_name": "Python 3",
   "language": "python",
   "name": "python3"
  },
  "language_info": {
   "codemirror_mode": {
    "name": "ipython",
    "version": 3
   },
   "file_extension": ".py",
   "mimetype": "text/x-python",
   "name": "python",
   "nbconvert_exporter": "python",
   "pygments_lexer": "ipython3",
   "version": "3.7.4"
  },
  "toc": {
   "base_numbering": 1,
   "nav_menu": {},
   "number_sections": true,
   "sideBar": true,
   "skip_h1_title": false,
   "title_cell": "Table of Contents",
   "title_sidebar": "Contents",
   "toc_cell": false,
   "toc_position": {},
   "toc_section_display": true,
   "toc_window_display": false
  }
 },
 "nbformat": 4,
 "nbformat_minor": 2
}
