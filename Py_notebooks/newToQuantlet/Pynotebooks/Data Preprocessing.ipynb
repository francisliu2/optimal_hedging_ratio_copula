{
 "cells": [
  {
   "cell_type": "markdown",
   "metadata": {},
   "source": [
    "# Preprocess CME Bitcoin Futures Price Data"
   ]
  },
  {
   "cell_type": "code",
   "execution_count": 11,
   "metadata": {},
   "outputs": [],
   "source": [
    "import numpy as np\n",
    "import scipy.stats as stats\n",
    "import pandas as pd\n",
    "import datetime as dt\n",
    "import matplotlib.pyplot as plt\n",
    "\n",
    "# load data; The data is downloaded from BBT directly. \n",
    "xls = pd.ExcelFile('../data/btc future and reference rate/chains of btc future last price.xlsx')\n",
    "\n",
    "# Contract Month Codes\n",
    "month_code = ['F', 'G', 'H', 'J', 'K', 'M', 'N', 'Q', 'U', 'V', 'X','Z']\n",
    "month = [1,2,3,4,5,6,7,8,9,10,11,12]\n",
    "month_dict = dict(zip(month_code, month))\n",
    "\n",
    "year = [2021, 2020, 2020, 2019, 2018]\n",
    "year_code = ['1','0', '20', '19','18']\n",
    "year_dict = dict(zip(year_code, year))\n",
    "\n",
    "def last_Friday(y,m):\n",
    "    day = dt.date(y,m,1)\n",
    "\n",
    "    while day.weekday()!=4:\n",
    "        day -= dt.timedelta(days=1)\n",
    "    # Monday == 0 ... Sunday == 6\n",
    "    last_Fri = day\n",
    "    return last_Fri\n",
    "\n",
    "df = pd.read_excel(xls, 'Sheet%s'%42)\n",
    "future_name = df.iloc[2,1]\n",
    "future_name = future_name.replace('BTC', '').replace(' Curncy', '')\n",
    "\n",
    "y = year_dict[future_name[1:]]\n",
    "m = month_dict[future_name[0]] \n"
   ]
  },
  {
   "cell_type": "code",
   "execution_count": 12,
   "metadata": {},
   "outputs": [],
   "source": [
    "# Concatenate BTC Futures prices into one time series\n",
    "df_arr = []\n",
    "future_name_arr = []\n",
    "sheets = [43-i for i in range(1,43)]\n",
    "\n",
    "for i in sheets:\n",
    "    df = pd.read_excel(xls, 'Sheet%s'%i)\n",
    "    \n",
    "    # future name\n",
    "    future_name = df.iloc[2,1]\n",
    "    future_name = future_name.replace('BTC', '').replace(' Curncy', '')\n",
    "    future_name_arr.append(future_name)\n",
    "\n",
    "    y = year_dict[future_name[1:]]\n",
    "    m = month_dict[future_name[0]] \n",
    "\n",
    "    lf = pd.to_datetime(last_Friday(y,m))\n",
    "        \n",
    "    df.columns = ['Date', 'PX_LAST']\n",
    "    df = df.iloc[5:, :]\n",
    "    df.reset_index(drop=True, inplace=True)\n",
    "    df.Date = pd.to_datetime(df.Date)\n",
    "    \n",
    "    # remove price on and after expiry; time delta is to get some buffer\n",
    "    df = df.loc[df.Date < lf - dt.timedelta(hours=1),:] \n",
    "\n",
    "    df.loc[:,'contract_name'] = ['BTC'+future_name+' Curncy']*len(df)\n",
    "    df_arr.append(df)"
   ]
  },
  {
   "cell_type": "code",
   "execution_count": 13,
   "metadata": {},
   "outputs": [],
   "source": [
    "# sort and drop duplicates\n",
    "results = df_arr[0]\n",
    "\n",
    "for df in df_arr[1:]:\n",
    "    results = pd.concat([results, df])\n",
    "    \n",
    "results.drop_duplicates(subset=['Date'], keep='first', inplace=True)\n",
    "results.sort_values('Date', ascending=False, inplace=True)\n",
    "results.reset_index(inplace=True, drop=True)\n",
    "\n",
    "# assign an hour entry to the daily closing price and convert to UTC; The CME BTC future close at 3pm US central time. \n",
    "results.Date = results.Date + pd.to_timedelta(15, unit='h')\n",
    "results.index= results.Date\n",
    "results.Date = results.index.tz_localize('US/Central').tz_convert('UTC')\n",
    "results.reset_index(drop=True, inplace=True)\n",
    "\n",
    "# save\n",
    "# results.to_csv('../data/btc future and reference rate/concated_cleaned_bbt_future.csv')\n",
    "# results.to_pickle('../data/btc future and reference rate/concated_cleaned_bbt_future.pkl')"
   ]
  },
  {
   "cell_type": "code",
   "execution_count": 34,
   "metadata": {
    "scrolled": false
   },
   "outputs": [],
   "source": [
    "# merge with hourly BTC prices from Tiingo\n",
    "btc = pd.read_csv('../data/tiingo_btc.csv')\n",
    "btc.date = pd.to_datetime(btc.date, utc = True)\n",
    "btc = btc.loc[:,['date', 'open']]\n",
    "btc.columns = ['Date', 'BTC Price']\n",
    "\n",
    "merged = results.merge(btc, on = 'Date', how='inner')\n",
    "merged = merged.drop_duplicates()\n",
    "merged.PX_LAST = merged.PX_LAST.astype(np.float)\n",
    "\n",
    "# log returns\n",
    "merged.loc[:, 'log return future'] = np.log(merged.PX_LAST/merged.PX_LAST.shift(-1))\n",
    "merged.loc[:, 'log return bitcoin'] = np.log(merged.loc[:, 'BTC Price']/merged.loc[:, 'BTC Price'].shift(-1))\n",
    "\n",
    "# save\n",
    "# merged.to_csv('../data/cleaned_data/BBT_Tiingo.csv')"
   ]
  },
  {
   "cell_type": "markdown",
   "metadata": {},
   "source": [
    "# Bitwise related indices"
   ]
  },
  {
   "cell_type": "code",
   "execution_count": null,
   "metadata": {},
   "outputs": [],
   "source": [
    "def convert_GMT(date):\n",
    "    # convert date value from BITX data to utc time\n",
    "    return pd.to_datetime(date[:-8]).tz_localize('US/Eastern').tz_convert('UTC')\n"
   ]
  },
  {
   "cell_type": "markdown",
   "metadata": {},
   "source": [
    "# Data Slicing\n",
    "We slice the cleaned data into training and testing sets."
   ]
  },
  {
   "cell_type": "code",
   "execution_count": 1,
   "metadata": {},
   "outputs": [
    {
     "name": "stdout",
     "output_type": "stream",
     "text": [
      "create new folder\n"
     ]
    },
    {
     "ename": "NameError",
     "evalue": "name 'os' is not defined",
     "output_type": "error",
     "traceback": [
      "\u001b[0;31m---------------------------------------------------------------------------\u001b[0m",
      "\u001b[0;31mNameError\u001b[0m                                 Traceback (most recent call last)",
      "\u001b[0;32m<ipython-input-1-5c4234147533>\u001b[0m in \u001b[0;36m<module>\u001b[0;34m\u001b[0m\n\u001b[1;32m      1\u001b[0m \u001b[0;32mtry\u001b[0m\u001b[0;34m:\u001b[0m\u001b[0;34m\u001b[0m\u001b[0;34m\u001b[0m\u001b[0m\n\u001b[0;32m----> 2\u001b[0;31m     \u001b[0mos\u001b[0m\u001b[0;34m.\u001b[0m\u001b[0mlistdir\u001b[0m\u001b[0;34m(\u001b[0m\u001b[0;34m'../../processed_data/%s/'\u001b[0m\u001b[0;34m%\u001b[0m\u001b[0mdata_name\u001b[0m\u001b[0;34m)\u001b[0m\u001b[0;34m\u001b[0m\u001b[0;34m\u001b[0m\u001b[0m\n\u001b[0m\u001b[1;32m      3\u001b[0m \u001b[0;34m\u001b[0m\u001b[0m\n",
      "\u001b[0;31mNameError\u001b[0m: name 'os' is not defined",
      "\nDuring handling of the above exception, another exception occurred:\n",
      "\u001b[0;31mNameError\u001b[0m                                 Traceback (most recent call last)",
      "\u001b[0;32m<ipython-input-1-5c4234147533>\u001b[0m in \u001b[0;36m<module>\u001b[0;34m\u001b[0m\n\u001b[1;32m      4\u001b[0m \u001b[0;32mexcept\u001b[0m\u001b[0;34m:\u001b[0m\u001b[0;34m\u001b[0m\u001b[0;34m\u001b[0m\u001b[0m\n\u001b[1;32m      5\u001b[0m     \u001b[0mprint\u001b[0m\u001b[0;34m(\u001b[0m\u001b[0;34m'create new folder'\u001b[0m\u001b[0;34m)\u001b[0m\u001b[0;34m\u001b[0m\u001b[0;34m\u001b[0m\u001b[0m\n\u001b[0;32m----> 6\u001b[0;31m     \u001b[0mos\u001b[0m\u001b[0;34m.\u001b[0m\u001b[0mmkdir\u001b[0m\u001b[0;34m(\u001b[0m\u001b[0;34m'../../processed_data/%s/'\u001b[0m\u001b[0;34m%\u001b[0m\u001b[0mdata_name\u001b[0m\u001b[0;34m)\u001b[0m\u001b[0;34m\u001b[0m\u001b[0;34m\u001b[0m\u001b[0m\n\u001b[0m\u001b[1;32m      7\u001b[0m     \u001b[0mos\u001b[0m\u001b[0;34m.\u001b[0m\u001b[0mmkdir\u001b[0m\u001b[0;34m(\u001b[0m\u001b[0;34m'../../processed_data/%s/train'\u001b[0m\u001b[0;34m%\u001b[0m\u001b[0mdata_name\u001b[0m\u001b[0;34m)\u001b[0m\u001b[0;34m\u001b[0m\u001b[0;34m\u001b[0m\u001b[0m\n\u001b[1;32m      8\u001b[0m     \u001b[0mos\u001b[0m\u001b[0;34m.\u001b[0m\u001b[0mmkdir\u001b[0m\u001b[0;34m(\u001b[0m\u001b[0;34m'../../processed_data/%s/test'\u001b[0m\u001b[0;34m%\u001b[0m\u001b[0mdata_name\u001b[0m\u001b[0;34m)\u001b[0m\u001b[0;34m\u001b[0m\u001b[0;34m\u001b[0m\u001b[0m\n",
      "\u001b[0;31mNameError\u001b[0m: name 'os' is not defined"
     ]
    }
   ],
   "source": [
    "import os\n",
    "\n",
    "try:\n",
    "    os.listdir('../../processed_data/%s/'%data_name)\n",
    "\n",
    "except:\n",
    "    print('create new folder')\n",
    "    os.mkdir('../../processed_data/%s/'%data_name)\n",
    "    os.mkdir('../../processed_data/%s/train'%data_name)\n",
    "    os.mkdir('../../processed_data/%s/test'%data_name)"
   ]
  }
 ],
 "metadata": {
  "kernelspec": {
   "display_name": "Python 3",
   "language": "python",
   "name": "python3"
  },
  "language_info": {
   "codemirror_mode": {
    "name": "ipython",
    "version": 3
   },
   "file_extension": ".py",
   "mimetype": "text/x-python",
   "name": "python",
   "nbconvert_exporter": "python",
   "pygments_lexer": "ipython3",
   "version": "3.7.4"
  },
  "toc": {
   "base_numbering": 1,
   "nav_menu": {},
   "number_sections": true,
   "sideBar": true,
   "skip_h1_title": false,
   "title_cell": "Table of Contents",
   "title_sidebar": "Contents",
   "toc_cell": false,
   "toc_position": {},
   "toc_section_display": true,
   "toc_window_display": false
  }
 },
 "nbformat": 4,
 "nbformat_minor": 2
}
