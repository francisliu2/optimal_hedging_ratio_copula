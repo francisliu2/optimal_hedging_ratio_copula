{
 "cells": [
  {
   "cell_type": "code",
   "execution_count": 2,
   "metadata": {},
   "outputs": [],
   "source": [
    "import numpy as np\n",
    "import pandas as pd\n",
    "pd.set_option('display.max_rows', 20)\n",
    "import sys, os\n",
    "sys.path.append('../../src/')\n",
    "# import toolbox\n",
    "import matplotlib.pyplot as plt\n",
    "import seaborn as sns\n",
    "from statsmodels.graphics.tsaplots import plot_acf\n",
    "from statsmodels.graphics.tsaplots import plot_pacf\n",
    "from toolbox import *\n",
    "import pickle\n",
    "# from toolbox import *"
   ]
  },
  {
   "cell_type": "code",
   "execution_count": 3,
   "metadata": {},
   "outputs": [],
   "source": [
    "spot_name = 'rs'\n",
    "future_name = 'rf'\n",
    "\n",
    "spotCoin = 'btc'\n",
    "\n",
    "data_name = '%sUSD_BTCUSD_25SEP20'%spotCoin.upper()\n",
    "OHR_path = 'best_h/%s/'%data_name\n",
    "data_path = '/Volumes/external_SSD/copulaData/Deribit_ready2/%s/'%data_name\n",
    "HEs = pd.read_csv('%s_HEs.csv'%spotCoin, index_col=0)"
   ]
  },
  {
   "cell_type": "code",
   "execution_count": 5,
   "metadata": {},
   "outputs": [
    {
     "data": {
      "text/html": [
       "<div>\n",
       "<style scoped>\n",
       "    .dataframe tbody tr th:only-of-type {\n",
       "        vertical-align: middle;\n",
       "    }\n",
       "\n",
       "    .dataframe tbody tr th {\n",
       "        vertical-align: top;\n",
       "    }\n",
       "\n",
       "    .dataframe thead th {\n",
       "        text-align: right;\n",
       "    }\n",
       "</style>\n",
       "<table border=\"1\" class=\"dataframe\">\n",
       "  <thead>\n",
       "    <tr style=\"text-align: right;\">\n",
       "      <th></th>\n",
       "      <th>copula</th>\n",
       "      <th>risk_measure</th>\n",
       "      <th>h</th>\n",
       "      <th>file</th>\n",
       "      <th>HE</th>\n",
       "      <th>likelihood</th>\n",
       "      <th>AIC</th>\n",
       "      <th>AIC_selected</th>\n",
       "    </tr>\n",
       "  </thead>\n",
       "  <tbody>\n",
       "    <tr>\n",
       "      <th>0</th>\n",
       "      <td>Clayton</td>\n",
       "      <td>ES q=0.05</td>\n",
       "      <td>0.861523</td>\n",
       "      <td>44.csv</td>\n",
       "      <td>0.681988</td>\n",
       "      <td>-1099.936944</td>\n",
       "      <td>2201.873888</td>\n",
       "      <td>0</td>\n",
       "    </tr>\n",
       "    <tr>\n",
       "      <th>1</th>\n",
       "      <td>Clayton</td>\n",
       "      <td>ERM k=10</td>\n",
       "      <td>0.886719</td>\n",
       "      <td>120.csv</td>\n",
       "      <td>0.713524</td>\n",
       "      <td>-536.890479</td>\n",
       "      <td>1075.780958</td>\n",
       "      <td>0</td>\n",
       "    </tr>\n",
       "    <tr>\n",
       "      <th>2</th>\n",
       "      <td>Clayton</td>\n",
       "      <td>ES q=0.05</td>\n",
       "      <td>0.814648</td>\n",
       "      <td>170.csv</td>\n",
       "      <td>0.640979</td>\n",
       "      <td>-2048.659779</td>\n",
       "      <td>4099.319559</td>\n",
       "      <td>0</td>\n",
       "    </tr>\n",
       "    <tr>\n",
       "      <th>3</th>\n",
       "      <td>Clayton</td>\n",
       "      <td>VaR q=0.05</td>\n",
       "      <td>0.956641</td>\n",
       "      <td>78.csv</td>\n",
       "      <td>0.648490</td>\n",
       "      <td>-2089.471028</td>\n",
       "      <td>4180.942055</td>\n",
       "      <td>0</td>\n",
       "    </tr>\n",
       "    <tr>\n",
       "      <th>4</th>\n",
       "      <td>Clayton</td>\n",
       "      <td>VaR q=0.01</td>\n",
       "      <td>0.905371</td>\n",
       "      <td>104.csv</td>\n",
       "      <td>0.710298</td>\n",
       "      <td>-3328.099620</td>\n",
       "      <td>6658.199240</td>\n",
       "      <td>0</td>\n",
       "    </tr>\n",
       "    <tr>\n",
       "      <th>...</th>\n",
       "      <td>...</td>\n",
       "      <td>...</td>\n",
       "      <td>...</td>\n",
       "      <td>...</td>\n",
       "      <td>...</td>\n",
       "      <td>...</td>\n",
       "      <td>...</td>\n",
       "      <td>...</td>\n",
       "    </tr>\n",
       "    <tr>\n",
       "      <th>10039</th>\n",
       "      <td>t_Copula</td>\n",
       "      <td>ES q=0.05</td>\n",
       "      <td>0.892090</td>\n",
       "      <td>8.csv</td>\n",
       "      <td>0.677228</td>\n",
       "      <td>376.893702</td>\n",
       "      <td>-749.787403</td>\n",
       "      <td>0</td>\n",
       "    </tr>\n",
       "    <tr>\n",
       "      <th>10040</th>\n",
       "      <td>t_Copula</td>\n",
       "      <td>VaR q=0.01</td>\n",
       "      <td>0.842480</td>\n",
       "      <td>160.csv</td>\n",
       "      <td>0.643631</td>\n",
       "      <td>374.867522</td>\n",
       "      <td>-745.735043</td>\n",
       "      <td>1</td>\n",
       "    </tr>\n",
       "    <tr>\n",
       "      <th>10041</th>\n",
       "      <td>t_Copula</td>\n",
       "      <td>VaR q=0.01</td>\n",
       "      <td>0.798730</td>\n",
       "      <td>69.csv</td>\n",
       "      <td>0.662439</td>\n",
       "      <td>343.353612</td>\n",
       "      <td>-682.707224</td>\n",
       "      <td>1</td>\n",
       "    </tr>\n",
       "    <tr>\n",
       "      <th>10042</th>\n",
       "      <td>t_Copula</td>\n",
       "      <td>Variance</td>\n",
       "      <td>0.900000</td>\n",
       "      <td>115.csv</td>\n",
       "      <td>0.928641</td>\n",
       "      <td>368.408038</td>\n",
       "      <td>-732.816076</td>\n",
       "      <td>1</td>\n",
       "    </tr>\n",
       "    <tr>\n",
       "      <th>10043</th>\n",
       "      <td>t_Copula</td>\n",
       "      <td>VaR q=0.01</td>\n",
       "      <td>0.900195</td>\n",
       "      <td>43.csv</td>\n",
       "      <td>0.813012</td>\n",
       "      <td>324.295090</td>\n",
       "      <td>-644.590179</td>\n",
       "      <td>0</td>\n",
       "    </tr>\n",
       "  </tbody>\n",
       "</table>\n",
       "<p>10044 rows × 8 columns</p>\n",
       "</div>"
      ],
      "text/plain": [
       "         copula risk_measure         h     file        HE   likelihood  \\\n",
       "0       Clayton    ES q=0.05  0.861523   44.csv  0.681988 -1099.936944   \n",
       "1       Clayton     ERM k=10  0.886719  120.csv  0.713524  -536.890479   \n",
       "2       Clayton    ES q=0.05  0.814648  170.csv  0.640979 -2048.659779   \n",
       "3       Clayton   VaR q=0.05  0.956641   78.csv  0.648490 -2089.471028   \n",
       "4       Clayton   VaR q=0.01  0.905371  104.csv  0.710298 -3328.099620   \n",
       "...         ...          ...       ...      ...       ...          ...   \n",
       "10039  t_Copula    ES q=0.05  0.892090    8.csv  0.677228   376.893702   \n",
       "10040  t_Copula   VaR q=0.01  0.842480  160.csv  0.643631   374.867522   \n",
       "10041  t_Copula   VaR q=0.01  0.798730   69.csv  0.662439   343.353612   \n",
       "10042  t_Copula     Variance  0.900000  115.csv  0.928641   368.408038   \n",
       "10043  t_Copula   VaR q=0.01  0.900195   43.csv  0.813012   324.295090   \n",
       "\n",
       "               AIC  AIC_selected  \n",
       "0      2201.873888             0  \n",
       "1      1075.780958             0  \n",
       "2      4099.319559             0  \n",
       "3      4180.942055             0  \n",
       "4      6658.199240             0  \n",
       "...            ...           ...  \n",
       "10039  -749.787403             0  \n",
       "10040  -745.735043             1  \n",
       "10041  -682.707224             1  \n",
       "10042  -732.816076             1  \n",
       "10043  -644.590179             0  \n",
       "\n",
       "[10044 rows x 8 columns]"
      ]
     },
     "execution_count": 5,
     "metadata": {},
     "output_type": "execute_result"
    }
   ],
   "source": [
    "HEs"
   ]
  },
  {
   "cell_type": "code",
   "execution_count": 108,
   "metadata": {},
   "outputs": [],
   "source": [
    "copula_names = list(set(HEs.copula))\n",
    "risk_measures = list(set(HEs.risk_measure))\n",
    "files = list(set(HEs.file))"
   ]
  },
  {
   "cell_type": "code",
   "execution_count": 109,
   "metadata": {
    "scrolled": true
   },
   "outputs": [
    {
     "name": "stdout",
     "output_type": "stream",
     "text": [
      "89.csv\n",
      "119.csv\n",
      "29.csv\n",
      "45.csv\n",
      "97.csv\n",
      "73.csv\n",
      "76.csv\n",
      "145.csv\n",
      "110.csv\n",
      "134.csv\n",
      "106.csv\n",
      "94.csv\n",
      "61.csv\n",
      "33.csv\n",
      "148.csv\n",
      "24.csv\n",
      "31.csv\n",
      "178.csv\n",
      "107.csv\n",
      "44.csv\n",
      "34.csv\n",
      "102.csv\n",
      "123.csv\n",
      "21.csv\n",
      "92.csv\n",
      "42.csv\n",
      "81.csv\n",
      "125.csv\n",
      "120.csv\n",
      "141.csv\n",
      "90.csv\n",
      "103.csv\n",
      "130.csv\n",
      "4.csv\n",
      "64.csv\n",
      "75.csv\n",
      "180.csv\n",
      "69.csv\n",
      "151.csv\n",
      "3.csv\n",
      "55.csv\n",
      "156.csv\n",
      "144.csv\n",
      "26.csv\n",
      "109.csv\n",
      "182.csv\n",
      "142.csv\n",
      "165.csv\n",
      "82.csv\n",
      "157.csv\n",
      "5.csv\n",
      "143.csv\n",
      "126.csv\n",
      "138.csv\n",
      "116.csv\n",
      "57.csv\n",
      "30.csv\n",
      "177.csv\n",
      "46.csv\n",
      "91.csv\n",
      "160.csv\n",
      "93.csv\n",
      "80.csv\n",
      "51.csv\n",
      "37.csv\n",
      "27.csv\n",
      "155.csv\n",
      "41.csv\n",
      "137.csv\n",
      "159.csv\n",
      "163.csv\n",
      "28.csv\n",
      "154.csv\n",
      "117.csv\n",
      "47.csv\n",
      "96.csv\n",
      "172.csv\n",
      "150.csv\n",
      "86.csv\n",
      "87.csv\n",
      "50.csv\n",
      "128.csv\n",
      "140.csv\n",
      "72.csv\n",
      "13.csv\n",
      "25.csv\n",
      "23.csv\n",
      "167.csv\n",
      "79.csv\n",
      "38.csv\n",
      "115.csv\n",
      "114.csv\n",
      "22.csv\n",
      "78.csv\n",
      "162.csv\n",
      "113.csv\n",
      "36.csv\n",
      "153.csv\n",
      "127.csv\n",
      "19.csv\n",
      "100.csv\n",
      "11.csv\n",
      "10.csv\n",
      "169.csv\n",
      "7.csv\n",
      "124.csv\n",
      "43.csv\n",
      "12.csv\n",
      "158.csv\n",
      "98.csv\n",
      "56.csv\n",
      "164.csv\n",
      "58.csv\n",
      "173.csv\n",
      "59.csv\n",
      "105.csv\n",
      "9.csv\n",
      "152.csv\n",
      "112.csv\n",
      "161.csv\n",
      "95.csv\n",
      "183.csv\n",
      "122.csv\n",
      "147.csv\n",
      "121.csv\n",
      "175.csv\n",
      "171.csv\n",
      "74.csv\n",
      "71.csv\n",
      "179.csv\n",
      "0.csv\n",
      "111.csv\n",
      "17.csv\n",
      "118.csv\n",
      "84.csv\n",
      "63.csv\n",
      "15.csv\n",
      "146.csv\n",
      "83.csv\n",
      "60.csv\n",
      "65.csv\n",
      "132.csv\n",
      "35.csv\n",
      "149.csv\n",
      "99.csv\n",
      "131.csv\n",
      "88.csv\n",
      "18.csv\n",
      "166.csv\n",
      "52.csv\n",
      "1.csv\n",
      "40.csv\n",
      "136.csv\n",
      "2.csv\n",
      "14.csv\n",
      "135.csv\n",
      "6.csv\n",
      "48.csv\n",
      "174.csv\n",
      "85.csv\n",
      "168.csv\n",
      "108.csv\n",
      "170.csv\n",
      "181.csv\n",
      "101.csv\n",
      "53.csv\n",
      "176.csv\n",
      "185.csv\n",
      "133.csv\n",
      "67.csv\n",
      "70.csv\n",
      "32.csv\n",
      "62.csv\n",
      "139.csv\n",
      "77.csv\n",
      "16.csv\n",
      "104.csv\n",
      "49.csv\n",
      "20.csv\n",
      "66.csv\n",
      "184.csv\n",
      "8.csv\n",
      "54.csv\n",
      "68.csv\n",
      "39.csv\n",
      "129.csv\n"
     ]
    }
   ],
   "source": [
    "rh_results = []\n",
    "\n",
    "for f in files:\n",
    "    print(f)\n",
    "    ######## WORKING WITH TEST DATA ########\n",
    "    test = pd.read_csv(data_path+'test/'+f, index_col=0) \n",
    "    rs = test.rs\n",
    "    rf = test.rf\n",
    "    time = pd.to_datetime(test.datetime)\n",
    "    for c in copula_names:\n",
    "        for rm in risk_measures:\n",
    "            _id = HEs.copula == c\n",
    "            _id &= HEs.risk_measure == rm\n",
    "            _id &= HEs.file == f\n",
    "            h  = HEs.loc[_id, 'h'].values[0]\n",
    "            AIC_selected = HEs.loc[_id, 'AIC_selected'].values[0]\n",
    "            rh = rs - h*rf\n",
    "            rh_results.append({'c':c, 'rm':rm, 'f':f, 'h':h,\n",
    "                               'rs':rs, 'rf':rf, 'rh':rh,\n",
    "                               'datetime':time, 'AIC_selected':AIC_selected})"
   ]
  },
  {
   "cell_type": "code",
   "execution_count": 111,
   "metadata": {},
   "outputs": [],
   "source": [
    "rh_results_df = []\n",
    "\n",
    "for row in rh_results:\n",
    "    _df = pd.DataFrame(row['rs'])\n",
    "    _df.columns = ['rs']\n",
    "    _df.loc[:, 'rf'] = row['rf']\n",
    "    _df.loc[:, 'rh'] = row['rh']\n",
    "    _df.loc[:, 'h'] = row['h']\n",
    "    _df.loc[:, 'risk_measure'] = row['rm']\n",
    "    _df.loc[:, 'datetime'] = row['datetime']\n",
    "    _df.loc[:, 'copula'] = row['c']\n",
    "    _df.loc[:, 'file'] = row['f']\n",
    "    _df.loc[:, 'AIC_selected'] = row['AIC_selected']\n",
    "    rh_results_df.append(_df)\n",
    "    \n",
    "rh_results_df = pd.concat(rh_results_df)"
   ]
  },
  {
   "cell_type": "code",
   "execution_count": 112,
   "metadata": {},
   "outputs": [],
   "source": [
    "_id = rh_results_df.AIC_selected == 1\n",
    "_id &= rh_results_df.risk_measure == 'Variance'\n",
    "_df = rh_results_df.loc[_id, :].sort_values('datetime').reset_index(drop=True)"
   ]
  },
  {
   "cell_type": "code",
   "execution_count": 113,
   "metadata": {
    "scrolled": true
   },
   "outputs": [],
   "source": [
    "rh_results_df.to_csv('%s_rh_results.csv'%spotCoin)"
   ]
  },
  {
   "cell_type": "code",
   "execution_count": 476,
   "metadata": {},
   "outputs": [],
   "source": [
    "spotCoin = 'eth'\n",
    "data_name = '%sUSD_BTCUSD_25SEP20'%spotCoin.upper()\n",
    "OHR_path = 'best_h/%s/'%data_name\n",
    "data_path = '/Volumes/external_SSD/copulaData/Deribit_ready2/%s/'%data_name\n",
    "HEs = pd.read_csv('%s_HEs.csv'%spotCoin, index_col=0)\n",
    "rh_results_df = pd.read_csv('%s_rh_results.csv'%spotCoin)"
   ]
  },
  {
   "cell_type": "code",
   "execution_count": 477,
   "metadata": {},
   "outputs": [
    {
     "name": "stderr",
     "output_type": "stream",
     "text": [
      "/Users/francis/opt/anaconda3/lib/python3.7/site-packages/pandas/core/generic.py:5516: SettingWithCopyWarning: \n",
      "A value is trying to be set on a copy of a slice from a DataFrame.\n",
      "Try using .loc[row_indexer,col_indexer] = value instead\n",
      "\n",
      "See the caveats in the documentation: https://pandas.pydata.org/pandas-docs/stable/user_guide/indexing.html#returning-a-view-versus-a-copy\n",
      "  self[name] = value\n",
      "/Users/francis/opt/anaconda3/lib/python3.7/site-packages/pandas/util/_decorators.py:311: SettingWithCopyWarning: \n",
      "A value is trying to be set on a copy of a slice from a DataFrame\n",
      "\n",
      "See the caveats in the documentation: https://pandas.pydata.org/pandas-docs/stable/user_guide/indexing.html#returning-a-view-versus-a-copy\n",
      "  return func(*args, **kwargs)\n"
     ]
    }
   ],
   "source": [
    "rh_copula_selection = rh_results_df.loc[rh_results_df.AIC_selected == 1,:]\n",
    "rh_copula_selection.datetime = pd.to_datetime(rh_copula_selection.datetime)\n",
    "# risk_measures_name = list(set(rh_copula_selection.risk_measure))\n",
    "\n",
    "risk_measures_name = ['Variance', 'ES q=0.05', 'ES q=0.01', \n",
    "                      'VaR q=0.05', 'VaR q=0.01', 'ERM k=10']\n",
    "\n",
    "rh_copula_selection.sort_values('datetime',inplace=True)"
   ]
  },
  {
   "cell_type": "code",
   "execution_count": 478,
   "metadata": {},
   "outputs": [],
   "source": [
    "# Stationary Block Bootstrap 2.7.2 of Lahiri\n",
    "def SB(X, p, T, seed, return_id=True):\n",
    "    np.random.seed(seed)\n",
    "    # X: time series to be sampled\n",
    "    # p: param of Geometric distribution; 1/p = mean of block sample length\n",
    "    # T: length of pseudo time series \n",
    "    X = X.reset_index(drop=True)\n",
    "    blockL = 0\n",
    "    s = []\n",
    "    while blockL < T:\n",
    "        I = int(np.random.choice(len(X), 1, replace=True))\n",
    "        L = int(np.random.geometric(p=p, size=1))\n",
    "        _id = np.linspace(I, I+L-1, num=L)\n",
    "        _id = list((_id % len(X)).astype(int))\n",
    "        blockL += len(_id)\n",
    "        if return_id:\n",
    "            s+=[_id]\n",
    "        else:\n",
    "            s.append(X.loc[_id, :])\n",
    "    \n",
    "    if return_id:\n",
    "        return np.concatenate(s).astype('int')[:T]\n",
    "    else:\n",
    "        return pd.concat(s).iloc[:T]"
   ]
  },
  {
   "cell_type": "code",
   "execution_count": 479,
   "metadata": {},
   "outputs": [],
   "source": [
    "T = len(pd.read_csv(data_path+'train/1.csv', index_col=0)) # = 336\n",
    "p = 1/4"
   ]
  },
  {
   "cell_type": "code",
   "execution_count": 480,
   "metadata": {},
   "outputs": [],
   "source": [
    "rm = 'Variance'\n",
    "_id = rh_copula_selection.risk_measure == rm   \n",
    "X = rh_copula_selection.loc[_id,:].copy()\n",
    "\n",
    "sample_id = dict()\n",
    "\n",
    "N_samples = 500\n",
    "for seed in range(0,N_samples):\n",
    "    sample_id[seed] = SB(X,p,T,seed,True)"
   ]
  },
  {
   "cell_type": "code",
   "execution_count": 481,
   "metadata": {},
   "outputs": [
    {
     "data": {
      "text/plain": [
       "['Variance', 'ES q=0.05', 'ES q=0.01', 'VaR q=0.05', 'VaR q=0.01', 'ERM k=10']"
      ]
     },
     "execution_count": 481,
     "metadata": {},
     "output_type": "execute_result"
    }
   ],
   "source": [
    "risk_measures_name"
   ]
  },
  {
   "cell_type": "code",
   "execution_count": 482,
   "metadata": {},
   "outputs": [],
   "source": [
    "ERM = lambda x: ERM_estimate_trapezoidal(10, x)\n",
    "ES1 = lambda x: ES(0.01, x)\n",
    "ES5 = lambda x: ES(0.05, x)\n",
    "VaR1 = lambda x: VaR(0.01, x)\n",
    "VaR5 = lambda x: VaR(0.05, x)\n",
    "Variance = lambda x: np.var(x)\n",
    "\n",
    "risk_measures_fn = [Variance, ES5, ES1, VaR5, VaR1, ERM]\n",
    "risk_measures_dict = dict(zip(risk_measures_name, risk_measures_fn))"
   ]
  },
  {
   "cell_type": "code",
   "execution_count": 483,
   "metadata": {
    "scrolled": true
   },
   "outputs": [],
   "source": [
    "HE_results = dict()\n",
    "\n",
    "for rm in risk_measures_name:\n",
    "    _id = rh_copula_selection.risk_measure == rm   \n",
    "    X = rh_copula_selection.loc[_id,:].copy().reset_index(drop=True)\n",
    "    fn = risk_measures_dict[rm]\n",
    "    \n",
    "    HE_arr = []\n",
    "    for seed in list(sample_id.keys()):\n",
    "        _id = sample_id[seed]\n",
    "        _df = X.loc[_id, ['rh','rs']]\n",
    "        HE = 1-(fn(_df.rh)/fn(_df.rs))\n",
    "        HE_arr.append(HE)\n",
    "        \n",
    "    HE_results[rm] = HE_arr"
   ]
  },
  {
   "cell_type": "code",
   "execution_count": 484,
   "metadata": {},
   "outputs": [],
   "source": [
    "rm_results = dict()\n",
    "\n",
    "for rm in risk_measures_name:\n",
    "    _id = rh_copula_selection.risk_measure == rm   \n",
    "    X = rh_copula_selection.loc[_id,:].copy().reset_index(drop=True)\n",
    "    fn = risk_measures_dict[rm]\n",
    "    \n",
    "    rm_arr = []\n",
    "    for seed in list(sample_id.keys()):\n",
    "        _id = sample_id[seed]\n",
    "        _df = X.loc[_id, ['rh','rs']]\n",
    "        rm_arr.append((fn(_df.rh), fn(_df.rs)))\n",
    "        \n",
    "    rm_results[rm] = rm_arr"
   ]
  },
  {
   "cell_type": "code",
   "execution_count": 485,
   "metadata": {},
   "outputs": [],
   "source": [
    "returns_results = dict()\n",
    "\n",
    "for rm in risk_measures_name:\n",
    "    _id = rh_copula_selection.risk_measure == rm   \n",
    "    X   = rh_copula_selection.loc[_id,:].copy().reset_index(drop=True)\n",
    "    fn  = risk_measures_dict[rm]\n",
    "    \n",
    "    returns_arr = []\n",
    "    for seed in list(sample_id.keys()):\n",
    "        _id = sample_id[seed]\n",
    "        _df = X.loc[_id, ['rh','rs']]\n",
    "        returns_arr.append((_df.rh, _df.rs))\n",
    "        \n",
    "    returns_results[rm] = returns_arr"
   ]
  },
  {
   "cell_type": "code",
   "execution_count": 486,
   "metadata": {},
   "outputs": [],
   "source": [
    "rm = 'ES q=0.05'\n",
    "_id = rh_copula_selection.risk_measure == rm   \n",
    "X = rh_copula_selection.loc[_id,:].copy().reset_index(drop=True)\n",
    "fn = risk_measures_dict[rm]\n",
    "\n",
    "HE_arr = []\n",
    "for seed in list(sample_id.keys()):\n",
    "    _id = sample_id[seed]\n",
    "    _df = X.loc[_id, ['rh','rs']]"
   ]
  },
  {
   "cell_type": "code",
   "execution_count": 487,
   "metadata": {
    "scrolled": true
   },
   "outputs": [
    {
     "name": "stderr",
     "output_type": "stream",
     "text": [
      "/Users/francis/opt/anaconda3/lib/python3.7/site-packages/seaborn/distributions.py:2551: FutureWarning: `distplot` is a deprecated function and will be removed in a future version. Please adapt your code to use either `displot` (a figure-level function with similar flexibility) or `histplot` (an axes-level function for histograms).\n",
      "  warnings.warn(msg, FutureWarning)\n",
      "/Users/francis/opt/anaconda3/lib/python3.7/site-packages/matplotlib/cbook/__init__.py:1402: FutureWarning: Support for multi-dimensional indexing (e.g. `obj[:, None]`) is deprecated and will be removed in a future version.  Convert to a numpy array before indexing instead.\n",
      "  x[:, None]\n",
      "/Users/francis/opt/anaconda3/lib/python3.7/site-packages/matplotlib/axes/_base.py:276: FutureWarning: Support for multi-dimensional indexing (e.g. `obj[:, None]`) is deprecated and will be removed in a future version.  Convert to a numpy array before indexing instead.\n",
      "  x = x[:, np.newaxis]\n",
      "/Users/francis/opt/anaconda3/lib/python3.7/site-packages/matplotlib/axes/_base.py:278: FutureWarning: Support for multi-dimensional indexing (e.g. `obj[:, None]`) is deprecated and will be removed in a future version.  Convert to a numpy array before indexing instead.\n",
      "  y = y[:, np.newaxis]\n",
      "/Users/francis/opt/anaconda3/lib/python3.7/site-packages/seaborn/distributions.py:2551: FutureWarning: `distplot` is a deprecated function and will be removed in a future version. Please adapt your code to use either `displot` (a figure-level function with similar flexibility) or `histplot` (an axes-level function for histograms).\n",
      "  warnings.warn(msg, FutureWarning)\n",
      "/Users/francis/opt/anaconda3/lib/python3.7/site-packages/matplotlib/cbook/__init__.py:1402: FutureWarning: Support for multi-dimensional indexing (e.g. `obj[:, None]`) is deprecated and will be removed in a future version.  Convert to a numpy array before indexing instead.\n",
      "  x[:, None]\n",
      "/Users/francis/opt/anaconda3/lib/python3.7/site-packages/matplotlib/axes/_base.py:276: FutureWarning: Support for multi-dimensional indexing (e.g. `obj[:, None]`) is deprecated and will be removed in a future version.  Convert to a numpy array before indexing instead.\n",
      "  x = x[:, np.newaxis]\n",
      "/Users/francis/opt/anaconda3/lib/python3.7/site-packages/matplotlib/axes/_base.py:278: FutureWarning: Support for multi-dimensional indexing (e.g. `obj[:, None]`) is deprecated and will be removed in a future version.  Convert to a numpy array before indexing instead.\n",
      "  y = y[:, np.newaxis]\n"
     ]
    },
    {
     "name": "stdout",
     "output_type": "stream",
     "text": [
      "0.013083652616071534 0.011058639945373351\n"
     ]
    },
    {
     "data": {
      "image/png": "[encoded data removed]",
      "text/plain": [
       "<Figure size 432x288 with 1 Axes>"
      ]
     },
     "metadata": {
      "needs_background": "light"
     },
     "output_type": "display_data"
    }
   ],
   "source": [
    "rm = 'ES q=0.05'\n",
    "seed = 2\n",
    "rh = returns_results[rm][seed][0]\n",
    "rs = returns_results[rm][seed][1]\n",
    "\n",
    "fn = risk_measures_dict[rm]\n",
    "\n",
    "sns.distplot(rh)\n",
    "sns.distplot(rs)\n",
    "\n",
    "print(fn(rh), fn(rs))"
   ]
  },
  {
   "cell_type": "code",
   "execution_count": 488,
   "metadata": {},
   "outputs": [
    {
     "name": "stdout",
     "output_type": "stream",
     "text": [
      "0.0214027528426759 0.0144960433566194\n",
      "-0.47645480329655965\n"
     ]
    }
   ],
   "source": [
    "seed = 2\n",
    "_id = sample_id[seed]\n",
    "_df = X.loc[_id, ['rh','rs']]\n",
    "fn = risk_measures_dict['VaR q=0.01']\n",
    "print(fn(_df.loc[:,'rh']), fn(_df.loc[:,'rs']))\n",
    "print(1-fn(_df.loc[:,'rh'])/fn(_df.loc[:,'rs']))"
   ]
  },
  {
   "cell_type": "code",
   "execution_count": 489,
   "metadata": {},
   "outputs": [
    {
     "data": {
      "text/plain": [
       "0.0214027528426759"
      ]
     },
     "execution_count": 489,
     "metadata": {},
     "output_type": "execute_result"
    }
   ],
   "source": [
    "fn(_df.rh)"
   ]
  },
  {
   "cell_type": "code",
   "execution_count": 490,
   "metadata": {},
   "outputs": [
    {
     "data": {
      "text/html": [
       "<div>\n",
       "<style scoped>\n",
       "    .dataframe tbody tr th:only-of-type {\n",
       "        vertical-align: middle;\n",
       "    }\n",
       "\n",
       "    .dataframe tbody tr th {\n",
       "        vertical-align: top;\n",
       "    }\n",
       "\n",
       "    .dataframe thead th {\n",
       "        text-align: right;\n",
       "    }\n",
       "</style>\n",
       "<table border=\"1\" class=\"dataframe\">\n",
       "  <thead>\n",
       "    <tr style=\"text-align: right;\">\n",
       "      <th></th>\n",
       "      <th>rm_rh</th>\n",
       "      <th>rm_rs</th>\n",
       "      <th>HE</th>\n",
       "    </tr>\n",
       "  </thead>\n",
       "  <tbody>\n",
       "    <tr>\n",
       "      <th>0</th>\n",
       "      <td>0.010829</td>\n",
       "      <td>0.015791</td>\n",
       "      <td>0.314281</td>\n",
       "    </tr>\n",
       "    <tr>\n",
       "      <th>1</th>\n",
       "      <td>0.017135</td>\n",
       "      <td>0.020689</td>\n",
       "      <td>0.171775</td>\n",
       "    </tr>\n",
       "    <tr>\n",
       "      <th>2</th>\n",
       "      <td>0.023320</td>\n",
       "      <td>0.015953</td>\n",
       "      <td>-0.461755</td>\n",
       "    </tr>\n",
       "    <tr>\n",
       "      <th>3</th>\n",
       "      <td>0.027032</td>\n",
       "      <td>0.018789</td>\n",
       "      <td>-0.438671</td>\n",
       "    </tr>\n",
       "    <tr>\n",
       "      <th>4</th>\n",
       "      <td>0.028033</td>\n",
       "      <td>0.019223</td>\n",
       "      <td>-0.458327</td>\n",
       "    </tr>\n",
       "    <tr>\n",
       "      <th>...</th>\n",
       "      <td>...</td>\n",
       "      <td>...</td>\n",
       "      <td>...</td>\n",
       "    </tr>\n",
       "    <tr>\n",
       "      <th>495</th>\n",
       "      <td>0.018842</td>\n",
       "      <td>0.020115</td>\n",
       "      <td>0.063303</td>\n",
       "    </tr>\n",
       "    <tr>\n",
       "      <th>496</th>\n",
       "      <td>0.019726</td>\n",
       "      <td>0.020041</td>\n",
       "      <td>0.015736</td>\n",
       "    </tr>\n",
       "    <tr>\n",
       "      <th>497</th>\n",
       "      <td>0.013063</td>\n",
       "      <td>0.018004</td>\n",
       "      <td>0.274473</td>\n",
       "    </tr>\n",
       "    <tr>\n",
       "      <th>498</th>\n",
       "      <td>0.024246</td>\n",
       "      <td>0.018285</td>\n",
       "      <td>-0.325983</td>\n",
       "    </tr>\n",
       "    <tr>\n",
       "      <th>499</th>\n",
       "      <td>0.020479</td>\n",
       "      <td>0.017859</td>\n",
       "      <td>-0.146754</td>\n",
       "    </tr>\n",
       "  </tbody>\n",
       "</table>\n",
       "<p>500 rows × 3 columns</p>\n",
       "</div>"
      ],
      "text/plain": [
       "        rm_rh     rm_rs        HE\n",
       "0    0.010829  0.015791  0.314281\n",
       "1    0.017135  0.020689  0.171775\n",
       "2    0.023320  0.015953 -0.461755\n",
       "3    0.027032  0.018789 -0.438671\n",
       "4    0.028033  0.019223 -0.458327\n",
       "..        ...       ...       ...\n",
       "495  0.018842  0.020115  0.063303\n",
       "496  0.019726  0.020041  0.015736\n",
       "497  0.013063  0.018004  0.274473\n",
       "498  0.024246  0.018285 -0.325983\n",
       "499  0.020479  0.017859 -0.146754\n",
       "\n",
       "[500 rows x 3 columns]"
      ]
     },
     "execution_count": 490,
     "metadata": {},
     "output_type": "execute_result"
    }
   ],
   "source": [
    "_df = pd.DataFrame(rm_results['ES q=0.01'])\n",
    "_df.columns = ['rm_rh', 'rm_rs']\n",
    "_df.loc[:, 'HE'] = 1-(_df.iloc[:,0]/_df.iloc[:,1])\n",
    "_df"
   ]
  },
  {
   "cell_type": "code",
   "execution_count": 491,
   "metadata": {},
   "outputs": [
    {
     "data": {
      "text/html": [
       "<div>\n",
       "<style scoped>\n",
       "    .dataframe tbody tr th:only-of-type {\n",
       "        vertical-align: middle;\n",
       "    }\n",
       "\n",
       "    .dataframe tbody tr th {\n",
       "        vertical-align: top;\n",
       "    }\n",
       "\n",
       "    .dataframe thead th {\n",
       "        text-align: right;\n",
       "    }\n",
       "</style>\n",
       "<table border=\"1\" class=\"dataframe\">\n",
       "  <thead>\n",
       "    <tr style=\"text-align: right;\">\n",
       "      <th></th>\n",
       "      <th>rm_rh</th>\n",
       "      <th>rm_rs</th>\n",
       "      <th>HE</th>\n",
       "    </tr>\n",
       "  </thead>\n",
       "  <tbody>\n",
       "    <tr>\n",
       "      <th>0</th>\n",
       "      <td>0.007160</td>\n",
       "      <td>0.010560</td>\n",
       "      <td>0.322035</td>\n",
       "    </tr>\n",
       "    <tr>\n",
       "      <th>1</th>\n",
       "      <td>0.010180</td>\n",
       "      <td>0.012709</td>\n",
       "      <td>0.199005</td>\n",
       "    </tr>\n",
       "    <tr>\n",
       "      <th>2</th>\n",
       "      <td>0.013084</td>\n",
       "      <td>0.011059</td>\n",
       "      <td>-0.183116</td>\n",
       "    </tr>\n",
       "    <tr>\n",
       "      <th>3</th>\n",
       "      <td>0.016611</td>\n",
       "      <td>0.015662</td>\n",
       "      <td>-0.060582</td>\n",
       "    </tr>\n",
       "    <tr>\n",
       "      <th>4</th>\n",
       "      <td>0.014088</td>\n",
       "      <td>0.012865</td>\n",
       "      <td>-0.095070</td>\n",
       "    </tr>\n",
       "    <tr>\n",
       "      <th>...</th>\n",
       "      <td>...</td>\n",
       "      <td>...</td>\n",
       "      <td>...</td>\n",
       "    </tr>\n",
       "    <tr>\n",
       "      <th>495</th>\n",
       "      <td>0.011882</td>\n",
       "      <td>0.013280</td>\n",
       "      <td>0.105332</td>\n",
       "    </tr>\n",
       "    <tr>\n",
       "      <th>496</th>\n",
       "      <td>0.014120</td>\n",
       "      <td>0.013966</td>\n",
       "      <td>-0.011035</td>\n",
       "    </tr>\n",
       "    <tr>\n",
       "      <th>497</th>\n",
       "      <td>0.009011</td>\n",
       "      <td>0.013210</td>\n",
       "      <td>0.317853</td>\n",
       "    </tr>\n",
       "    <tr>\n",
       "      <th>498</th>\n",
       "      <td>0.016190</td>\n",
       "      <td>0.012433</td>\n",
       "      <td>-0.302167</td>\n",
       "    </tr>\n",
       "    <tr>\n",
       "      <th>499</th>\n",
       "      <td>0.011634</td>\n",
       "      <td>0.014552</td>\n",
       "      <td>0.200517</td>\n",
       "    </tr>\n",
       "  </tbody>\n",
       "</table>\n",
       "<p>500 rows × 3 columns</p>\n",
       "</div>"
      ],
      "text/plain": [
       "        rm_rh     rm_rs        HE\n",
       "0    0.007160  0.010560  0.322035\n",
       "1    0.010180  0.012709  0.199005\n",
       "2    0.013084  0.011059 -0.183116\n",
       "3    0.016611  0.015662 -0.060582\n",
       "4    0.014088  0.012865 -0.095070\n",
       "..        ...       ...       ...\n",
       "495  0.011882  0.013280  0.105332\n",
       "496  0.014120  0.013966 -0.011035\n",
       "497  0.009011  0.013210  0.317853\n",
       "498  0.016190  0.012433 -0.302167\n",
       "499  0.011634  0.014552  0.200517\n",
       "\n",
       "[500 rows x 3 columns]"
      ]
     },
     "execution_count": 491,
     "metadata": {},
     "output_type": "execute_result"
    }
   ],
   "source": [
    "_df = pd.DataFrame(rm_results['ES q=0.05'])\n",
    "_df.columns = ['rm_rh', 'rm_rs']\n",
    "_df.loc[:, 'HE'] = 1-(_df.iloc[:,0]/_df.iloc[:,1])\n",
    "_df"
   ]
  },
  {
   "cell_type": "code",
   "execution_count": 492,
   "metadata": {},
   "outputs": [],
   "source": [
    "with open('%s_HE_SB_results.pickle'%spotCoin, 'wb') as f:\n",
    "    pickle.dump(HE_results, f)"
   ]
  },
  {
   "cell_type": "code",
   "execution_count": 493,
   "metadata": {},
   "outputs": [],
   "source": [
    "spotCoin = 'btc'\n",
    "with open('%s_HE_SB_results.pickle'%spotCoin, 'rb') as f:\n",
    "    btc_HE = pickle.load(f)\n",
    "\n",
    "spotCoin = 'eth'\n",
    "with open('%s_HE_SB_results.pickle'%spotCoin, 'rb') as f:\n",
    "    eth_HE = pickle.load(f)"
   ]
  },
  {
   "cell_type": "code",
   "execution_count": 494,
   "metadata": {},
   "outputs": [
    {
     "data": {
      "text/plain": [
       "['Variance', 'ES q=0.05', 'ES q=0.01', 'VaR q=0.05', 'VaR q=0.01', 'ERM k=10']"
      ]
     },
     "execution_count": 494,
     "metadata": {},
     "output_type": "execute_result"
    }
   ],
   "source": [
    "risk_measures_name"
   ]
  },
  {
   "cell_type": "code",
   "execution_count": 495,
   "metadata": {},
   "outputs": [],
   "source": [
    "risk_measure_name_plot = ['Variance', 'ES 95%', 'ES 99%', 'VaR 95%', 'VaR 99%', 'ERM']\n",
    "rm2name =  dict(zip(risk_measures_name, risk_measure_name_plot))"
   ]
  },
  {
   "cell_type": "code",
   "execution_count": 497,
   "metadata": {},
   "outputs": [
    {
     "data": {
      "image/png": "[encoded data removed]",
      "text/plain": [
       "<Figure size 972x648 with 6 Axes>"
      ]
     },
     "metadata": {
      "needs_background": "light"
     },
     "output_type": "display_data"
    }
   ],
   "source": [
    "factor = 4.5\n",
    "xsize = 3*factor\n",
    "ysize = 2*factor\n",
    "fig, axs = plt.subplots(nrows=2,ncols=3, figsize=(xsize, ysize), sharex=True, sharey=True)\n",
    "\n",
    "for i, rm in enumerate(risk_measures_name):\n",
    "    axs.flatten()[i].boxplot([btc_HE[rm], eth_HE[rm]])\n",
    "    axs.flatten()[i].axhline(y=0, xmin=0, xmax=1, color='black')\n",
    "    axs.flatten()[i].set_title(rm2name[rm])\n",
    "\n",
    "for p, a in enumerate(axs):\n",
    "    xtickNames = plt.setp(axs[p], xticklabels=['BTC', 'ETH'])\n",
    "    plt.setp(xtickNames, rotation=90, fontsize=12)\n",
    "    \n",
    "plt.ylim((-1,1))\n",
    "\n",
    "plt.savefig('hourly_HE.png', transparent=True)"
   ]
  },
  {
   "cell_type": "code",
   "execution_count": 133,
   "metadata": {
    "scrolled": true
   },
   "outputs": [
    {
     "name": "stderr",
     "output_type": "stream",
     "text": [
      "/Users/francis/opt/anaconda3/lib/python3.7/site-packages/seaborn/distributions.py:2551: FutureWarning: `distplot` is a deprecated function and will be removed in a future version. Please adapt your code to use either `displot` (a figure-level function with similar flexibility) or `histplot` (an axes-level function for histograms).\n",
      "  warnings.warn(msg, FutureWarning)\n",
      "/Users/francis/opt/anaconda3/lib/python3.7/site-packages/matplotlib/cbook/__init__.py:1402: FutureWarning: Support for multi-dimensional indexing (e.g. `obj[:, None]`) is deprecated and will be removed in a future version.  Convert to a numpy array before indexing instead.\n",
      "  x[:, None]\n",
      "/Users/francis/opt/anaconda3/lib/python3.7/site-packages/matplotlib/axes/_base.py:276: FutureWarning: Support for multi-dimensional indexing (e.g. `obj[:, None]`) is deprecated and will be removed in a future version.  Convert to a numpy array before indexing instead.\n",
      "  x = x[:, np.newaxis]\n",
      "/Users/francis/opt/anaconda3/lib/python3.7/site-packages/matplotlib/axes/_base.py:278: FutureWarning: Support for multi-dimensional indexing (e.g. `obj[:, None]`) is deprecated and will be removed in a future version.  Convert to a numpy array before indexing instead.\n",
      "  y = y[:, np.newaxis]\n",
      "/Users/francis/opt/anaconda3/lib/python3.7/site-packages/seaborn/distributions.py:2551: FutureWarning: `distplot` is a deprecated function and will be removed in a future version. Please adapt your code to use either `displot` (a figure-level function with similar flexibility) or `histplot` (an axes-level function for histograms).\n",
      "  warnings.warn(msg, FutureWarning)\n",
      "/Users/francis/opt/anaconda3/lib/python3.7/site-packages/matplotlib/cbook/__init__.py:1402: FutureWarning: Support for multi-dimensional indexing (e.g. `obj[:, None]`) is deprecated and will be removed in a future version.  Convert to a numpy array before indexing instead.\n",
      "  x[:, None]\n",
      "/Users/francis/opt/anaconda3/lib/python3.7/site-packages/matplotlib/axes/_base.py:276: FutureWarning: Support for multi-dimensional indexing (e.g. `obj[:, None]`) is deprecated and will be removed in a future version.  Convert to a numpy array before indexing instead.\n",
      "  x = x[:, np.newaxis]\n",
      "/Users/francis/opt/anaconda3/lib/python3.7/site-packages/matplotlib/axes/_base.py:278: FutureWarning: Support for multi-dimensional indexing (e.g. `obj[:, None]`) is deprecated and will be removed in a future version.  Convert to a numpy array before indexing instead.\n",
      "  y = y[:, np.newaxis]\n"
     ]
    },
    {
     "data": {
      "text/plain": [
       "<matplotlib.axes._subplots.AxesSubplot at 0x7f9f373bf650>"
      ]
     },
     "execution_count": 133,
     "metadata": {},
     "output_type": "execute_result"
    },
    {
     "data": {
      "image/png": "[encoded data removed]",
      "text/plain": [
       "<Figure size 432x288 with 1 Axes>"
      ]
     },
     "metadata": {
      "needs_background": "light"
     },
     "output_type": "display_data"
    }
   ],
   "source": [
    "_id = rh_copula_selection.risk_measure == 'ES q=0.01'\n",
    "sns.distplot(rh_copula_selection.loc[_id, 'rh'])\n",
    "\n",
    "_id = rh_copula_selection.risk_measure == 'ES q=0.05'\n",
    "sns.distplot(rh_copula_selection.loc[_id, 'rh'])"
   ]
  },
  {
   "cell_type": "code",
   "execution_count": null,
   "metadata": {},
   "outputs": [],
   "source": []
  }
 ],
 "metadata": {
  "kernelspec": {
   "display_name": "Python 3",
   "language": "python",
   "name": "python3"
  },
  "language_info": {
   "codemirror_mode": {
    "name": "ipython",
    "version": 3
   },
   "file_extension": ".py",
   "mimetype": "text/x-python",
   "name": "python",
   "nbconvert_exporter": "python",
   "pygments_lexer": "ipython3",
   "version": "3.7.4"
  },
  "toc": {
   "base_numbering": 1,
   "nav_menu": {},
   "number_sections": true,
   "sideBar": true,
   "skip_h1_title": false,
   "title_cell": "Table of Contents",
   "title_sidebar": "Contents",
   "toc_cell": false,
   "toc_position": {},
   "toc_section_display": true,
   "toc_window_display": false
  }
 },
 "nbformat": 4,
 "nbformat_minor": 2
}
