{
 "cells": [
  {
   "cell_type": "markdown",
   "metadata": {},
   "source": [
    "Data and codes for the copula selection results (table 3). "
   ]
  },
  {
   "cell_type": "code",
   "execution_count": 1,
   "metadata": {},
   "outputs": [],
   "source": [
    "import numpy as np\n",
    "import pandas as pd\n",
    "pd.set_option('display.max_rows', None)\n",
    "import sys, os\n",
    "sys.path.append('../../src/')\n",
    "# import toolbox\n",
    "from toolbox import *"
   ]
  },
  {
   "cell_type": "code",
   "execution_count": 2,
   "metadata": {},
   "outputs": [],
   "source": [
    "# Choose copula by AIC\n",
    "result_names = ['BBT_Tiingo',\n",
    "                'BBT_future_Tiingo_ada', \n",
    "                'BBT_future_Tiingo_eth',\n",
    "                'BBT_future_Tiingo_ltc',\n",
    "                'BBT_future_Tiingo_xrp',\n",
    "                'BBT_future_BITX',\n",
    "                'BBT_future_BITW20', \n",
    "                'BBT_future_BITW70', \n",
    "                'BBT_future_BITW100', \n",
    "                'BBT_future_CRIX']\n",
    "\n",
    "coin_names = ['btc', 'ada', 'eth', 'ltc', 'xrp',\n",
    "              'BITX', 'BITW20', 'BITW70', 'BITW100', 'CRIX']\n",
    "\n",
    "NIG_coin_names =  ['btc', 'ada', 'eth', 'ltc', 'xrp',\n",
    "              'bitx', 'bitw20', 'bitw70', 'bitw100', 'CRIX']\n",
    "\n",
    "result_coin_mapper = dict(zip(result_names, coin_names))"
   ]
  },
  {
   "cell_type": "code",
   "execution_count": 3,
   "metadata": {},
   "outputs": [],
   "source": [
    "k = {'Gaussian':1,\n",
    "     't_Copula':2, \n",
    "     't_Copula_Capped':2, \n",
    "     'Clayton':1, \n",
    "     'Frank':1, \n",
    "     'Gumbel':1,  \n",
    "     'Plackett':1,  \n",
    "     'Gauss Mix Indep':2, \n",
    "     'rotGumbel':1, \n",
    "     'NIG':3}\n",
    "\n",
    "copula_names = list(k.keys())\n",
    "\n",
    "def AIC_table(l, drop_t_Copula_Capped=True):\n",
    "    # l likelihood table\n",
    "    if drop_t_Copula_Capped:\n",
    "        l = l.drop(index='t_Copula_Capped')\n",
    "       \n",
    "    copula_names = list(l.index)\n",
    "    AIC = l.copy()\n",
    "    \n",
    "    for c in copula_names:\n",
    "        AIC.loc[c,:] = -2*l.loc[c,:]+2*k[c]\n",
    "        \n",
    "    return AIC"
   ]
  },
  {
   "cell_type": "code",
   "execution_count": 4,
   "metadata": {},
   "outputs": [],
   "source": [
    "AIC_results = dict()\n",
    "copula_to_use = dict()\n",
    "copula_count = dict()\n",
    "\n",
    "for result in result_names:\n",
    "    l = pd.read_json('../../results/%s/MM/likelihood_NIG.json'%result) # likelihood \n",
    "#     l *=300 # 300 data points\n",
    "    \n",
    "    _AIC = AIC_table(l, True)\n",
    "    AIC_results[result] = _AIC\n",
    "    \n",
    "    _copula = _AIC.idxmin(axis='rows')\n",
    "    _copula = pd.DataFrame(_copula).reset_index()\n",
    "    _copula.columns = ['file', 'copula']\n",
    "    copula_to_use[result] = _copula\n",
    "    \n",
    "    copula_count[result]= pd.pivot_table(_copula, index=['copula'], aggfunc='count')"
   ]
  },
  {
   "cell_type": "code",
   "execution_count": 5,
   "metadata": {},
   "outputs": [],
   "source": [
    "copula_count_summary = pd.DataFrame(columns=copula_names)\n",
    "\n",
    "for rm in result_names:\n",
    "    c = copula_count[rm]\n",
    "    c.index.name = None\n",
    "    c.columns = [result_coin_mapper[rm]]\n",
    "    copula_count_summary = copula_count_summary.append(c.T)\n",
    "    \n",
    "copula_count_summary = copula_count_summary.fillna(0)\n",
    "\n",
    "copula_count_summary = pd.concat([copula_count_summary.loc[:,c] for c in copula_names if c != 't_Copula_Capped'],\n",
    "          axis=1)\n",
    "\n",
    "copula_count_summary.loc['sum',:] = copula_count_summary.sum()"
   ]
  },
  {
   "cell_type": "code",
   "execution_count": 6,
   "metadata": {
    "scrolled": true
   },
   "outputs": [],
   "source": [
    "copula_count_percentage = []\n",
    "\n",
    "\n",
    "for i in range(copula_count_summary.shape[1]):\n",
    "    copula_count_percentage.append(copula_count_summary.iloc[:,i]/copula_count_summary.sum(axis=1))"
   ]
  },
  {
   "cell_type": "code",
   "execution_count": 7,
   "metadata": {},
   "outputs": [],
   "source": [
    "copula_count_percentage = pd.concat(copula_count_percentage, axis=1)\n",
    "copula_count_percentage.columns = copula_count_summary.columns"
   ]
  },
  {
   "cell_type": "code",
   "execution_count": 13,
   "metadata": {},
   "outputs": [
    {
     "data": {
      "text/html": [
       "<div>\n",
       "<style scoped>\n",
       "    .dataframe tbody tr th:only-of-type {\n",
       "        vertical-align: middle;\n",
       "    }\n",
       "\n",
       "    .dataframe tbody tr th {\n",
       "        vertical-align: top;\n",
       "    }\n",
       "\n",
       "    .dataframe thead th {\n",
       "        text-align: right;\n",
       "    }\n",
       "</style>\n",
       "<table border=\"1\" class=\"dataframe\">\n",
       "  <thead>\n",
       "    <tr style=\"text-align: right;\">\n",
       "      <th></th>\n",
       "      <th>t_Copula</th>\n",
       "      <th>Plackett</th>\n",
       "      <th>Gauss Mix Indep</th>\n",
       "      <th>rotGumbel</th>\n",
       "      <th>NIG</th>\n",
       "    </tr>\n",
       "  </thead>\n",
       "  <tbody>\n",
       "    <tr>\n",
       "      <th>btc</th>\n",
       "      <td>65.18</td>\n",
       "      <td>3.57</td>\n",
       "      <td>0.89</td>\n",
       "      <td>0.89</td>\n",
       "      <td>27.68</td>\n",
       "    </tr>\n",
       "    <tr>\n",
       "      <th>ada</th>\n",
       "      <td>0.00</td>\n",
       "      <td>0.00</td>\n",
       "      <td>0.00</td>\n",
       "      <td>0.00</td>\n",
       "      <td>100.00</td>\n",
       "    </tr>\n",
       "    <tr>\n",
       "      <th>eth</th>\n",
       "      <td>2.68</td>\n",
       "      <td>5.36</td>\n",
       "      <td>7.14</td>\n",
       "      <td>83.93</td>\n",
       "      <td>0.89</td>\n",
       "    </tr>\n",
       "    <tr>\n",
       "      <th>ltc</th>\n",
       "      <td>11.61</td>\n",
       "      <td>0.00</td>\n",
       "      <td>2.68</td>\n",
       "      <td>28.57</td>\n",
       "      <td>57.14</td>\n",
       "    </tr>\n",
       "    <tr>\n",
       "      <th>xrp</th>\n",
       "      <td>0.00</td>\n",
       "      <td>27.68</td>\n",
       "      <td>2.68</td>\n",
       "      <td>69.64</td>\n",
       "      <td>0.00</td>\n",
       "    </tr>\n",
       "    <tr>\n",
       "      <th>BITX</th>\n",
       "      <td>48.15</td>\n",
       "      <td>0.00</td>\n",
       "      <td>17.28</td>\n",
       "      <td>19.75</td>\n",
       "      <td>14.81</td>\n",
       "    </tr>\n",
       "    <tr>\n",
       "      <th>BITW20</th>\n",
       "      <td>0.00</td>\n",
       "      <td>0.00</td>\n",
       "      <td>0.00</td>\n",
       "      <td>96.30</td>\n",
       "      <td>3.70</td>\n",
       "    </tr>\n",
       "    <tr>\n",
       "      <th>BITW70</th>\n",
       "      <td>0.00</td>\n",
       "      <td>0.00</td>\n",
       "      <td>0.00</td>\n",
       "      <td>98.77</td>\n",
       "      <td>1.23</td>\n",
       "    </tr>\n",
       "    <tr>\n",
       "      <th>BITW100</th>\n",
       "      <td>51.85</td>\n",
       "      <td>0.00</td>\n",
       "      <td>9.88</td>\n",
       "      <td>35.80</td>\n",
       "      <td>2.47</td>\n",
       "    </tr>\n",
       "    <tr>\n",
       "      <th>CRIX</th>\n",
       "      <td>53.41</td>\n",
       "      <td>0.00</td>\n",
       "      <td>12.50</td>\n",
       "      <td>3.41</td>\n",
       "      <td>30.68</td>\n",
       "    </tr>\n",
       "  </tbody>\n",
       "</table>\n",
       "</div>"
      ],
      "text/plain": [
       "         t_Copula  Plackett  Gauss Mix Indep  rotGumbel     NIG\n",
       "btc         65.18      3.57             0.89       0.89   27.68\n",
       "ada          0.00      0.00             0.00       0.00  100.00\n",
       "eth          2.68      5.36             7.14      83.93    0.89\n",
       "ltc         11.61      0.00             2.68      28.57   57.14\n",
       "xrp          0.00     27.68             2.68      69.64    0.00\n",
       "BITX        48.15      0.00            17.28      19.75   14.81\n",
       "BITW20       0.00      0.00             0.00      96.30    3.70\n",
       "BITW70       0.00      0.00             0.00      98.77    1.23\n",
       "BITW100     51.85      0.00             9.88      35.80    2.47\n",
       "CRIX        53.41      0.00            12.50       3.41   30.68"
      ]
     },
     "execution_count": 13,
     "metadata": {},
     "output_type": "execute_result"
    }
   ],
   "source": [
    "copula_count_percentage.loc[:,\n",
    "                         ['t_Copula', 'Plackett',\n",
    "                          'Gauss Mix Indep', 'rotGumbel', 'NIG']].iloc[:-1,:].apply(lambda x: 100*round(x,4))"
   ]
  },
  {
   "cell_type": "code",
   "execution_count": 12,
   "metadata": {},
   "outputs": [
    {
     "data": {
      "text/plain": [
       "btc        1.0\n",
       "ada        1.0\n",
       "eth        1.0\n",
       "ltc        1.0\n",
       "xrp        1.0\n",
       "BITX       1.0\n",
       "BITW20     1.0\n",
       "BITW70     1.0\n",
       "BITW100    1.0\n",
       "CRIX       1.0\n",
       "sum        1.0\n",
       "dtype: float64"
      ]
     },
     "execution_count": 12,
     "metadata": {},
     "output_type": "execute_result"
    }
   ],
   "source": [
    "copula_count_percentage.sum(axis=1)"
   ]
  }
 ],
 "metadata": {
  "kernelspec": {
   "display_name": "Python 3",
   "language": "python",
   "name": "python3"
  },
  "language_info": {
   "codemirror_mode": {
    "name": "ipython",
    "version": 3
   },
   "file_extension": ".py",
   "mimetype": "text/x-python",
   "name": "python",
   "nbconvert_exporter": "python",
   "pygments_lexer": "ipython3",
   "version": "3.7.4"
  },
  "toc": {
   "base_numbering": 1,
   "nav_menu": {},
   "number_sections": true,
   "sideBar": true,
   "skip_h1_title": false,
   "title_cell": "Table of Contents",
   "title_sidebar": "Contents",
   "toc_cell": false,
   "toc_position": {},
   "toc_section_display": true,
   "toc_window_display": false
  }
 },
 "nbformat": 4,
 "nbformat_minor": 2
}
