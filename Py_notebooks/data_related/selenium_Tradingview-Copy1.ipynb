{
 "cells": [
  {
   "cell_type": "code",
   "execution_count": 313,
   "metadata": {},
   "outputs": [
    {
     "name": "stderr",
     "output_type": "stream",
     "text": [
      "Exception in thread ServerThread (('::ffff:127.0.0.1', 65185, 0, 0)):\n",
      "Traceback (most recent call last):\n",
      "  File \"/Users/francis/opt/anaconda3/lib/python3.7/threading.py\", line 926, in _bootstrap_inner\n",
      "    self.run()\n",
      "  File \"/Users/francis/opt/anaconda3/lib/python3.7/site-packages/seleniumwire/thirdparty/mitmproxy/master.py\", line 31, in run\n",
      "    self.server.serve_forever()\n",
      "  File \"/Users/francis/opt/anaconda3/lib/python3.7/site-packages/seleniumwire/thirdparty/mitmproxy/net/tcp.py\", line 622, in serve_forever\n",
      "    connection, client_address = self.socket.accept()\n",
      "  File \"/Users/francis/opt/anaconda3/lib/python3.7/socket.py\", line 212, in accept\n",
      "    fd, addr = self._accept()\n",
      "OSError: [Errno 24] Too many open files\n",
      "Unhandled exception in thread started by <bound method Thread._bootstrap of <ServerThread(ServerThread (('::ffff:127.0.0.1', 65185, 0, 0)), started daemon 123145745555456)>>\n"
     ]
    }
   ],
   "source": [
    "# from selenium import webdriver\n",
    "from selenium.webdriver.common.keys import Keys\n",
    "from selenium.webdriver.common.by import By\n",
    "from selenium.webdriver.common.desired_capabilities import DesiredCapabilities\n",
    "from selenium.webdriver.chrome.options import Options\n",
    "import os\n",
    "import json\n",
    "import re\n",
    "import datetime\n",
    "import sys\n",
    "import pandas as pd\n",
    "from datetime import datetime\n",
    "import time\n",
    "import numpy as np\n",
    "import matplotlib.pyplot as plt\n",
    "\n",
    "\n",
    "\n",
    "\n",
    "try: \n",
    "    from pyvirtualdisplay import Display\n",
    "except  ModuleNotFoundError:\n",
    "    !pip install PyVirtualDisplay\n",
    "    \n",
    "try: \n",
    "    from seleniumwire import webdriver  # Import from seleniumwire\n",
    "except  ModuleNotFoundError:\n",
    "    print(\"module selenium-wire is not installed, now start installation.\")\n",
    "    !pip install selenium-wire"
   ]
  },
  {
   "cell_type": "code",
   "execution_count": 314,
   "metadata": {},
   "outputs": [],
   "source": [
    "# For mouse scroll\n",
    "def wheel_element(element, deltaX = 0, deltaY = 120, offsetX = 0, offsetY = 0):\n",
    "    error = element._parent.execute_script(\"\"\"\n",
    "    var element = arguments[0];\n",
    "    var deltaX = arguments[1]\n",
    "    var deltaY = arguments[2];\n",
    "    var box = element.getBoundingClientRect();\n",
    "    var clientX = box.left + (arguments[3] || box.width / 2);\n",
    "    var clientY = box.top + (arguments[4] || box.height / 2);\n",
    "    var target = element.ownerDocument.elementFromPoint(clientX, clientY);\n",
    "\n",
    "    for (var e = target; e; e = e.parentElement) {\n",
    "      if (e === element) {\n",
    "        target.dispatchEvent(new MouseEvent('mouseover', {view: window, bubbles: true, cancelable: true, clientX: clientX, clientY: clientY}));\n",
    "        target.dispatchEvent(new MouseEvent('mousemove', {view: window, bubbles: true, cancelable: true, clientX: clientX, clientY: clientY}));\n",
    "        target.dispatchEvent(new WheelEvent('wheel',     {view: window, bubbles: true, cancelable: true, clientX: clientX, clientY: clientY, deltaX: deltaX, deltaY: deltaY}));\n",
    "        return;\n",
    "      }\n",
    "    }    \n",
    "    return \"Element is not interactable\";\n",
    "    \"\"\", element, deltaX, deltaY, offsetY)\n",
    "\n",
    "def process_browser_log_entry(entry):\n",
    "    response = json.loads(entry['message'])['message']\n",
    "    return response"
   ]
  },
  {
   "cell_type": "code",
   "execution_count": 445,
   "metadata": {},
   "outputs": [],
   "source": [
    "def getBinanceWebsocketPriceData(url, verbose=False):\n",
    "    chrm_options = Options()\n",
    "    chrm_caps = webdriver.DesiredCapabilities.CHROME.copy()\n",
    "    chrm_caps['goog:loggingPrefs'] = { 'performance':'ALL' } #save all returns including websocket data\n",
    "\n",
    "    monitor=True\n",
    "\n",
    "    if monitor == False:\n",
    "        display = Display(visible=0, size=(1024, 768)) \n",
    "        display.start()\n",
    "\n",
    "    driver = webdriver.Chrome(chrome_options=chrm_options,\n",
    "                              desired_capabilities=chrm_caps) \n",
    "\n",
    "    driver.maximize_window()\n",
    "    \n",
    "    # Go to Trading View\n",
    "    website = url\n",
    "    driver.get(website)\n",
    "    print('Reached tradingview website')\n",
    "\n",
    "    # Input query\n",
    "    driver.find_element_by_tag_name('body').send_keys(Keys.COMMAND + 'k')\n",
    "    driver.implicitly_wait(3)\n",
    "\n",
    "    driver.find_element_by_id('onetrust-reject-all-handler').click()\n",
    "    driver.implicitly_wait(1)\n",
    "\n",
    "    # click 1 hour interval\n",
    "    dataStartTs = datetime.now().timestamp() # save the timestamp of time right before clicking the button for filtering \n",
    "    driver.find_element_by_id('1h').click()\n",
    "\n",
    "    # scroll\n",
    "    elm = driver.find_element_by_name('chart')\n",
    "    for i in range(50):\n",
    "        wheel_element(elm, deltaX=0, deltaY=50)\n",
    "    \n",
    "    time.sleep(1)\n",
    "\n",
    "    for i in range(2400): # 1500 is approximately 1.25 years\n",
    "        wheel_element(elm, deltaX=-50, deltaY=0)\n",
    "        time.sleep(0.1)\n",
    "        \n",
    "    try:                   \n",
    "        browser_log = driver.get_log('performance') \n",
    "        events = [process_browser_log_entry(entry) for entry in browser_log if entry['timestamp']> dataStartTs]\n",
    "        events = [event for event in events if 'Network.response' in event['method']]\n",
    "        \n",
    "        # parse\n",
    "        _id = []\n",
    "        for i, event in enumerate(events):\n",
    "            try:\n",
    "                if event['params']['headers']['content-type'] == 'application/json': # price data to be plotted on chart are transmitted in json\n",
    "                    _id.append(i) \n",
    "            except:\n",
    "                continue\n",
    "\n",
    "        # get requestionId \n",
    "        requestId_arr = [events[i]['params']['requestId'] for i in _id]\n",
    "\n",
    "        # get response\n",
    "        response_arr = []\n",
    "        for requestId in requestId_arr:\n",
    "            response_arr.append(driver.execute_cdp_cmd('Network.getResponseBody',\n",
    "                               {'requestId': requestId}))\n",
    "\n",
    "        # filter out price data; they are stored as list\n",
    "        priceData_arr = []\n",
    "        for response in response_arr:\n",
    "            j = json.loads(response['body'])\n",
    "            if type(j) == list:\n",
    "                if type(j[0])==list:\n",
    "                    priceData_arr.append(j)\n",
    "        print('done')\n",
    "        \n",
    "        if verbose:\n",
    "            return priceData_arr, browser_log\n",
    "\n",
    "        else:\n",
    "            return priceData_arr\n",
    "        \n",
    "    except:\n",
    "        if verbose:\n",
    "            print('error')\n",
    "            return None, (browser_log, response_arr)\n",
    "        else:\n",
    "            return None, None\n"
   ]
  },
  {
   "cell_type": "code",
   "execution_count": 446,
   "metadata": {},
   "outputs": [
    {
     "name": "stdout",
     "output_type": "stream",
     "text": [
      "Reached tradingview website\n",
      "done\n"
     ]
    }
   ],
   "source": [
    "url = 'https://www.binance.com/en/futures/btcusdt_quarter?utm_source=internal&utm_medium=homepage&utm_campaign=trading_dashboard'\n",
    "url = 'https://www.binance.com/en/delivery/btcusd_bi-quarter?utm_source=internal&utm_medium=homepage&utm_campaign=trading_dashboard'\n",
    "results, log = getBinanceWebsocketPriceData(url, True)"
   ]
  },
  {
   "cell_type": "code",
   "execution_count": 447,
   "metadata": {
    "scrolled": true
   },
   "outputs": [],
   "source": [
    "to_df = []\n",
    "for result in results:\n",
    "    _df = pd.DataFrame(result)\n",
    "    _m = np.mean(_df.loc[:,0].diff())\n",
    "    if _m == 3600000:\n",
    "        to_df.append(_df)\n",
    "\n",
    "df = pd.concat(to_df,\n",
    "          axis=0, ignore_index=True)\n",
    "# df.drop_duplicates(0, keep='last', inplace=True)"
   ]
  },
  {
   "cell_type": "code",
   "execution_count": 448,
   "metadata": {},
   "outputs": [
    {
     "data": {
      "text/plain": [
       "176"
      ]
     },
     "execution_count": 448,
     "metadata": {},
     "output_type": "execute_result"
    }
   ],
   "source": [
    "len(to_df)\n",
    "# len(results)"
   ]
  },
  {
   "cell_type": "code",
   "execution_count": 449,
   "metadata": {},
   "outputs": [],
   "source": [
    "df.iloc[:,0] = pd.to_datetime(df.iloc[:,0]*1000_000)\n",
    "df.iloc[:,1:] = df.iloc[:,1:].astype(float)\n",
    "df = df.sort_values(0)"
   ]
  },
  {
   "cell_type": "code",
   "execution_count": 450,
   "metadata": {},
   "outputs": [],
   "source": [
    "df.drop_duplicates(0, keep='last', inplace=True)\n",
    "df.reset_index(drop=True, inplace=True)"
   ]
  },
  {
   "cell_type": "code",
   "execution_count": 451,
   "metadata": {},
   "outputs": [],
   "source": [
    "col_names = ['dateTime', 'open', 'high', 'low', 'close', 'volume', 'closeTime', 'quoteAssetVolume', 'numberOfTrades', \n",
    " 'takerBuyVolume', 'takerBuyQuoteAssetVolume', 'Ignore']"
   ]
  },
  {
   "cell_type": "code",
   "execution_count": 452,
   "metadata": {},
   "outputs": [],
   "source": [
    "df.columns = col_names"
   ]
  },
  {
   "cell_type": "code",
   "execution_count": 457,
   "metadata": {},
   "outputs": [
    {
     "data": {
      "text/plain": [
       "Timedelta('0 days 01:00:00')"
      ]
     },
     "execution_count": 457,
     "metadata": {},
     "output_type": "execute_result"
    }
   ],
   "source": [
    "# check missing data\n",
    "np.mean(df.dateTime.diff())"
   ]
  },
  {
   "cell_type": "code",
   "execution_count": 458,
   "metadata": {},
   "outputs": [
    {
     "name": "stderr",
     "output_type": "stream",
     "text": [
      "/Users/francis/opt/anaconda3/lib/python3.7/site-packages/matplotlib/cbook/__init__.py:1402: FutureWarning: Support for multi-dimensional indexing (e.g. `obj[:, None]`) is deprecated and will be removed in a future version.  Convert to a numpy array before indexing instead.\n",
      "  x[:, None]\n",
      "/Users/francis/opt/anaconda3/lib/python3.7/site-packages/matplotlib/cbook/__init__.py:1402: FutureWarning: Support for multi-dimensional indexing (e.g. `obj[:, None]`) is deprecated and will be removed in a future version.  Convert to a numpy array before indexing instead.\n",
      "  x[:, None]\n",
      "/Users/francis/opt/anaconda3/lib/python3.7/site-packages/matplotlib/axes/_base.py:276: FutureWarning: Support for multi-dimensional indexing (e.g. `obj[:, None]`) is deprecated and will be removed in a future version.  Convert to a numpy array before indexing instead.\n",
      "  x = x[:, np.newaxis]\n",
      "/Users/francis/opt/anaconda3/lib/python3.7/site-packages/matplotlib/axes/_base.py:278: FutureWarning: Support for multi-dimensional indexing (e.g. `obj[:, None]`) is deprecated and will be removed in a future version.  Convert to a numpy array before indexing instead.\n",
      "  y = y[:, np.newaxis]\n"
     ]
    },
    {
     "data": {
      "text/plain": [
       "[<matplotlib.lines.Line2D at 0x7fce25ca18d0>]"
      ]
     },
     "execution_count": 458,
     "metadata": {},
     "output_type": "execute_result"
    },
    {
     "data": {
      "image/png": "[encoded data removed]",
      "text/plain": [
       "<Figure size 432x288 with 1 Axes>"
      ]
     },
     "metadata": {
      "needs_background": "light"
     },
     "output_type": "display_data"
    }
   ],
   "source": [
    "plt.plot(df.dateTime, df.open)"
   ]
  },
  {
   "cell_type": "code",
   "execution_count": null,
   "metadata": {},
   "outputs": [],
   "source": []
  }
 ],
 "metadata": {
  "kernelspec": {
   "display_name": "Python 3",
   "language": "python",
   "name": "python3"
  },
  "language_info": {
   "codemirror_mode": {
    "name": "ipython",
    "version": 3
   },
   "file_extension": ".py",
   "mimetype": "text/x-python",
   "name": "python",
   "nbconvert_exporter": "python",
   "pygments_lexer": "ipython3",
   "version": "3.7.4"
  },
  "toc": {
   "base_numbering": 1,
   "nav_menu": {},
   "number_sections": true,
   "sideBar": true,
   "skip_h1_title": false,
   "title_cell": "Table of Contents",
   "title_sidebar": "Contents",
   "toc_cell": false,
   "toc_position": {},
   "toc_section_display": true,
   "toc_window_display": false
  }
 },
 "nbformat": 4,
 "nbformat_minor": 2
}
