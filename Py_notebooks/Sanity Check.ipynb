{
 "cells": [
  {
   "cell_type": "code",
   "execution_count": 2,
   "metadata": {},
   "outputs": [
    {
     "name": "stderr",
     "output_type": "stream",
     "text": [
      "/Users/francis/opt/anaconda3/lib/python3.7/site-packages/statsmodels/tools/_testing.py:19: FutureWarning: pandas.util.testing is deprecated. Use the functions in the public API at pandas.testing instead.\n",
      "  import pandas.util.testing as tm\n"
     ]
    }
   ],
   "source": [
    "import os, sys\n",
    "sys.path.append('../src/')\n",
    "\n",
    "\n",
    "from copulae1 import *\n",
    "from toolbox import *\n",
    "import os"
   ]
  },
  {
   "cell_type": "code",
   "execution_count": 274,
   "metadata": {},
   "outputs": [
    {
     "name": "stdout",
     "output_type": "stream",
     "text": [
      "300\n"
     ]
    }
   ],
   "source": [
    "v1 = pd.read_csv('../processed_data/coingecko_future_v1/train/10.csv')\n",
    "print(len(v1))"
   ]
  },
  {
   "cell_type": "code",
   "execution_count": 275,
   "metadata": {},
   "outputs": [
    {
     "name": "stdout",
     "output_type": "stream",
     "text": [
      "300\n"
     ]
    }
   ],
   "source": [
    "v5 = pd.read_csv('../processed_data/coingecko_future_v5/train/46.csv')\n",
    "print(len(v5))"
   ]
  },
  {
   "cell_type": "code",
   "execution_count": 276,
   "metadata": {},
   "outputs": [
    {
     "name": "stdout",
     "output_type": "stream",
     "text": [
      "         Date  bitcoin price   Close  log return bitcoin  log return future\n",
      "0  2019-10-11    8328.545273  8465.0           -0.025490          -0.027958\n",
      "1  2019-10-10    8543.565464  8705.0            0.002356          -0.004013            Date  bitcoin price   Close  log return bitcoin  log return future\n",
      "297  2018-08-08    6306.392520  6330.0           -0.076259          -0.097032\n",
      "298  2018-08-07    6806.123136  6975.0           -0.009873           0.007194\n"
     ]
    }
   ],
   "source": [
    "print(v1.iloc[0:2,1:], v1.iloc[-3:-1,1:])"
   ]
  },
  {
   "cell_type": "code",
   "execution_count": 277,
   "metadata": {},
   "outputs": [
    {
     "name": "stdout",
     "output_type": "stream",
     "text": [
      "         Date  bitcoin price   Close  log return bitcoin  log return future\n",
      "0  2019-10-11    8328.545273  8465.0           -0.025490          -0.027958\n",
      "1  2019-10-10    8543.565464  8705.0            0.002356          -0.004013            Date  bitcoin price   Close  log return bitcoin  log return future\n",
      "297  2018-08-08    6306.392520  6330.0           -0.076259          -0.097032\n",
      "298  2018-08-07    6806.123136  6975.0           -0.009873           0.007194\n"
     ]
    }
   ],
   "source": [
    "print(v5.iloc[0:2,1:], v5.iloc[-3:-1,1:])"
   ]
  },
  {
   "cell_type": "code",
   "execution_count": 14,
   "metadata": {},
   "outputs": [],
   "source": [
    "para1 = pd.read_json('../results/coingecko_future_v1/MM/parameters.json')"
   ]
  },
  {
   "cell_type": "code",
   "execution_count": 43,
   "metadata": {},
   "outputs": [
    {
     "data": {
      "text/plain": [
       "Clayton                                     {'theta': 52.8099180598}\n",
       "Frank                                       {'theta': 38.2435110122}\n",
       "Gauss Mix Indep    {'rho': 0.9949729097000001, 'p': 0.87103102350...\n",
       "Gaussian                                       {'rho': 0.9629460318}\n",
       "Gumbel                                        {'theta': 6.220406518}\n",
       "Plackett                                   {'theta': 316.0334926055}\n",
       "t_Copula                            {'rho': 0.9400370509, 'nu': 2.0}\n",
       "t_Copula_Capped                     {'rho': 0.9516419344, 'nu': 4.0}\n",
       "Name: 10.csv, dtype: object"
      ]
     },
     "execution_count": 43,
     "metadata": {},
     "output_type": "execute_result"
    }
   ],
   "source": [
    "para1.loc[:,'10.csv']"
   ]
  },
  {
   "cell_type": "code",
   "execution_count": 16,
   "metadata": {},
   "outputs": [],
   "source": [
    "para5 = pd.read_json('../results/coingecko_future_v5/MM/parameters.json')"
   ]
  },
  {
   "cell_type": "code",
   "execution_count": 35,
   "metadata": {},
   "outputs": [],
   "source": [
    "data_name = \"coingecko_future_v1\"\n",
    "data_path = \"../processed_data/\"+data_name+\"/\"\n",
    "ls = os.listdir(data_path + 'train/')\n",
    "date_range_arr = []\n",
    "for i, file in enumerate(ls):\n",
    "\ttrain = pd.read_csv(data_path + 'train/' + file)\n",
    "\tdate_range = train.Date.iloc[-1] + ' to ' + train.Date.iloc[0]\n",
    "\tdate_range_arr.append(date_range)"
   ]
  },
  {
   "cell_type": "code",
   "execution_count": 33,
   "metadata": {},
   "outputs": [],
   "source": [
    "files = list(para1.columns)\n",
    "date_range_arr = []\n",
    "for file in files:\n",
    "    train = pd.read_csv(data_path + 'train/' + file)\n",
    "    date_range = train.Date.iloc[-1] + ' to ' + train.Date.iloc[0]\n",
    "    date_range_arr.append(date_range)"
   ]
  },
  {
   "cell_type": "code",
   "execution_count": 71,
   "metadata": {},
   "outputs": [],
   "source": [
    "OHR5 = pd.read_hdf('../results/coingecko_future_v5/MM/best_h.h5')"
   ]
  },
  {
   "cell_type": "code",
   "execution_count": 75,
   "metadata": {},
   "outputs": [
    {
     "data": {
      "text/html": [
       "<div>\n",
       "<style scoped>\n",
       "    .dataframe tbody tr th:only-of-type {\n",
       "        vertical-align: middle;\n",
       "    }\n",
       "\n",
       "    .dataframe tbody tr th {\n",
       "        vertical-align: top;\n",
       "    }\n",
       "\n",
       "    .dataframe thead th {\n",
       "        text-align: right;\n",
       "    }\n",
       "</style>\n",
       "<table border=\"1\" class=\"dataframe\">\n",
       "  <thead>\n",
       "    <tr style=\"text-align: right;\">\n",
       "      <th></th>\n",
       "      <th>Variance</th>\n",
       "      <th>ERM k=10</th>\n",
       "      <th>ES q=0.01</th>\n",
       "      <th>ES q=0.05</th>\n",
       "      <th>VaR q=0.01</th>\n",
       "      <th>VaR q=0.05</th>\n",
       "    </tr>\n",
       "  </thead>\n",
       "  <tbody>\n",
       "    <tr>\n",
       "      <th>Gaussian</th>\n",
       "      <td>0.875098</td>\n",
       "      <td>0.882617</td>\n",
       "      <td>0.834668</td>\n",
       "      <td>0.878223</td>\n",
       "      <td>0.875098</td>\n",
       "      <td>0.924512</td>\n",
       "    </tr>\n",
       "    <tr>\n",
       "      <th>t_Copula</th>\n",
       "      <td>0.853516</td>\n",
       "      <td>0.860059</td>\n",
       "      <td>0.757617</td>\n",
       "      <td>0.827637</td>\n",
       "      <td>0.812305</td>\n",
       "      <td>0.900000</td>\n",
       "    </tr>\n",
       "    <tr>\n",
       "      <th>t_Copula_Capped</th>\n",
       "      <td>0.867676</td>\n",
       "      <td>0.869336</td>\n",
       "      <td>0.821191</td>\n",
       "      <td>0.851562</td>\n",
       "      <td>0.829492</td>\n",
       "      <td>0.912988</td>\n",
       "    </tr>\n",
       "    <tr>\n",
       "      <th>Clayton</th>\n",
       "      <td>0.883691</td>\n",
       "      <td>0.861621</td>\n",
       "      <td>0.705176</td>\n",
       "      <td>0.818262</td>\n",
       "      <td>0.781738</td>\n",
       "      <td>0.956152</td>\n",
       "    </tr>\n",
       "    <tr>\n",
       "      <th>Frank</th>\n",
       "      <td>0.579687</td>\n",
       "      <td>0.506543</td>\n",
       "      <td>0.515820</td>\n",
       "      <td>0.479199</td>\n",
       "      <td>0.485937</td>\n",
       "      <td>1.058008</td>\n",
       "    </tr>\n",
       "    <tr>\n",
       "      <th>Gumbel</th>\n",
       "      <td>0.873242</td>\n",
       "      <td>0.954590</td>\n",
       "      <td>0.926855</td>\n",
       "      <td>0.976953</td>\n",
       "      <td>1.042969</td>\n",
       "      <td>0.969531</td>\n",
       "    </tr>\n",
       "    <tr>\n",
       "      <th>Plackett</th>\n",
       "      <td>0.860352</td>\n",
       "      <td>0.887988</td>\n",
       "      <td>0.756055</td>\n",
       "      <td>0.845312</td>\n",
       "      <td>0.796875</td>\n",
       "      <td>0.933203</td>\n",
       "    </tr>\n",
       "    <tr>\n",
       "      <th>Gauss Mix Indep</th>\n",
       "      <td>0.790430</td>\n",
       "      <td>0.869922</td>\n",
       "      <td>0.435840</td>\n",
       "      <td>0.738867</td>\n",
       "      <td>0.507031</td>\n",
       "      <td>0.913477</td>\n",
       "    </tr>\n",
       "  </tbody>\n",
       "</table>\n",
       "</div>"
      ],
      "text/plain": [
       "                 Variance  ERM k=10  ES q=0.01  ES q=0.05  VaR q=0.01  \\\n",
       "Gaussian         0.875098  0.882617   0.834668   0.878223    0.875098   \n",
       "t_Copula         0.853516  0.860059   0.757617   0.827637    0.812305   \n",
       "t_Copula_Capped  0.867676  0.869336   0.821191   0.851562    0.829492   \n",
       "Clayton          0.883691  0.861621   0.705176   0.818262    0.781738   \n",
       "Frank            0.579687  0.506543   0.515820   0.479199    0.485937   \n",
       "Gumbel           0.873242  0.954590   0.926855   0.976953    1.042969   \n",
       "Plackett         0.860352  0.887988   0.756055   0.845312    0.796875   \n",
       "Gauss Mix Indep  0.790430  0.869922   0.435840   0.738867    0.507031   \n",
       "\n",
       "                 VaR q=0.05  \n",
       "Gaussian           0.924512  \n",
       "t_Copula           0.900000  \n",
       "t_Copula_Capped    0.912988  \n",
       "Clayton            0.956152  \n",
       "Frank              1.058008  \n",
       "Gumbel             0.969531  \n",
       "Plackett           0.933203  \n",
       "Gauss Mix Indep    0.913477  "
      ]
     },
     "execution_count": 75,
     "metadata": {},
     "output_type": "execute_result"
    }
   ],
   "source": [
    "OHR5.loc[:,'46.csv']"
   ]
  },
  {
   "cell_type": "code",
   "execution_count": 73,
   "metadata": {},
   "outputs": [],
   "source": [
    "OHR1 = pd.read_hdf('../results/coingecko_future_v1/MM/best_h.h5')"
   ]
  },
  {
   "cell_type": "code",
   "execution_count": 76,
   "metadata": {},
   "outputs": [
    {
     "data": {
      "text/html": [
       "<div>\n",
       "<style scoped>\n",
       "    .dataframe tbody tr th:only-of-type {\n",
       "        vertical-align: middle;\n",
       "    }\n",
       "\n",
       "    .dataframe tbody tr th {\n",
       "        vertical-align: top;\n",
       "    }\n",
       "\n",
       "    .dataframe thead th {\n",
       "        text-align: right;\n",
       "    }\n",
       "</style>\n",
       "<table border=\"1\" class=\"dataframe\">\n",
       "  <thead>\n",
       "    <tr style=\"text-align: right;\">\n",
       "      <th></th>\n",
       "      <th>Variance</th>\n",
       "      <th>ERM k=10</th>\n",
       "      <th>ES q=0.01</th>\n",
       "      <th>ES q=0.05</th>\n",
       "      <th>ES q=0.10</th>\n",
       "      <th>VaR q=0.01</th>\n",
       "      <th>VaR q=0.05</th>\n",
       "      <th>VaR q=0.10</th>\n",
       "    </tr>\n",
       "  </thead>\n",
       "  <tbody>\n",
       "    <tr>\n",
       "      <th>Gaussian</th>\n",
       "      <td>0.864941</td>\n",
       "      <td>0.879785</td>\n",
       "      <td>0.829102</td>\n",
       "      <td>0.874707</td>\n",
       "      <td>0.888086</td>\n",
       "      <td>0.856055</td>\n",
       "      <td>0.932031</td>\n",
       "      <td>0.906641</td>\n",
       "    </tr>\n",
       "    <tr>\n",
       "      <th>t_Copula</th>\n",
       "      <td>0.844336</td>\n",
       "      <td>0.858398</td>\n",
       "      <td>0.763770</td>\n",
       "      <td>0.825195</td>\n",
       "      <td>0.858984</td>\n",
       "      <td>0.815332</td>\n",
       "      <td>0.901953</td>\n",
       "      <td>0.903906</td>\n",
       "    </tr>\n",
       "    <tr>\n",
       "      <th>t_Copula_Capped</th>\n",
       "      <td>0.857422</td>\n",
       "      <td>0.868555</td>\n",
       "      <td>0.816992</td>\n",
       "      <td>0.850195</td>\n",
       "      <td>0.873145</td>\n",
       "      <td>0.828711</td>\n",
       "      <td>0.897852</td>\n",
       "      <td>0.910742</td>\n",
       "    </tr>\n",
       "    <tr>\n",
       "      <th>Clayton</th>\n",
       "      <td>0.875684</td>\n",
       "      <td>0.872070</td>\n",
       "      <td>0.697852</td>\n",
       "      <td>0.825000</td>\n",
       "      <td>0.869336</td>\n",
       "      <td>0.776953</td>\n",
       "      <td>0.948145</td>\n",
       "      <td>1.003125</td>\n",
       "    </tr>\n",
       "    <tr>\n",
       "      <th>Frank</th>\n",
       "      <td>0.586719</td>\n",
       "      <td>0.518262</td>\n",
       "      <td>0.528613</td>\n",
       "      <td>0.489941</td>\n",
       "      <td>0.499414</td>\n",
       "      <td>0.497070</td>\n",
       "      <td>1.078320</td>\n",
       "      <td>1.019043</td>\n",
       "    </tr>\n",
       "    <tr>\n",
       "      <th>Gumbel</th>\n",
       "      <td>0.863867</td>\n",
       "      <td>0.946875</td>\n",
       "      <td>0.915918</td>\n",
       "      <td>0.968359</td>\n",
       "      <td>0.959668</td>\n",
       "      <td>1.041016</td>\n",
       "      <td>0.966895</td>\n",
       "      <td>0.926562</td>\n",
       "    </tr>\n",
       "    <tr>\n",
       "      <th>Plackett</th>\n",
       "      <td>0.850293</td>\n",
       "      <td>0.886133</td>\n",
       "      <td>0.756055</td>\n",
       "      <td>0.843750</td>\n",
       "      <td>0.889258</td>\n",
       "      <td>0.796191</td>\n",
       "      <td>0.929199</td>\n",
       "      <td>0.962109</td>\n",
       "    </tr>\n",
       "    <tr>\n",
       "      <th>Gauss Mix Indep</th>\n",
       "      <td>0.781543</td>\n",
       "      <td>0.870703</td>\n",
       "      <td>0.431445</td>\n",
       "      <td>0.747852</td>\n",
       "      <td>0.864551</td>\n",
       "      <td>0.505566</td>\n",
       "      <td>0.909375</td>\n",
       "      <td>0.968066</td>\n",
       "    </tr>\n",
       "  </tbody>\n",
       "</table>\n",
       "</div>"
      ],
      "text/plain": [
       "                 Variance  ERM k=10  ES q=0.01  ES q=0.05  ES q=0.10  \\\n",
       "Gaussian         0.864941  0.879785   0.829102   0.874707   0.888086   \n",
       "t_Copula         0.844336  0.858398   0.763770   0.825195   0.858984   \n",
       "t_Copula_Capped  0.857422  0.868555   0.816992   0.850195   0.873145   \n",
       "Clayton          0.875684  0.872070   0.697852   0.825000   0.869336   \n",
       "Frank            0.586719  0.518262   0.528613   0.489941   0.499414   \n",
       "Gumbel           0.863867  0.946875   0.915918   0.968359   0.959668   \n",
       "Plackett         0.850293  0.886133   0.756055   0.843750   0.889258   \n",
       "Gauss Mix Indep  0.781543  0.870703   0.431445   0.747852   0.864551   \n",
       "\n",
       "                 VaR q=0.01  VaR q=0.05  VaR q=0.10  \n",
       "Gaussian           0.856055    0.932031    0.906641  \n",
       "t_Copula           0.815332    0.901953    0.903906  \n",
       "t_Copula_Capped    0.828711    0.897852    0.910742  \n",
       "Clayton            0.776953    0.948145    1.003125  \n",
       "Frank              0.497070    1.078320    1.019043  \n",
       "Gumbel             1.041016    0.966895    0.926562  \n",
       "Plackett           0.796191    0.929199    0.962109  \n",
       "Gauss Mix Indep    0.505566    0.909375    0.968066  "
      ]
     },
     "execution_count": 76,
     "metadata": {},
     "output_type": "execute_result"
    }
   ],
   "source": [
    "OHR1.loc[:,'10.csv']"
   ]
  },
  {
   "cell_type": "code",
   "execution_count": 9,
   "metadata": {},
   "outputs": [],
   "source": [
    "from KDEs import *\n",
    "data = pd.read_csv('../processed_data/coingecko_future_v1/train/0.csv')\n",
    "btc = data.loc[:,'log return bitcoin']\n",
    "future = data.loc[:,'log return future']\n",
    "KDE_btc = KDE(btc, 'Gaussian')\n",
    "KDE_future = KDE(future, 'Gaussian')"
   ]
  },
  {
   "cell_type": "code",
   "execution_count": 19,
   "metadata": {},
   "outputs": [
    {
     "name": "stdout",
     "output_type": "stream",
     "text": [
      "Optimization terminated successfully.\n",
      "         Current function value: 0.000222\n",
      "         Iterations: 12\n",
      "         Function evaluations: 24\n",
      "Optimization terminated successfully.\n",
      "         Current function value: 0.020267\n",
      "         Iterations: 13\n",
      "         Function evaluations: 26\n",
      "Optimization terminated successfully.\n",
      "         Current function value: 0.065212\n",
      "         Iterations: 12\n",
      "         Function evaluations: 24\n",
      "Optimization terminated successfully.\n",
      "         Current function value: 0.033655\n",
      "         Iterations: 12\n",
      "         Function evaluations: 24\n",
      "Optimization terminated successfully.\n",
      "         Current function value: 0.039557\n",
      "         Iterations: 11\n",
      "         Function evaluations: 22\n",
      "Optimization terminated successfully.\n",
      "         Current function value: 0.017395\n",
      "         Iterations: 14\n",
      "         Function evaluations: 29\n"
     ]
    },
    {
     "data": {
      "text/plain": [
       "[0.8557617187499998,\n",
       " 0.8410156249999999,\n",
       " 0.9197265625,\n",
       " 0.8687499999999999,\n",
       " 0.9368164062499998,\n",
       " 0.7748046874999999]"
      ]
     },
     "execution_count": 19,
     "metadata": {},
     "output_type": "execute_result"
    }
   ],
   "source": [
    "C = t_Copula(para1.loc['t_Copula','10.csv'], KDE_btc, KDE_future, nu_lowerbound=2)\n",
    "optimize_h(C, [10], [0.01,0.05], [0.01,0.05])"
   ]
  },
  {
   "cell_type": "code",
   "execution_count": 22,
   "metadata": {
    "scrolled": true
   },
   "outputs": [
    {
     "name": "stdout",
     "output_type": "stream",
     "text": [
      "Optimization terminated successfully.\n",
      "         Current function value: 0.000222\n",
      "         Iterations: 12\n",
      "         Function evaluations: 24\n",
      "Optimization terminated successfully.\n",
      "         Current function value: 0.020267\n",
      "         Iterations: 13\n",
      "         Function evaluations: 26\n",
      "Optimization terminated successfully.\n",
      "         Current function value: 0.065212\n",
      "         Iterations: 12\n",
      "         Function evaluations: 24\n",
      "Optimization terminated successfully.\n",
      "         Current function value: 0.033655\n",
      "         Iterations: 12\n",
      "         Function evaluations: 24\n",
      "Optimization terminated successfully.\n",
      "         Current function value: 0.039557\n",
      "         Iterations: 11\n",
      "         Function evaluations: 22\n",
      "Optimization terminated successfully.\n",
      "         Current function value: 0.017395\n",
      "         Iterations: 14\n",
      "         Function evaluations: 29\n"
     ]
    },
    {
     "data": {
      "text/plain": [
       "[0.8557617187499998,\n",
       " 0.8410156249999999,\n",
       " 0.9197265625,\n",
       " 0.8687499999999999,\n",
       " 0.9368164062499998,\n",
       " 0.7748046874999999]"
      ]
     },
     "execution_count": 22,
     "metadata": {},
     "output_type": "execute_result"
    }
   ],
   "source": [
    "C = t_Copula(para1.loc['t_Copula','10.csv'], KDE_btc, KDE_future, nu_lowerbound=2)\n",
    "optimize_h(C, [10], [0.01,0.05], [0.01,0.05])"
   ]
  },
  {
   "cell_type": "code",
   "execution_count": 68,
   "metadata": {},
   "outputs": [],
   "source": [
    "h_arr = []\n",
    "for i, copula in enumerate(list(OHR5.index)):\n",
    "    h = OHR5.iloc[i:i+1,:].melt()\n",
    "    h.columns = ['file', 'risk measure', 'OHR']\n",
    "    h.loc[:,'copula'] = copula\n",
    "    h_arr.append(h)\n",
    "h = pd.concat(h_arr)"
   ]
  },
  {
   "cell_type": "code",
   "execution_count": 33,
   "metadata": {},
   "outputs": [
    {
     "data": {
      "text/html": [
       "<div>\n",
       "<style scoped>\n",
       "    .dataframe tbody tr th:only-of-type {\n",
       "        vertical-align: middle;\n",
       "    }\n",
       "\n",
       "    .dataframe tbody tr th {\n",
       "        vertical-align: top;\n",
       "    }\n",
       "\n",
       "    .dataframe thead th {\n",
       "        text-align: right;\n",
       "    }\n",
       "</style>\n",
       "<table border=\"1\" class=\"dataframe\">\n",
       "  <thead>\n",
       "    <tr style=\"text-align: right;\">\n",
       "      <th></th>\n",
       "      <th>Unnamed: 0</th>\n",
       "      <th>Date</th>\n",
       "      <th>bitcoin price</th>\n",
       "      <th>Close</th>\n",
       "      <th>log return bitcoin</th>\n",
       "      <th>log return future</th>\n",
       "    </tr>\n",
       "  </thead>\n",
       "  <tbody>\n",
       "    <tr>\n",
       "      <th>0</th>\n",
       "      <td>5</td>\n",
       "      <td>2021-01-27</td>\n",
       "      <td>31038.167807</td>\n",
       "      <td>31905.0</td>\n",
       "      <td>-0.031028</td>\n",
       "      <td>-0.020475</td>\n",
       "    </tr>\n",
       "    <tr>\n",
       "      <th>1</th>\n",
       "      <td>6</td>\n",
       "      <td>2021-01-26</td>\n",
       "      <td>32016.318284</td>\n",
       "      <td>32565.0</td>\n",
       "      <td>-0.012835</td>\n",
       "      <td>-0.049280</td>\n",
       "    </tr>\n",
       "    <tr>\n",
       "      <th>2</th>\n",
       "      <td>7</td>\n",
       "      <td>2021-01-25</td>\n",
       "      <td>32429.912048</td>\n",
       "      <td>34210.0</td>\n",
       "      <td>-0.032341</td>\n",
       "      <td>-0.001606</td>\n",
       "    </tr>\n",
       "    <tr>\n",
       "      <th>3</th>\n",
       "      <td>8</td>\n",
       "      <td>2021-01-22</td>\n",
       "      <td>33495.880668</td>\n",
       "      <td>34265.0</td>\n",
       "      <td>0.068315</td>\n",
       "      <td>0.050733</td>\n",
       "    </tr>\n",
       "    <tr>\n",
       "      <th>4</th>\n",
       "      <td>9</td>\n",
       "      <td>2021-01-21</td>\n",
       "      <td>31284.024401</td>\n",
       "      <td>32570.0</td>\n",
       "      <td>-0.110154</td>\n",
       "      <td>-0.096649</td>\n",
       "    </tr>\n",
       "    <tr>\n",
       "      <th>5</th>\n",
       "      <td>10</td>\n",
       "      <td>2021-01-20</td>\n",
       "      <td>34927.060093</td>\n",
       "      <td>35875.0</td>\n",
       "      <td>-0.041842</td>\n",
       "      <td>-0.046298</td>\n",
       "    </tr>\n",
       "    <tr>\n",
       "      <th>6</th>\n",
       "      <td>11</td>\n",
       "      <td>2021-01-19</td>\n",
       "      <td>36419.483281</td>\n",
       "      <td>37575.0</td>\n",
       "      <td>0.006850</td>\n",
       "      <td>0.028068</td>\n",
       "    </tr>\n",
       "    <tr>\n",
       "      <th>7</th>\n",
       "      <td>12</td>\n",
       "      <td>2021-01-15</td>\n",
       "      <td>36170.880330</td>\n",
       "      <td>36535.0</td>\n",
       "      <td>-0.068624</td>\n",
       "      <td>-0.103525</td>\n",
       "    </tr>\n",
       "    <tr>\n",
       "      <th>8</th>\n",
       "      <td>13</td>\n",
       "      <td>2021-01-14</td>\n",
       "      <td>38740.226904</td>\n",
       "      <td>40520.0</td>\n",
       "      <td>0.031658</td>\n",
       "      <td>0.081998</td>\n",
       "    </tr>\n",
       "    <tr>\n",
       "      <th>9</th>\n",
       "      <td>14</td>\n",
       "      <td>2021-01-13</td>\n",
       "      <td>37532.981902</td>\n",
       "      <td>37330.0</td>\n",
       "      <td>0.075784</td>\n",
       "      <td>0.052521</td>\n",
       "    </tr>\n",
       "    <tr>\n",
       "      <th>10</th>\n",
       "      <td>15</td>\n",
       "      <td>2021-01-12</td>\n",
       "      <td>34793.694060</td>\n",
       "      <td>35420.0</td>\n",
       "      <td>0.008910</td>\n",
       "      <td>0.021113</td>\n",
       "    </tr>\n",
       "    <tr>\n",
       "      <th>11</th>\n",
       "      <td>16</td>\n",
       "      <td>2021-01-11</td>\n",
       "      <td>34485.056420</td>\n",
       "      <td>34680.0</td>\n",
       "      <td>-0.152310</td>\n",
       "      <td>-0.155262</td>\n",
       "    </tr>\n",
       "    <tr>\n",
       "      <th>12</th>\n",
       "      <td>17</td>\n",
       "      <td>2021-01-08</td>\n",
       "      <td>40158.575337</td>\n",
       "      <td>40505.0</td>\n",
       "      <td>0.010555</td>\n",
       "      <td>-0.003081</td>\n",
       "    </tr>\n",
       "    <tr>\n",
       "      <th>13</th>\n",
       "      <td>18</td>\n",
       "      <td>2021-01-07</td>\n",
       "      <td>39736.920987</td>\n",
       "      <td>40630.0</td>\n",
       "      <td>0.101218</td>\n",
       "      <td>0.078966</td>\n",
       "    </tr>\n",
       "    <tr>\n",
       "      <th>14</th>\n",
       "      <td>19</td>\n",
       "      <td>2021-01-06</td>\n",
       "      <td>35911.688042</td>\n",
       "      <td>37545.0</td>\n",
       "      <td>0.059696</td>\n",
       "      <td>0.059535</td>\n",
       "    </tr>\n",
       "    <tr>\n",
       "      <th>15</th>\n",
       "      <td>20</td>\n",
       "      <td>2021-01-05</td>\n",
       "      <td>33830.628377</td>\n",
       "      <td>35375.0</td>\n",
       "      <td>0.078559</td>\n",
       "      <td>0.088310</td>\n",
       "    </tr>\n",
       "    <tr>\n",
       "      <th>16</th>\n",
       "      <td>21</td>\n",
       "      <td>2021-01-04</td>\n",
       "      <td>31274.631598</td>\n",
       "      <td>32385.0</td>\n",
       "      <td>0.072591</td>\n",
       "      <td>0.076498</td>\n",
       "    </tr>\n",
       "    <tr>\n",
       "      <th>17</th>\n",
       "      <td>22</td>\n",
       "      <td>2020-12-31</td>\n",
       "      <td>29084.806160</td>\n",
       "      <td>30000.0</td>\n",
       "      <td>0.007677</td>\n",
       "      <td>0.007025</td>\n",
       "    </tr>\n",
       "    <tr>\n",
       "      <th>18</th>\n",
       "      <td>23</td>\n",
       "      <td>2020-12-30</td>\n",
       "      <td>28862.386642</td>\n",
       "      <td>29790.0</td>\n",
       "      <td>0.064054</td>\n",
       "      <td>0.068777</td>\n",
       "    </tr>\n",
       "    <tr>\n",
       "      <th>19</th>\n",
       "      <td>24</td>\n",
       "      <td>2020-12-29</td>\n",
       "      <td>27071.603623</td>\n",
       "      <td>27810.0</td>\n",
       "      <td>0.012303</td>\n",
       "      <td>0.001980</td>\n",
       "    </tr>\n",
       "    <tr>\n",
       "      <th>20</th>\n",
       "      <td>25</td>\n",
       "      <td>2020-12-28</td>\n",
       "      <td>26740.584025</td>\n",
       "      <td>27755.0</td>\n",
       "      <td>0.131110</td>\n",
       "      <td>0.179393</td>\n",
       "    </tr>\n",
       "    <tr>\n",
       "      <th>21</th>\n",
       "      <td>26</td>\n",
       "      <td>2020-12-24</td>\n",
       "      <td>23454.732553</td>\n",
       "      <td>23197.0</td>\n",
       "      <td>0.014825</td>\n",
       "      <td>-0.013403</td>\n",
       "    </tr>\n",
       "    <tr>\n",
       "      <th>22</th>\n",
       "      <td>27</td>\n",
       "      <td>2020-12-23</td>\n",
       "      <td>23109.570495</td>\n",
       "      <td>23510.0</td>\n",
       "      <td>-0.015543</td>\n",
       "      <td>0.002769</td>\n",
       "    </tr>\n",
       "    <tr>\n",
       "      <th>23</th>\n",
       "      <td>28</td>\n",
       "      <td>2020-12-22</td>\n",
       "      <td>23471.574241</td>\n",
       "      <td>23445.0</td>\n",
       "      <td>0.013921</td>\n",
       "      <td>0.024394</td>\n",
       "    </tr>\n",
       "    <tr>\n",
       "      <th>24</th>\n",
       "      <td>29</td>\n",
       "      <td>2020-12-21</td>\n",
       "      <td>23147.082176</td>\n",
       "      <td>22880.0</td>\n",
       "      <td>0.011727</td>\n",
       "      <td>0.000875</td>\n",
       "    </tr>\n",
       "    <tr>\n",
       "      <th>25</th>\n",
       "      <td>30</td>\n",
       "      <td>2020-12-18</td>\n",
       "      <td>22877.221051</td>\n",
       "      <td>22860.0</td>\n",
       "      <td>0.002569</td>\n",
       "      <td>-0.000437</td>\n",
       "    </tr>\n",
       "    <tr>\n",
       "      <th>26</th>\n",
       "      <td>31</td>\n",
       "      <td>2020-12-17</td>\n",
       "      <td>22818.516097</td>\n",
       "      <td>22870.0</td>\n",
       "      <td>0.070075</td>\n",
       "      <td>0.088642</td>\n",
       "    </tr>\n",
       "    <tr>\n",
       "      <th>27</th>\n",
       "      <td>32</td>\n",
       "      <td>2020-12-16</td>\n",
       "      <td>21274.243351</td>\n",
       "      <td>20930.0</td>\n",
       "      <td>0.092325</td>\n",
       "      <td>0.067697</td>\n",
       "    </tr>\n",
       "    <tr>\n",
       "      <th>28</th>\n",
       "      <td>33</td>\n",
       "      <td>2020-12-15</td>\n",
       "      <td>19398.034960</td>\n",
       "      <td>19560.0</td>\n",
       "      <td>0.011715</td>\n",
       "      <td>0.014937</td>\n",
       "    </tr>\n",
       "    <tr>\n",
       "      <th>29</th>\n",
       "      <td>34</td>\n",
       "      <td>2020-12-14</td>\n",
       "      <td>19172.113595</td>\n",
       "      <td>19270.0</td>\n",
       "      <td>0.053557</td>\n",
       "      <td>0.067067</td>\n",
       "    </tr>\n",
       "    <tr>\n",
       "      <th>...</th>\n",
       "      <td>...</td>\n",
       "      <td>...</td>\n",
       "      <td>...</td>\n",
       "      <td>...</td>\n",
       "      <td>...</td>\n",
       "      <td>...</td>\n",
       "    </tr>\n",
       "    <tr>\n",
       "      <th>70</th>\n",
       "      <td>75</td>\n",
       "      <td>2020-10-15</td>\n",
       "      <td>11496.529806</td>\n",
       "      <td>11770.0</td>\n",
       "      <td>0.008967</td>\n",
       "      <td>0.015411</td>\n",
       "    </tr>\n",
       "    <tr>\n",
       "      <th>71</th>\n",
       "      <td>76</td>\n",
       "      <td>2020-10-14</td>\n",
       "      <td>11393.905069</td>\n",
       "      <td>11590.0</td>\n",
       "      <td>-0.004848</td>\n",
       "      <td>-0.003015</td>\n",
       "    </tr>\n",
       "    <tr>\n",
       "      <th>72</th>\n",
       "      <td>77</td>\n",
       "      <td>2020-10-13</td>\n",
       "      <td>11449.273074</td>\n",
       "      <td>11625.0</td>\n",
       "      <td>-0.019967</td>\n",
       "      <td>-0.015365</td>\n",
       "    </tr>\n",
       "    <tr>\n",
       "      <th>73</th>\n",
       "      <td>78</td>\n",
       "      <td>2020-10-12</td>\n",
       "      <td>11680.174991</td>\n",
       "      <td>11805.0</td>\n",
       "      <td>0.054794</td>\n",
       "      <td>0.045935</td>\n",
       "    </tr>\n",
       "    <tr>\n",
       "      <th>74</th>\n",
       "      <td>79</td>\n",
       "      <td>2020-10-09</td>\n",
       "      <td>11057.394902</td>\n",
       "      <td>11275.0</td>\n",
       "      <td>0.016247</td>\n",
       "      <td>0.014742</td>\n",
       "    </tr>\n",
       "    <tr>\n",
       "      <th>75</th>\n",
       "      <td>80</td>\n",
       "      <td>2020-10-08</td>\n",
       "      <td>10879.200346</td>\n",
       "      <td>11110.0</td>\n",
       "      <td>0.019958</td>\n",
       "      <td>0.022299</td>\n",
       "    </tr>\n",
       "    <tr>\n",
       "      <th>76</th>\n",
       "      <td>81</td>\n",
       "      <td>2020-10-07</td>\n",
       "      <td>10664.226900</td>\n",
       "      <td>10865.0</td>\n",
       "      <td>0.008309</td>\n",
       "      <td>0.008782</td>\n",
       "    </tr>\n",
       "    <tr>\n",
       "      <th>77</th>\n",
       "      <td>82</td>\n",
       "      <td>2020-10-06</td>\n",
       "      <td>10575.983117</td>\n",
       "      <td>10770.0</td>\n",
       "      <td>-0.015466</td>\n",
       "      <td>-0.016118</td>\n",
       "    </tr>\n",
       "    <tr>\n",
       "      <th>78</th>\n",
       "      <td>83</td>\n",
       "      <td>2020-10-05</td>\n",
       "      <td>10740.819431</td>\n",
       "      <td>10945.0</td>\n",
       "      <td>0.024111</td>\n",
       "      <td>0.022172</td>\n",
       "    </tr>\n",
       "    <tr>\n",
       "      <th>79</th>\n",
       "      <td>84</td>\n",
       "      <td>2020-10-02</td>\n",
       "      <td>10484.948431</td>\n",
       "      <td>10705.0</td>\n",
       "      <td>-0.011879</td>\n",
       "      <td>-0.009761</td>\n",
       "    </tr>\n",
       "    <tr>\n",
       "      <th>80</th>\n",
       "      <td>85</td>\n",
       "      <td>2020-10-01</td>\n",
       "      <td>10610.239473</td>\n",
       "      <td>10810.0</td>\n",
       "      <td>-0.011019</td>\n",
       "      <td>-0.010124</td>\n",
       "    </tr>\n",
       "    <tr>\n",
       "      <th>81</th>\n",
       "      <td>86</td>\n",
       "      <td>2020-09-30</td>\n",
       "      <td>10727.804605</td>\n",
       "      <td>10920.0</td>\n",
       "      <td>-0.003202</td>\n",
       "      <td>-0.003200</td>\n",
       "    </tr>\n",
       "    <tr>\n",
       "      <th>82</th>\n",
       "      <td>87</td>\n",
       "      <td>2020-09-29</td>\n",
       "      <td>10762.213667</td>\n",
       "      <td>10955.0</td>\n",
       "      <td>-0.011304</td>\n",
       "      <td>-0.012699</td>\n",
       "    </tr>\n",
       "    <tr>\n",
       "      <th>83</th>\n",
       "      <td>88</td>\n",
       "      <td>2020-09-28</td>\n",
       "      <td>10884.558753</td>\n",
       "      <td>11095.0</td>\n",
       "      <td>0.012925</td>\n",
       "      <td>0.044980</td>\n",
       "    </tr>\n",
       "    <tr>\n",
       "      <th>84</th>\n",
       "      <td>89</td>\n",
       "      <td>2020-09-25</td>\n",
       "      <td>10744.780845</td>\n",
       "      <td>10607.0</td>\n",
       "      <td>0.009355</td>\n",
       "      <td>-0.005922</td>\n",
       "    </tr>\n",
       "    <tr>\n",
       "      <th>85</th>\n",
       "      <td>90</td>\n",
       "      <td>2020-09-24</td>\n",
       "      <td>10644.732028</td>\n",
       "      <td>10670.0</td>\n",
       "      <td>0.035835</td>\n",
       "      <td>0.037236</td>\n",
       "    </tr>\n",
       "    <tr>\n",
       "      <th>86</th>\n",
       "      <td>91</td>\n",
       "      <td>2020-09-23</td>\n",
       "      <td>10270.033613</td>\n",
       "      <td>10280.0</td>\n",
       "      <td>-0.026718</td>\n",
       "      <td>-0.020699</td>\n",
       "    </tr>\n",
       "    <tr>\n",
       "      <th>87</th>\n",
       "      <td>92</td>\n",
       "      <td>2020-09-22</td>\n",
       "      <td>10548.130566</td>\n",
       "      <td>10495.0</td>\n",
       "      <td>0.004084</td>\n",
       "      <td>0.000953</td>\n",
       "    </tr>\n",
       "    <tr>\n",
       "      <th>88</th>\n",
       "      <td>93</td>\n",
       "      <td>2020-09-21</td>\n",
       "      <td>10505.140870</td>\n",
       "      <td>10485.0</td>\n",
       "      <td>-0.039759</td>\n",
       "      <td>-0.036981</td>\n",
       "    </tr>\n",
       "    <tr>\n",
       "      <th>89</th>\n",
       "      <td>94</td>\n",
       "      <td>2020-09-18</td>\n",
       "      <td>10931.231265</td>\n",
       "      <td>10880.0</td>\n",
       "      <td>-0.002547</td>\n",
       "      <td>-0.006413</td>\n",
       "    </tr>\n",
       "    <tr>\n",
       "      <th>90</th>\n",
       "      <td>95</td>\n",
       "      <td>2020-09-17</td>\n",
       "      <td>10959.107673</td>\n",
       "      <td>10950.0</td>\n",
       "      <td>-0.005249</td>\n",
       "      <td>-0.005919</td>\n",
       "    </tr>\n",
       "    <tr>\n",
       "      <th>91</th>\n",
       "      <td>96</td>\n",
       "      <td>2020-09-16</td>\n",
       "      <td>11016.788324</td>\n",
       "      <td>11015.0</td>\n",
       "      <td>0.015720</td>\n",
       "      <td>0.018324</td>\n",
       "    </tr>\n",
       "    <tr>\n",
       "      <th>92</th>\n",
       "      <td>97</td>\n",
       "      <td>2020-09-15</td>\n",
       "      <td>10844.956029</td>\n",
       "      <td>10815.0</td>\n",
       "      <td>0.010277</td>\n",
       "      <td>0.010223</td>\n",
       "    </tr>\n",
       "    <tr>\n",
       "      <th>93</th>\n",
       "      <td>98</td>\n",
       "      <td>2020-09-14</td>\n",
       "      <td>10734.073851</td>\n",
       "      <td>10705.0</td>\n",
       "      <td>0.036930</td>\n",
       "      <td>0.034691</td>\n",
       "    </tr>\n",
       "    <tr>\n",
       "      <th>94</th>\n",
       "      <td>99</td>\n",
       "      <td>2020-09-11</td>\n",
       "      <td>10344.894473</td>\n",
       "      <td>10340.0</td>\n",
       "      <td>0.000183</td>\n",
       "      <td>0.002421</td>\n",
       "    </tr>\n",
       "    <tr>\n",
       "      <th>95</th>\n",
       "      <td>100</td>\n",
       "      <td>2020-09-10</td>\n",
       "      <td>10343.005803</td>\n",
       "      <td>10315.0</td>\n",
       "      <td>0.009560</td>\n",
       "      <td>-0.000485</td>\n",
       "    </tr>\n",
       "    <tr>\n",
       "      <th>96</th>\n",
       "      <td>101</td>\n",
       "      <td>2020-09-09</td>\n",
       "      <td>10244.594756</td>\n",
       "      <td>10320.0</td>\n",
       "      <td>0.020643</td>\n",
       "      <td>0.030000</td>\n",
       "    </tr>\n",
       "    <tr>\n",
       "      <th>97</th>\n",
       "      <td>102</td>\n",
       "      <td>2020-09-08</td>\n",
       "      <td>10035.279584</td>\n",
       "      <td>10015.0</td>\n",
       "      <td>-0.052006</td>\n",
       "      <td>-0.058655</td>\n",
       "    </tr>\n",
       "    <tr>\n",
       "      <th>98</th>\n",
       "      <td>103</td>\n",
       "      <td>2020-09-04</td>\n",
       "      <td>10570.981189</td>\n",
       "      <td>10620.0</td>\n",
       "      <td>-0.015070</td>\n",
       "      <td>-0.009372</td>\n",
       "    </tr>\n",
       "    <tr>\n",
       "      <th>99</th>\n",
       "      <td>104</td>\n",
       "      <td>2020-09-03</td>\n",
       "      <td>10731.496510</td>\n",
       "      <td>10720.0</td>\n",
       "      <td>-0.058047</td>\n",
       "      <td>-0.066752</td>\n",
       "    </tr>\n",
       "  </tbody>\n",
       "</table>\n",
       "<p>100 rows × 6 columns</p>\n",
       "</div>"
      ],
      "text/plain": [
       "    Unnamed: 0        Date  bitcoin price    Close  log return bitcoin  \\\n",
       "0            5  2021-01-27   31038.167807  31905.0           -0.031028   \n",
       "1            6  2021-01-26   32016.318284  32565.0           -0.012835   \n",
       "2            7  2021-01-25   32429.912048  34210.0           -0.032341   \n",
       "3            8  2021-01-22   33495.880668  34265.0            0.068315   \n",
       "4            9  2021-01-21   31284.024401  32570.0           -0.110154   \n",
       "5           10  2021-01-20   34927.060093  35875.0           -0.041842   \n",
       "6           11  2021-01-19   36419.483281  37575.0            0.006850   \n",
       "7           12  2021-01-15   36170.880330  36535.0           -0.068624   \n",
       "8           13  2021-01-14   38740.226904  40520.0            0.031658   \n",
       "9           14  2021-01-13   37532.981902  37330.0            0.075784   \n",
       "10          15  2021-01-12   34793.694060  35420.0            0.008910   \n",
       "11          16  2021-01-11   34485.056420  34680.0           -0.152310   \n",
       "12          17  2021-01-08   40158.575337  40505.0            0.010555   \n",
       "13          18  2021-01-07   39736.920987  40630.0            0.101218   \n",
       "14          19  2021-01-06   35911.688042  37545.0            0.059696   \n",
       "15          20  2021-01-05   33830.628377  35375.0            0.078559   \n",
       "16          21  2021-01-04   31274.631598  32385.0            0.072591   \n",
       "17          22  2020-12-31   29084.806160  30000.0            0.007677   \n",
       "18          23  2020-12-30   28862.386642  29790.0            0.064054   \n",
       "19          24  2020-12-29   27071.603623  27810.0            0.012303   \n",
       "20          25  2020-12-28   26740.584025  27755.0            0.131110   \n",
       "21          26  2020-12-24   23454.732553  23197.0            0.014825   \n",
       "22          27  2020-12-23   23109.570495  23510.0           -0.015543   \n",
       "23          28  2020-12-22   23471.574241  23445.0            0.013921   \n",
       "24          29  2020-12-21   23147.082176  22880.0            0.011727   \n",
       "25          30  2020-12-18   22877.221051  22860.0            0.002569   \n",
       "26          31  2020-12-17   22818.516097  22870.0            0.070075   \n",
       "27          32  2020-12-16   21274.243351  20930.0            0.092325   \n",
       "28          33  2020-12-15   19398.034960  19560.0            0.011715   \n",
       "29          34  2020-12-14   19172.113595  19270.0            0.053557   \n",
       "..         ...         ...            ...      ...                 ...   \n",
       "70          75  2020-10-15   11496.529806  11770.0            0.008967   \n",
       "71          76  2020-10-14   11393.905069  11590.0           -0.004848   \n",
       "72          77  2020-10-13   11449.273074  11625.0           -0.019967   \n",
       "73          78  2020-10-12   11680.174991  11805.0            0.054794   \n",
       "74          79  2020-10-09   11057.394902  11275.0            0.016247   \n",
       "75          80  2020-10-08   10879.200346  11110.0            0.019958   \n",
       "76          81  2020-10-07   10664.226900  10865.0            0.008309   \n",
       "77          82  2020-10-06   10575.983117  10770.0           -0.015466   \n",
       "78          83  2020-10-05   10740.819431  10945.0            0.024111   \n",
       "79          84  2020-10-02   10484.948431  10705.0           -0.011879   \n",
       "80          85  2020-10-01   10610.239473  10810.0           -0.011019   \n",
       "81          86  2020-09-30   10727.804605  10920.0           -0.003202   \n",
       "82          87  2020-09-29   10762.213667  10955.0           -0.011304   \n",
       "83          88  2020-09-28   10884.558753  11095.0            0.012925   \n",
       "84          89  2020-09-25   10744.780845  10607.0            0.009355   \n",
       "85          90  2020-09-24   10644.732028  10670.0            0.035835   \n",
       "86          91  2020-09-23   10270.033613  10280.0           -0.026718   \n",
       "87          92  2020-09-22   10548.130566  10495.0            0.004084   \n",
       "88          93  2020-09-21   10505.140870  10485.0           -0.039759   \n",
       "89          94  2020-09-18   10931.231265  10880.0           -0.002547   \n",
       "90          95  2020-09-17   10959.107673  10950.0           -0.005249   \n",
       "91          96  2020-09-16   11016.788324  11015.0            0.015720   \n",
       "92          97  2020-09-15   10844.956029  10815.0            0.010277   \n",
       "93          98  2020-09-14   10734.073851  10705.0            0.036930   \n",
       "94          99  2020-09-11   10344.894473  10340.0            0.000183   \n",
       "95         100  2020-09-10   10343.005803  10315.0            0.009560   \n",
       "96         101  2020-09-09   10244.594756  10320.0            0.020643   \n",
       "97         102  2020-09-08   10035.279584  10015.0           -0.052006   \n",
       "98         103  2020-09-04   10570.981189  10620.0           -0.015070   \n",
       "99         104  2020-09-03   10731.496510  10720.0           -0.058047   \n",
       "\n",
       "    log return future  \n",
       "0           -0.020475  \n",
       "1           -0.049280  \n",
       "2           -0.001606  \n",
       "3            0.050733  \n",
       "4           -0.096649  \n",
       "5           -0.046298  \n",
       "6            0.028068  \n",
       "7           -0.103525  \n",
       "8            0.081998  \n",
       "9            0.052521  \n",
       "10           0.021113  \n",
       "11          -0.155262  \n",
       "12          -0.003081  \n",
       "13           0.078966  \n",
       "14           0.059535  \n",
       "15           0.088310  \n",
       "16           0.076498  \n",
       "17           0.007025  \n",
       "18           0.068777  \n",
       "19           0.001980  \n",
       "20           0.179393  \n",
       "21          -0.013403  \n",
       "22           0.002769  \n",
       "23           0.024394  \n",
       "24           0.000875  \n",
       "25          -0.000437  \n",
       "26           0.088642  \n",
       "27           0.067697  \n",
       "28           0.014937  \n",
       "29           0.067067  \n",
       "..                ...  \n",
       "70           0.015411  \n",
       "71          -0.003015  \n",
       "72          -0.015365  \n",
       "73           0.045935  \n",
       "74           0.014742  \n",
       "75           0.022299  \n",
       "76           0.008782  \n",
       "77          -0.016118  \n",
       "78           0.022172  \n",
       "79          -0.009761  \n",
       "80          -0.010124  \n",
       "81          -0.003200  \n",
       "82          -0.012699  \n",
       "83           0.044980  \n",
       "84          -0.005922  \n",
       "85           0.037236  \n",
       "86          -0.020699  \n",
       "87           0.000953  \n",
       "88          -0.036981  \n",
       "89          -0.006413  \n",
       "90          -0.005919  \n",
       "91           0.018324  \n",
       "92           0.010223  \n",
       "93           0.034691  \n",
       "94           0.002421  \n",
       "95          -0.000485  \n",
       "96           0.030000  \n",
       "97          -0.058655  \n",
       "98          -0.009372  \n",
       "99          -0.066752  \n",
       "\n",
       "[100 rows x 6 columns]"
      ]
     },
     "execution_count": 33,
     "metadata": {},
     "output_type": "execute_result"
    }
   ],
   "source": [
    "test = pd.read_csv('../processed_data/coingecko_future_v5/test/1.csv')\n",
    "test"
   ]
  },
  {
   "cell_type": "code",
   "execution_count": 38,
   "metadata": {},
   "outputs": [],
   "source": [
    "data  = pd.read_csv('../data/btc future and reference rate/coingecko_future.csv')\n",
    "data.Date = pd.to_datetime(data.Date)"
   ]
  },
  {
   "cell_type": "code",
   "execution_count": 49,
   "metadata": {},
   "outputs": [],
   "source": [
    "toPlot = data.loc[data.Date > '2019-09-01']\n",
    "toPlot = toPlot.loc[toPlot.Date < '2019-10-01']"
   ]
  },
  {
   "cell_type": "code",
   "execution_count": 51,
   "metadata": {},
   "outputs": [
    {
     "data": {
      "text/plain": [
       "<matplotlib.legend.Legend at 0x7f8df7a3c910>"
      ]
     },
     "execution_count": 51,
     "metadata": {},
     "output_type": "execute_result"
    },
    {
     "data": {
      "image/png": "[encoded data removed]",
      "text/plain": [
       "<Figure size 720x360 with 1 Axes>"
      ]
     },
     "metadata": {
      "needs_background": "light"
     },
     "output_type": "display_data"
    }
   ],
   "source": [
    "plt.figure(figsize=(10,5))\n",
    "plt.plot(toPlot.Date, toPlot.loc[:,'bitcoin price'], label='spot')\n",
    "plt.plot(toPlot.Date, toPlot.Close, label='future')\n",
    "plt.legend()"
   ]
  },
  {
   "cell_type": "code",
   "execution_count": 111,
   "metadata": {},
   "outputs": [],
   "source": [
    "i = 54"
   ]
  },
  {
   "cell_type": "code",
   "execution_count": 112,
   "metadata": {},
   "outputs": [
    {
     "data": {
      "text/html": [
       "<div>\n",
       "<style scoped>\n",
       "    .dataframe tbody tr th:only-of-type {\n",
       "        vertical-align: middle;\n",
       "    }\n",
       "\n",
       "    .dataframe tbody tr th {\n",
       "        vertical-align: top;\n",
       "    }\n",
       "\n",
       "    .dataframe thead th {\n",
       "        text-align: right;\n",
       "    }\n",
       "</style>\n",
       "<table border=\"1\" class=\"dataframe\">\n",
       "  <thead>\n",
       "    <tr style=\"text-align: right;\">\n",
       "      <th></th>\n",
       "      <th>Unnamed: 0</th>\n",
       "      <th>Date</th>\n",
       "      <th>bitcoin price</th>\n",
       "      <th>Close</th>\n",
       "      <th>log return bitcoin</th>\n",
       "      <th>log return future</th>\n",
       "    </tr>\n",
       "  </thead>\n",
       "  <tbody>\n",
       "    <tr>\n",
       "      <th>95</th>\n",
       "      <td>365</td>\n",
       "      <td>2019-08-22</td>\n",
       "      <td>10111.460266</td>\n",
       "      <td>10275.0</td>\n",
       "      <td>0.002106</td>\n",
       "      <td>0.006346</td>\n",
       "    </tr>\n",
       "    <tr>\n",
       "      <th>96</th>\n",
       "      <td>366</td>\n",
       "      <td>2019-08-21</td>\n",
       "      <td>10090.188837</td>\n",
       "      <td>10210.0</td>\n",
       "      <td>-0.068070</td>\n",
       "      <td>-0.060337</td>\n",
       "    </tr>\n",
       "    <tr>\n",
       "      <th>97</th>\n",
       "      <td>367</td>\n",
       "      <td>2019-08-20</td>\n",
       "      <td>10800.939830</td>\n",
       "      <td>10845.0</td>\n",
       "      <td>0.008204</td>\n",
       "      <td>0.001384</td>\n",
       "    </tr>\n",
       "    <tr>\n",
       "      <th>98</th>\n",
       "      <td>368</td>\n",
       "      <td>2019-08-19</td>\n",
       "      <td>10712.689131</td>\n",
       "      <td>10830.0</td>\n",
       "      <td>0.026051</td>\n",
       "      <td>0.019110</td>\n",
       "    </tr>\n",
       "    <tr>\n",
       "      <th>99</th>\n",
       "      <td>369</td>\n",
       "      <td>2019-08-16</td>\n",
       "      <td>10437.216342</td>\n",
       "      <td>10625.0</td>\n",
       "      <td>0.009652</td>\n",
       "      <td>0.036908</td>\n",
       "    </tr>\n",
       "  </tbody>\n",
       "</table>\n",
       "</div>"
      ],
      "text/plain": [
       "    Unnamed: 0        Date  bitcoin price    Close  log return bitcoin  \\\n",
       "95         365  2019-08-22   10111.460266  10275.0            0.002106   \n",
       "96         366  2019-08-21   10090.188837  10210.0           -0.068070   \n",
       "97         367  2019-08-20   10800.939830  10845.0            0.008204   \n",
       "98         368  2019-08-19   10712.689131  10830.0            0.026051   \n",
       "99         369  2019-08-16   10437.216342  10625.0            0.009652   \n",
       "\n",
       "    log return future  \n",
       "95           0.006346  \n",
       "96          -0.060337  \n",
       "97           0.001384  \n",
       "98           0.019110  \n",
       "99           0.036908  "
      ]
     },
     "execution_count": 112,
     "metadata": {},
     "output_type": "execute_result"
    }
   ],
   "source": [
    "test = pd.read_csv('../processed_data/coingecko_future_v5/test/%s.csv'%str(i))\n",
    "test.tail()"
   ]
  },
  {
   "cell_type": "code",
   "execution_count": 113,
   "metadata": {},
   "outputs": [
    {
     "data": {
      "text/plain": [
       "KendalltauResult(correlation=0.7061319361215105, pvalue=2.2661329571138766e-25)"
      ]
     },
     "execution_count": 113,
     "metadata": {},
     "output_type": "execute_result"
    }
   ],
   "source": [
    "stats.kendalltau(test.loc[:,'log return bitcoin'], test.loc[:,'log return future'])"
   ]
  },
  {
   "cell_type": "code",
   "execution_count": 114,
   "metadata": {},
   "outputs": [
    {
     "data": {
      "text/plain": [
       "KendalltauResult(correlation=0.7496152889323255, pvalue=1.8615632161677078e-83)"
      ]
     },
     "execution_count": 114,
     "metadata": {},
     "output_type": "execute_result"
    }
   ],
   "source": [
    "train = pd.read_csv('../processed_data/coingecko_future_v5/train/%s.csv'%str(i))\n",
    "stats.kendalltau(train.loc[:,'log return bitcoin'], train.loc[:,'log return future'])"
   ]
  },
  {
   "cell_type": "code",
   "execution_count": 115,
   "metadata": {},
   "outputs": [
    {
     "data": {
      "text/html": [
       "<div>\n",
       "<style scoped>\n",
       "    .dataframe tbody tr th:only-of-type {\n",
       "        vertical-align: middle;\n",
       "    }\n",
       "\n",
       "    .dataframe tbody tr th {\n",
       "        vertical-align: top;\n",
       "    }\n",
       "\n",
       "    .dataframe thead th {\n",
       "        text-align: right;\n",
       "    }\n",
       "</style>\n",
       "<table border=\"1\" class=\"dataframe\">\n",
       "  <thead>\n",
       "    <tr style=\"text-align: right;\">\n",
       "      <th></th>\n",
       "      <th>Unnamed: 0</th>\n",
       "      <th>Date</th>\n",
       "      <th>bitcoin price</th>\n",
       "      <th>Close</th>\n",
       "      <th>log return bitcoin</th>\n",
       "      <th>log return future</th>\n",
       "    </tr>\n",
       "  </thead>\n",
       "  <tbody>\n",
       "    <tr>\n",
       "      <th>0</th>\n",
       "      <td>370</td>\n",
       "      <td>2019-08-15</td>\n",
       "      <td>10336.963924</td>\n",
       "      <td>10240.0</td>\n",
       "      <td>0.013129</td>\n",
       "      <td>-0.001951</td>\n",
       "    </tr>\n",
       "    <tr>\n",
       "      <th>1</th>\n",
       "      <td>371</td>\n",
       "      <td>2019-08-14</td>\n",
       "      <td>10202.137804</td>\n",
       "      <td>10260.0</td>\n",
       "      <td>-0.066025</td>\n",
       "      <td>-0.077791</td>\n",
       "    </tr>\n",
       "    <tr>\n",
       "      <th>2</th>\n",
       "      <td>372</td>\n",
       "      <td>2019-08-13</td>\n",
       "      <td>10898.472159</td>\n",
       "      <td>11090.0</td>\n",
       "      <td>-0.044405</td>\n",
       "      <td>-0.052690</td>\n",
       "    </tr>\n",
       "    <tr>\n",
       "      <th>3</th>\n",
       "      <td>373</td>\n",
       "      <td>2019-08-12</td>\n",
       "      <td>11393.326836</td>\n",
       "      <td>11690.0</td>\n",
       "      <td>-0.045005</td>\n",
       "      <td>-0.033645</td>\n",
       "    </tr>\n",
       "    <tr>\n",
       "      <th>4</th>\n",
       "      <td>374</td>\n",
       "      <td>2019-08-09</td>\n",
       "      <td>11917.801128</td>\n",
       "      <td>12090.0</td>\n",
       "      <td>0.015356</td>\n",
       "      <td>0.022163</td>\n",
       "    </tr>\n",
       "  </tbody>\n",
       "</table>\n",
       "</div>"
      ],
      "text/plain": [
       "   Unnamed: 0        Date  bitcoin price    Close  log return bitcoin  \\\n",
       "0         370  2019-08-15   10336.963924  10240.0            0.013129   \n",
       "1         371  2019-08-14   10202.137804  10260.0           -0.066025   \n",
       "2         372  2019-08-13   10898.472159  11090.0           -0.044405   \n",
       "3         373  2019-08-12   11393.326836  11690.0           -0.045005   \n",
       "4         374  2019-08-09   11917.801128  12090.0            0.015356   \n",
       "\n",
       "   log return future  \n",
       "0          -0.001951  \n",
       "1          -0.077791  \n",
       "2          -0.052690  \n",
       "3          -0.033645  \n",
       "4           0.022163  "
      ]
     },
     "execution_count": 115,
     "metadata": {},
     "output_type": "execute_result"
    }
   ],
   "source": [
    "train.head()"
   ]
  },
  {
   "cell_type": "code",
   "execution_count": 130,
   "metadata": {},
   "outputs": [],
   "source": [
    "C = Frank({'theta':12}, stats.uniform, stats.uniform)"
   ]
  },
  {
   "cell_type": "code",
   "execution_count": 142,
   "metadata": {},
   "outputs": [
    {
     "name": "stdout",
     "output_type": "stream",
     "text": [
      "sample tau 0.7122669466434717 \n",
      "Copula implied tau 0.7123570608847691\n"
     ]
    }
   ],
   "source": [
    "s = C.sample(10000000)\n",
    "print('sample tau',stats.kendalltau(s[:,0],s[:,1])[0], \n",
    "      '\\nCopula implied tau', C.tau())"
   ]
  },
  {
   "cell_type": "code",
   "execution_count": 149,
   "metadata": {},
   "outputs": [
    {
     "data": {
      "text/plain": [
       "0.10724603680266236"
      ]
     },
     "execution_count": 149,
     "metadata": {},
     "output_type": "execute_result"
    }
   ],
   "source": [
    "C._lambda(0.01)"
   ]
  },
  {
   "cell_type": "code",
   "execution_count": 150,
   "metadata": {},
   "outputs": [
    {
     "data": {
      "text/plain": [
       "0.10719"
      ]
     },
     "execution_count": 150,
     "metadata": {},
     "output_type": "execute_result"
    }
   ],
   "source": [
    "empirical_lambda(s[:,0], s[:,1], 0.01)"
   ]
  },
  {
   "cell_type": "code",
   "execution_count": 2,
   "metadata": {},
   "outputs": [],
   "source": [
    "data = pd.read_csv('../data/btc future and reference rate/coingecko_future.csv')\n",
    "rs = data.loc[:, 'log return bitcoin']\n",
    "rf = data.loc[:, 'log return future']"
   ]
  },
  {
   "cell_type": "code",
   "execution_count": 194,
   "metadata": {},
   "outputs": [],
   "source": [
    "def hedging_effectiveness2(rm, rs, rf, h):\n",
    "    rh = rs - h*rf\n",
    "    if rm == 'ERM k=10':\n",
    "        return(1-ERM_estimate_trapezoidal(10, rh)/ERM_estimate_trapezoidal(10, rs))\n",
    "\n",
    "    elif rm == 'ES q=0.01':\n",
    "        return(1-ES(0.01, rh)/ES(0.01, rs))\n",
    "\n",
    "    elif rm == 'ES q=0.05':\n",
    "        return(1-ES(0.05, rh)/ES(0.05, rs))\n",
    "\n",
    "    elif rm == 'VaR q=0.01':\n",
    "        return(1-VaR(0.01, rh)/VaR(0.01, rs))\n",
    "\n",
    "    elif rm == 'VaR q=0.05':\n",
    "        return(1-VaR(0.05, rh)/VaR(0.05, rs))\n",
    "\n",
    "    elif rm == 'Variance':\n",
    "        return(1-Variance(rh)/Variance(rs))"
   ]
  },
  {
   "cell_type": "code",
   "execution_count": 197,
   "metadata": {},
   "outputs": [
    {
     "data": {
      "text/plain": [
       "0.888888888888889"
      ]
     },
     "execution_count": 197,
     "metadata": {},
     "output_type": "execute_result"
    }
   ],
   "source": [
    "h_arr[np.argmax(HE_arr)]"
   ]
  },
  {
   "cell_type": "code",
   "execution_count": 217,
   "metadata": {},
   "outputs": [],
   "source": [
    "rs_c = rs.copy()\n",
    "rf_c = rf.copy()\n",
    "rs_c.loc[678] = -0.5\n",
    "rf_c.loc[678] = 0.5\n",
    "rs_c.loc[679] = 0.5\n",
    "rf_c.loc[679] = -0.5"
   ]
  },
  {
   "cell_type": "code",
   "execution_count": 218,
   "metadata": {
    "scrolled": true
   },
   "outputs": [
    {
     "name": "stdout",
     "output_type": "stream",
     "text": [
      "0.8848848848848849 0.8528528528528528\n"
     ]
    },
    {
     "data": {
      "image/png": "[encoded data removed]",
      "text/plain": [
       "<Figure size 432x288 with 1 Axes>"
      ]
     },
     "metadata": {
      "needs_background": "light"
     },
     "output_type": "display_data"
    }
   ],
   "source": [
    "rm = 'ES q=0.05'\n",
    "h_arr = np.linspace(0,2,1000)\n",
    "\n",
    "HE_arr = []\n",
    "HE_arr_c = []\n",
    "for h in h_arr: \n",
    "    HE_arr.append(hedging_effectiveness2(rm, rs, rf, h))\n",
    "    HE_arr_c.append(hedging_effectiveness2(rm, rs_c, rf_c, h))\n",
    "    \n",
    "plt.plot(h_arr, HE_arr)\n",
    "plt.plot(h_arr, HE_arr_c)\n",
    "print(h_arr[np.argmax(HE_arr)], h_arr[np.argmax(HE_arr_c)])"
   ]
  },
  {
   "cell_type": "code",
   "execution_count": 71,
   "metadata": {
    "collapsed": true
   },
   "outputs": [
    {
     "data": {
      "text/plain": [
       "300   -0.035728\n",
       "301   -0.063203\n",
       "302   -0.002318\n",
       "303   -0.013810\n",
       "304   -0.028113\n",
       "305   -0.022375\n",
       "306   -0.011713\n",
       "307    0.000323\n",
       "308    0.001253\n",
       "309   -0.014833\n",
       "310   -0.037671\n",
       "311   -0.009656\n",
       "312   -0.003116\n",
       "313   -0.006093\n",
       "314    0.016585\n",
       "315    0.009129\n",
       "316   -0.000105\n",
       "317   -0.026336\n",
       "318   -0.003337\n",
       "319    0.095200\n",
       "320    0.141331\n",
       "321    0.001494\n",
       "322   -0.085995\n",
       "323   -0.013859\n",
       "324    0.034065\n",
       "325   -0.014938\n",
       "326    0.010414\n",
       "327   -0.023001\n",
       "328   -0.017561\n",
       "329   -0.001847\n",
       "         ...   \n",
       "570   -0.021790\n",
       "571    0.001357\n",
       "572   -0.004912\n",
       "573    0.003609\n",
       "574   -0.007508\n",
       "575    0.004519\n",
       "576   -0.000774\n",
       "577   -0.020416\n",
       "578    0.001054\n",
       "579    0.004780\n",
       "580    0.045898\n",
       "581    0.003761\n",
       "582   -0.046207\n",
       "583   -0.009578\n",
       "584   -0.004871\n",
       "585    0.011044\n",
       "586    0.005574\n",
       "587    0.011259\n",
       "588   -0.013015\n",
       "589   -0.003166\n",
       "590   -0.008133\n",
       "591   -0.011279\n",
       "592    0.036741\n",
       "593    0.011718\n",
       "594   -0.030435\n",
       "595   -0.023612\n",
       "596    0.048821\n",
       "597    0.001107\n",
       "598    0.014787\n",
       "599    0.012378\n",
       "Name: log return bitcoin, Length: 300, dtype: float64"
      ]
     },
     "execution_count": 71,
     "metadata": {},
     "output_type": "execute_result"
    }
   ],
   "source": [
    "data.loc[:,'log return bitcoin'][300:600]"
   ]
  },
  {
   "cell_type": "code",
   "execution_count": 79,
   "metadata": {},
   "outputs": [],
   "source": [
    "from copulae1 import *\n",
    "from KDEs import *\n",
    "from toolbox import *\n",
    "brr = np.array(data.loc[:,'log return bitcoin'][300:600])\n",
    "btc = np.array(data.loc[:,'log return future'][300:600])\n",
    "\n",
    "brr_testing = np.array(data.loc[:,'log return bitcoin'][:300])\n",
    "btc_testing = np.array(data.loc[:,'log return future'][:300])\n",
    "\n",
    "kde_brr = KDE(brr, 'Gaussian')\n",
    "kde_btc = KDE(btc, 'Gaussian')\n",
    "u = ECDF(brr)(brr)\n",
    "v = ECDF(btc)(btc)"
   ]
  },
  {
   "cell_type": "code",
   "execution_count": 82,
   "metadata": {},
   "outputs": [],
   "source": [
    "h_arr = np.linspace(0.5,1.5,200)\n",
    "\n",
    "loss = []\n",
    "for h in h_arr:\n",
    "    rh = brr_testing - h*btc_testing\n",
    "    loss.append(Variance(rh))\n"
   ]
  },
  {
   "cell_type": "code",
   "execution_count": 83,
   "metadata": {},
   "outputs": [
    {
     "name": "stdout",
     "output_type": "stream",
     "text": [
      "Optimization terminated successfully.\n",
      "         Current function value: -1.022092\n",
      "         Iterations: 114\n",
      "         Function evaluations: 214\n",
      "Optimization terminated successfully.\n",
      "         Current function value: 0.000339\n",
      "         Iterations: 13\n",
      "         Function evaluations: 26\n"
     ]
    }
   ],
   "source": [
    "C = t_Copula({'rho':0.8, 'nu':2}, kde_brr, kde_btc, 2)\n",
    "C.canonical_calibrate(u,v)\n",
    "h_t_copula = optimize_h(C, [],[],[])"
   ]
  },
  {
   "cell_type": "code",
   "execution_count": 84,
   "metadata": {},
   "outputs": [
    {
     "name": "stdout",
     "output_type": "stream",
     "text": [
      "Optimization terminated successfully.\n",
      "         Current function value: -0.910075\n",
      "         Iterations: 32\n",
      "         Function evaluations: 67\n",
      "Optimization terminated successfully.\n",
      "         Current function value: 0.000390\n",
      "         Iterations: 13\n",
      "         Function evaluations: 26\n"
     ]
    }
   ],
   "source": [
    "C = Gaussian({'rho':0.8}, kde_brr, kde_btc)\n",
    "C.canonical_calibrate(u,v)\n",
    "h_Gaussian = optimize_h(C, [],[],[])"
   ]
  },
  {
   "cell_type": "code",
   "execution_count": 85,
   "metadata": {},
   "outputs": [
    {
     "name": "stdout",
     "output_type": "stream",
     "text": [
      "Optimization terminated successfully.\n",
      "         Current function value: -0.875605\n",
      "         Iterations: 46\n",
      "         Function evaluations: 103\n",
      "Optimization terminated successfully.\n",
      "         Current function value: 0.000834\n",
      "         Iterations: 14\n",
      "         Function evaluations: 28\n"
     ]
    }
   ],
   "source": [
    "C = Frank({'theta':0.8}, kde_brr, kde_btc)\n",
    "C.canonical_calibrate(u,v)\n",
    "h_Frank = optimize_h(C, [],[],[])"
   ]
  },
  {
   "cell_type": "code",
   "execution_count": 86,
   "metadata": {},
   "outputs": [
    {
     "name": "stdout",
     "output_type": "stream",
     "text": [
      "Optimization terminated successfully.\n",
      "         Current function value: -0.985866\n",
      "         Iterations: 72\n",
      "         Function evaluations: 152\n",
      "Optimization terminated successfully.\n",
      "         Current function value: 0.000613\n",
      "         Iterations: 13\n",
      "         Function evaluations: 26\n"
     ]
    }
   ],
   "source": [
    "C = Gaussian_Mix_Independent({'rho':0.8, 'p':0.9}, kde_brr, kde_btc)\n",
    "C.canonical_calibrate(u,v)\n",
    "h_GMI = optimize_h(C, [],[],[])"
   ]
  },
  {
   "cell_type": "code",
   "execution_count": 89,
   "metadata": {},
   "outputs": [
    {
     "name": "stdout",
     "output_type": "stream",
     "text": [
      "Optimization terminated successfully.\n",
      "         Current function value: -1.005859\n",
      "         Iterations: 46\n",
      "         Function evaluations: 101\n",
      "Optimization terminated successfully.\n",
      "         Current function value: 0.000578\n",
      "         Iterations: 13\n",
      "         Function evaluations: 26\n"
     ]
    }
   ],
   "source": [
    "C = Plackett({'theta':10}, kde_brr, kde_btc)\n",
    "C.canonical_calibrate(u,v)\n",
    "h_Plackett = optimize_h(C, [],[],[])"
   ]
  },
  {
   "cell_type": "code",
   "execution_count": 90,
   "metadata": {},
   "outputs": [
    {
     "name": "stdout",
     "output_type": "stream",
     "text": [
      "Optimization terminated successfully.\n",
      "         Current function value: -0.969639\n",
      "         Iterations: 39\n",
      "         Function evaluations: 88\n"
     ]
    },
    {
     "name": "stderr",
     "output_type": "stream",
     "text": [
      "/Users/francis/Google Drive/00_IRTG1792/copula/Py_notebooks/toolbox.py:288: RuntimeWarning: invalid value encountered in power\n",
      "/Users/francis/Google Drive/00_IRTG1792/copula/Py_notebooks/toolbox.py:289: RuntimeWarning: invalid value encountered in power\n"
     ]
    },
    {
     "name": "stdout",
     "output_type": "stream",
     "text": [
      "Optimization terminated successfully.\n",
      "         Current function value: 0.000389\n",
      "         Iterations: 13\n",
      "         Function evaluations: 26\n"
     ]
    }
   ],
   "source": [
    "C = Gumbel({'theta':10}, kde_brr, kde_btc)\n",
    "C.canonical_calibrate(u,v)\n",
    "h_Gumbel= optimize_h(C, [],[],[])"
   ]
  },
  {
   "cell_type": "code",
   "execution_count": 92,
   "metadata": {},
   "outputs": [
    {
     "name": "stdout",
     "output_type": "stream",
     "text": [
      "Optimization terminated successfully.\n",
      "         Current function value: -0.788689\n",
      "         Iterations: 39\n",
      "         Function evaluations: 86\n",
      "Optimization terminated successfully.\n",
      "         Current function value: 0.000903\n",
      "         Iterations: 14\n",
      "         Function evaluations: 28\n"
     ]
    }
   ],
   "source": [
    "C = Clayton({'theta':10}, kde_brr, kde_btc)\n",
    "C.canonical_calibrate(u,v)\n",
    "h_Clayton =  optimize_h(C, [],[],[])"
   ]
  },
  {
   "cell_type": "code",
   "execution_count": 87,
   "metadata": {},
   "outputs": [
    {
     "name": "stdout",
     "output_type": "stream",
     "text": [
      "0.8969849246231156 [0.8189453124999999] [0.6971679687499996]\n"
     ]
    }
   ],
   "source": [
    "print(h_arr[np.argmin(loss)], h_Gaussian, h_Frank, )"
   ]
  },
  {
   "cell_type": "code",
   "execution_count": 97,
   "metadata": {},
   "outputs": [
    {
     "data": {
      "text/plain": [
       "<matplotlib.legend.Legend at 0x7fdca00dcd10>"
      ]
     },
     "execution_count": 97,
     "metadata": {},
     "output_type": "execute_result"
    },
    {
     "data": {
      "image/png": "[encoded data removed]",
      "text/plain": [
       "<Figure size 1440x360 with 1 Axes>"
      ]
     },
     "metadata": {
      "needs_background": "light"
     },
     "output_type": "display_data"
    }
   ],
   "source": [
    "plt.figure(figsize=(20,5))\n",
    "plt.plot(h_arr, loss)\n",
    "plt.vlines(x=h_arr[np.argmin(loss)],ymin=np.min(loss), ymax=np.max(loss),label='empirical', color='black')\n",
    "plt.vlines(x=h_Gaussian[0], ymin=np.min(loss), ymax=np.max(loss), label='Gaussian', color='limegreen')\n",
    "plt.vlines(x=h_t_copula, ymin=np.min(loss), ymax=np.max(loss), label='t Copula', color='forestgreen')\n",
    "plt.vlines(x=h_Clayton, ymin=np.min(loss), ymax=np.max(loss), label='Clayton', color='indianred')\n",
    "plt.vlines(x=h_Frank, ymin=np.min(loss), ymax=np.max(loss), label='Frank', color='red')\n",
    "plt.vlines(x=h_Gumbel, ymin=np.min(loss), ymax=np.max(loss), label='Gumbel', color='firebrick')\n",
    "plt.vlines(x=h_Plackett, ymin=np.min(loss), ymax=np.max(loss), label='Plackett', color='blue')\n",
    "plt.vlines(x=h_GMI, ymin=np.min(loss), ymax=np.max(loss), label='Gaussian Mix Product', color='darkgoldenrod')\n",
    "plt.legend()"
   ]
  },
  {
   "cell_type": "markdown",
   "metadata": {},
   "source": [
    "Check for Frank"
   ]
  },
  {
   "cell_type": "code",
   "execution_count": 17,
   "metadata": {},
   "outputs": [
    {
     "name": "stdout",
     "output_type": "stream",
     "text": [
      "Optimization terminated successfully.\n",
      "         Current function value: 0.000435\n",
      "         Iterations: 52\n",
      "         Function evaluations: 114\n",
      "\n",
      "We draw 1000 samples from Gumbel copula with theta = 20.00\n",
      "\n",
      "Then we calibrate a Frank copula to the sample and obtain theta = 19.99\n"
     ]
    },
    {
     "data": {
      "image/png": "[encoded data removed]",
      "text/plain": [
       "<Figure size 360x360 with 1 Axes>"
      ]
     },
     "metadata": {
      "needs_background": "light"
     },
     "output_type": "display_data"
    }
   ],
   "source": [
    "theta = 20\n",
    "\n",
    "Law_rs = stats.norm()\n",
    "Law_rf = stats.norm()\n",
    "\n",
    "C = Frank({'theta':theta}, Law_rs , Law_rf)\n",
    "s = C.sample(10000)\n",
    "ecdf1 = ECDF(s[:,0])\n",
    "ecdf2 = ECDF(s[:,1])\n",
    "\n",
    "u = ecdf1(s[:,0])\n",
    "v = ecdf2(s[:,1])\n",
    "plt.figure(figsize=(5,5))\n",
    "plt.scatter(u, v)\n",
    "\n",
    "C = Frank({'theta':.1}, Law_rs , Law_rf)\n",
    "theta_mm = C.mm_calibrate(u,v, [0.05,0.1,0.9,0.95])\n",
    "\n",
    "print('\\nWe draw 1000 samples from Gumbel copula with theta = %.2f'%theta)\n",
    "print('\\nThen we calibrate a Frank copula to the sample and obtain theta = %.2f'%theta_mm)"
   ]
  },
  {
   "cell_type": "code",
   "execution_count": 10,
   "metadata": {},
   "outputs": [
    {
     "name": "stdout",
     "output_type": "stream",
     "text": [
      "Optimization terminated successfully.\n",
      "         Current function value: -2.911041\n",
      "         Iterations: 51\n",
      "         Function evaluations: 113\n",
      "[132.67518005]\n"
     ]
    },
    {
     "data": {
      "image/png": "[encoded data removed]",
      "text/plain": [
       "<Figure size 360x360 with 1 Axes>"
      ]
     },
     "metadata": {
      "needs_background": "light"
     },
     "output_type": "display_data"
    }
   ],
   "source": [
    "# Calibrate Frank to Gumbel samples\n",
    "\n",
    "# theta = 38\n",
    "\n",
    "Law_rs = stats.norm()\n",
    "Law_rf = stats.norm()\n",
    "\n",
    "# C = Gumbel({'theta':theta}, Law_rs , Law_rf)\n",
    "C = Gaussian({'rho':.999}, Law_rs , Law_rf)\n",
    "s = C.sample(10000)\n",
    "ecdf1 = ECDF(s[:,0])\n",
    "ecdf2 = ECDF(s[:,1])\n",
    "\n",
    "u = ecdf1(s[:,0])\n",
    "v = ecdf2(s[:,1])\n",
    "plt.figure(figsize=(5,5))\n",
    "plt.scatter(u, v)\n",
    "\n",
    "\n",
    "C = Frank({'theta':1}, Law_rs , Law_rf)\n",
    "# theta_mm = C.mm_calibrate(u,v, [0.05,0.1,0.9,0.95])\n",
    "theta_MLE = C.canonical_calibrate(u,v)\n",
    "\n",
    "# print('\\nWe draw 1000 samples from Gumbel copula with theta = %.2f'%theta)\n",
    "# print('\\nThen we calibrate a Frank copula to the sample and obtain theta = %.2f'%theta_mm)\n",
    "\n",
    "print(theta_MLE)"
   ]
  },
  {
   "cell_type": "code",
   "execution_count": 15,
   "metadata": {},
   "outputs": [
    {
     "data": {
      "text/plain": [
       "<matplotlib.collections.PathCollection at 0x7fa81e7acf50>"
      ]
     },
     "execution_count": 15,
     "metadata": {},
     "output_type": "execute_result"
    },
    {
     "data": {
      "image/png": "[encoded data removed]",
      "text/plain": [
       "<Figure size 360x360 with 1 Axes>"
      ]
     },
     "metadata": {
      "needs_background": "light"
     },
     "output_type": "display_data"
    }
   ],
   "source": [
    "C = Frank({'theta':40}, Law_rs , Law_rf)\n",
    "\n",
    "s = C.sample(10000)\n",
    "ecdf1 = ECDF(s[:,0])\n",
    "ecdf2 = ECDF(s[:,1])\n",
    "\n",
    "u = ecdf1(s[:,0])\n",
    "v = ecdf2(s[:,1])\n",
    "plt.figure(figsize=(5,5))\n",
    "plt.scatter(u, v)"
   ]
  },
  {
   "cell_type": "code",
   "execution_count": null,
   "metadata": {},
   "outputs": [],
   "source": []
  }
 ],
 "metadata": {
  "kernelspec": {
   "display_name": "Python 3",
   "language": "python",
   "name": "python3"
  },
  "language_info": {
   "codemirror_mode": {
    "name": "ipython",
    "version": 3
   },
   "file_extension": ".py",
   "mimetype": "text/x-python",
   "name": "python",
   "nbconvert_exporter": "python",
   "pygments_lexer": "ipython3",
   "version": "3.7.4"
  },
  "toc": {
   "base_numbering": 1,
   "nav_menu": {},
   "number_sections": true,
   "sideBar": true,
   "skip_h1_title": false,
   "title_cell": "Table of Contents",
   "title_sidebar": "Contents",
   "toc_cell": false,
   "toc_position": {},
   "toc_section_display": true,
   "toc_window_display": false
  }
 },
 "nbformat": 4,
 "nbformat_minor": 2
}
