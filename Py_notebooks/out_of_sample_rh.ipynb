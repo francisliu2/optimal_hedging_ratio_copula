{
 "cells": [
  {
   "cell_type": "code",
   "execution_count": 219,
   "metadata": {},
   "outputs": [],
   "source": [
    "import os, sys\n",
    "sys.path.append('../src/')\n",
    "\n",
    "import pandas as pd\n",
    "import numpy as np\n",
    "import pickle\n",
    "from statsmodels.distributions.empirical_distribution import ECDF\n",
    "import matplotlib.pyplot as plt\n",
    "\n",
    "import json\n",
    "with open('../src/configs/BBT_Tiingo_MM.json','r') as file:\n",
    "    config = json.load(file)"
   ]
  },
  {
   "cell_type": "code",
   "execution_count": 220,
   "metadata": {},
   "outputs": [
    {
     "data": {
      "text/plain": [
       "{'data_name': 'BBT_Tiingo',\n",
       " 'spot_name': 'log return bitcoin',\n",
       " 'future_name': 'log return future',\n",
       " 'calibration_method': 'MM',\n",
       " 'q_arr': [0.05, 0.1, 0.9, 0.95],\n",
       " 'k_ERM': [10],\n",
       " 'q_arr_ES': [0.01, 0.05],\n",
       " 'q_arr_VaR': [0.01, 0.05],\n",
       " 'h_Clip': [0, 99999]}"
      ]
     },
     "execution_count": 220,
     "metadata": {},
     "output_type": "execute_result"
    }
   ],
   "source": [
    "config"
   ]
  },
  {
   "cell_type": "code",
   "execution_count": 221,
   "metadata": {},
   "outputs": [],
   "source": [
    "spot_name = config['spot_name']\n",
    "future_name = config['future_name']"
   ]
  },
  {
   "cell_type": "code",
   "execution_count": 222,
   "metadata": {},
   "outputs": [],
   "source": [
    "data_name = config['data_name']\n",
    "calibration_method = config['calibration_method']\n",
    "\n",
    "data_path = '../processed_data/%s/'%data_name\n",
    "\n",
    "train_path = data_path+'train/'\n",
    "test_path = data_path+'test/'\n",
    "\n",
    "result_path = '../results/%s/%s/'%(data_name, calibration_method)\n",
    "OHR = pd.read_csv(result_path+'OHR.csv')"
   ]
  },
  {
   "cell_type": "code",
   "execution_count": 223,
   "metadata": {},
   "outputs": [],
   "source": [
    "copulae = np.unique(OHR.copula)\n",
    "risk_measures = np.unique(OHR.loc[:,'risk measure'])"
   ]
  },
  {
   "cell_type": "code",
   "execution_count": 224,
   "metadata": {},
   "outputs": [],
   "source": [
    "c = copulae[0]\n",
    "rm = risk_measures[0]\n",
    "\n",
    "def make_rh(c, rm):\n",
    "\n",
    "    i_rm = OHR.loc[:,'risk measure'] == rm\n",
    "    i_c = OHR.copula == c\n",
    "    i = i_c&i_rm\n",
    "\n",
    "    ohr = OHR.loc[i,:]\n",
    "    ohr.reset_index(drop=True, inplace=True)\n",
    "\n",
    "    rh_arr = []\n",
    "    date_arr = []\n",
    "    for i in range(len(ohr)):\n",
    "        file = ohr.loc[i,'file']\n",
    "        h = ohr.loc[i, 'OHR']\n",
    "        test = pd.read_csv(test_path+file)\n",
    "        rs = test.loc[:,spot_name]\n",
    "        rf = test.loc[:,future_name]\n",
    "        rh = rs - h*rf\n",
    "        rh_arr.append(rh)\n",
    "        date_arr.append(test.Date)\n",
    "        \n",
    "    df_arr = []\n",
    "    for i in range(len(ohr)):\n",
    "        df = pd.DataFrame([date_arr[i],rh_arr[i]]).T\n",
    "        df.columns = ['Date', 'rh']\n",
    "        df_arr.append(df)\n",
    "        \n",
    "    results = pd.concat(df_arr)\n",
    "    results.Date = pd.to_datetime(results.Date)\n",
    "    results.sort_values('Date', ascending=False, inplace=True)\n",
    "    return results"
   ]
  },
  {
   "cell_type": "code",
   "execution_count": 225,
   "metadata": {},
   "outputs": [],
   "source": [
    "results = dict()\n",
    "for c in copulae:\n",
    "    for rm in risk_measures:\n",
    "        results[(c, rm)]= make_rh(c, rm)"
   ]
  },
  {
   "cell_type": "code",
   "execution_count": 212,
   "metadata": {},
   "outputs": [],
   "source": [
    "def SD(c1, rm1, c2, rm2, j, n_grids=2000, boxplot=False, lower=False):\n",
    "    \n",
    "    file_name1 = c1+'_'+rm1\n",
    "    file_name2 = c2+'_'+rm2\n",
    "    \n",
    "    if file_name1 == file_name2:\n",
    "        print('same')\n",
    "        return \n",
    "    \n",
    "#     r1 = pd.read_csv('../results/future_brr_new/MM/rhs/'+file_name1).iloc[:,-1]\n",
    "#     r2 = pd.read_csv('../results/future_brr_new/MM/rhs/'+file_name2).iloc[:,-1]\n",
    "    r1 = results[(c1,rm1)].rh\n",
    "    r2 = results[(c2,rm2)].rh\n",
    "    \n",
    "    if lower:\n",
    "        _max = 1\n",
    "    else:\n",
    "        _max = np.max([np.max(r1), np.max(r2)])\n",
    "        \n",
    "    _min = np.min([np.min(r1), np.min(r2)]) # find a common support for two incomes\n",
    "    x = np.linspace(_min, _max, n_grids) # grids\n",
    "\n",
    "    ecdf1 = ECDF(r1)\n",
    "    ecdf2 = ECDF(r2)\n",
    "\n",
    "    S1_1 = ecdf1(x)\n",
    "    S1_2 = ecdf2(x)\n",
    "\n",
    "    S2_1 = np.cumsum(ecdf1(x))\n",
    "    S2_2 = np.cumsum(ecdf2(x))\n",
    "\n",
    "    S3_1 = np.cumsum(S2_1)\n",
    "    S3_2 = np.cumsum(S2_2)\n",
    "\n",
    "    if j == 1:\n",
    "        plt.plot(x, S1_1, label=file_name1)\n",
    "        plt.plot(x, S1_2, label=file_name2)\n",
    "        \n",
    "        if np.mean((S1_1 < S1_2))==0:\n",
    "            print('%s FOSD %s from %.3f to %.3f' %(file_name2, file_name1,-np.inf,np.inf))\n",
    "        else:\n",
    "            a_FOSD = np.min(x[(S1_1 < S1_2)])\n",
    "            b_FOSD = np.max(x[(S1_1 < S1_2)])\n",
    "\n",
    "            if np.argmin(S1_1 <= S1_2) == 0:\n",
    "                a_FOSD = -np.inf\n",
    "            if (np.argmax(S1_1 <= S1_2)==len(x)+1) & (~lower):\n",
    "                b_FOSD = np.inf\n",
    "                \n",
    "            if b_FOSD < a_FOSD:\n",
    "                b_FOSD = np.inf\n",
    "\n",
    "            plt.title('FOSD')\n",
    "            print('%s FOSD %s from %.3f to %.3f' %(file_name2, file_name1, a_FOSD, b_FOSD))\n",
    "            plt.legend()\n",
    "\n",
    "    elif j == 2:\n",
    "        plt.plot(x, S2_1, label=file_name1)\n",
    "        plt.plot(x, S2_2, label=file_name2)\n",
    "        \n",
    "        if np.mean((S2_1 < S2_2))==0:\n",
    "            print('%s SOSD %s from %.3f to %.3f' %(file_name2, file_name1,-np.inf,np.inf))\n",
    "\n",
    "        else:\n",
    "            a_SOSD = x[np.argmin(S2_1 <= S2_2)]\n",
    "            b_SOSD = x[np.argmax(S2_1 <= S2_2)]\n",
    "\n",
    "            if np.argmin(S2_1 <= S2_2) == 0:\n",
    "                a_SOSD = -np.inf\n",
    "            if (np.argmax(S2_1 <= S2_2)==len(x)+1) & (~lower):\n",
    "                b_SOSD = np.inf\n",
    "\n",
    "            if b_SOSD < a_SOSD:\n",
    "                b_SOSD = np.inf\n",
    "                \n",
    "            print('%s SOSD %s from %.3f to %.3f' %(file_name2, file_name1, a_SOSD, b_SOSD))\n",
    "            plt.title('SOSD')\n",
    "            plt.legend()\n",
    "    \n",
    "    elif j == 3:\n",
    "        plt.plot(x, S3_1, label=file_name1)\n",
    "        plt.plot(x, S3_2, label=file_name2)\n",
    "        \n",
    "        if np.mean((S3_1 < S3_2))==0:\n",
    "            print('%s TOSD %s from %.3f to %.3f' %(file_name2, file_name1,-np.inf,np.inf))\n",
    "        else:\n",
    "            a_TOSD = np.min(x[(S3_1 < S3_2)])\n",
    "            b_TOSD = np.max(x[(S3_1 < S3_2)])\n",
    "\n",
    "            if np.argmin(S3_1 <= S3_2) == 0:\n",
    "                a_TOSD = -np.inf\n",
    "            if (np.argmax(S3_1 <= S3_2)==len(x)+1) & (~lower):\n",
    "                b_TOSD = np.inf\n",
    "            \n",
    "            if b_TOSD < a_TOSD:\n",
    "                b_TOSD = np.inf\n",
    "\n",
    "            print('%s TOSD %s from %.3f to %.3f' %(file_name2, file_name1,-np.inf,np.inf))\n",
    "\n",
    "            plt.title('TOSD')\n",
    "            plt.legend()\n",
    "    else:\n",
    "        print('j must be 1,2 or 3')\n",
    "    \n",
    "    if boxplot:\n",
    "        plt.figure()\n",
    "        plt.boxplot([r1, r2], positions=[1,2])\n",
    "#         plt.xticks([1,2],[c1+'_'+rm1, c2+'_'+rm2])\n",
    "        plt.title('Returns')"
   ]
  },
  {
   "cell_type": "code",
   "execution_count": 213,
   "metadata": {},
   "outputs": [
    {
     "name": "stdout",
     "output_type": "stream",
     "text": [
      "t_Copula_Variance SOSD Gaussian_Variance from -inf to inf\n"
     ]
    },
    {
     "data": {
      "image/png": "[encoded data removed]",
      "text/plain": [
       "<Figure size 432x288 with 1 Axes>"
      ]
     },
     "metadata": {
      "needs_background": "light"
     },
     "output_type": "display_data"
    }
   ],
   "source": [
    "c1 = 't_Copula'\n",
    "c2 = 'Gaussian'\n",
    "rm1 = 'Variance'\n",
    "rm2 = 'Variance'\n",
    "\n",
    "# SD(c1, rm1, c2, rm2, 2)\n",
    "SD(c2, rm2, c1, rm1, 2)"
   ]
  },
  {
   "cell_type": "code",
   "execution_count": 214,
   "metadata": {},
   "outputs": [
    {
     "data": {
      "text/plain": [
       "<matplotlib.legend.Legend at 0x7fb1513a8a10>"
      ]
     },
     "execution_count": 214,
     "metadata": {},
     "output_type": "execute_result"
    },
    {
     "data": {
      "image/png": "[encoded data removed]",
      "text/plain": [
       "<Figure size 432x288 with 1 Axes>"
      ]
     },
     "metadata": {
      "needs_background": "light"
     },
     "output_type": "display_data"
    }
   ],
   "source": [
    "c1 = 't_Copula'\n",
    "c2 = 'Gaussian'\n",
    "\n",
    "rm1 = 'Variance'\n",
    "rm2 = 'Variance'\n",
    "\n",
    "file_name1 = c1+'_'+rm1\n",
    "file_name2 = c2+'_'+rm2\n",
    "\n",
    "\n",
    "n_grids= 1000\n",
    "r1 = results[(c1,rm1)].rh\n",
    "r2 = results[(c2,rm2)].rh\n",
    "\n",
    "\n",
    "_max = np.max([np.max(r1), np.max(r2)])\n",
    "\n",
    "_min = np.min([np.min(r1), np.min(r2)]) # find a common support for two incomes\n",
    "x = np.linspace(_min, _max, n_grids) # grids\n",
    "\n",
    "ecdf1 = ECDF(r1)\n",
    "ecdf2 = ECDF(r2)\n",
    "\n",
    "S1_1 = ecdf1(x)\n",
    "S1_2 = ecdf2(x)\n",
    "\n",
    "S2_1 = np.cumsum(ecdf1(x))\n",
    "S2_2 = np.cumsum(ecdf2(x))\n",
    "\n",
    "S3_1 = np.cumsum(S2_1)\n",
    "S3_2 = np.cumsum(S2_2)\n",
    "\n",
    "plt.plot(x, S2_1, label=file_name1)\n",
    "plt.plot(x, S2_2, label=file_name2)\n",
    "plt.legend()"
   ]
  },
  {
   "cell_type": "code",
   "execution_count": 215,
   "metadata": {},
   "outputs": [
    {
     "name": "stdout",
     "output_type": "stream",
     "text": [
      "-0.03199178273271143 -0.03199178273271143\n"
     ]
    }
   ],
   "source": [
    "a_SOSD = x[np.argmin(S2_1 <= S2_2)]\n",
    "b_SOSD = x[np.argmax(S2_1 <= S2_2)]\n",
    "print(a_SOSD, b_SOSD)"
   ]
  }
 ],
 "metadata": {
  "kernelspec": {
   "display_name": "Python 3",
   "language": "python",
   "name": "python3"
  },
  "language_info": {
   "codemirror_mode": {
    "name": "ipython",
    "version": 3
   },
   "file_extension": ".py",
   "mimetype": "text/x-python",
   "name": "python",
   "nbconvert_exporter": "python",
   "pygments_lexer": "ipython3",
   "version": "3.7.4"
  },
  "toc": {
   "base_numbering": 1,
   "nav_menu": {},
   "number_sections": true,
   "sideBar": true,
   "skip_h1_title": false,
   "title_cell": "Table of Contents",
   "title_sidebar": "Contents",
   "toc_cell": false,
   "toc_position": {},
   "toc_section_display": true,
   "toc_window_display": false
  }
 },
 "nbformat": 4,
 "nbformat_minor": 2
}
