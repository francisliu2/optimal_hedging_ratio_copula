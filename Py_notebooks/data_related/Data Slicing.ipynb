{
 "cells": [
  {
   "cell_type": "code",
   "execution_count": 48,
   "metadata": {},
   "outputs": [],
   "source": [
    "import pandas as pd\n",
    "import numpy as np\n",
    "from scipy import stats\n",
    "import requests\n",
    "import matplotlib.pyplot as plt\n",
    "import seaborn as sns\n",
    "from statsmodels.distributions.empirical_distribution import ECDF\n",
    "from functools import partial"
   ]
  },
  {
   "cell_type": "code",
   "execution_count": 49,
   "metadata": {},
   "outputs": [
    {
     "name": "stdout",
     "output_type": "stream",
     "text": [
      "BBT_future_BITW70\n"
     ]
    }
   ],
   "source": [
    "# coin_name = 'eth'\n",
    "# data_name = 'BBT_future_Tiingo_%s'%coin_name\n",
    "\n",
    "\n",
    "coin_name = 'BITW70'\n",
    "data_name = 'BBT_future_%s'%coin_name\n",
    "\n",
    "\n",
    "train_size = 300\n",
    "test_size = 5\n",
    "step_size = 5\n",
    "\n",
    "future_brr = pd.read_csv('../../data/cleaned_data/%s.csv'%data_name)\n",
    "print(data_name)"
   ]
  },
  {
   "cell_type": "code",
   "execution_count": 50,
   "metadata": {},
   "outputs": [],
   "source": [
    "future_brr = future_brr.iloc[:,1:]"
   ]
  },
  {
   "cell_type": "code",
   "execution_count": 51,
   "metadata": {},
   "outputs": [
    {
     "data": {
      "text/html": [
       "<div>\n",
       "<style scoped>\n",
       "    .dataframe tbody tr th:only-of-type {\n",
       "        vertical-align: middle;\n",
       "    }\n",
       "\n",
       "    .dataframe tbody tr th {\n",
       "        vertical-align: top;\n",
       "    }\n",
       "\n",
       "    .dataframe thead th {\n",
       "        text-align: right;\n",
       "    }\n",
       "</style>\n",
       "<table border=\"1\" class=\"dataframe\">\n",
       "  <thead>\n",
       "    <tr style=\"text-align: right;\">\n",
       "      <th></th>\n",
       "      <th>Date</th>\n",
       "      <th>PX_LAST</th>\n",
       "      <th>contract_name</th>\n",
       "      <th>BITW70 Price</th>\n",
       "      <th>% Change</th>\n",
       "      <th>log return future</th>\n",
       "      <th>log return BITW70</th>\n",
       "    </tr>\n",
       "  </thead>\n",
       "  <tbody>\n",
       "    <tr>\n",
       "      <th>708</th>\n",
       "      <td>2018-08-07 20:00:00+00:00</td>\n",
       "      <td>6975.0</td>\n",
       "      <td>BTCU18 Curncy</td>\n",
       "      <td>16666.08</td>\n",
       "      <td>1.30%</td>\n",
       "      <td>0.007194</td>\n",
       "      <td>0.012905</td>\n",
       "    </tr>\n",
       "    <tr>\n",
       "      <th>709</th>\n",
       "      <td>2018-08-06 20:00:00+00:00</td>\n",
       "      <td>6925.0</td>\n",
       "      <td>BTCU18 Curncy</td>\n",
       "      <td>16452.38</td>\n",
       "      <td>-5.12%</td>\n",
       "      <td>-0.061601</td>\n",
       "      <td>-0.078759</td>\n",
       "    </tr>\n",
       "    <tr>\n",
       "      <th>710</th>\n",
       "      <td>2018-08-03 20:00:00+00:00</td>\n",
       "      <td>7365.0</td>\n",
       "      <td>BTCU18 Curncy</td>\n",
       "      <td>17800.55</td>\n",
       "      <td>1.18%</td>\n",
       "      <td>-0.021492</td>\n",
       "      <td>0.011744</td>\n",
       "    </tr>\n",
       "    <tr>\n",
       "      <th>711</th>\n",
       "      <td>2018-08-02 20:00:00+00:00</td>\n",
       "      <td>7525.0</td>\n",
       "      <td>BTCU18 Curncy</td>\n",
       "      <td>17592.72</td>\n",
       "      <td>0.82%</td>\n",
       "      <td>-0.001991</td>\n",
       "      <td>0.008152</td>\n",
       "    </tr>\n",
       "    <tr>\n",
       "      <th>712</th>\n",
       "      <td>2018-08-01 20:00:00+00:00</td>\n",
       "      <td>7540.0</td>\n",
       "      <td>BTCU18 Curncy</td>\n",
       "      <td>17449.88</td>\n",
       "      <td>-2.86%</td>\n",
       "      <td>-0.024240</td>\n",
       "      <td>-0.029046</td>\n",
       "    </tr>\n",
       "  </tbody>\n",
       "</table>\n",
       "</div>"
      ],
      "text/plain": [
       "                          Date  PX_LAST  contract_name  BITW70 Price % Change  \\\n",
       "708  2018-08-07 20:00:00+00:00   6975.0  BTCU18 Curncy      16666.08    1.30%   \n",
       "709  2018-08-06 20:00:00+00:00   6925.0  BTCU18 Curncy      16452.38   -5.12%   \n",
       "710  2018-08-03 20:00:00+00:00   7365.0  BTCU18 Curncy      17800.55    1.18%   \n",
       "711  2018-08-02 20:00:00+00:00   7525.0  BTCU18 Curncy      17592.72    0.82%   \n",
       "712  2018-08-01 20:00:00+00:00   7540.0  BTCU18 Curncy      17449.88   -2.86%   \n",
       "\n",
       "     log return future  log return BITW70  \n",
       "708           0.007194           0.012905  \n",
       "709          -0.061601          -0.078759  \n",
       "710          -0.021492           0.011744  \n",
       "711          -0.001991           0.008152  \n",
       "712          -0.024240          -0.029046  "
      ]
     },
     "execution_count": 51,
     "metadata": {},
     "output_type": "execute_result"
    }
   ],
   "source": [
    "future_brr.tail()"
   ]
  },
  {
   "cell_type": "code",
   "execution_count": 52,
   "metadata": {},
   "outputs": [
    {
     "name": "stdout",
     "output_type": "stream",
     "text": [
      "create new folder\n"
     ]
    }
   ],
   "source": [
    "import os\n",
    "\n",
    "try:\n",
    "    os.listdir('../../processed_data/%s/'%data_name)\n",
    "\n",
    "except:\n",
    "    print('create new folder')\n",
    "    os.mkdir('../../processed_data/%s/'%data_name)\n",
    "    os.mkdir('../../processed_data/%s/train'%data_name)\n",
    "    os.mkdir('../../processed_data/%s/test'%data_name)"
   ]
  },
  {
   "cell_type": "code",
   "execution_count": 53,
   "metadata": {},
   "outputs": [],
   "source": [
    "# n = int(np.floor((len(future_brr)-train_size)/step_size))\n",
    "n = int(np.floor((len(future_brr) - train_size - test_size)/step_size))\n",
    "train_set = []\n",
    "test_set = []\n",
    "\n",
    "for i in range(n):\n",
    "    data = future_brr.iloc[(i*step_size):((i)*step_size)+train_size+test_size]\n",
    "    test = data.iloc[:test_size,]\n",
    "    train = data.iloc[test_size:,]\n",
    "    train_set.append(train)\n",
    "    test_set.append(test)\n",
    "\n",
    "for i in range(len(train_set)):\n",
    "    train_set[i].to_csv(\"../../processed_data/%s/train/\" %data_name +str(i)+\".csv\")\n",
    "    test_set[i].to_csv(\"../../processed_data/%s/test/\" %data_name +str(i)+\".csv\")"
   ]
  },
  {
   "cell_type": "code",
   "execution_count": 54,
   "metadata": {},
   "outputs": [
    {
     "data": {
      "text/html": [
       "<div>\n",
       "<style scoped>\n",
       "    .dataframe tbody tr th:only-of-type {\n",
       "        vertical-align: middle;\n",
       "    }\n",
       "\n",
       "    .dataframe tbody tr th {\n",
       "        vertical-align: top;\n",
       "    }\n",
       "\n",
       "    .dataframe thead th {\n",
       "        text-align: right;\n",
       "    }\n",
       "</style>\n",
       "<table border=\"1\" class=\"dataframe\">\n",
       "  <thead>\n",
       "    <tr style=\"text-align: right;\">\n",
       "      <th></th>\n",
       "      <th>Date</th>\n",
       "      <th>PX_LAST</th>\n",
       "      <th>contract_name</th>\n",
       "      <th>BITW70 Price</th>\n",
       "      <th>% Change</th>\n",
       "      <th>log return future</th>\n",
       "      <th>log return BITW70</th>\n",
       "    </tr>\n",
       "  </thead>\n",
       "  <tbody>\n",
       "    <tr>\n",
       "      <th>0</th>\n",
       "      <td>2021-05-27 20:00:00+00:00</td>\n",
       "      <td>38865.0</td>\n",
       "      <td>BTCM1 Curncy</td>\n",
       "      <td>61416.15</td>\n",
       "      <td>0.49%</td>\n",
       "      <td>0.006583</td>\n",
       "      <td>0.004871</td>\n",
       "    </tr>\n",
       "    <tr>\n",
       "      <th>1</th>\n",
       "      <td>2021-05-26 20:00:00+00:00</td>\n",
       "      <td>38610.0</td>\n",
       "      <td>BTCM1 Curncy</td>\n",
       "      <td>61117.70</td>\n",
       "      <td>13.96%</td>\n",
       "      <td>0.032643</td>\n",
       "      <td>0.130679</td>\n",
       "    </tr>\n",
       "    <tr>\n",
       "      <th>2</th>\n",
       "      <td>2021-05-25 20:00:00+00:00</td>\n",
       "      <td>37370.0</td>\n",
       "      <td>BTCM1 Curncy</td>\n",
       "      <td>53630.77</td>\n",
       "      <td>-5.77%</td>\n",
       "      <td>-0.062245</td>\n",
       "      <td>-0.059414</td>\n",
       "    </tr>\n",
       "    <tr>\n",
       "      <th>3</th>\n",
       "      <td>2021-05-24 20:00:00+00:00</td>\n",
       "      <td>39770.0</td>\n",
       "      <td>BTCM1 Curncy</td>\n",
       "      <td>56913.74</td>\n",
       "      <td>37.75%</td>\n",
       "      <td>0.094330</td>\n",
       "      <td>0.023283</td>\n",
       "    </tr>\n",
       "    <tr>\n",
       "      <th>4</th>\n",
       "      <td>2021-05-21 20:00:00+00:00</td>\n",
       "      <td>36190.0</td>\n",
       "      <td>BTCM1 Curncy</td>\n",
       "      <td>55603.90</td>\n",
       "      <td>-16.38%</td>\n",
       "      <td>-0.108809</td>\n",
       "      <td>-0.178868</td>\n",
       "    </tr>\n",
       "  </tbody>\n",
       "</table>\n",
       "</div>"
      ],
      "text/plain": [
       "                        Date  PX_LAST contract_name  BITW70 Price % Change  \\\n",
       "0  2021-05-27 20:00:00+00:00  38865.0  BTCM1 Curncy      61416.15    0.49%   \n",
       "1  2021-05-26 20:00:00+00:00  38610.0  BTCM1 Curncy      61117.70   13.96%   \n",
       "2  2021-05-25 20:00:00+00:00  37370.0  BTCM1 Curncy      53630.77   -5.77%   \n",
       "3  2021-05-24 20:00:00+00:00  39770.0  BTCM1 Curncy      56913.74   37.75%   \n",
       "4  2021-05-21 20:00:00+00:00  36190.0  BTCM1 Curncy      55603.90  -16.38%   \n",
       "\n",
       "   log return future  log return BITW70  \n",
       "0           0.006583           0.004871  \n",
       "1           0.032643           0.130679  \n",
       "2          -0.062245          -0.059414  \n",
       "3           0.094330           0.023283  \n",
       "4          -0.108809          -0.178868  "
      ]
     },
     "execution_count": 54,
     "metadata": {},
     "output_type": "execute_result"
    }
   ],
   "source": [
    "test_set[0].head()"
   ]
  },
  {
   "cell_type": "code",
   "execution_count": 55,
   "metadata": {
    "scrolled": true
   },
   "outputs": [
    {
     "data": {
      "text/html": [
       "<div>\n",
       "<style scoped>\n",
       "    .dataframe tbody tr th:only-of-type {\n",
       "        vertical-align: middle;\n",
       "    }\n",
       "\n",
       "    .dataframe tbody tr th {\n",
       "        vertical-align: top;\n",
       "    }\n",
       "\n",
       "    .dataframe thead th {\n",
       "        text-align: right;\n",
       "    }\n",
       "</style>\n",
       "<table border=\"1\" class=\"dataframe\">\n",
       "  <thead>\n",
       "    <tr style=\"text-align: right;\">\n",
       "      <th></th>\n",
       "      <th>Date</th>\n",
       "      <th>PX_LAST</th>\n",
       "      <th>contract_name</th>\n",
       "      <th>BITW70 Price</th>\n",
       "      <th>% Change</th>\n",
       "      <th>log return future</th>\n",
       "      <th>log return BITW70</th>\n",
       "    </tr>\n",
       "  </thead>\n",
       "  <tbody>\n",
       "    <tr>\n",
       "      <th>5</th>\n",
       "      <td>2021-05-20 20:00:00+00:00</td>\n",
       "      <td>40350.0</td>\n",
       "      <td>BTCM1 Curncy</td>\n",
       "      <td>66494.64</td>\n",
       "      <td>3.56%</td>\n",
       "      <td>0.021291</td>\n",
       "      <td>0.034986</td>\n",
       "    </tr>\n",
       "    <tr>\n",
       "      <th>6</th>\n",
       "      <td>2021-05-19 20:00:00+00:00</td>\n",
       "      <td>39500.0</td>\n",
       "      <td>BTCM1 Curncy</td>\n",
       "      <td>64208.51</td>\n",
       "      <td>-27.64%</td>\n",
       "      <td>-0.090465</td>\n",
       "      <td>-0.323453</td>\n",
       "    </tr>\n",
       "    <tr>\n",
       "      <th>7</th>\n",
       "      <td>2021-05-18 20:00:00+00:00</td>\n",
       "      <td>43240.0</td>\n",
       "      <td>BTCM1 Curncy</td>\n",
       "      <td>88729.16</td>\n",
       "      <td>3.52%</td>\n",
       "      <td>-0.019694</td>\n",
       "      <td>0.034551</td>\n",
       "    </tr>\n",
       "    <tr>\n",
       "      <th>8</th>\n",
       "      <td>2021-05-17 20:00:00+00:00</td>\n",
       "      <td>44100.0</td>\n",
       "      <td>BTCM1 Curncy</td>\n",
       "      <td>85715.81</td>\n",
       "      <td>-0.35%</td>\n",
       "      <td>-0.131645</td>\n",
       "      <td>-0.109017</td>\n",
       "    </tr>\n",
       "    <tr>\n",
       "      <th>9</th>\n",
       "      <td>2021-05-14 20:00:00+00:00</td>\n",
       "      <td>50305.0</td>\n",
       "      <td>BTCM1 Curncy</td>\n",
       "      <td>95588.71</td>\n",
       "      <td>8.73%</td>\n",
       "      <td>0.036850</td>\n",
       "      <td>0.083678</td>\n",
       "    </tr>\n",
       "  </tbody>\n",
       "</table>\n",
       "</div>"
      ],
      "text/plain": [
       "                        Date  PX_LAST contract_name  BITW70 Price % Change  \\\n",
       "5  2021-05-20 20:00:00+00:00  40350.0  BTCM1 Curncy      66494.64    3.56%   \n",
       "6  2021-05-19 20:00:00+00:00  39500.0  BTCM1 Curncy      64208.51  -27.64%   \n",
       "7  2021-05-18 20:00:00+00:00  43240.0  BTCM1 Curncy      88729.16    3.52%   \n",
       "8  2021-05-17 20:00:00+00:00  44100.0  BTCM1 Curncy      85715.81   -0.35%   \n",
       "9  2021-05-14 20:00:00+00:00  50305.0  BTCM1 Curncy      95588.71    8.73%   \n",
       "\n",
       "   log return future  log return BITW70  \n",
       "5           0.021291           0.034986  \n",
       "6          -0.090465          -0.323453  \n",
       "7          -0.019694           0.034551  \n",
       "8          -0.131645          -0.109017  \n",
       "9           0.036850           0.083678  "
      ]
     },
     "execution_count": 55,
     "metadata": {},
     "output_type": "execute_result"
    }
   ],
   "source": [
    "train_set[0].head()"
   ]
  },
  {
   "cell_type": "code",
   "execution_count": 56,
   "metadata": {},
   "outputs": [
    {
     "data": {
      "text/html": [
       "<div>\n",
       "<style scoped>\n",
       "    .dataframe tbody tr th:only-of-type {\n",
       "        vertical-align: middle;\n",
       "    }\n",
       "\n",
       "    .dataframe tbody tr th {\n",
       "        vertical-align: top;\n",
       "    }\n",
       "\n",
       "    .dataframe thead th {\n",
       "        text-align: right;\n",
       "    }\n",
       "</style>\n",
       "<table border=\"1\" class=\"dataframe\">\n",
       "  <thead>\n",
       "    <tr style=\"text-align: right;\">\n",
       "      <th></th>\n",
       "      <th>Date</th>\n",
       "      <th>PX_LAST</th>\n",
       "      <th>contract_name</th>\n",
       "      <th>BITW70 Price</th>\n",
       "      <th>% Change</th>\n",
       "      <th>log return future</th>\n",
       "      <th>log return BITW70</th>\n",
       "    </tr>\n",
       "  </thead>\n",
       "  <tbody>\n",
       "    <tr>\n",
       "      <th>300</th>\n",
       "      <td>2020-03-20 20:00:00+00:00</td>\n",
       "      <td>6230.0</td>\n",
       "      <td>BTCJ20 Curncy</td>\n",
       "      <td>3556.45</td>\n",
       "      <td>-4.39%</td>\n",
       "      <td>-0.006400</td>\n",
       "      <td>-0.044886</td>\n",
       "    </tr>\n",
       "    <tr>\n",
       "      <th>301</th>\n",
       "      <td>2020-03-19 20:00:00+00:00</td>\n",
       "      <td>6270.0</td>\n",
       "      <td>BTCJ20 Curncy</td>\n",
       "      <td>3719.72</td>\n",
       "      <td>19.03%</td>\n",
       "      <td>0.159615</td>\n",
       "      <td>0.174179</td>\n",
       "    </tr>\n",
       "    <tr>\n",
       "      <th>302</th>\n",
       "      <td>2020-03-18 20:00:00+00:00</td>\n",
       "      <td>5345.0</td>\n",
       "      <td>BTCJ20 Curncy</td>\n",
       "      <td>3125.11</td>\n",
       "      <td>0.61%</td>\n",
       "      <td>-0.012088</td>\n",
       "      <td>0.006047</td>\n",
       "    </tr>\n",
       "    <tr>\n",
       "      <th>303</th>\n",
       "      <td>2020-03-17 20:00:00+00:00</td>\n",
       "      <td>5410.0</td>\n",
       "      <td>BTCJ20 Curncy</td>\n",
       "      <td>3106.27</td>\n",
       "      <td>9.27%</td>\n",
       "      <td>0.089872</td>\n",
       "      <td>0.088661</td>\n",
       "    </tr>\n",
       "    <tr>\n",
       "      <th>304</th>\n",
       "      <td>2020-03-16 20:00:00+00:00</td>\n",
       "      <td>4945.0</td>\n",
       "      <td>BTCJ20 Curncy</td>\n",
       "      <td>2842.72</td>\n",
       "      <td>-10.42%</td>\n",
       "      <td>-0.083382</td>\n",
       "      <td>-0.088755</td>\n",
       "    </tr>\n",
       "  </tbody>\n",
       "</table>\n",
       "</div>"
      ],
      "text/plain": [
       "                          Date  PX_LAST  contract_name  BITW70 Price % Change  \\\n",
       "300  2020-03-20 20:00:00+00:00   6230.0  BTCJ20 Curncy       3556.45   -4.39%   \n",
       "301  2020-03-19 20:00:00+00:00   6270.0  BTCJ20 Curncy       3719.72   19.03%   \n",
       "302  2020-03-18 20:00:00+00:00   5345.0  BTCJ20 Curncy       3125.11    0.61%   \n",
       "303  2020-03-17 20:00:00+00:00   5410.0  BTCJ20 Curncy       3106.27    9.27%   \n",
       "304  2020-03-16 20:00:00+00:00   4945.0  BTCJ20 Curncy       2842.72  -10.42%   \n",
       "\n",
       "     log return future  log return BITW70  \n",
       "300          -0.006400          -0.044886  \n",
       "301           0.159615           0.174179  \n",
       "302          -0.012088           0.006047  \n",
       "303           0.089872           0.088661  \n",
       "304          -0.083382          -0.088755  "
      ]
     },
     "execution_count": 56,
     "metadata": {},
     "output_type": "execute_result"
    }
   ],
   "source": [
    "train_set[0].tail()"
   ]
  },
  {
   "cell_type": "code",
   "execution_count": 57,
   "metadata": {},
   "outputs": [
    {
     "data": {
      "text/html": [
       "<div>\n",
       "<style scoped>\n",
       "    .dataframe tbody tr th:only-of-type {\n",
       "        vertical-align: middle;\n",
       "    }\n",
       "\n",
       "    .dataframe tbody tr th {\n",
       "        vertical-align: top;\n",
       "    }\n",
       "\n",
       "    .dataframe thead th {\n",
       "        text-align: right;\n",
       "    }\n",
       "</style>\n",
       "<table border=\"1\" class=\"dataframe\">\n",
       "  <thead>\n",
       "    <tr style=\"text-align: right;\">\n",
       "      <th></th>\n",
       "      <th>Date</th>\n",
       "      <th>PX_LAST</th>\n",
       "      <th>contract_name</th>\n",
       "      <th>BITW70 Price</th>\n",
       "      <th>% Change</th>\n",
       "      <th>log return future</th>\n",
       "      <th>log return BITW70</th>\n",
       "    </tr>\n",
       "  </thead>\n",
       "  <tbody>\n",
       "    <tr>\n",
       "      <th>5</th>\n",
       "      <td>2021-05-20 20:00:00+00:00</td>\n",
       "      <td>40350.0</td>\n",
       "      <td>BTCM1 Curncy</td>\n",
       "      <td>66494.64</td>\n",
       "      <td>3.56%</td>\n",
       "      <td>0.021291</td>\n",
       "      <td>0.034986</td>\n",
       "    </tr>\n",
       "    <tr>\n",
       "      <th>6</th>\n",
       "      <td>2021-05-19 20:00:00+00:00</td>\n",
       "      <td>39500.0</td>\n",
       "      <td>BTCM1 Curncy</td>\n",
       "      <td>64208.51</td>\n",
       "      <td>-27.64%</td>\n",
       "      <td>-0.090465</td>\n",
       "      <td>-0.323453</td>\n",
       "    </tr>\n",
       "    <tr>\n",
       "      <th>7</th>\n",
       "      <td>2021-05-18 20:00:00+00:00</td>\n",
       "      <td>43240.0</td>\n",
       "      <td>BTCM1 Curncy</td>\n",
       "      <td>88729.16</td>\n",
       "      <td>3.52%</td>\n",
       "      <td>-0.019694</td>\n",
       "      <td>0.034551</td>\n",
       "    </tr>\n",
       "    <tr>\n",
       "      <th>8</th>\n",
       "      <td>2021-05-17 20:00:00+00:00</td>\n",
       "      <td>44100.0</td>\n",
       "      <td>BTCM1 Curncy</td>\n",
       "      <td>85715.81</td>\n",
       "      <td>-0.35%</td>\n",
       "      <td>-0.131645</td>\n",
       "      <td>-0.109017</td>\n",
       "    </tr>\n",
       "    <tr>\n",
       "      <th>9</th>\n",
       "      <td>2021-05-14 20:00:00+00:00</td>\n",
       "      <td>50305.0</td>\n",
       "      <td>BTCM1 Curncy</td>\n",
       "      <td>95588.71</td>\n",
       "      <td>8.73%</td>\n",
       "      <td>0.036850</td>\n",
       "      <td>0.083678</td>\n",
       "    </tr>\n",
       "  </tbody>\n",
       "</table>\n",
       "</div>"
      ],
      "text/plain": [
       "                        Date  PX_LAST contract_name  BITW70 Price % Change  \\\n",
       "5  2021-05-20 20:00:00+00:00  40350.0  BTCM1 Curncy      66494.64    3.56%   \n",
       "6  2021-05-19 20:00:00+00:00  39500.0  BTCM1 Curncy      64208.51  -27.64%   \n",
       "7  2021-05-18 20:00:00+00:00  43240.0  BTCM1 Curncy      88729.16    3.52%   \n",
       "8  2021-05-17 20:00:00+00:00  44100.0  BTCM1 Curncy      85715.81   -0.35%   \n",
       "9  2021-05-14 20:00:00+00:00  50305.0  BTCM1 Curncy      95588.71    8.73%   \n",
       "\n",
       "   log return future  log return BITW70  \n",
       "5           0.021291           0.034986  \n",
       "6          -0.090465          -0.323453  \n",
       "7          -0.019694           0.034551  \n",
       "8          -0.131645          -0.109017  \n",
       "9           0.036850           0.083678  "
      ]
     },
     "execution_count": 57,
     "metadata": {},
     "output_type": "execute_result"
    }
   ],
   "source": [
    "test_set[1].head()"
   ]
  },
  {
   "cell_type": "code",
   "execution_count": 58,
   "metadata": {},
   "outputs": [
    {
     "data": {
      "text/html": [
       "<div>\n",
       "<style scoped>\n",
       "    .dataframe tbody tr th:only-of-type {\n",
       "        vertical-align: middle;\n",
       "    }\n",
       "\n",
       "    .dataframe tbody tr th {\n",
       "        vertical-align: top;\n",
       "    }\n",
       "\n",
       "    .dataframe thead th {\n",
       "        text-align: right;\n",
       "    }\n",
       "</style>\n",
       "<table border=\"1\" class=\"dataframe\">\n",
       "  <thead>\n",
       "    <tr style=\"text-align: right;\">\n",
       "      <th></th>\n",
       "      <th>Date</th>\n",
       "      <th>PX_LAST</th>\n",
       "      <th>contract_name</th>\n",
       "      <th>BITW70 Price</th>\n",
       "      <th>% Change</th>\n",
       "      <th>log return future</th>\n",
       "      <th>log return BITW70</th>\n",
       "    </tr>\n",
       "  </thead>\n",
       "  <tbody>\n",
       "    <tr>\n",
       "      <th>700</th>\n",
       "      <td>2018-08-17 20:00:00+00:00</td>\n",
       "      <td>6480.0</td>\n",
       "      <td>BTCU18 Curncy</td>\n",
       "      <td>12275.32</td>\n",
       "      <td>12.64%</td>\n",
       "      <td>0.010861</td>\n",
       "      <td>0.118991</td>\n",
       "    </tr>\n",
       "    <tr>\n",
       "      <th>701</th>\n",
       "      <td>2018-08-16 20:00:00+00:00</td>\n",
       "      <td>6410.0</td>\n",
       "      <td>BTCU18 Curncy</td>\n",
       "      <td>10898.22</td>\n",
       "      <td>2.96%</td>\n",
       "      <td>0.006260</td>\n",
       "      <td>0.029152</td>\n",
       "    </tr>\n",
       "    <tr>\n",
       "      <th>702</th>\n",
       "      <td>2018-08-15 20:00:00+00:00</td>\n",
       "      <td>6370.0</td>\n",
       "      <td>BTCU18 Curncy</td>\n",
       "      <td>10585.10</td>\n",
       "      <td>-4.90%</td>\n",
       "      <td>0.047417</td>\n",
       "      <td>-0.050235</td>\n",
       "    </tr>\n",
       "    <tr>\n",
       "      <th>703</th>\n",
       "      <td>2018-08-14 20:00:00+00:00</td>\n",
       "      <td>6075.0</td>\n",
       "      <td>BTCU18 Curncy</td>\n",
       "      <td>11130.42</td>\n",
       "      <td>-0.97%</td>\n",
       "      <td>-0.025194</td>\n",
       "      <td>-0.009790</td>\n",
       "    </tr>\n",
       "    <tr>\n",
       "      <th>704</th>\n",
       "      <td>2018-08-13 20:00:00+00:00</td>\n",
       "      <td>6230.0</td>\n",
       "      <td>BTCU18 Curncy</td>\n",
       "      <td>11239.92</td>\n",
       "      <td>-11.96%</td>\n",
       "      <td>-0.026140</td>\n",
       "      <td>-0.193346</td>\n",
       "    </tr>\n",
       "  </tbody>\n",
       "</table>\n",
       "</div>"
      ],
      "text/plain": [
       "                          Date  PX_LAST  contract_name  BITW70 Price % Change  \\\n",
       "700  2018-08-17 20:00:00+00:00   6480.0  BTCU18 Curncy      12275.32   12.64%   \n",
       "701  2018-08-16 20:00:00+00:00   6410.0  BTCU18 Curncy      10898.22    2.96%   \n",
       "702  2018-08-15 20:00:00+00:00   6370.0  BTCU18 Curncy      10585.10   -4.90%   \n",
       "703  2018-08-14 20:00:00+00:00   6075.0  BTCU18 Curncy      11130.42   -0.97%   \n",
       "704  2018-08-13 20:00:00+00:00   6230.0  BTCU18 Curncy      11239.92  -11.96%   \n",
       "\n",
       "     log return future  log return BITW70  \n",
       "700           0.010861           0.118991  \n",
       "701           0.006260           0.029152  \n",
       "702           0.047417          -0.050235  \n",
       "703          -0.025194          -0.009790  \n",
       "704          -0.026140          -0.193346  "
      ]
     },
     "execution_count": 58,
     "metadata": {},
     "output_type": "execute_result"
    }
   ],
   "source": [
    "train_set[-1].tail()"
   ]
  },
  {
   "cell_type": "code",
   "execution_count": 59,
   "metadata": {},
   "outputs": [
    {
     "data": {
      "text/plain": [
       "81"
      ]
     },
     "execution_count": 59,
     "metadata": {},
     "output_type": "execute_result"
    }
   ],
   "source": [
    "len(train_set)"
   ]
  },
  {
   "cell_type": "code",
   "execution_count": 64,
   "metadata": {},
   "outputs": [
    {
     "data": {
      "text/plain": [
       "8.207564949312403"
      ]
     },
     "execution_count": 64,
     "metadata": {},
     "output_type": "execute_result"
    }
   ],
   "source": [
    "-2*1.6+2*np.log(300)"
   ]
  },
  {
   "cell_type": "code",
   "execution_count": 65,
   "metadata": {},
   "outputs": [
    {
     "data": {
      "text/plain": [
       "2.703782474656201"
      ]
     },
     "execution_count": 65,
     "metadata": {},
     "output_type": "execute_result"
    }
   ],
   "source": [
    "-2*1.5+1*np.log(300)"
   ]
  },
  {
   "cell_type": "code",
   "execution_count": 66,
   "metadata": {},
   "outputs": [
    {
     "data": {
      "text/plain": [
       "0.7999999999999998"
      ]
     },
     "execution_count": 66,
     "metadata": {},
     "output_type": "execute_result"
    }
   ],
   "source": [
    "-2*1.6+2*2"
   ]
  },
  {
   "cell_type": "code",
   "execution_count": 69,
   "metadata": {},
   "outputs": [
    {
     "data": {
      "text/plain": [
       "1.98"
      ]
     },
     "execution_count": 69,
     "metadata": {},
     "output_type": "execute_result"
    }
   ],
   "source": [
    "-2*0.01+2"
   ]
  },
  {
   "cell_type": "code",
   "execution_count": null,
   "metadata": {},
   "outputs": [],
   "source": []
  }
 ],
 "metadata": {
  "kernelspec": {
   "display_name": "Python 3",
   "language": "python",
   "name": "python3"
  },
  "language_info": {
   "codemirror_mode": {
    "name": "ipython",
    "version": 3
   },
   "file_extension": ".py",
   "mimetype": "text/x-python",
   "name": "python",
   "nbconvert_exporter": "python",
   "pygments_lexer": "ipython3",
   "version": "3.7.4"
  },
  "toc": {
   "base_numbering": 1,
   "nav_menu": {},
   "number_sections": true,
   "sideBar": true,
   "skip_h1_title": false,
   "title_cell": "Table of Contents",
   "title_sidebar": "Contents",
   "toc_cell": false,
   "toc_position": {},
   "toc_section_display": true,
   "toc_window_display": false
  }
 },
 "nbformat": 4,
 "nbformat_minor": 2
}
