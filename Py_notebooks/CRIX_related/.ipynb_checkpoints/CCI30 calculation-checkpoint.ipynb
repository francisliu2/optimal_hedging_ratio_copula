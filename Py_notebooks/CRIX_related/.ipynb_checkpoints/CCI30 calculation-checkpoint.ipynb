{
 "cells": [
  {
   "cell_type": "code",
   "execution_count": 3,
   "metadata": {},
   "outputs": [],
   "source": [
    "import pandas as pd\n",
    "import numpy as np\n"
   ]
  },
  {
   "cell_type": "code",
   "execution_count": 6,
   "metadata": {},
   "outputs": [],
   "source": [
    "weights = pd.read_csv('cci30_monthly_weights.csv')\n",
    "weights.Date = pd.to_datetime(weights.Date)\n",
    "\n",
    "weights.columns = ['Date', 'Coin', 'Weight']\n",
    "weights.Weight = weights.Weight.apply(lambda x: 0.01*np.float(x.replace('%','')))"
   ]
  },
  {
   "cell_type": "code",
   "execution_count": 19,
   "metadata": {},
   "outputs": [
    {
     "data": {
      "text/plain": [
       "array(['0x', 'aave', 'aeternity', 'agoras-tokens', 'algorand', 'amp',\n",
       "       'ardor', 'ark', 'augur', 'avalanche', 'basic-attention-token',\n",
       "       'binance-coin', 'bitbay', 'bitcoin', 'bitcoin-cash',\n",
       "       'bitcoin-gold', 'bitcoin-sv', 'bitcoindark', 'bitconnect',\n",
       "       'bitshares', 'bittorrent', 'blackcoin', 'blocknet', 'burst',\n",
       "       'byteball', 'bytecoin-bcn', 'bytom', 'cardano', 'celsius',\n",
       "       'chainlink', 'cloakcoin', 'compound', 'cosmos', 'counterparty',\n",
       "       'crypto-com-chain', 'crypto-com-coin', 'dash', 'decred',\n",
       "       'digibyte', 'digitalnote', 'digixdao', 'dogecoin', 'emercoin',\n",
       "       'eos', 'ethereum', 'ethereum-classic', 'factom', 'faircoin',\n",
       "       'feathercoin', 'filecoin', 'gamecredits', 'gas', 'gnosis-gno',\n",
       "       'golem-network-tokens', 'groestlcoin', 'gulden', 'hedgetrade',\n",
       "       'hshare', 'huobi-token', 'icon', 'iconomi', 'internet-computer',\n",
       "       'iota', 'jinn', 'klaytn', 'komodo', 'kusama', 'kyber-network',\n",
       "       'lisk', 'litecoin', 'maidsafecoin', 'maker', 'maximine-coin',\n",
       "       'monacoin', 'monero', 'namecoin', 'nano', 'nav-coin', 'nem', 'neo',\n",
       "       'nexus', 'nxt', 'okb', 'omisego', 'ontology', 'pancakeswap',\n",
       "       'peercoin', 'pivx', 'polkadot-new', 'polygon', 'populous',\n",
       "       'potcoin', 'qtum', 'raiblocks', 'ravencoin', 'reddcoin', 'revain',\n",
       "       'ripple', 'shiba-inu', 'siacoin', 'solana', 'steem', 'stellar',\n",
       "       'stratis', 'supernet-unity', 'syscoin', 'tenx', 'terra-luna',\n",
       "       'tether', 'tezos', 'theta', 'tron', 'uniswap', 'unus-sed-leo',\n",
       "       'vechain', 'verge', 'vericoin', 'vertcoin', 'viacoin', 'waves',\n",
       "       'wrapped-bitcoin', 'xrp', 'yearn-finance', 'zcash', 'zilliqa'],\n",
       "      dtype=object)"
      ]
     },
     "execution_count": 19,
     "metadata": {},
     "output_type": "execute_result"
    }
   ],
   "source": [
    "np.unique(weights.Coin)"
   ]
  },
  {
   "cell_type": "code",
   "execution_count": 129,
   "metadata": {},
   "outputs": [],
   "source": [
    "from seleniumwire import webdriver  # Import from seleniumwire\n",
    "from selenium.webdriver.common.action_chains import ActionChains\n",
    "from selenium.webdriver.common.keys import Keys\n",
    "\n",
    "driver = webdriver.Chrome() \n",
    "website = 'https://coinmarketcap.com/'\n",
    "driver.get(website)"
   ]
  },
  {
   "cell_type": "code",
   "execution_count": 141,
   "metadata": {},
   "outputs": [],
   "source": [
    "container = driver.find_element_by_class_name('container')"
   ]
  },
  {
   "cell_type": "code",
   "execution_count": 142,
   "metadata": {},
   "outputs": [],
   "source": [
    "search_svg = container.find_elements_by_xpath(\"//*[name()='div']/*[name()='svg']\")[0]\n",
    "ActionChains(driver).move_to_element(search_svg).click(search_svg).perform()\n"
   ]
  },
  {
   "cell_type": "code",
   "execution_count": 143,
   "metadata": {},
   "outputs": [],
   "source": [
    "driver.find_element_by_xpath(\"//input\").send_keys('agoras-tokens')"
   ]
  },
  {
   "cell_type": "code",
   "execution_count": 144,
   "metadata": {},
   "outputs": [],
   "source": [
    "\n",
    "driver.find_element_by_xpath(\"//input\").send_keys(Keys.RETURN)"
   ]
  },
  {
   "cell_type": "code",
   "execution_count": 147,
   "metadata": {},
   "outputs": [
    {
     "data": {
      "text/plain": [
       "'AGRS'"
      ]
     },
     "execution_count": 147,
     "metadata": {},
     "output_type": "execute_result"
    }
   ],
   "source": [
    "driver.find_element_by_xpath(\"//small\").text"
   ]
  },
  {
   "cell_type": "code",
   "execution_count": 149,
   "metadata": {},
   "outputs": [],
   "source": [
    "def search_coinmarketcap(query):\n",
    "    driver = webdriver.Chrome() \n",
    "    website = 'https://coinmarketcap.com/'\n",
    "    driver.get(website)\n",
    "    \n",
    "    container = driver.find_element_by_class_name('container')\n",
    "    search_svg = container.find_elements_by_xpath(\"//*[name()='div']/*[name()='svg']\")[0]\n",
    "    ActionChains(driver).move_to_element(search_svg).click(search_svg).perform()\n",
    "    \n",
    "    driver.find_element_by_xpath(\"//input\").send_keys(query)\n",
    "    driver.find_element_by_xpath(\"//input\").send_keys(Keys.RETURN)\n",
    "    \n",
    "    ticker = driver.find_element_by_xpath(\"//small\").text\n",
    "    \n",
    "    driver.close()\n",
    "    return ticker"
   ]
  },
  {
   "cell_type": "code",
   "execution_count": null,
   "metadata": {},
   "outputs": [],
   "source": []
  }
 ],
 "metadata": {
  "kernelspec": {
   "display_name": "Python 3",
   "language": "python",
   "name": "python3"
  },
  "language_info": {
   "codemirror_mode": {
    "name": "ipython",
    "version": 3
   },
   "file_extension": ".py",
   "mimetype": "text/x-python",
   "name": "python",
   "nbconvert_exporter": "python",
   "pygments_lexer": "ipython3",
   "version": "3.7.4"
  },
  "toc": {
   "base_numbering": 1,
   "nav_menu": {},
   "number_sections": true,
   "sideBar": true,
   "skip_h1_title": false,
   "title_cell": "Table of Contents",
   "title_sidebar": "Contents",
   "toc_cell": false,
   "toc_position": {},
   "toc_section_display": true,
   "toc_window_display": false
  }
 },
 "nbformat": 4,
 "nbformat_minor": 2
}
